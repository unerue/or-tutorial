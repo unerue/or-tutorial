{
 "cells": [
  {
   "cell_type": "markdown",
   "metadata": {},
   "source": [
    "## Linear Programmign Model\n",
    "\n",
    "### Product Mix Problem and Sensitivity Analysis\n",
    "\n",
    "**이강우 & 김정자. (2012). _EXCEL 2010 경영과학_. 한경사, 225.**\n",
    "\n",
    "<p style=\"text-indent: 1.5em\">D전자는 통신장비를 생산하여 판매하고 있는 회사이며 최근 개발한 신제품의 판매시장을 국내, 아시아지역, 유럽지역으로 확장하려고 한다. 이를 위하여 각 지역별 시장조사를 한 결과 수집된 자료는 <b>표</b>와 같다.</p>\n",
    "\n",
    "<table>\n",
    "  <caption><b>Table 1 </b>교대조별 근무시간대와 근무시간대별 소요인원</caption>\n",
    "  <tr>\n",
    "      <th colspan=\"1\">지역</th>\n",
    "      <th>단위당 판매이익(만원)</th>\n",
    "      <th>단위당 광고비용(만원)</th>\n",
    "      <th>단위당 판매활동시간(시간)</th>\n",
    "  </tr>\n",
    "  <tr> \n",
    "        <td>국내</td>\n",
    "        <td align=\"right\">6</td>\n",
    "        <td align=\"right\">1.0</td>\n",
    "        <td align=\"right\">1.5</td>\n",
    "    </tr>\n",
    "    <tr> \n",
    "        <td>아시아</td>\n",
    "        <td align=\"right\">4</td>\n",
    "        <td align=\"right\">0.8</td>\n",
    "        <td align=\"right\">2.0</td>\n",
    "    </tr>\n",
    "    <tr> \n",
    "        <td>유럽</td>\n",
    "        <td align=\"right\">7</td>\n",
    "        <td align=\"right\">1.5</td>\n",
    "        <td align=\"right\">3.0</td>\n",
    "    </tr>\n",
    "</table>\n",
    "\n",
    "<p style=\"text-indent: 1.5em\">D전자의 신제품 생산능력은 1개월에 3,500개이고 1개월 동안 아시아 지역에 최소한 500개를 공급할 계획을 가지고 있다. 그리고 D전자의 판매원의 판매활동시간은 1개월에 총 5,000시간이며 1개월 광고비 예산은 3,000만원이다. 한편 D전자는 주문생산을 원칙으로 하고 있기 대문에 재고는 보유하지 않는다. D전자의 월 판매이익을 최대로 하는 지역별 신제품의 판매량을 구하기 위한 선형계획 모형을 작성하여 지역별 최적 판매계획을 수립하고 민감도분석을 수행하라.</p>"
   ]
  },
  {
   "cell_type": "code",
   "execution_count": 4,
   "metadata": {},
   "outputs": [
    {
     "name": "stdout",
     "output_type": "stream",
     "text": [
      "Status Optimal\n"
     ]
    }
   ],
   "source": [
    "from pulp import *\n",
    "\n",
    "# Define problem\n",
    "prob = LpProblem(name='Product Mix Problem', sense=LpMaximize)\n",
    "\n",
    "# Create decision variables and non-negative constraint\n",
    "x1 = LpVariable(name='X1', lowBound=0, upBound=None, cat='Continuous')\n",
    "x2 = LpVariable(name='X2', lowBound=0, upBound=None, cat='Continuous')\n",
    "\n",
    "# Set objective function\n",
    "prob += 3*x1 + 2*x2\n",
    "\n",
    "# Set constraints\n",
    "prob += 10*x1 + 5*x2 <= 300\n",
    "prob += 4*x1 + 4*x2 <= 160\n",
    "prob += 2*x1 + 6*x2 <= 180\n",
    "\n",
    "# Solving problem\n",
    "prob.solve()\n",
    "print('Status', LpStatus[prob.status])"
   ]
  },
  {
   "cell_type": "code",
   "execution_count": 5,
   "metadata": {},
   "outputs": [
    {
     "name": "stdout",
     "output_type": "stream",
     "text": [
      "Z = 100.0\n",
      "X1 = 20.0\n",
      "X2 = 20.0\n"
     ]
    }
   ],
   "source": [
    "print('Z = {}'.format(pulp.value(prob.objective)))\n",
    "for i in prob.variables():\n",
    "    print('{} = {}'.format(i.name, i.varValue))"
   ]
  },
  {
   "cell_type": "code",
   "execution_count": 15,
   "metadata": {},
   "outputs": [
    {
     "name": "stdout",
     "output_type": "stream",
     "text": [
      "Optimize a model with 3 rows, 2 columns and 6 nonzeros\n",
      "Coefficient statistics:\n",
      "  Matrix range     [2e+00, 1e+01]\n",
      "  Objective range  [2e+00, 3e+00]\n",
      "  Bounds range     [0e+00, 0e+00]\n",
      "  RHS range        [2e+02, 3e+02]\n",
      "Presolve time: 0.00s\n",
      "Presolved: 3 rows, 2 columns, 6 nonzeros\n",
      "\n",
      "Iteration    Objective       Primal Inf.    Dual Inf.      Time\n",
      "       0    5.0000000e+30   4.875000e+30   5.000000e+00      0s\n",
      "       2    1.0000000e+02   0.000000e+00   0.000000e+00      0s\n",
      "\n",
      "Solved in 2 iterations and 0.01 seconds\n",
      "Optimal objective  1.000000000e+02\n"
     ]
    }
   ],
   "source": [
    "from gurobipy import *\n",
    "\n",
    "# Create a new model\n",
    "m = Model(name='Product Mix Problem')\n",
    "\n",
    "# Create variables\n",
    "x1 = m.addVar(lb=0, ub=1e+100, vtype=GRB.CONTINUOUS, name='X1')\n",
    "x2 = m.addVar(lb=0, ub=1e+100, vtype=GRB.CONTINUOUS, name='X2')\n",
    "\n",
    "# Set objective\n",
    "m.setObjective(3*x1 + 2*x2, sense=GRB.MAXIMIZE)\n",
    "\n",
    "# Add constraint\n",
    "m.addConstr(10*x1 + 5*x2 <= 300)\n",
    "m.addConstr(4*x1 + 4*x2 <= 160)\n",
    "m.addConstr(2*x1 + 6*x2 <= 180)\n",
    "\n",
    "# Optimize model\n",
    "m.optimize()"
   ]
  },
  {
   "cell_type": "code",
   "execution_count": 16,
   "metadata": {},
   "outputs": [
    {
     "name": "stdout",
     "output_type": "stream",
     "text": [
      "Z = 100.0\n",
      "X1 = 20.0\n",
      "X2 = 20.0\n"
     ]
    }
   ],
   "source": [
    "print('Z = {}'.format(m.objVal))\n",
    "for v in m.getVars():\n",
    "    print('{} = {}'.format(v.varName, v.x))"
   ]
  },
  {
   "cell_type": "markdown",
   "metadata": {},
   "source": [
    "### Example 2\n",
    "\n",
    "**이강우 & 김정자. (2012). _EXCEL 2010 경영과학_. 한경사, 225.**\n",
    "\n",
    "<p style=\"text-indent: 1.5em\">D전자는 통신장비를 생산하여 판매하고 있는 회사이며 최근 개발한 신제품의 판매시장을 국내, 아시아지역, 유럽지역으로 확장하려고 한다. 이를 위하여 각 지역별 시장조사를 한 결과 수집된 자료는 <b>표</b>와 같다.</p>\n",
    "\n",
    "<table>\n",
    "    <caption></caption>\n",
    "    <tr>\n",
    "        <th colspan=\"1\">지역</th>\n",
    "        <th>단위당 판매이익(만원)</th>\n",
    "        <th>단위당 광고비용(만원)</th>\n",
    "        <th>단위당 판매활동시간(시간)</th>\n",
    "    </tr>\n",
    "    <tr> \n",
    "        <td>국내</td>\n",
    "        <td align=\"right\">6</td>\n",
    "        <td align=\"right\">1.0</td>\n",
    "        <td align=\"right\">1.5</td>\n",
    "    </tr>\n",
    "    <tr> \n",
    "        <td>아시아</td>\n",
    "        <td align=\"right\">4</td>\n",
    "        <td align=\"right\">0.8</td>\n",
    "        <td align=\"right\">2.0</td>\n",
    "    </tr>\n",
    "    <tr> \n",
    "        <td>유럽</td>\n",
    "        <td align=\"right\">7</td>\n",
    "        <td align=\"right\">1.5</td>\n",
    "        <td align=\"right\">3.0</td>\n",
    "    </tr>\n",
    "</table>\n",
    "\n",
    "<p style=\"text-indent: 1.5em\">D전자의 신제품 생산능력은 1개월에 3,500개이고 1개월 동안 아시아 지역에 최소한 500개를 공급할 계획을 가지고 있다. 그리고 D전자의 판매원의 판매활동시간은 1개월에 총 5,000시간이며 1개월 광고비 예산은 3,000만원이다. 한편 D전자는 주문생산을 원칙으로 하고 있기 대문에 재고는 보유하지 않는다. D전자의 월 판매이익을 최대로 하는 지역별 신제품의 판매량을 구하기 위한 선형계획 모형을 작성하여 지역별 최적 판매계획을 수립하고 민감도분석을 수행하라.</p>"
   ]
  },
  {
   "cell_type": "code",
   "execution_count": 33,
   "metadata": {},
   "outputs": [
    {
     "name": "stdout",
     "output_type": "stream",
     "text": [
      "Status Optimal\n"
     ]
    }
   ],
   "source": [
    "from pulp import *\n",
    "\n",
    "# Define problem\n",
    "prob = LpProblem(name='Marketing', sense=LpMaximize)\n",
    "\n",
    "# Create decision variables and non-negative constraint\n",
    "x1 = LpVariable(name='X1', lowBound=0, upBound=None, cat='Continuous')\n",
    "x2 = LpVariable(name='X2', lowBound=0, upBound=None, cat='Continuous')\n",
    "x3 = LpVariable(name='X3', lowBound=0, upBound=None, cat='Continuous')\n",
    "\n",
    "# Set objective function\n",
    "prob += 6*x1 + 4*x2 + 7*x3\n",
    "\n",
    "# Set constraints\n",
    "prob += 1.0*x1 + 0.8*x2 + 1.5*x3 <= 3000\n",
    "prob += 1.5*x1 + 2.0*x2 + 3.0*x3 <= 5000\n",
    "prob += x1 + x2 + x3 <= 3500\n",
    "prob += x2 >= 500\n",
    "\n",
    "# Solving problem\n",
    "prob.solve()\n",
    "print('Status', LpStatus[prob.status])"
   ]
  },
  {
   "cell_type": "code",
   "execution_count": 34,
   "metadata": {},
   "outputs": [
    {
     "name": "stdout",
     "output_type": "stream",
     "text": [
      "Z = 17600.0\n",
      "X1 = 2600.0\tReduced cost 0.0\n",
      "X2 = 500.0\tReduced cost -8.8817842e-16\n",
      "X3 = 0.0\tReduced cost -2.0\n"
     ]
    }
   ],
   "source": [
    "print('Z = {}'.format(pulp.value(prob.objective)))\n",
    "for i in prob.variables():\n",
    "    print('{} = {}\\tReduced cost {}'.format(i.name, i.varValue, i.dj))"
   ]
  },
  {
   "cell_type": "code",
   "execution_count": 41,
   "metadata": {},
   "outputs": [
    {
     "name": "stdout",
     "output_type": "stream",
     "text": [
      "\n",
      "Sensitivity Analysis\n",
      "Constraint\tShadow Price\tSlack\n",
      "_C1: \t\t6.0\t\t-0.0\n",
      "_C2: \t\t-0.0\t\t100.0\n",
      "_C3: \t\t-0.0\t\t400.0\n",
      "_C4: \t\t-0.8\t\t-0.0\n"
     ]
    }
   ],
   "source": [
    "print('\\nSensitivity Analysis\\nConstraint\\tShadow Price\\tSlack')\n",
    "for name, c in prob.constraints.items():\n",
    "    print('{}: \\t\\t{}\\t\\t{}'.format(name, c.pi, c.slack))"
   ]
  },
  {
   "cell_type": "code",
   "execution_count": 25,
   "metadata": {},
   "outputs": [
    {
     "name": "stdout",
     "output_type": "stream",
     "text": [
      "Optimize a model with 4 rows, 3 columns and 10 nonzeros\n",
      "Coefficient statistics:\n",
      "  Matrix range     [8e-01, 3e+00]\n",
      "  Objective range  [4e+00, 7e+00]\n",
      "  Bounds range     [0e+00, 0e+00]\n",
      "  RHS range        [5e+02, 5e+03]\n",
      "Presolve removed 1 rows and 0 columns\n",
      "Presolve time: 0.00s\n",
      "Presolved: 3 rows, 3 columns, 9 nonzeros\n",
      "\n",
      "Iteration    Objective       Primal Inf.    Dual Inf.      Time\n",
      "       0    1.7600000e+04   0.000000e+00   0.000000e+00      0s\n",
      "       0    1.7600000e+04   0.000000e+00   0.000000e+00      0s\n",
      "\n",
      "Solved in 0 iterations and 0.00 seconds\n",
      "Optimal objective  1.760000000e+04\n"
     ]
    }
   ],
   "source": [
    "from gurobipy import *\n",
    "\n",
    "# Create a new model\n",
    "m = Model(name='Marketing')\n",
    "\n",
    "# Create variables\n",
    "x1 = m.addVar(lb=0, ub=1e+100, vtype=GRB.CONTINUOUS, name='X1')\n",
    "x2 = m.addVar(lb=0, ub=1e+100, vtype=GRB.CONTINUOUS, name='X2')\n",
    "x3 = m.addVar(lb=0, ub=1e+100, vtype=GRB.CONTINUOUS, name='X3')\n",
    "\n",
    "# Set objective\n",
    "m.setObjective(6*x1 + 4*x2 + 7*x3, sense=GRB.MAXIMIZE)\n",
    "\n",
    "# Add constraint\n",
    "m.addConstr(1.0*x1 + 0.8*x2 + 1.5*x3 <= 3000)\n",
    "m.addConstr(1.5*x1 + 2.0*x2 + 3.0*x3 <= 5000)\n",
    "m.addConstr(x1 + x2 + x3 <= 3500)\n",
    "m.addConstr(x2 >= 500)\n",
    "\n",
    "# Optimize model\n",
    "m.optimize()"
   ]
  },
  {
   "cell_type": "code",
   "execution_count": 26,
   "metadata": {},
   "outputs": [
    {
     "name": "stdout",
     "output_type": "stream",
     "text": [
      "Z = 17600.0\n",
      "X1 = 2600.0\tReduced cost 0.0\n",
      "X2 = 500.0\tReduced cost 0.0\n",
      "X3 = 0.0\tReduced cost -2.0\n"
     ]
    }
   ],
   "source": [
    "print('Z = {}'.format(m.objVal))\n",
    "for v in m.getVars():\n",
    "    print('{} = {}\\tReduced cost {}'.format(v.varName, v.x, v.RC))"
   ]
  },
  {
   "cell_type": "code",
   "execution_count": 44,
   "metadata": {},
   "outputs": [
    {
     "name": "stdout",
     "output_type": "stream",
     "text": [
      "\n",
      "Sensitivity Analysis\n",
      "Constraint\tShadow Price\tSlack\n",
      "R0: \t\t6.0\t\t0.0\n",
      "R1: \t\t0.0\t\t100.0\n",
      "R2: \t\t0.0\t\t400.0\n",
      "R3: \t\t-0.8000000000000007\t\t0.0\n"
     ]
    }
   ],
   "source": [
    "print('\\nSensitivity Analysis\\nConstraint\\tShadow Price\\tSlack')\n",
    "for c in m.getConstrs():\n",
    "    print('{}: \\t\\t{}\\t\\t{}'.format(c.ConstrName, c.Pi, c.Slack))"
   ]
  },
  {
   "cell_type": "markdown",
   "metadata": {},
   "source": [
    "### Example 3\n",
    "\n"
   ]
  },
  {
   "cell_type": "code",
   "execution_count": 6,
   "metadata": {},
   "outputs": [
    {
     "name": "stdout",
     "output_type": "stream",
     "text": [
      "Status Optimal\n"
     ]
    }
   ],
   "source": [
    "from pulp import *\n",
    "\n",
    "# Define problem\n",
    "prob = LpProblem(name='Scheduling', sense=LpMinimize)\n",
    "\n",
    "# Create decision variables and non-negative constraint\n",
    "x1 = LpVariable(name='X1', lowBound=0, cat='Continuous')\n",
    "x2 = LpVariable(name='X2', lowBound=0, cat='Continuous')\n",
    "x3 = LpVariable(name='X3', lowBound=0, cat='Continuous')\n",
    "x4 = LpVariable(name='X4', lowBound=0, cat='Continuous')\n",
    "x5 = LpVariable(name='X5', lowBound=0, cat='Continuous')\n",
    "\n",
    "# Set objective function\n",
    "prob += 7*x1 + 6*x2 + 7.5*x3 + 8*x4 + 9.5*x5\n",
    "\n",
    "# Set constraints\n",
    "prob += x1 >= 48\n",
    "prob += x1 + x2 >= 79\n",
    "prob += x1 + x2 >= 65\n",
    "prob += x1 + x2 + x3 >= 87\n",
    "prob += x2 + x3 >= 64\n",
    "prob += x3 + x4 >= 73\n",
    "prob += x3 + x4 >= 82\n",
    "prob += x4 >= 43\n",
    "prob += x4 + x5 >= 52\n",
    "prob += x5 >= 15\n",
    "\n",
    "# Solving problem\n",
    "prob.solve()\n",
    "print('Status', LpStatus[prob.status])"
   ]
  },
  {
   "cell_type": "code",
   "execution_count": 7,
   "metadata": {},
   "outputs": [
    {
     "name": "stdout",
     "output_type": "stream",
     "text": [
      "Z = 1301.0\n",
      "X1 = 48.0\tReduced cost 0.0\n",
      "X2 = 31.0\tReduced cost 0.0\n",
      "X3 = 39.0\tReduced cost 0.0\n",
      "X4 = 43.0\tReduced cost 0.0\n",
      "X5 = 15.0\tReduced cost 0.0\n"
     ]
    }
   ],
   "source": [
    "print('Z = {}'.format(pulp.value(prob.objective)))\n",
    "for i in prob.variables():\n",
    "    print('{} = {}\\tReduced cost {}'.format(i.name, i.varValue, i.dj))"
   ]
  },
  {
   "cell_type": "code",
   "execution_count": 8,
   "metadata": {},
   "outputs": [
    {
     "name": "stdout",
     "output_type": "stream",
     "text": [
      "\n",
      "Sensitivity Analysis\n",
      "Constraint\tShadow Price\tSlack\n",
      "_C1: \t1.0\t\t-0.0\n",
      "_C2: \t6.0\t\t-0.0\n",
      "_C3: \t0.0\t\t-14.0\n",
      "_C4: \t0.0\t\t-31.0\n",
      "_C5: \t0.0\t\t-6.0\n",
      "_C6: \t0.0\t\t-9.0\n",
      "_C7: \t7.5\t\t-0.0\n",
      "_C8: \t0.5\t\t-0.0\n",
      "_C9: \t0.0\t\t-6.0\n",
      "_C10: \t9.5\t\t-0.0\n"
     ]
    }
   ],
   "source": [
    "print('\\nSensitivity Analysis\\nConstraint\\tShadow Price\\tSlack')\n",
    "for name, c in prob.constraints.items():\n",
    "    print('{}: \\t{}\\t\\t{}'.format(name, c.pi, c.slack))"
   ]
  },
  {
   "cell_type": "code",
   "execution_count": null,
   "metadata": {},
   "outputs": [],
   "source": []
  },
  {
   "cell_type": "code",
   "execution_count": null,
   "metadata": {},
   "outputs": [],
   "source": [
    "[\n",
    "    [1, 0, 0, 0, 0], \n",
    "    [1, 1, 0, 0, 0], \n",
    " [1, 1, 0, 0, 0], \n",
    " [1, 1, 1, 0, 0], \n",
    " [0, 1, 1, 0, 0], \n",
    " [0, 0, 1, 1, 0], \n",
    " [0, 0, 1, 1, 0], \n",
    " [0, 0, 0, 1, 0],\n",
    " [0, 0, 0, 1, 1],\n",
    " [0, 0, 0, 0, 1]\n",
    "]"
   ]
  },
  {
   "cell_type": "code",
   "execution_count": null,
   "metadata": {},
   "outputs": [],
   "source": []
  },
  {
   "cell_type": "code",
   "execution_count": 12,
   "metadata": {},
   "outputs": [
    {
     "name": "stdout",
     "output_type": "stream",
     "text": [
      "Status Optimal\n"
     ]
    }
   ],
   "source": [
    "from pulp import *\n",
    "\n",
    "n_shifts = 5\n",
    "costs = [7, 6, 7.5, 8, 9.5]\n",
    "requires = [48, 79, 65, 87, 64, 73, 82, 43, 52, 15]\n",
    "\n",
    "# Define problem\n",
    "prob = LpProblem(name='Scheduling', sense=LpMaximize)\n",
    "\n",
    "# Create decision variables and non-negative constraint\n",
    "x = LpVariable.dicts('Shift', list(range(n_shifts)), upBound=0)\n",
    "\n",
    "# Set objective function\n",
    "prob += lpSum([x[i]*costs[i] for i in range(n_shifts)])\n",
    "\n",
    "# Set constraints\n",
    "\n",
    "\n",
    "# Solving problem\n",
    "prob.solve()\n",
    "print('Status', LpStatus[prob.status])"
   ]
  },
  {
   "cell_type": "code",
   "execution_count": 13,
   "metadata": {},
   "outputs": [
    {
     "data": {
      "text/plain": [
       "Scheduling:\n",
       "MAXIMIZE\n",
       "7*Shift_0 + 6*Shift_1 + 7.5*Shift_2 + 8*Shift_3 + 9.5*Shift_4 + 0.0\n",
       "SUBJECT TO\n",
       "Constraint1: X1 + 0.8 X2 + 1.5 X3 <= 3000\n",
       "\n",
       "Constraint2: 1.5 X1 + 2 X2 + 3 X3 <= 5000\n",
       "\n",
       "Constraint3: X1 + X2 + X3 <= 3500\n",
       "\n",
       "Constraint4: X2 >= 500\n",
       "\n",
       "VARIABLES\n",
       "-inf <= Shift_0 <= 0 Continuous\n",
       "-inf <= Shift_1 <= 0 Continuous\n",
       "-inf <= Shift_2 <= 0 Continuous\n",
       "-inf <= Shift_3 <= 0 Continuous\n",
       "-inf <= Shift_4 <= 0 Continuous\n",
       "X1 Continuous\n",
       "X2 Continuous\n",
       "X3 Continuous"
      ]
     },
     "execution_count": 13,
     "metadata": {},
     "output_type": "execute_result"
    }
   ],
   "source": [
    "prob"
   ]
  },
  {
   "cell_type": "code",
   "execution_count": null,
   "metadata": {},
   "outputs": [],
   "source": []
  },
  {
   "cell_type": "markdown",
   "metadata": {},
   "source": [
    "### Housing Location Problem - Herbert Stevens\n",
    "\n",
    "소득계층별 주거형태별 건설계획을 결정하는 분석사례이다. 예를 들어 어느 도시에서 1지역 면적 500ha, 2지역 면적은 300ha이며, 이 두 지역에, 고소득 300가구, 저소득 200가구 주택을 건설하고자 한다. 이때 소득별 주거형태별 주거비용, 소요예산, 그리고 소요면적은 다음과 같다. 이러한 상황에서 지대 절약을 최대로 하는 주택 건설 계획을 수립하시오.\n",
    "\n",
    "|구분|주거비용|     |     |     |예산  |     |소요면적|    |\n",
    "|:--:|:--:|:--:|:--:|:--:|:--:|:--:|:--:|:--:|\n",
    "|   |1지역  |     |2지역 |     |     |     |    |    |\n",
    "|   |주택 1 |주택 2|주택 1|주택 2|주택 1|주택 2|주택 1|주택 2|\n",
    "|고소득|5|5|7|6|12|10|2.0|1.5|\n",
    "|저소득|4|4|4|4|6|5|1.2|1.0|\n",
    "\n",
    "\n",
    "|구분|가처분소득||(예산-주거비용)||\n",
    "|:--:|:--:|:--:|:--:|:--:|\n",
    "|   |1지역  |     |  2지역|    |\n",
    "|   |주택 1 |주택 2|주택 1|주택 2|\n",
    "|고소득|7 (X11)|5 (X12)|5 (X13)|4 (X14)|\n",
    "|저소득|2 (X21)|1 (X22)|2 (X23)|1 (X24)|"
   ]
  },
  {
   "cell_type": "code",
   "execution_count": null,
   "metadata": {},
   "outputs": [],
   "source": [
    "prob = LpProblem('Housing Location Problem', LpMaximize)\n",
    "\n",
    "x11 = LpVariable(, lowBound=0)\n",
    "X12 = LpVariable(, lowBound=0)\n",
    "X13 = LpVariable(, lowBound=0)\n",
    "X14 = LpVariable(, lowBound=0)\n",
    "X21 = LpVariable(, lowBound=0)\n",
    "X22 = LpVariable(, lowBound=0)\n",
    "X23 = LpVariable(, lowBound=0)\n",
    "X24 = LpVariable(, lowBound=0)\n",
    "\n",
    "prob += 7*X11 + 5*X12 + 5*X13 + 4*X14 + 2*X21 + X22 + 2*X23 + X24\n",
    "\n",
    "prob += 2*X11 + 1.5*X12 + 1.2*X21 + X22 <= 500\n",
    "prob += 2*X13 + 1.5*X14 + 1.2*X23 + X24 <= 300\n",
    "prob += X11 + X12 + X13 + X14 <= 300\n",
    "prob += X21 + X22 + X23 + X24 <= 200\n",
    "\n",
    "prob.solve()\n",
    "\n",
    "for i in prob.variables():\n",
    "    print(i.name, \"=\", i.varValue)\n",
    "print('Status', LpStatus[prob.status])\n",
    "print(pulp.value(prob.objective))"
   ]
  },
  {
   "cell_type": "code",
   "execution_count": null,
   "metadata": {},
   "outputs": [],
   "source": []
  },
  {
   "cell_type": "markdown",
   "metadata": {},
   "source": [
    "## Contribution Coefficient Variation\n",
    "\n",
    "단계별 공헌계수가 변동하는 경우의 분석사례로서, 앞에서 수행한 최대화의 문제를 참조하여 다음 문제를 고려하였다. 즉, 어느 회사에서 x1, x2, 2개 제푸믈 생산하여 판매한다. 제품을 생산하여 판매하면 제품수량에 따라 x1은 4, 3, 2만원 제품x2는 3, 2, 1만 원의 이익이 발생한다. 제품의 생산과정에서는 A, B, C 3개 자원이 소모되며, 제품별로 소요되는 A, B, C 자원의 량과 각 자원별 최대 사용 가능량은 다음과 같다.\n",
    "\n",
    "|소요자원|제품 X1|제품 X2|사용가능 자원량|\n",
    "|:----:|-----:|-----:|--------:|\n",
    "|A|2|3|80|\n",
    "|B|-3|2|20|\n",
    "|C|2|1|50|\n",
    "|이익|4(0-10개)|3(0-10개)||\n",
    "||3(11-20개)|2(11-20개)||\n",
    "||2(20개 이상)|1(21개 이상)||"
   ]
  },
  {
   "cell_type": "code",
   "execution_count": 1,
   "metadata": {},
   "outputs": [
    {
     "name": "stdout",
     "output_type": "stream",
     "text": [
      "Y1 = 10.0\n",
      "Y2 = 7.5\n",
      "Y3 = 0.0\n",
      "Y4 = 10.0\n",
      "Y5 = 5.0\n",
      "Y6 = 0.0\n",
      "Status Optimal\n",
      "102.5\n"
     ]
    }
   ],
   "source": [
    "from pulp import *\n",
    "\n",
    "prob = LpProblem(\"Contribution Coefficient Variation\", LpMaximize)\n",
    "\n",
    "y1 = LpVariable(\"Y1\", lowBound=0)\n",
    "y2 = LpVariable(\"Y2\", lowBound=0)\n",
    "y3 = LpVariable(\"Y3\", lowBound=0)\n",
    "y4 = LpVariable(\"Y4\", lowBound=0)\n",
    "y5 = LpVariable(\"Y5\", lowBound=0)\n",
    "y6 = LpVariable(\"Y6\", lowBound=0)\n",
    "\n",
    "prob += 4*y1 + 3*y2 + 2*y3 + 3*y4 + 2*y5 + y6\n",
    "\n",
    "prob += 2*(y1+y2+y3) + 3*(y4+y5+y6) <= 80\n",
    "prob += -3*(y1+y2+y3) + 2*(y4+y5+y6) <= 20\n",
    "prob += 2*(y1+y2+y3) + (y4+y5+y6) <= 50\n",
    "\n",
    "prob += y1 <= 10\n",
    "prob += y2 <= 10\n",
    "prob += y4 <= 10\n",
    "prob += y5 <= 10\n",
    "\n",
    "prob.solve()\n",
    "\n",
    "for i in prob.variables():\n",
    "    print(i.name, '=', i.varValue)\n",
    "print('Status', LpStatus[prob.status])\n",
    "print(pulp.value(prob.objective))"
   ]
  },
  {
   "cell_type": "code",
   "execution_count": null,
   "metadata": {},
   "outputs": [],
   "source": []
  },
  {
   "cell_type": "code",
   "execution_count": null,
   "metadata": {},
   "outputs": [],
   "source": []
  }
 ],
 "metadata": {
  "kernelspec": {
   "display_name": "Python 3",
   "language": "python",
   "name": "python3"
  },
  "language_info": {
   "codemirror_mode": {
    "name": "ipython",
    "version": 3
   },
   "file_extension": ".py",
   "mimetype": "text/x-python",
   "name": "python",
   "nbconvert_exporter": "python",
   "pygments_lexer": "ipython3",
   "version": "3.6.9"
  },
  "latex_envs": {
   "LaTeX_envs_menu_present": true,
   "autocomplete": true,
   "bibliofile": "biblio.bib",
   "cite_by": "apalike",
   "current_citInitial": 1,
   "eqLabelWithNumbers": true,
   "eqNumInitial": 1,
   "hotkeys": {
    "equation": "Ctrl-E",
    "itemize": "Ctrl-I"
   },
   "labels_anchors": false,
   "latex_user_defs": false,
   "report_style_numbering": false,
   "user_envs_cfg": false
  },
  "varInspector": {
   "cols": {
    "lenName": 16,
    "lenType": 16,
    "lenVar": 40
   },
   "kernels_config": {
    "python": {
     "delete_cmd_postfix": "",
     "delete_cmd_prefix": "del ",
     "library": "var_list.py",
     "varRefreshCmd": "print(var_dic_list())"
    },
    "r": {
     "delete_cmd_postfix": ") ",
     "delete_cmd_prefix": "rm(",
     "library": "var_list.r",
     "varRefreshCmd": "cat(var_dic_list()) "
    }
   },
   "types_to_exclude": [
    "module",
    "function",
    "builtin_function_or_method",
    "instance",
    "_Feature"
   ],
   "window_display": false
  }
 },
 "nbformat": 4,
 "nbformat_minor": 4
}
