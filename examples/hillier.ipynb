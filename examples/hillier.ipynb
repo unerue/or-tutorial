{
 "cells": [
  {
   "cell_type": "markdown",
   "metadata": {},
   "source": [
    "# Operations Research using PulP\n",
    "\n",
    "## Linear Programming\n",
    "\n",
    "### Hillier and Lieberman, 9th edition, p. 27."
   ]
  },
  {
   "cell_type": "code",
   "execution_count": 3,
   "metadata": {},
   "outputs": [
    {
     "name": "stdout",
     "output_type": "stream",
     "text": [
      "Status Optimal\n",
      "36000.0\n",
      "x1 = 2.0\n",
      "x2 = 6.0\n"
     ]
    }
   ],
   "source": [
    "from pulp import *\n",
    "\n",
    "prob = LpProblem(name='Wyndor Glass Co. Problem', sense=LpMaximize)\n",
    "\n",
    "x1 = LpVariable(name='x1', lowBound=0, cat='Continuous')\n",
    "x2 = LpVariable(name='x2', lowBound=0, cat='Continuous')\n",
    "\n",
    "prob += 3000*x1 + 5000*x2\n",
    "\n",
    "prob += 1*x1 + 0*x2 <= 4\n",
    "prob += 0*x1 + 2*x2 <= 12\n",
    "prob += 3*x1 + 2*x2 <= 18\n",
    "\n",
    "prob.solve()\n",
    "\n",
    "print('Status', LpStatus[prob.status])\n",
    "print(pulp.value(prob.objective))\n",
    "for i in prob.variables():\n",
    "    print(i.name, '=', i.varValue)"
   ]
  },
  {
   "cell_type": "markdown",
   "metadata": {},
   "source": [
    "### Hillier and Lieberman, 9th edition, p. 49."
   ]
  },
  {
   "cell_type": "code",
   "execution_count": 5,
   "metadata": {},
   "outputs": [
    {
     "name": "stdout",
     "output_type": "stream",
     "text": [
      "Status Optimal\n",
      "5.25\n",
      "x1 = 7.5\n",
      "x2 = 4.5\n"
     ]
    }
   ],
   "source": [
    "from pulp import *\n",
    "\n",
    "prob = LpProblem(name='Mary Problem', sense=LpMinimize)\n",
    "\n",
    "x1 = LpVariable(name='x1', lowBound=0, cat='Continuous')\n",
    "x2 = LpVariable(name='x2', lowBound=0, cat='Continuous')\n",
    "\n",
    "prob += 0.4*x1 + 0.5*x2\n",
    "\n",
    "prob += 0.3*x1 + 0.1*x2 <= 2.7\n",
    "prob += 0.5*x1 + 0.5*x2 == 6\n",
    "prob += 0.6*x1 + 0.4*x2 >= 6\n",
    "\n",
    "prob.solve()\n",
    "\n",
    "print('Status', LpStatus[prob.status])\n",
    "print(pulp.value(prob.objective))\n",
    "for i in prob.variables():\n",
    "    print(i.name, '=', i.varValue)"
   ]
  },
  {
   "cell_type": "code",
   "execution_count": 67,
   "metadata": {},
   "outputs": [
    {
     "name": "stdout",
     "output_type": "stream",
     "text": [
      "Status Infeasible\n",
      "633333.33\n",
      "x_raw_cotton_1 = 300.0\n",
      "x_raw_cotton_2 = 200.0\n",
      "x_raw_cotton_3 = 0.0\n",
      "x_sugar_beet_1 = 0.0\n",
      "x_sugar_beet_2 = 133.33333\n",
      "x_sugar_beet_3 = 125.0\n",
      "x_sugar_cane_1 = 0.0\n",
      "x_sugar_cane_2 = 0.0\n",
      "x_sugar_cane_3 = 0.0\n"
     ]
    }
   ],
   "source": [
    "from pulp import *\n",
    "from itertools import combinations\n",
    "\n",
    "kibbutzim = ['1', '2', '3']\n",
    "farmland = [400, 600, 300]\n",
    "water = [600, 800, 375]\n",
    "\n",
    "crops = ['sugar beet', 'raw cotton', 'sugar cane']\n",
    "limits = [600, 500, 325]\n",
    "use_water = [3, 2, 1]\n",
    "profit = [1000, 750, 250]\n",
    "\n",
    "obj_vars = [(c, k) for c in crops for k in kibbutzim]\n",
    "obj_coef = dict(zip(crops, profit))\n",
    "\n",
    "const1 = dict(zip(kibbutzim, farmland))\n",
    "const2 = dict(zip(kibbutzim, water))\n",
    "\n",
    "const3 = dict(zip(crops, limits))\n",
    "const4 = dict(zip(crops, use_water))\n",
    "\n",
    "prob = LpProblem(name='South Confederation of Kibbutzim', sense=LpMaximize)\n",
    "\n",
    "x = LpVariable.dicts(name='x', indexs=(crops, kibbutzim), lowBound=0, cat='Continuous')\n",
    "\n",
    "prob += lpSum(obj_coef[c] * x[c][k] for (c, k) in obj_vars)\n",
    "\n",
    "for k in kibbutzim:\n",
    "    prob += lpSum(x[c][k] for c in crops) == const1[k]\n",
    "    \n",
    "for k in kibbutzim:\n",
    "    prob += lpSum(const4[c] * x[c][k] for c in crops) == const2[k]\n",
    "    \n",
    "for c in crops:\n",
    "    prob += lpSum(x[c][k] for k in kibbutzim) == const3[c]\n",
    "    \n",
    "for k in ['1', '2']:\n",
    "    prob += lpSum(3*x[c][k] - 2*x[c][k] for c in crops) == 0\n",
    "    \n",
    "for k in ['2', '3']:\n",
    "    prob += lpSum(1*x[c][k] - 2*x[c][k] for c in crops) == 0\n",
    "    \n",
    "for k in ['3', '1']:\n",
    "    prob += lpSum(4*x[c][k] - 3*x[c][k] for c in crops) == 0\n",
    "\n",
    "prob.solve()\n",
    "    \n",
    "print('Status', LpStatus[prob.status])\n",
    "print(pulp.value(prob.objective))\n",
    "for i in prob.variables():\n",
    "    print(i.name, '=', i.varValue)"
   ]
  },
  {
   "cell_type": "code",
   "execution_count": 66,
   "metadata": {},
   "outputs": [
    {
     "data": {
      "text/plain": [
       "South Confederation of Kibbutzim:\n",
       "MAXIMIZE\n",
       "750*x_raw_cotton_1 + 750*x_raw_cotton_2 + 750*x_raw_cotton_3 + 1000*x_sugar_beet_1 + 1000*x_sugar_beet_2 + 1000*x_sugar_beet_3 + 250*x_sugar_cane_1 + 250*x_sugar_cane_2 + 250*x_sugar_cane_3 + 0\n",
       "SUBJECT TO\n",
       "_C1: x_raw_cotton_1 + x_sugar_beet_1 + x_sugar_cane_1 = 400\n",
       "\n",
       "_C2: x_raw_cotton_2 + x_sugar_beet_2 + x_sugar_cane_2 = 600\n",
       "\n",
       "_C3: x_raw_cotton_3 + x_sugar_beet_3 + x_sugar_cane_3 = 300\n",
       "\n",
       "_C4: 2 x_raw_cotton_1 + 3 x_sugar_beet_1 + x_sugar_cane_1 = 600\n",
       "\n",
       "_C5: 2 x_raw_cotton_2 + 3 x_sugar_beet_2 + x_sugar_cane_2 = 800\n",
       "\n",
       "_C6: 2 x_raw_cotton_3 + 3 x_sugar_beet_3 + x_sugar_cane_3 = 375\n",
       "\n",
       "_C7: x_sugar_beet_1 + x_sugar_beet_2 + x_sugar_beet_3 = 600\n",
       "\n",
       "_C8: x_raw_cotton_1 + x_raw_cotton_2 + x_raw_cotton_3 = 500\n",
       "\n",
       "_C9: x_sugar_cane_1 + x_sugar_cane_2 + x_sugar_cane_3 = 325\n",
       "\n",
       "_C10: x_raw_cotton_1 + x_sugar_beet_1 + x_sugar_cane_1 = 0\n",
       "\n",
       "_C11: x_raw_cotton_2 + x_sugar_beet_2 + x_sugar_cane_2 = 0\n",
       "\n",
       "_C12: - x_raw_cotton_2 - x_sugar_beet_2 - x_sugar_cane_2 = 0\n",
       "\n",
       "_C13: - x_raw_cotton_3 - x_sugar_beet_3 - x_sugar_cane_3 = 0\n",
       "\n",
       "_C14: x_raw_cotton_3 + x_sugar_beet_3 + x_sugar_cane_3 = 0\n",
       "\n",
       "_C15: x_raw_cotton_1 + x_sugar_beet_1 + x_sugar_cane_1 = 0\n",
       "\n",
       "VARIABLES\n",
       "x_raw_cotton_1 Continuous\n",
       "x_raw_cotton_2 Continuous\n",
       "x_raw_cotton_3 Continuous\n",
       "x_sugar_beet_1 Continuous\n",
       "x_sugar_beet_2 Continuous\n",
       "x_sugar_beet_3 Continuous\n",
       "x_sugar_cane_1 Continuous\n",
       "x_sugar_cane_2 Continuous\n",
       "x_sugar_cane_3 Continuous"
      ]
     },
     "execution_count": 66,
     "metadata": {},
     "output_type": "execute_result"
    }
   ],
   "source": [
    "prob"
   ]
  },
  {
   "cell_type": "code",
   "execution_count": 43,
   "metadata": {},
   "outputs": [
    {
     "data": {
      "text/plain": [
       "3.5625"
      ]
     },
     "execution_count": 43,
     "metadata": {},
     "output_type": "execute_result"
    }
   ],
   "source": [
    "(600+500+325)/400"
   ]
  },
  {
   "cell_type": "code",
   "execution_count": 44,
   "metadata": {},
   "outputs": [
    {
     "data": {
      "text/plain": [
       "2.375"
      ]
     },
     "execution_count": 44,
     "metadata": {},
     "output_type": "execute_result"
    }
   ],
   "source": [
    "(600+500+325)/600"
   ]
  },
  {
   "cell_type": "code",
   "execution_count": 45,
   "metadata": {},
   "outputs": [
    {
     "data": {
      "text/plain": [
       "4.75"
      ]
     },
     "execution_count": 45,
     "metadata": {},
     "output_type": "execute_result"
    }
   ],
   "source": [
    "(600+500+325)/300 "
   ]
  },
  {
   "cell_type": "code",
   "execution_count": null,
   "metadata": {},
   "outputs": [],
   "source": []
  }
 ],
 "metadata": {
  "kernelspec": {
   "display_name": "Python 3",
   "language": "python",
   "name": "python3"
  },
  "language_info": {
   "codemirror_mode": {
    "name": "ipython",
    "version": 3
   },
   "file_extension": ".py",
   "mimetype": "text/x-python",
   "name": "python",
   "nbconvert_exporter": "python",
   "pygments_lexer": "ipython3",
   "version": "3.7.3"
  }
 },
 "nbformat": 4,
 "nbformat_minor": 4
}
