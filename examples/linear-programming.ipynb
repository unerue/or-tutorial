{
 "cells": [
  {
   "cell_type": "markdown",
   "metadata": {},
   "source": [
    "# Product Mix"
   ]
  },
  {
   "cell_type": "code",
   "execution_count": 1,
   "metadata": {
    "ExecuteTime": {
     "end_time": "2018-02-18T05:21:50.331858Z",
     "start_time": "2018-02-18T05:21:50.321728Z"
    }
   },
   "outputs": [
    {
     "name": "stdout",
     "output_type": "stream",
     "text": [
      "x\n",
      "x_0 - 3*x_1 + 4*x_2\n"
     ]
    }
   ],
   "source": [
    "from pulp import *\n",
    "\n",
    "x = LpVariable('x',lowBound = 0, cat='Continuous')\n",
    "y = LpVariable('y', upBound = 5, cat='Integer')\n",
    "\n",
    "f = LpAffineExpression(LpElement('x'))\n",
    "print(f)\n",
    "\n",
    "x_name = ['x_0', 'x_1', 'x_2']\n",
    "x = [LpVariable(x_name[i], lowBound = 0, upBound = 10) for i in range(3)]\n",
    "c = LpAffineExpression([(x[0],1), (x[1],-3), (x[2],4)])\n",
    "print(c)"
   ]
  },
  {
   "cell_type": "code",
   "execution_count": 2,
   "metadata": {},
   "outputs": [],
   "source": [
    "prob = LpProblem(name='Maximize', sense=LpMaximize)"
   ]
  },
  {
   "cell_type": "code",
   "execution_count": 3,
   "metadata": {},
   "outputs": [],
   "source": [
    "x1 = LpVariable(name='X1', lowBound=0)\n",
    "x2 = LpVariable(name='X2', lowBound=0)"
   ]
  },
  {
   "cell_type": "markdown",
   "metadata": {},
   "source": [
    "$$\\max Z= 3X_1+2X_2$$"
   ]
  },
  {
   "cell_type": "code",
   "execution_count": 4,
   "metadata": {},
   "outputs": [],
   "source": [
    "prob += 3*x1 + 2*x2"
   ]
  },
  {
   "cell_type": "markdown",
   "metadata": {},
   "source": [
    "$$\\begin{split}\n",
    "10X_1+5X_2&\\le300\\\\\n",
    "4X_1+4X_2&\\le160\\\\\n",
    "2X_1+6X_2&\\le180\\\\\n",
    "X_1,X_2&\\ge0\\end{split}$$"
   ]
  },
  {
   "cell_type": "code",
   "execution_count": 5,
   "metadata": {},
   "outputs": [],
   "source": [
    "prob += 10*x1 + 5*x2 <= 300\n",
    "prob += 4*x1 + 4*x2 <= 160\n",
    "prob += 2*x1 + 6*x2 <= 180"
   ]
  },
  {
   "cell_type": "code",
   "execution_count": 6,
   "metadata": {},
   "outputs": [
    {
     "name": "stdout",
     "output_type": "stream",
     "text": [
      "Optimize a model with 3 rows, 2 columns and 6 nonzeros\n",
      "Coefficient statistics:\n",
      "  Matrix range     [2e+00, 1e+01]\n",
      "  Objective range  [2e+00, 3e+00]\n",
      "  Bounds range     [0e+00, 0e+00]\n",
      "  RHS range        [2e+02, 3e+02]\n",
      "Presolve time: 0.01s\n",
      "Presolved: 3 rows, 2 columns, 6 nonzeros\n",
      "\n",
      "Iteration    Objective       Primal Inf.    Dual Inf.      Time\n",
      "       0    5.0000000e+30   4.875000e+30   5.000000e+00      0s\n",
      "       2    1.0000000e+02   0.000000e+00   0.000000e+00      0s\n",
      "\n",
      "Solved in 2 iterations and 0.02 seconds\n",
      "Optimal objective  1.000000000e+02\n",
      "Gurobi status= 2\n"
     ]
    },
    {
     "data": {
      "text/plain": [
       "1"
      ]
     },
     "execution_count": 6,
     "metadata": {},
     "output_type": "execute_result"
    }
   ],
   "source": [
    "prob.solve(GUROBI())"
   ]
  },
  {
   "cell_type": "code",
   "execution_count": 7,
   "metadata": {},
   "outputs": [
    {
     "name": "stdout",
     "output_type": "stream",
     "text": [
      "X1 = 20.0\n",
      "X2 = 20.0\n",
      "Status Optimal\n",
      "100.0\n"
     ]
    }
   ],
   "source": [
    "for i in prob.variables():\n",
    "    print(i.name, '=', i.varValue)\n",
    "print('Status', LpStatus[prob.status])\n",
    "print(pulp.value(prob.objective))"
   ]
  },
  {
   "cell_type": "markdown",
   "metadata": {},
   "source": [
    "### Problem 2"
   ]
  },
  {
   "cell_type": "code",
   "execution_count": 8,
   "metadata": {},
   "outputs": [],
   "source": [
    "from pulp import *\n",
    "\n",
    "prob = LpProblem(name='Mixed Products', sense=LpMinimize)\n",
    "\n",
    "identifiers = ['X1', 'X2']\n",
    "obj_coef = [200, 300]\n",
    "protein = [1, 3]\n",
    "starch = [1, 1]\n",
    "fat = [4, 1]\n",
    "\n",
    "prices = dict(zip(identifiers, obj_coef))\n",
    "const1 = dict(zip(identifiers, protein))\n",
    "const2 = dict(zip(identifiers, starch))\n",
    "const3 = dict(zip(identifiers, fat))\n",
    "\n",
    "var = LpVariable.dicts(name='X', indexs=identifiers, lowBound=0)"
   ]
  },
  {
   "cell_type": "markdown",
   "metadata": {},
   "source": [
    "$$\\min Z=200X_1+300X_2$$"
   ]
  },
  {
   "cell_type": "code",
   "execution_count": 9,
   "metadata": {},
   "outputs": [],
   "source": [
    "prob += lpSum([var[i]*prices[i] for i in identifiers])\n",
    "\n",
    "prob += lpSum([var[i]*const1[i] for i in identifiers]) >= 30\n",
    "prob += lpSum([var[i]*const2[i] for i in identifiers]) >= 20\n",
    "prob += lpSum([var[i]*const3[i] for i in identifiers]) >= 35"
   ]
  },
  {
   "cell_type": "markdown",
   "metadata": {},
   "source": [
    "$$\\begin{split}\n",
    "X_1+3X_2&\\ge30\\\\\n",
    "X_1+X_2&\\ge20\\\\\n",
    "4X_1+X_2&\\ge35\\\\\n",
    "X_1,X_2&\\ge0\n",
    "\\end{split}$$"
   ]
  },
  {
   "cell_type": "code",
   "execution_count": 10,
   "metadata": {},
   "outputs": [
    {
     "name": "stdout",
     "output_type": "stream",
     "text": [
      "Optimize a model with 3 rows, 2 columns and 6 nonzeros\n",
      "Coefficient statistics:\n",
      "  Matrix range     [1e+00, 4e+00]\n",
      "  Objective range  [2e+02, 3e+02]\n",
      "  Bounds range     [0e+00, 0e+00]\n",
      "  RHS range        [2e+01, 4e+01]\n",
      "Presolve time: 0.00s\n",
      "Presolved: 3 rows, 2 columns, 6 nonzeros\n",
      "\n",
      "Iteration    Objective       Primal Inf.    Dual Inf.      Time\n",
      "       0    0.0000000e+00   3.625000e+01   0.000000e+00      0s\n",
      "       2    4.5000000e+03   0.000000e+00   0.000000e+00      0s\n",
      "\n",
      "Solved in 2 iterations and 0.01 seconds\n",
      "Optimal objective  4.500000000e+03\n",
      "Gurobi status= 2\n"
     ]
    },
    {
     "data": {
      "text/plain": [
       "1"
      ]
     },
     "execution_count": 10,
     "metadata": {},
     "output_type": "execute_result"
    }
   ],
   "source": [
    "prob.solve(GUROBI())"
   ]
  },
  {
   "cell_type": "code",
   "execution_count": 11,
   "metadata": {},
   "outputs": [
    {
     "name": "stdout",
     "output_type": "stream",
     "text": [
      "X_X1 = 15.0\n",
      "X_X2 = 5.0\n",
      "Status: Optimal\n",
      "4500.0\n"
     ]
    }
   ],
   "source": [
    "for i in prob.variables():\n",
    "    print(i.name, '=', i.varValue)\n",
    "print('Status:', LpStatus[prob.status])\n",
    "print(pulp.value(prob.objective))"
   ]
  },
  {
   "cell_type": "code",
   "execution_count": null,
   "metadata": {},
   "outputs": [],
   "source": []
  },
  {
   "cell_type": "code",
   "execution_count": 12,
   "metadata": {},
   "outputs": [],
   "source": [
    "from pulp import *\n",
    "\n",
    "plants = ['P1', 'P2', 'P3']\n",
    "warehouses = ['W1', 'W2', 'W3', 'W4']\n",
    "costs = [[3, 2, 4, 1], \n",
    "         [2, 4, 3, 2], \n",
    "         [3, 1, 5, 3]]\n",
    "\n",
    "supply = dict(zip(plants, [250, 180, 170]))\n",
    "demand = dict(zip(warehouses, [130, 210, 160, 100]))\n",
    "sd_costs = makeDict([plants, warehouses], costs, 0)\n",
    "\n",
    "routes = [(p, w) for p in plants for w in warehouses]\n",
    "\n",
    "prob = LpProblem(name='Transportation', sense=LpMinimize)\n",
    "\n",
    "x = LpVariable.dicts(name='Route', indexs=(plants, warehouses), lowBound=0) \n",
    "\n",
    "prob += lpSum([x[p][w] * sd_costs[p][w] for (p, w) in routes])\n",
    "\n",
    "\n",
    "for p in plants:\n",
    "    prob += lpSum([x[p][w] for w in warehouses]) == supply[p]\n",
    "    \n",
    "for w in warehouses:\n",
    "    prob += lpSum([x[p][w] for p in plants]) == demand[w]\n",
    "    \n"
   ]
  },
  {
   "cell_type": "code",
   "execution_count": null,
   "metadata": {},
   "outputs": [],
   "source": []
  },
  {
   "cell_type": "code",
   "execution_count": null,
   "metadata": {},
   "outputs": [],
   "source": []
  },
  {
   "cell_type": "code",
   "execution_count": 13,
   "metadata": {},
   "outputs": [
    {
     "name": "stdout",
     "output_type": "stream",
     "text": [
      "Optimize a model with 7 rows, 12 columns and 24 nonzeros\n",
      "Coefficient statistics:\n",
      "  Matrix range     [1e+00, 1e+00]\n",
      "  Objective range  [1e+00, 5e+00]\n",
      "  Bounds range     [0e+00, 0e+00]\n",
      "  RHS range        [1e+02, 2e+02]\n",
      "Presolve time: 0.00s\n",
      "Presolved: 7 rows, 12 columns, 24 nonzeros\n",
      "\n",
      "Iteration    Objective       Primal Inf.    Dual Inf.      Time\n",
      "       0    1.0500000e+03   3.000000e+02   0.000000e+00      0s\n",
      "       2    1.2000000e+03   0.000000e+00   0.000000e+00      0s\n",
      "\n",
      "Solved in 2 iterations and 0.01 seconds\n",
      "Optimal objective  1.200000000e+03\n",
      "Gurobi status= 2\n"
     ]
    },
    {
     "data": {
      "text/plain": [
       "1"
      ]
     },
     "execution_count": 13,
     "metadata": {},
     "output_type": "execute_result"
    }
   ],
   "source": [
    "prob.solve(solver=GUROBI())"
   ]
  },
  {
   "cell_type": "code",
   "execution_count": 14,
   "metadata": {},
   "outputs": [
    {
     "name": "stdout",
     "output_type": "stream",
     "text": [
      "Status: Optimal\n",
      "Route_P1_W1 = 110.0\n",
      "Route_P1_W2 = 40.0\n",
      "Route_P1_W3 = 0.0\n",
      "Route_P1_W4 = 100.0\n",
      "Route_P2_W1 = 20.0\n",
      "Route_P2_W2 = 0.0\n",
      "Route_P2_W3 = 160.0\n",
      "Route_P2_W4 = 0.0\n",
      "Route_P3_W1 = 0.0\n",
      "Route_P3_W2 = 170.0\n",
      "Route_P3_W3 = 0.0\n",
      "Route_P3_W4 = 0.0\n",
      "Optimal value: 1200.0\n"
     ]
    }
   ],
   "source": [
    "print('Status:', LpStatus[prob.status])\n",
    "for i in prob.variables():\n",
    "    print(i.name, '=', i.varValue)\n",
    "print('Optimal value:', value(prob.objective))"
   ]
  },
  {
   "cell_type": "markdown",
   "metadata": {},
   "source": [
    "### Problem 4"
   ]
  },
  {
   "cell_type": "code",
   "execution_count": 15,
   "metadata": {},
   "outputs": [
    {
     "name": "stdout",
     "output_type": "stream",
     "text": [
      "Optimize a model with 5 rows, 2 columns and 9 nonzeros\n",
      "Coefficient statistics:\n",
      "  Matrix range     [1e+00, 1e+01]\n",
      "  Objective range  [2e+00, 3e+00]\n",
      "  Bounds range     [0e+00, 0e+00]\n",
      "  RHS range        [2e+01, 3e+02]\n",
      "Presolve removed 5 rows and 2 columns\n",
      "Presolve time: 0.00s\n",
      "Presolve: All rows and columns removed\n",
      "Iteration    Objective       Primal Inf.    Dual Inf.      Time\n",
      "       0    9.6000000e+01   0.000000e+00   0.000000e+00      0s\n",
      "\n",
      "Solved in 0 iterations and 0.01 seconds\n",
      "Optimal objective  9.600000000e+01\n",
      "Gurobi status= 2\n",
      "Status: 1\n",
      "Decision_variables_A = 24.0\n",
      "Decision_variables_B = 12.0\n",
      "Optimal value: 96.0\n"
     ]
    }
   ],
   "source": [
    "from pulp import *\n",
    "\n",
    "identifiers = ['A', 'B']\n",
    "obj_coef = dict(zip(identifiers, [3, 2]))\n",
    "const1 = dict(zip(identifiers, [10, 5]))\n",
    "const2 = dict(zip(identifiers, [4, 4]))\n",
    "const3 = dict(zip(identifiers, [2, 6]))\n",
    "const4 = dict(zip(identifiers, [1, 0]))\n",
    "const5 = dict(zip(identifiers, [1, -2]))\n",
    "\n",
    "prob = LpProblem(name='Minimize', sense=LpMaximize)\n",
    "\n",
    "x = LpVariable.dicts(name='Decision variables', indexs=identifiers, \n",
    "                     lowBound=0)\n",
    "\n",
    "prob += lpSum(x[i] * obj_coef[i] for i in identifiers)\n",
    "\n",
    "prob += lpSum(x[i] * const1[i] for i in identifiers) <= 300\n",
    "prob += lpSum(x[i] * const2[i] for i in identifiers) <= 160\n",
    "prob += lpSum(x[i] * const3[i] for i in identifiers) <= 180\n",
    "prob += lpSum(x[i] * const4[i] for i in identifiers) >= 20\n",
    "prob += lpSum(x[i] * const5[i] for i in identifiers) == 0\n",
    "\n",
    "prob.solve(solver=GUROBI())\n",
    "\n",
    "print('Status:', prob.status)\n",
    "for i in prob.variables():\n",
    "    print(i.name, '=', i.varValue)\n",
    "print('Optimal value:', value(prob.objective))"
   ]
  },
  {
   "cell_type": "markdown",
   "metadata": {},
   "source": [
    "### Problem 5"
   ]
  },
  {
   "cell_type": "code",
   "execution_count": 16,
   "metadata": {},
   "outputs": [],
   "source": [
    "from pulp import *"
   ]
  },
  {
   "cell_type": "code",
   "execution_count": 17,
   "metadata": {},
   "outputs": [],
   "source": [
    "model = LpProblem(name='Product Planning', sense=LpMinimize)"
   ]
  },
  {
   "cell_type": "code",
   "execution_count": 18,
   "metadata": {},
   "outputs": [],
   "source": [
    "var = 'X11 X12 X13 X21 X22 X23 Y11 Y12 Y13 Y21 Y22 Y23 I1 I2 I3 D1 D2 D3'.split()\n",
    "coe = [30, 35, 30, 20, 25, 20, 0.3, 0.3, 0.3, 0.15, 0.15, 0.15, 0.5, 0.5, 0.5, 0.2, 0.2, 0.2]\n",
    "obj = dict(zip(var, coe))\n",
    "zero = [0 for i in range(len(var))]"
   ]
  },
  {
   "cell_type": "code",
   "execution_count": 19,
   "metadata": {},
   "outputs": [],
   "source": [
    "x = LpVariable.dicts(name='X', indexs=var, indexStart=[], lowBound=0, cat='Continuous')"
   ]
  },
  {
   "cell_type": "code",
   "execution_count": 20,
   "metadata": {},
   "outputs": [],
   "source": [
    "model += lpSum(x[i]*obj[i] for i in var)"
   ]
  },
  {
   "cell_type": "code",
   "execution_count": 21,
   "metadata": {},
   "outputs": [],
   "source": [
    "const1 = dict(zip(var, zero))\n",
    "const1['X11'] = 1\n",
    "const1['Y11'] = -1\n",
    "\n",
    "const2 = dict(zip(var, zero))\n",
    "const2['X21'] = 1\n",
    "const2['Y21'] = -1\n",
    "\n",
    "const3 = dict(zip(var, zero))\n",
    "const3['X12'] = 1\n",
    "const3['Y11'] = 1\n",
    "const3['Y12'] = -1\n",
    "\n",
    "const4 = dict(zip(var, zero))\n",
    "const4['X22'] = 1\n",
    "const4['Y21'] = 1\n",
    "const4['Y22'] = -1\n",
    "\n",
    "const5 = dict(zip(var, zero))\n",
    "const5['X13'] = 1\n",
    "const5['Y12'] = 1\n",
    "const5['Y13'] = -1\n",
    "\n",
    "const6 = dict(zip(var, zero))\n",
    "const6['X23'] = 1\n",
    "const6['Y22'] = 1\n",
    "const6['Y23'] = -1\n",
    "\n",
    "const7 = dict(zip(var, zero))\n",
    "const7['Y13'] = 1\n",
    "\n",
    "const8 = dict(zip(var, zero))\n",
    "const8['Y23'] = 1\n",
    "\n",
    "const9 = dict(zip(var, zero))\n",
    "const9['Y11'] = 1\n",
    "const9['Y21'] = 1\n",
    "\n",
    "const10 = dict(zip(var, zero))\n",
    "const10['Y12'] = 1\n",
    "const10['Y22'] = 1\n",
    "\n",
    "const11 = dict(zip(var, zero))\n",
    "const11['Y13'] = 1\n",
    "const11['Y23'] = 1\n",
    "\n",
    "const12 = dict(zip(var, zero))\n",
    "const12['X11'] = 0.2\n",
    "const12['X21'] = 0.1\n",
    "\n",
    "const13 = dict(zip(var, zero))\n",
    "const13['X12'] = 0.2\n",
    "const13['X22'] = 0.1\n",
    "\n",
    "const14 = dict(zip(var, zero))\n",
    "const14['X13'] = 0.2\n",
    "const14['X23'] = 0.1\n",
    "\n",
    "const15 = dict(zip(var, zero))\n",
    "const15['X11'] = 0.05\n",
    "const15['X21'] = 0.04\n",
    "\n",
    "const16 = dict(zip(var, zero))\n",
    "const16['X12'] = 0.05\n",
    "const16['X22'] = 0\n",
    "\n",
    "const17 = dict(zip(var, zero))\n",
    "const17['X13'] = 0.05\n",
    "const17['X23'] = 0.04\n",
    "\n",
    "const18 = dict(zip(var, zero))\n",
    "const18['X11'] = 1\n",
    "const18['X21'] = 1\n",
    "const18['I1'] = -1\n",
    "const18['D1'] = 1\n",
    "\n",
    "const19 = dict(zip(var, zero))\n",
    "const19['X11'] = -1\n",
    "const19['X12'] = 1\n",
    "const19['X21'] = -1\n",
    "const19['X22'] = 1\n",
    "const19['I2'] = -1\n",
    "const19['D2'] = 1\n",
    "\n",
    "const20 = dict(zip(var, zero))\n",
    "const20['X12'] = -1\n",
    "const20['X13'] = 1\n",
    "const20['X22'] = -1\n",
    "const20['X23'] = 1\n",
    "const20['I3'] = -1\n",
    "const20['D3'] = 1"
   ]
  },
  {
   "cell_type": "code",
   "execution_count": 22,
   "metadata": {},
   "outputs": [],
   "source": [
    "model += lpSum([const1[i]*x[i] for i in var]) == 2500\n",
    "model += lpSum([const2[i]*x[i] for i in var]) == 2000\n",
    "model += lpSum([const3[i]*x[i] for i in var]) == 2500\n",
    "model += lpSum([const4[i]*x[i] for i in var]) == 2000\n",
    "model += lpSum([const5[i]*x[i] for i in var]) == 3000\n",
    "model += lpSum([const6[i]*x[i] for i in var]) == 2000\n",
    "model += lpSum([const7[i]*x[i] for i in var]) >= 500\n",
    "model += lpSum([const8[i]*x[i] for i in var]) >= 500\n",
    "model += lpSum([const9[i]*x[i] for i in var]) <= 2000\n",
    "model += lpSum([const10[i]*x[i] for i in var]) <= 2000\n",
    "model += lpSum([const11[i]*x[i] for i in var]) <= 2000\n",
    "model += lpSum([const12[i]*x[i] for i in var]) <= 1000\n",
    "model += lpSum([const13[i]*x[i] for i in var]) <= 1000\n",
    "model += lpSum([const14[i]*x[i] for i in var]) <= 1000\n",
    "model += lpSum([const15[i]*x[i] for i in var]) <= 300\n",
    "model += lpSum([const16[i]*x[i] for i in var]) <= 300\n",
    "model += lpSum([const17[i]*x[i] for i in var]) <= 300\n",
    "model += lpSum([const18[i]*x[i] for i in var]) == 5000\n",
    "model += lpSum([const19[i]*x[i] for i in var]) == 0\n",
    "model += lpSum([const20[i]*x[i] for i in var]) == 0"
   ]
  },
  {
   "cell_type": "code",
   "execution_count": 23,
   "metadata": {},
   "outputs": [
    {
     "name": "stdout",
     "output_type": "stream",
     "text": [
      "Optimize a model with 20 rows, 18 columns and 51 nonzeros\n",
      "Coefficient statistics:\n",
      "  Matrix range     [4e-02, 1e+00]\n",
      "  Objective range  [1e-01, 4e+01]\n",
      "  Bounds range     [0e+00, 0e+00]\n",
      "  RHS range        [3e+02, 5e+03]\n",
      "Presolve removed 13 rows and 8 columns\n",
      "Presolve time: 0.01s\n",
      "Presolved: 7 rows, 10 columns, 23 nonzeros\n",
      "\n",
      "Iteration    Objective       Primal Inf.    Dual Inf.      Time\n",
      "       0    3.1097500e+05   1.625000e+03   0.000000e+00      0s\n",
      "       5    4.0132500e+05   0.000000e+00   0.000000e+00      0s\n",
      "\n",
      "Solved in 5 iterations and 0.01 seconds\n",
      "Optimal objective  4.013250000e+05\n",
      "Gurobi status= 2\n"
     ]
    },
    {
     "data": {
      "text/plain": [
       "1"
      ]
     },
     "execution_count": 23,
     "metadata": {},
     "output_type": "execute_result"
    }
   ],
   "source": [
    "model.solve(solver=GUROBI())"
   ]
  },
  {
   "cell_type": "code",
   "execution_count": 24,
   "metadata": {},
   "outputs": [
    {
     "name": "stdout",
     "output_type": "stream",
     "text": [
      "Status: 1\n",
      "X_D1 = 0.0\n",
      "X_D2 = 4000.0\n",
      "X_D3 = 0.0\n",
      "X_I1 = 1500.0\n",
      "X_I2 = 0.0\n",
      "X_I3 = 3500.0\n",
      "X_X11 = 2500.0\n",
      "X_X12 = 2500.0\n",
      "X_X13 = 3500.0\n",
      "X_X21 = 4000.0\n",
      "X_X22 = 0.0\n",
      "X_X23 = 2500.0\n",
      "X_Y11 = 0.0\n",
      "X_Y12 = 0.0\n",
      "X_Y13 = 500.0\n",
      "X_Y21 = 2000.0\n",
      "X_Y22 = 0.0\n",
      "X_Y23 = 500.0\n",
      "Optimal value= 401325.0\n"
     ]
    }
   ],
   "source": [
    "print('Status:', model.status)\n",
    "for i in model.variables():\n",
    "    print(i.name, '=', i.varValue)\n",
    "print('Optimal value=', value(model.objective))"
   ]
  },
  {
   "cell_type": "code",
   "execution_count": 29,
   "metadata": {},
   "outputs": [
    {
     "name": "stdout",
     "output_type": "stream",
     "text": [
      "Sensitivity Analysis\n",
      "Constraint: _C1 \tShadow Price=-0.00 \tSlack=-0.0\n",
      "Constraint: _C2 \tShadow Price=-0.00 \tSlack=-0.0\n",
      "Constraint: _C3 \tShadow Price=-0.00 \tSlack=20.0\n"
     ]
    }
   ],
   "source": [
    "print('Sensitivity Analysis')\n",
    "for name, c in model.constraints.items():\n",
    "    print('Constraint: {} \\tShadow Price={:.2f} \\tSlack={}'.format(name, c.pi, c.slack))"
   ]
  },
  {
   "cell_type": "code",
   "execution_count": null,
   "metadata": {},
   "outputs": [],
   "source": []
  },
  {
   "cell_type": "code",
   "execution_count": 26,
   "metadata": {},
   "outputs": [
    {
     "name": "stdout",
     "output_type": "stream",
     "text": [
      "Giapetto:\n",
      "MAXIMIZE\n",
      "3*soldiers + 2*trains + 0\n",
      "SUBJECT TO\n",
      "_C1: soldiers + trains <= 80\n",
      "\n",
      "_C2: 2 soldiers + trains <= 100\n",
      "\n",
      "_C3: soldiers <= 40\n",
      "\n",
      "VARIABLES\n",
      "0 <= soldiers Integer\n",
      "0 <= trains Integer\n",
      "\n"
     ]
    }
   ],
   "source": [
    "import numpy as np\n",
    "from pulp import *\n",
    "\n",
    "model = LpProblem('Giapetto', LpMaximize)\n",
    "\n",
    "soldiers = LpVariable('soldiers', lowBound=0, cat='Integer')\n",
    "trains = LpVariable('trains', lowBound=0, cat='Integer')\n",
    "\n",
    "raw_material_costs = 10*soldiers+9*trains\n",
    "variable_costs = 14*soldiers+10*trains\n",
    "\n",
    "revenues = 27*soldiers+21*trains\n",
    "\n",
    "profit = revenues - (raw_material_costs+variable_costs)\n",
    "model += profit\n",
    "\n",
    "carpentry_hours = soldiers+trains\n",
    "model += (carpentry_hours <= 80)\n",
    "\n",
    "finishing_hours = 2*soldiers+trains\n",
    "model += (finishing_hours <= 100)\n",
    "\n",
    "model += (soldiers <= 40)\n",
    "\n",
    "print(model)"
   ]
  },
  {
   "cell_type": "code",
   "execution_count": 27,
   "metadata": {},
   "outputs": [
    {
     "name": "stdout",
     "output_type": "stream",
     "text": [
      "Optimal weekly number of soldiers to produce: 20\n",
      "Optimal weekly number of trains to produce: 60\n"
     ]
    }
   ],
   "source": [
    "# solve the LP using the default solver\n",
    "optimization_result = model.solve()\n",
    "\n",
    "# make sure we got an optimal solution\n",
    "assert optimization_result == LpStatusOptimal\n",
    "\n",
    "# display the results\n",
    "for var in (soldiers, trains):\n",
    "    print('Optimal weekly number of {} to produce: {:1.0f}'.format(var.name, var.value()))"
   ]
  },
  {
   "cell_type": "code",
   "execution_count": 28,
   "metadata": {},
   "outputs": [
    {
     "name": "stdout",
     "output_type": "stream",
     "text": [
      "Optimize a model with 5 rows, 2 columns and 9 nonzeros\n",
      "Coefficient statistics:\n",
      "  Matrix range     [1e+00, 1e+01]\n",
      "  Objective range  [2e+00, 3e+00]\n",
      "  Bounds range     [0e+00, 0e+00]\n",
      "  RHS range        [2e+01, 3e+02]\n",
      "Presolve removed 5 rows and 2 columns\n",
      "Presolve time: 0.00s\n",
      "Presolve: All rows and columns removed\n",
      "Iteration    Objective       Primal Inf.    Dual Inf.      Time\n",
      "       0    9.6000000e+01   0.000000e+00   0.000000e+00      0s\n",
      "\n",
      "Solved in 0 iterations and 0.01 seconds\n",
      "Optimal objective  9.600000000e+01\n",
      "Gurobi status= 2\n",
      "Status: 1\n",
      "Decision_variables_A = 24.0\n",
      "Decision_variables_B = 12.0\n",
      "Optimal value: 96.0\n"
     ]
    }
   ],
   "source": [
    "from pulp import *\n",
    "\n",
    "identifiers = ['A', 'B']\n",
    "obj_coef = dict(zip(identifiers, [3, 2]))\n",
    "const1 = dict(zip(identifiers, [10, 5]))\n",
    "const2 = dict(zip(identifiers, [4, 4]))\n",
    "const3 = dict(zip(identifiers, [2, 6]))\n",
    "const4 = dict(zip(identifiers, [1, 0]))\n",
    "const5 = dict(zip(identifiers, [1, -2]))\n",
    "\n",
    "prob = LpProblem(name='Minimize', sense=LpMaximize)\n",
    "\n",
    "x = LpVariable.dicts(name='Decision variables', indexs=identifiers, \n",
    "                     lowBound=0)\n",
    "\n",
    "prob += lpSum(x[i] * obj_coef[i] for i in identifiers)\n",
    "\n",
    "prob += lpSum(x[i] * const1[i] for i in identifiers) <= 300\n",
    "prob += lpSum(x[i] * const2[i] for i in identifiers) <= 160\n",
    "prob += lpSum(x[i] * const3[i] for i in identifiers) <= 180\n",
    "prob += lpSum(x[i] * const4[i] for i in identifiers) >= 20\n",
    "prob += lpSum(x[i] * const5[i] for i in identifiers) == 0\n",
    "\n",
    "prob.solve(solver=GUROBI())\n",
    "\n",
    "print('Status:', prob.status)\n",
    "for i in prob.variables():\n",
    "    print(i.name, '=', i.varValue)\n",
    "print('Optimal value:', value(prob.objective))"
   ]
  },
  {
   "cell_type": "code",
   "execution_count": null,
   "metadata": {},
   "outputs": [],
   "source": []
  }
 ],
 "metadata": {
  "kernelspec": {
   "display_name": "Python 3",
   "language": "python",
   "name": "python3"
  },
  "language_info": {
   "codemirror_mode": {
    "name": "ipython",
    "version": 3
   },
   "file_extension": ".py",
   "mimetype": "text/x-python",
   "name": "python",
   "nbconvert_exporter": "python",
   "pygments_lexer": "ipython3",
   "version": "3.7.3"
  },
  "latex_envs": {
   "LaTeX_envs_menu_present": true,
   "autocomplete": true,
   "bibliofile": "biblio.bib",
   "cite_by": "apalike",
   "current_citInitial": 1,
   "eqLabelWithNumbers": true,
   "eqNumInitial": 1,
   "hotkeys": {
    "equation": "Ctrl-E",
    "itemize": "Ctrl-I"
   },
   "labels_anchors": false,
   "latex_user_defs": false,
   "report_style_numbering": false,
   "user_envs_cfg": false
  },
  "varInspector": {
   "cols": {
    "lenName": 16,
    "lenType": 16,
    "lenVar": 40
   },
   "kernels_config": {
    "python": {
     "delete_cmd_postfix": "",
     "delete_cmd_prefix": "del ",
     "library": "var_list.py",
     "varRefreshCmd": "print(var_dic_list())"
    },
    "r": {
     "delete_cmd_postfix": ") ",
     "delete_cmd_prefix": "rm(",
     "library": "var_list.r",
     "varRefreshCmd": "cat(var_dic_list()) "
    }
   },
   "types_to_exclude": [
    "module",
    "function",
    "builtin_function_or_method",
    "instance",
    "_Feature"
   ],
   "window_display": false
  }
 },
 "nbformat": 4,
 "nbformat_minor": 4
}
