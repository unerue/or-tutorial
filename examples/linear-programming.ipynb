{
 "cells": [
  {
   "cell_type": "markdown",
   "metadata": {},
   "source": [
    "# Linear Programmign Model\n",
    "\n",
    "## Product Mix Problem\n",
    "\n",
    "### Example 1\n",
    "\n",
    "**이강우 & 김정자. (2012). _EXCEL 2010 경영과학_. 한경사, 32.**\n",
    "\n",
    "<p style=\"text-indent: 1.5em\">D기업은 두 종류의 원료와 한 종류의 기계를 사용하여 제품 A와 제품 B를 생산하여 판매하고 있다. 각 제품을 1단위 생산할 때 필요한 원료의 사용량과 기계사용시간은 다음 <b>표</b>와 같다.</p>\n",
    "\n",
    "\n",
    "|자원   |A  |B  |월 가용량|\n",
    "|:--|--:|--:|--:|\n",
    "|원료 1(kg)|10|5|300|\n",
    "|원료 2(kg)|4|4|160|\n",
    "|기계사용시간(시간)|2|6|180|\n",
    "|단위당 이익(만원/개)|3|2||\n",
    "\n",
    "    \n",
    "<p style=\"text-indent: 1.5em\">한편 D기업이 보유하고 있는 원료 1과 원료 2의 월 가용량은 각각 300kg, 160kg이고 기계사용시간의 월 가용시간은 180시간이며 생산된 제품 A와 제품 B를 판매하면 각각 단위당 3만원과 2만원의 이익이 발생한다고 한다. D기업에 주어진 한정된 자원을 사용하여 D기업의 월 이익을 최대로 하는 제품 A와 제품 B의 월 생산량을 구하기 위한 선형계획모형을 작성하라.</p>\n",
    "\n",
    "$$\\begin{align*}\n",
    "  & \\text{maximize }   &   Z=3&X_{1}+2X_{2}         & \\text{(Objective function)} &\\quad(1.1)\\\\[1ex]\n",
    "  & \\text{subject to } & \\, 10&X_{1}+5X_{2} \\le 300 & \\text{(Constraint 1)}       &\\quad(1.2)\\\\[1ex]\n",
    "  &                    & \\,  4&X_{1}+4X_{2} \\le 160 & \\text{(Constraint 2)}       &\\quad(1.3)\\\\[1ex]  \n",
    "  &                    & \\,  2&X_{1}+6X_{2} \\le 180 & \\text{(Constraint 3)}       &\\quad(1.4)\\\\[1ex] \n",
    "  & \\text{and}         & \\,   &X_{1},X_{2} \\ge 0    & \\text{(Non-negative)}       &\\quad(1.5)\\\\[1ex] \n",
    "\\end{align*}$$"
   ]
  },
  {
   "cell_type": "code",
   "execution_count": 1,
   "metadata": {},
   "outputs": [
    {
     "data": {
      "text/plain": [
       "1"
      ]
     },
     "execution_count": 1,
     "metadata": {},
     "output_type": "execute_result"
    }
   ],
   "source": [
    "from pulp import *\n",
    "\n",
    "# Define problem\n",
    "prob = LpProblem(name='Product Mix Problem', sense=LpMaximize)\n",
    "\n",
    "# Create decision variables and non-negative constraint\n",
    "x1 = LpVariable(name='X1', lowBound=0, upBound=None, cat='Continuous')\n",
    "x2 = LpVariable(name='X2', lowBound=0, upBound=None, cat='Continuous')\n",
    "\n",
    "# Set objective function\n",
    "prob += 3*x1 + 2*x2\n",
    "\n",
    "# Set constraints\n",
    "prob += 10*x1 + 5*x2 <= 300\n",
    "prob += 4*x1 + 4*x2 <= 160\n",
    "prob += 2*x1 + 6*x2 <= 180\n",
    "\n",
    "# Solving problem\n",
    "prob.solve()\n",
    "print('Status', LpStatus[prob.status])"
   ]
  },
  {
   "cell_type": "code",
   "execution_count": 2,
   "metadata": {},
   "outputs": [
    {
     "name": "stdout",
     "output_type": "stream",
     "text": [
      "Status Optimal\n",
      "Z = 100.0\n",
      "X1 = 20.0\n",
      "X2 = 20.0\n"
     ]
    }
   ],
   "source": [
    "\n",
    "print('Z = {}'.format(pulp.value(prob.objective)))\n",
    "for i in prob.variables():\n",
    "    print('{} = {}'.format(i.name, i.varValue))"
   ]
  },
  {
   "cell_type": "markdown",
   "metadata": {},
   "source": [
    "### Example 2\n",
    "\n",
    "**이강우 & 김정자. (2012). _EXCEL 2010 경영과학_. 한경사, 225.**\n",
    "\n",
    "<p style=\"text-indent: 1.5em\">D전자는 통신장비를 생산하여 판매하고 있는 회사이며 최근 개발한 신제품의 판매시장을 국내, 아시아지역, 유럽지역으로 확장하려고 한다. 이를 위하여 각 지역별 시장조사를 한 결과 수집된 자료는 <b>표</b>와 같다.</p>\n",
    "\n",
    "<table>\n",
    "    <caption></caption>\n",
    "    <tr>\n",
    "        <th colspan=\"1\">지역</th>\n",
    "        <th>단위당 판매이익(만원)</th>\n",
    "        <th>단위당 광고비용(만원)</th>\n",
    "        <th>단위당 판매활동시간(시간)</th>\n",
    "    </tr>\n",
    "    <tr> \n",
    "        <td>국내</td>\n",
    "        <td align=\"right\">6</td>\n",
    "        <td align=\"right\">1.0</td>\n",
    "        <td align=\"right\">1.5</td>\n",
    "    </tr>\n",
    "    <tr> \n",
    "        <td>아시아</td>\n",
    "        <td align=\"right\">4</td>\n",
    "        <td align=\"right\">0.8</td>\n",
    "        <td align=\"right\">2.0</td>\n",
    "    </tr>\n",
    "    <tr> \n",
    "        <td>유럽</td>\n",
    "        <td align=\"right\">7</td>\n",
    "        <td align=\"right\">1.5</td>\n",
    "        <td align=\"right\">3.0</td>\n",
    "    </tr>\n",
    "</table>\n",
    "\n",
    "<p style=\"text-indent: 1.5em\">D전자의 신제품 생산능력은 1개월에 3,500개이고 1개월 동안 아시아 지역에 최소한 500개를 공급할 계획을 가지고 있다. 그리고 D전자의 판매원의 판매활동시간은 1개월에 총 5,000시간이며 1개월 광고비 예산은 3,000만원이다. 한편 D전자는 주문생산을 원칙으로 하고 있기 대문에 재고는 보유하지 않는다. D전자의 월 판매이익을 최대로 하는 지역별 신제품의 판매량을 구하기 위한 선형계획 모형을 작성하여 지역별 최적 판매계획을 수립하고 민감도분석을 수행하라.</p>"
   ]
  },
  {
   "cell_type": "code",
   "execution_count": 3,
   "metadata": {},
   "outputs": [
    {
     "data": {
      "text/plain": [
       "1"
      ]
     },
     "execution_count": 3,
     "metadata": {},
     "output_type": "execute_result"
    }
   ],
   "source": [
    "from pulp import *\n",
    "\n",
    "# Define problem\n",
    "prob = LpProblem(name='Marketing', sense=LpMaximize)\n",
    "\n",
    "# Create decision variables and non-negative constraint\n",
    "x1 = LpVariable(name='X1', lowBound=0, upBound=None, cat='Continuous')\n",
    "x2 = LpVariable(name='X2', lowBound=0, upBound=None, cat='Continuous')\n",
    "x3 = LpVariable(name='X3', lowBound=0, upBound=None, cat='Continuous')\n",
    "\n",
    "# Set objective function\n",
    "prob += 6*x1 + 4*x2 + 7*x3\n",
    "\n",
    "# Set constraints\n",
    "prob += 1.0*x1 + 0.8*x2 + 1.5*x3 <= 3000, 'Constraint1'\n",
    "prob += 1.5*x1 + 2.0*x2 + 3.0*x3 <= 5000, 'Constraint2'\n",
    "prob += x1 + x2 + x3 <= 3500, 'Constraint3'\n",
    "prob += x2 >= 500, 'Constraint4'\n",
    "\n",
    "# Solving problem\n",
    "prob.solve()"
   ]
  },
  {
   "cell_type": "code",
   "execution_count": 4,
   "metadata": {},
   "outputs": [
    {
     "name": "stdout",
     "output_type": "stream",
     "text": [
      "Status Optimal\n",
      "Z = 17600.0\n",
      "X1 = 2600.0\n",
      "X2 = 500.0\n",
      "X3 = 0.0\n"
     ]
    }
   ],
   "source": [
    "print('Status', LpStatus[prob.status])\n",
    "print('Z = {}'.format(pulp.value(prob.objective)))\n",
    "for i in prob.variables():\n",
    "    print('{} = {}'.format(i.name, i.varValue))"
   ]
  },
  {
   "cell_type": "code",
   "execution_count": 5,
   "metadata": {},
   "outputs": [
    {
     "name": "stdout",
     "output_type": "stream",
     "text": [
      "\n",
      "Sensitivity Analysis\n",
      "Constraint\tShadow Price\tSlack\n",
      "Constraint1: \t6.0\t\t-0.0\n",
      "Constraint2: \t-0.0\t\t100.0\n",
      "Constraint3: \t-0.0\t\t400.0\n",
      "Constraint4: \t-0.8\t\t-0.0\n"
     ]
    }
   ],
   "source": [
    "print('\\nSensitivity Analysis\\nConstraint\\tShadow Price\\tSlack')\n",
    "for name, c in prob.constraints.items():\n",
    "    print('{}: \\t{}\\t\\t{}'.format(name, c.pi, c.slack))"
   ]
  },
  {
   "cell_type": "code",
   "execution_count": null,
   "metadata": {},
   "outputs": [],
   "source": []
  }
 ],
 "metadata": {
  "kernelspec": {
   "display_name": "Python 3",
   "language": "python",
   "name": "python3"
  },
  "language_info": {
   "codemirror_mode": {
    "name": "ipython",
    "version": 3
   },
   "file_extension": ".py",
   "mimetype": "text/x-python",
   "name": "python",
   "nbconvert_exporter": "python",
   "pygments_lexer": "ipython3",
   "version": "3.6.8"
  },
  "latex_envs": {
   "LaTeX_envs_menu_present": true,
   "autocomplete": true,
   "bibliofile": "biblio.bib",
   "cite_by": "apalike",
   "current_citInitial": 1,
   "eqLabelWithNumbers": true,
   "eqNumInitial": 1,
   "hotkeys": {
    "equation": "Ctrl-E",
    "itemize": "Ctrl-I"
   },
   "labels_anchors": false,
   "latex_user_defs": false,
   "report_style_numbering": false,
   "user_envs_cfg": false
  },
  "varInspector": {
   "cols": {
    "lenName": 16,
    "lenType": 16,
    "lenVar": 40
   },
   "kernels_config": {
    "python": {
     "delete_cmd_postfix": "",
     "delete_cmd_prefix": "del ",
     "library": "var_list.py",
     "varRefreshCmd": "print(var_dic_list())"
    },
    "r": {
     "delete_cmd_postfix": ") ",
     "delete_cmd_prefix": "rm(",
     "library": "var_list.r",
     "varRefreshCmd": "cat(var_dic_list()) "
    }
   },
   "types_to_exclude": [
    "module",
    "function",
    "builtin_function_or_method",
    "instance",
    "_Feature"
   ],
   "window_display": false
  }
 },
 "nbformat": 4,
 "nbformat_minor": 4
}
