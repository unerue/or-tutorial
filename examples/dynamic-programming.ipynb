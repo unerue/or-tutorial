{
 "cells": [
  {
   "cell_type": "markdown",
   "metadata": {},
   "source": [
    "## Dynamic Programming\n",
    "\n",
    "### Example 6-4: Knapsack Problem\n",
    "\n",
    "**이강우 & 김정자. (2012). _EXCEL 2010 경영과학_. 한경사, 380.**\n",
    "\n",
    "<p style=\"text-indent: 1.5em\"><b>Table 6-1</b>는 배낭에 넣어 갖고 갈 수 있는 3개의 상이한 품목에 대한 품목별 무게와 효용 및 배낭의 보관능력을 나타내고 있다. 배낭의 보관능력 제약을 만족하면서 배낭에 넣어 갖고 갈 수 있는 품목의 효용을 최대화하는 정수계획모형을 작성한 후 최적 정수해를 구하라. 단, 같은 품목을 중복으로 배낭에 넣을 수 없다.</p>\n",
    "\n",
    "<table>\n",
    "  <caption><b>Table 6-1. </b>단일품목 배낭문제의 자료</caption>\n",
    "  <tr>\n",
    "    <th>품목</th>\n",
    "    <th>무게(kg)</th>\n",
    "    <th>효용</th>\n",
    "    <th>배낭의 보관능력(kg)</th>\n",
    "  </tr>\n",
    "  <tr>\n",
    "    <td align=\"center\"><b>1</b></td>\n",
    "    <td align=\"center\">3</td>\n",
    "    <td align=\"center\">7</td>\n",
    "    <td align=\"center\" rowspan=\"0\">6</td>\n",
    "  </tr>\n",
    "  <tr>\n",
    "    <td align=\"center\"><b>2</b></td>\n",
    "    <td align=\"center\">4</td>\n",
    "    <td align=\"center\">8</td>\n",
    "  </tr>\n",
    "  <tr>\n",
    "    <td align=\"center\"><b>3</b></td>\n",
    "    <td align=\"center\">2</td>\n",
    "    <td align=\"center\">3</td>\n",
    "  </tr>\n",
    "</table>\n",
    "\n",
    "<p style=\"text-indent: 1.5em\">단일품목 배낭문제를 0-1정수계획모형으로 정식화하기 위해서는 배낭에 넣을 수 있는 품목 $j$를 결정변수 $X_{j}$라고 정의하고 $X_{j}$가 0과 1 중에서 하나의 값만 갖도록 하여야 한다. 왜냐하면 배낭에 넣어 갖고 갈 수 있는 품목은 단일품목 배낭문제의 성격상 그 품목을 선택하거나 또는 선택하지 않기 때문이다. 따라서 $X_{j}$가 1의 값을 가질 때는 품목 $j$가 선택되고, 0의 값을 가질 때는 품목 $j$가 선택되지 않는다고 하자. 만일 각 품목에 대해 전체가 아닌 일부분의 선택이 가능하다면 이 문제는 분할성의 가정이 성립하므로 선형계획문제로 정식화할 수 있다.</p>\n",
    "\n",
    "$$X_{j} = \\begin{cases}\n",
    "1, \\text{ 배낭에 품목 $j$를 넣는 경우 $(j=1,2,3)$}\\\\\n",
    "0, \\text{ 배낭에 품목 $j$를 넣지 않는 경우 $(j=1,2,3)$}\\\\\n",
    "\\end{cases}$$"
   ]
  },
  {
   "cell_type": "code",
   "execution_count": 2,
   "metadata": {},
   "outputs": [
    {
     "name": "stdout",
     "output_type": "stream",
     "text": [
      "Status Optimal\n",
      "Z = 11.0\n",
      "x1 = 0.0\n",
      "x2 = 1.0\n",
      "x3 = 1.0\n"
     ]
    }
   ],
   "source": [
    "from pulp import *\n",
    "\n",
    "prob = LpProblem(name='0-1 Knapsack Problem', sense=LpMaximize)\n",
    "\n",
    "x1 = LpVariable(name='x1', lowBound=0, cat='Binary')\n",
    "x2 = LpVariable(name='x2', lowBound=0, cat='Binary')\n",
    "x3 = LpVariable(name='x3', lowBound=0, cat='Binary')\n",
    "\n",
    "prob += 7*x1 + 8*x2 + 3*x3\n",
    "\n",
    "prob += 3*x1 + 4*x2 + 2*x3 <= 6\n",
    "\n",
    "# Solving problem\n",
    "prob.solve()\n",
    "print('Status', LpStatus[prob.status])\n",
    "\n",
    "print('Z = {}'.format(value(prob.objective)))\n",
    "for i in prob.variables():\n",
    "    print('{} = {}'.format(i.name, i.varValue))"
   ]
  },
  {
   "cell_type": "code",
   "execution_count": null,
   "metadata": {},
   "outputs": [],
   "source": []
  },
  {
   "cell_type": "code",
   "execution_count": 13,
   "metadata": {},
   "outputs": [],
   "source": [
    "# Returns the maximum value that can be put in a knapsack of \n",
    "# capacity W \n",
    "def knapSack(W , wt , val , n): \n",
    "  \n",
    "    # Base Case \n",
    "    if n == 0 or W == 0 : \n",
    "        return 0\n",
    "  \n",
    "    # If weight of the nth item is more than Knapsack of capacity \n",
    "    # W, then this item cannot be included in the optimal solution \n",
    "    if (wt[n-1] > W): \n",
    "        return knapSack(W , wt , val , n-1) \n",
    "  \n",
    "    # return the maximum of two cases: \n",
    "    # (1) nth item included \n",
    "    # (2) not included \n",
    "    else: \n",
    "        return max(val[n-1] + knapSack(W-wt[n-1] , wt , val , n-1), \n",
    "                   knapSack(W , wt , val , n-1)) "
   ]
  },
  {
   "cell_type": "code",
   "execution_count": 16,
   "metadata": {},
   "outputs": [
    {
     "name": "stdout",
     "output_type": "stream",
     "text": [
      "11\n"
     ]
    }
   ],
   "source": [
    "val = [7, 8, 3] \n",
    "wt = [3, 4, 2] \n",
    "W = 6\n",
    "n = len(val) \n",
    "print(knapSack(W , wt , val , n))"
   ]
  },
  {
   "cell_type": "code",
   "execution_count": 17,
   "metadata": {},
   "outputs": [],
   "source": [
    "# A Dynamic Programming based Python Program for 0-1 Knapsack problem \n",
    "# Returns the maximum value that can be put in a knapsack of capacity W \n",
    "def knapSack(W, wt, val, n): \n",
    "    K = [[0 for x in range(W+1)] for x in range(n+1)] \n",
    "  \n",
    "    # Build table K[][] in bottom up manner \n",
    "    for i in range(n+1): \n",
    "        for w in range(W+1): \n",
    "            if i==0 or w==0: \n",
    "                K[i][w] = 0\n",
    "            elif wt[i-1] <= w: \n",
    "                K[i][w] = max(val[i-1] + K[i-1][w-wt[i-1]],  K[i-1][w]) \n",
    "            else: \n",
    "                K[i][w] = K[i-1][w] \n",
    "  \n",
    "    return K[n][W] "
   ]
  },
  {
   "cell_type": "code",
   "execution_count": 19,
   "metadata": {},
   "outputs": [
    {
     "name": "stdout",
     "output_type": "stream",
     "text": [
      "11\n"
     ]
    }
   ],
   "source": [
    "# Driver program to test above function \n",
    "val = [7, 8, 3] \n",
    "wt = [3, 4, 2] \n",
    "W = 6\n",
    "n = len(val) \n",
    "print(knapSack(W, wt, val, n)) \n",
    "  \n",
    "# This code is contributed by Bhavya Jain "
   ]
  },
  {
   "cell_type": "code",
   "execution_count": 8,
   "metadata": {},
   "outputs": [],
   "source": [
    "# Returns the maximum value  \n",
    "# with knapsack of W capacity \n",
    "def unboundedKnapsack(W, n, val, wt): \n",
    "    # dp[i] is going to store maximum  \n",
    "    # value with knapsack capacity i. \n",
    "    dp = [0 for i in range(W + 1)] \n",
    "  \n",
    "    ans = 0\n",
    "  \n",
    "    # Fill dp[] using above recursive formula \n",
    "    for i in range(W + 1): \n",
    "        for j in range(n): \n",
    "            if (wt[j] <= i): \n",
    "                dp[i] = max(dp[i], dp[i - wt[j]] + val[j])\n",
    "    \n",
    "    return dp[W]"
   ]
  },
  {
   "cell_type": "code",
   "execution_count": 9,
   "metadata": {},
   "outputs": [
    {
     "name": "stdout",
     "output_type": "stream",
     "text": [
      "300\n"
     ]
    }
   ],
   "source": [
    "# Driver program \n",
    "W = 100\n",
    "val = [10, 30, 20] \n",
    "wt = [5, 10, 15] \n",
    "n = len(val) \n",
    "  \n",
    "print(unboundedKnapsack(W, n, val, wt)) "
   ]
  },
  {
   "cell_type": "code",
   "execution_count": null,
   "metadata": {},
   "outputs": [],
   "source": []
  },
  {
   "cell_type": "code",
   "execution_count": null,
   "metadata": {},
   "outputs": [],
   "source": []
  },
  {
   "cell_type": "code",
   "execution_count": null,
   "metadata": {},
   "outputs": [],
   "source": []
  },
  {
   "cell_type": "code",
   "execution_count": null,
   "metadata": {},
   "outputs": [],
   "source": []
  }
 ],
 "metadata": {
  "kernelspec": {
   "display_name": "Python 3",
   "language": "python",
   "name": "python3"
  },
  "language_info": {
   "codemirror_mode": {
    "name": "ipython",
    "version": 3
   },
   "file_extension": ".py",
   "mimetype": "text/x-python",
   "name": "python",
   "nbconvert_exporter": "python",
   "pygments_lexer": "ipython3",
   "version": "3.6.8"
  },
  "latex_envs": {
   "LaTeX_envs_menu_present": true,
   "autocomplete": true,
   "bibliofile": "biblio.bib",
   "cite_by": "apalike",
   "current_citInitial": 1,
   "eqLabelWithNumbers": true,
   "eqNumInitial": 1,
   "hotkeys": {
    "equation": "Ctrl-E",
    "itemize": "Ctrl-I"
   },
   "labels_anchors": false,
   "latex_user_defs": false,
   "report_style_numbering": false,
   "user_envs_cfg": false
  },
  "varInspector": {
   "cols": {
    "lenName": 16,
    "lenType": 16,
    "lenVar": 40
   },
   "kernels_config": {
    "python": {
     "delete_cmd_postfix": "",
     "delete_cmd_prefix": "del ",
     "library": "var_list.py",
     "varRefreshCmd": "print(var_dic_list())"
    },
    "r": {
     "delete_cmd_postfix": ") ",
     "delete_cmd_prefix": "rm(",
     "library": "var_list.r",
     "varRefreshCmd": "cat(var_dic_list()) "
    }
   },
   "types_to_exclude": [
    "module",
    "function",
    "builtin_function_or_method",
    "instance",
    "_Feature"
   ],
   "window_display": false
  }
 },
 "nbformat": 4,
 "nbformat_minor": 4
}
