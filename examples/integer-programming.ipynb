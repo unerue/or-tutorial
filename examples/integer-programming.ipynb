{
 "cells": [
  {
   "cell_type": "markdown",
   "metadata": {},
   "source": [
    "# Integer Programming\n",
    "\n",
    "## Knapsack Problem\n",
    "\n",
    "### Example 6-4\n",
    "\n",
    "**이강우 & 김정자. (2012). _EXCEL 2010 경영과학_. 한경사, 380.**\n",
    "\n",
    "<p style=\"text-indent: 1.5em\"><b>Table 6-1</b>는 배낭에 넣어 갖고 갈 수 있는 3개의 상이한 품목에 대한 품목별 무게와 효용 및 배낭의 보관능력을 나타내고 있다. 배낭의 보관능력 제약을 만족하면서 배낭에 넣어 갖고 갈 수 있는 품목의 효용을 최대화하는 정수계획모형을 작성한 후 최적 정수해를 구하라. 단, 같은 품목을 중복으로 배낭에 넣을 수 없다.</p>\n",
    "\n",
    "<table>\n",
    "  <caption><b>Table 6-1. </b>단일품목 배낭문제의 자료</caption>\n",
    "  <tr>\n",
    "    <th>품목</th>\n",
    "    <th>무게(kg)</th>\n",
    "    <th>효용</th>\n",
    "    <th>배낭의 보관능력(kg)</th>\n",
    "  </tr>\n",
    "  <tr>\n",
    "    <td align=\"center\"><b>1</b></td>\n",
    "    <td align=\"center\">3</td>\n",
    "    <td align=\"center\">7</td>\n",
    "    <td align=\"center\" rowspan=\"0\">6</td>\n",
    "  </tr>\n",
    "  <tr>\n",
    "    <td align=\"center\"><b>2</b></td>\n",
    "    <td align=\"center\">4</td>\n",
    "    <td align=\"center\">8</td>\n",
    "  </tr>\n",
    "  <tr>\n",
    "    <td align=\"center\"><b>3</b></td>\n",
    "    <td align=\"center\">2</td>\n",
    "    <td align=\"center\">3</td>\n",
    "  </tr>\n",
    "</table>\n",
    "\n",
    "<p style=\"text-indent: 1.5em\">단일품목 배낭문제를 0-1정수계획모형으로 정식화하기 위해서는 배낭에 넣을 수 있는 품목 $j$를 결정변수 $X_{j}$라고 정의하고 $X_{j}$가 0과 1 중에서 하나의 값만 갖도록 하여야 한다. 왜냐하면 배낭에 넣어 갖고 갈 수 있는 품목은 단일품목 배낭문제의 성격상 그 품목을 선택하거나 또는 선택하지 않기 때문이다. 따라서 $X_{j}$가 1의 값을 가질 때는 품목 $j$가 선택되고, 0의 값을 가질 때는 품목 $j$가 선택되지 않는다고 하자. 만일 각 품목에 대해 전체가 아닌 일부분의 선택이 가능하다면 이 문제는 분할성의 가정이 성립하므로 선형계획문제로 정식화할 수 있다.</p>\n",
    "\n",
    "$$X_{j} = \\begin{cases}\n",
    "1, \\text{ 배낭에 품목 $j$를 넣는 경우 $(j=1,2,3)$}\\\\\n",
    "0, \\text{ 배낭에 품목 $j$를 넣지 않는 경우 $(j=1,2,3)$}\\\\\n",
    "\\end{cases}$$"
   ]
  },
  {
   "cell_type": "code",
   "execution_count": 2,
   "metadata": {},
   "outputs": [
    {
     "name": "stdout",
     "output_type": "stream",
     "text": [
      "Status Optimal\n",
      "Z = 11.0\n",
      "x1 = 0.0\n",
      "x2 = 1.0\n",
      "x3 = 1.0\n"
     ]
    }
   ],
   "source": [
    "from pulp import *\n",
    "\n",
    "prob = LpProblem(name='0-1 Knapsack Problem', sense=LpMaximize)\n",
    "\n",
    "x1 = LpVariable(name='x1', lowBound=0, cat='Binary')\n",
    "x2 = LpVariable(name='x2', lowBound=0, cat='Binary')\n",
    "x3 = LpVariable(name='x3', lowBound=0, cat='Binary')\n",
    "\n",
    "prob += 7*x1 + 8*x2 + 3*x3\n",
    "\n",
    "prob += 3*x1 + 4*x2 + 2*x3 <= 6\n",
    "\n",
    "# Solving problem\n",
    "prob.solve()\n",
    "print('Status', LpStatus[prob.status])\n",
    "\n",
    "print('Z = {}'.format(value(prob.objective)))\n",
    "for i in prob.variables():\n",
    "    print('{} = {}'.format(i.name, i.varValue))"
   ]
  },
  {
   "cell_type": "code",
   "execution_count": null,
   "metadata": {},
   "outputs": [],
   "source": []
  },
  {
   "cell_type": "code",
   "execution_count": 13,
   "metadata": {},
   "outputs": [],
   "source": [
    "# Returns the maximum value that can be put in a knapsack of \n",
    "# capacity W \n",
    "def knapSack(W , wt , val , n): \n",
    "  \n",
    "    # Base Case \n",
    "    if n == 0 or W == 0 : \n",
    "        return 0\n",
    "  \n",
    "    # If weight of the nth item is more than Knapsack of capacity \n",
    "    # W, then this item cannot be included in the optimal solution \n",
    "    if (wt[n-1] > W): \n",
    "        return knapSack(W , wt , val , n-1) \n",
    "  \n",
    "    # return the maximum of two cases: \n",
    "    # (1) nth item included \n",
    "    # (2) not included \n",
    "    else: \n",
    "        return max(val[n-1] + knapSack(W-wt[n-1] , wt , val , n-1), \n",
    "                   knapSack(W , wt , val , n-1)) "
   ]
  },
  {
   "cell_type": "code",
   "execution_count": 16,
   "metadata": {},
   "outputs": [
    {
     "name": "stdout",
     "output_type": "stream",
     "text": [
      "11\n"
     ]
    }
   ],
   "source": [
    "val = [7, 8, 3] \n",
    "wt = [3, 4, 2] \n",
    "W = 6\n",
    "n = len(val) \n",
    "print(knapSack(W , wt , val , n))"
   ]
  },
  {
   "cell_type": "code",
   "execution_count": 17,
   "metadata": {},
   "outputs": [],
   "source": [
    "# A Dynamic Programming based Python Program for 0-1 Knapsack problem \n",
    "# Returns the maximum value that can be put in a knapsack of capacity W \n",
    "def knapSack(W, wt, val, n): \n",
    "    K = [[0 for x in range(W+1)] for x in range(n+1)] \n",
    "  \n",
    "    # Build table K[][] in bottom up manner \n",
    "    for i in range(n+1): \n",
    "        for w in range(W+1): \n",
    "            if i==0 or w==0: \n",
    "                K[i][w] = 0\n",
    "            elif wt[i-1] <= w: \n",
    "                K[i][w] = max(val[i-1] + K[i-1][w-wt[i-1]],  K[i-1][w]) \n",
    "            else: \n",
    "                K[i][w] = K[i-1][w] \n",
    "  \n",
    "    return K[n][W] "
   ]
  },
  {
   "cell_type": "code",
   "execution_count": 19,
   "metadata": {},
   "outputs": [
    {
     "name": "stdout",
     "output_type": "stream",
     "text": [
      "11\n"
     ]
    }
   ],
   "source": [
    "# Driver program to test above function \n",
    "val = [7, 8, 3] \n",
    "wt = [3, 4, 2] \n",
    "W = 6\n",
    "n = len(val) \n",
    "print(knapSack(W, wt, val, n)) \n",
    "  \n",
    "# This code is contributed by Bhavya Jain "
   ]
  },
  {
   "cell_type": "code",
   "execution_count": null,
   "metadata": {},
   "outputs": [],
   "source": []
  },
  {
   "cell_type": "markdown",
   "metadata": {},
   "source": [
    "## Multiple Knapsack Problem\n",
    "\n",
    "### Example 6-5\n",
    "\n",
    "**이강우 & 김정자. (2012). _EXCEL 2010 경영과학_. 한경사, 389.**\n",
    "\n",
    "<p style=\"text-indent: 1.5em\"><b>Table 6-3</b>는 트럭에 적재할 수 있는 3개의 상이한 품목에 대하여 이들 품목별 단위당 무게, 적재가능 수량, 단위당 수익 및 트럭의 적재능력을 나타내고 있다. 트럭의 적재능력의 제약을 만족하면서 트럭에 품목들을 적재하여 최대의 수익을 얻을려고 한다. 트럭의 수익을 최대로 하는 적재 품목의 수량을 결정하기 위한 정수계획 모형을 작성하고 최적해를 구하라. 단, 트럭에 적재하는 품목의 수량은 정수단위로 결정해야 한다.</p>\n",
    "\n",
    "<table>\n",
    "  <caption><b>Table 6-1. </b>단일품목 배낭문제의 자료</caption>\n",
    "  <tr>\n",
    "    <th>품목</th>\n",
    "    <th>단위당 무게(kg)</th>\n",
    "    <th>적재가능수량(개)</th>\n",
    "    <th>단위당 수익(천원)</th>\n",
    "    <th>적재능력(kg)</th>\n",
    "  </tr>\n",
    "  <tr>\n",
    "    <td align=\"center\"><b>1</b></td>\n",
    "    <td align=\"center\">30</td>\n",
    "    <td align=\"center\">100</td>\n",
    "    <td align=\"center\">70</td>\n",
    "    <td align=\"center\" rowspan=\"0\">6</td>\n",
    "  </tr>\n",
    "  <tr>\n",
    "    <td align=\"center\"><b>2</b></td>\n",
    "    <td align=\"center\">40</td>\n",
    "    <td align=\"center\">200</td>\n",
    "    <td align=\"center\">80</td>\n",
    "  </tr>\n",
    "  <tr>\n",
    "    <td align=\"center\"><b>3</b></td>\n",
    "    <td align=\"center\">20</td>\n",
    "    <td align=\"center\">300</td>\n",
    "    <td align=\"center\">30</td>\n",
    "  </tr>\n",
    "</table>"
   ]
  },
  {
   "cell_type": "code",
   "execution_count": 4,
   "metadata": {},
   "outputs": [
    {
     "name": "stdout",
     "output_type": "stream",
     "text": [
      "Status Optimal\n",
      "Z = 21000.0\n",
      "x1 = 100.0\n",
      "x2 = 175.0\n",
      "x3 = 0.0\n"
     ]
    }
   ],
   "source": [
    "from pulp import *\n",
    "\n",
    "prob = LpProblem(name='Knapsack Problem', sense=LpMaximize)\n",
    "\n",
    "x1 = LpVariable(name='x1', lowBound=0, cat='Integer')\n",
    "x2 = LpVariable(name='x2', lowBound=0, cat='Integer')\n",
    "x3 = LpVariable(name='x3', lowBound=0, cat='Integer')\n",
    "\n",
    "prob += 70*x1 + 80*x2 + 30*x3\n",
    "\n",
    "prob += 30*x1 + 40*x2 + 20*x3 <= 10000\n",
    "prob += x1 <= 100\n",
    "prob += x2 <= 200\n",
    "prob += x3 <= 300\n",
    "\n",
    "# Solving problem\n",
    "prob.solve()\n",
    "print('Status', LpStatus[prob.status])\n",
    "\n",
    "print('Z = {}'.format(value(prob.objective)))\n",
    "for i in prob.variables():\n",
    "    print('{} = {}'.format(i.name, i.varValue))"
   ]
  },
  {
   "cell_type": "code",
   "execution_count": null,
   "metadata": {},
   "outputs": [],
   "source": [
    "Unbounded Knapsack (Repetition of items allowed)"
   ]
  },
  {
   "cell_type": "code",
   "execution_count": 8,
   "metadata": {},
   "outputs": [],
   "source": [
    "# Returns the maximum value  \n",
    "# with knapsack of W capacity \n",
    "def unboundedKnapsack(W, n, val, wt): \n",
    "    # dp[i] is going to store maximum  \n",
    "    # value with knapsack capacity i. \n",
    "    dp = [0 for i in range(W + 1)] \n",
    "  \n",
    "    ans = 0\n",
    "  \n",
    "    # Fill dp[] using above recursive formula \n",
    "    for i in range(W + 1): \n",
    "        for j in range(n): \n",
    "            if (wt[j] <= i): \n",
    "                dp[i] = max(dp[i], dp[i - wt[j]] + val[j])\n",
    "    \n",
    "    return dp[W]"
   ]
  },
  {
   "cell_type": "code",
   "execution_count": 9,
   "metadata": {},
   "outputs": [
    {
     "name": "stdout",
     "output_type": "stream",
     "text": [
      "300\n"
     ]
    }
   ],
   "source": [
    "# Driver program \n",
    "W = 100\n",
    "val = [10, 30, 20] \n",
    "wt = [5, 10, 15] \n",
    "n = len(val) \n",
    "  \n",
    "print(unboundedKnapsack(W, n, val, wt)) "
   ]
  },
  {
   "cell_type": "code",
   "execution_count": null,
   "metadata": {},
   "outputs": [],
   "source": []
  },
  {
   "cell_type": "code",
   "execution_count": null,
   "metadata": {},
   "outputs": [],
   "source": []
  },
  {
   "cell_type": "code",
   "execution_count": null,
   "metadata": {},
   "outputs": [],
   "source": []
  },
  {
   "cell_type": "code",
   "execution_count": null,
   "metadata": {},
   "outputs": [],
   "source": []
  },
  {
   "cell_type": "code",
   "execution_count": null,
   "metadata": {},
   "outputs": [],
   "source": []
  },
  {
   "cell_type": "markdown",
   "metadata": {},
   "source": [
    "### Problem 3"
   ]
  },
  {
   "cell_type": "code",
   "execution_count": null,
   "metadata": {},
   "outputs": [],
   "source": [
    "from pulp import *\n",
    "\n"
   ]
  },
  {
   "cell_type": "code",
   "execution_count": null,
   "metadata": {},
   "outputs": [],
   "source": [
    "prob = LpProblem(name='Profit maximising problem', sense=LpMaximize)"
   ]
  },
  {
   "cell_type": "code",
   "execution_count": null,
   "metadata": {},
   "outputs": [],
   "source": [
    "x1 = LpVariable(name='x1', lowBound=0, cat='Integer')\n",
    "x2 = LpVariable(name='x2', lowBound=0, cat='Integer')\n",
    "\n",
    "prob += 30000*x1 + 45000*x2, 'Profit'\n",
    "\n",
    "prob += 3*x1 + 4*x2 <= 30\n",
    "prob += 5*x1 + 6*x2 <= 60\n",
    "prob += 1.5*x1 + 3*x2 <= 21"
   ]
  },
  {
   "cell_type": "code",
   "execution_count": null,
   "metadata": {},
   "outputs": [],
   "source": [
    "prob.solve(solver=GUROBI())\n",
    "\n",
    "print(LpStatus[prob.status])\n",
    "\n",
    "# Print our decision variable values\n",
    "print('Production of Car x1 = {}'.format(x1.varValue))\n",
    "print('Production of Car x2 = {}'.format(x2.varValue))\n",
    "\n",
    "# Print our objective function value\n",
    "print(value(prob.objective))"
   ]
  },
  {
   "cell_type": "markdown",
   "metadata": {},
   "source": [
    "### Knapsack Problem"
   ]
  },
  {
   "cell_type": "code",
   "execution_count": null,
   "metadata": {},
   "outputs": [],
   "source": [
    "from pulp import *"
   ]
  },
  {
   "cell_type": "code",
   "execution_count": null,
   "metadata": {},
   "outputs": [],
   "source": [
    "model = LpProblem('knapsack problem', LpMaximize)"
   ]
  },
  {
   "cell_type": "code",
   "execution_count": null,
   "metadata": {},
   "outputs": [],
   "source": [
    "x1 = LpVariable('x1', lowBound=0, upBound=1, cat=LpInteger)\n",
    "x2 = LpVariable('x2', lowBound=0, upBound=1, cat=LpInteger)\n",
    "x3 = LpVariable('x3', lowBound=0, upBound=1, cat=LpInteger)"
   ]
  },
  {
   "cell_type": "code",
   "execution_count": null,
   "metadata": {},
   "outputs": [],
   "source": [
    "model += 7*x1 + 8*x2 + 3*x3\n",
    "model += 3*x1 + 4*x2 + 2*x3 <= 6"
   ]
  },
  {
   "cell_type": "code",
   "execution_count": null,
   "metadata": {},
   "outputs": [],
   "source": [
    "model.solve(GUROBI())\n",
    "\n",
    "print('Status', LpStatus[model.status])\n",
    "print(value(model.objective))\n",
    "for v in model.variables():\n",
    "    print(v.name, '=', v.varValue)"
   ]
  },
  {
   "cell_type": "markdown",
   "metadata": {},
   "source": [
    "### Knapsack Problem II"
   ]
  },
  {
   "cell_type": "code",
   "execution_count": null,
   "metadata": {},
   "outputs": [],
   "source": [
    "from pulp import *"
   ]
  },
  {
   "cell_type": "code",
   "execution_count": null,
   "metadata": {},
   "outputs": [],
   "source": [
    "items = ['A', 'B', 'C']\n",
    "weights = [3, 4, 2]\n",
    "values = [7, 8, 3]"
   ]
  },
  {
   "cell_type": "code",
   "execution_count": null,
   "metadata": {},
   "outputs": [],
   "source": [
    "prob = LpProblem('knapsack problem', LpMaximize)\n",
    "\n",
    "# Define decision variables\n",
    "decision_variables = []\n",
    "for num, i in enumerate(items):\n",
    "    var_str = str('x' + str(num))\n",
    "    variables = LpVariable(str(var_str), lowBound=0, upBound=1, cat='Integer')\n",
    "    decision_variables.append(variables)\n",
    "print(decision_variables)\n",
    "\n",
    "# Define objective function\n",
    "objective_function = ''\n",
    "for u, uf in enumerate(values):\n",
    "    for d, dv in enumerate(decision_variables):\n",
    "        if u == d:\n",
    "            objective_function += uf * dv\n",
    "        \n",
    "prob += objective_function\n",
    "print(objective_function)\n",
    "\n",
    "# Define constraint\n",
    "capacity = 6\n",
    "constraint = ''\n",
    "for w, wt in enumerate(weights):\n",
    "    for d, dv in enumerate(decision_variables):\n",
    "        if w == d:\n",
    "            constraint += wt * dv\n",
    "            \n",
    "prob += constraint <= capacity\n",
    "print(constraint)"
   ]
  },
  {
   "cell_type": "code",
   "execution_count": null,
   "metadata": {},
   "outputs": [],
   "source": [
    "prob.solve(GUROBI())\n",
    "\n",
    "print('Status', LpStatus[prob.status])\n",
    "print(value(prob.objective))\n",
    "for v in prob.variables():\n",
    "    print(v.name, '=', v.varValue)"
   ]
  },
  {
   "cell_type": "code",
   "execution_count": null,
   "metadata": {},
   "outputs": [],
   "source": [
    "from pulp import *"
   ]
  },
  {
   "cell_type": "code",
   "execution_count": null,
   "metadata": {},
   "outputs": [],
   "source": [
    "data = {\n",
    "    (\"SMITH\"): [6,8,30,6,20], (\"JOHNSON\"): [6,8,50,0,24], \n",
    "    ('WILLIAMS'): [6,8,30,0,24], ('JONES'): [6,8,30,0,24], \n",
    "    ('BROWN'): [6,8,40,0,24], ('DAVIS'): [6,8,50,0,24],\n",
    "    ('MILLER'): [6,8,45,6,18], ('WILSON'): [6,8,30,0,24], \n",
    "    ('MOORE'): [6,8,35,0,24], ('TAYLOR'): [6,8,40,0,24], \n",
    "    ('ANDERSON'): [2,3,60,0,6], ('THOMAS'): [2,4,40,0,24],\n",
    "    ('JACKSON') :[2,4,60,8,16], ('WHITE'): [2,6,55,0,24], \n",
    "    ('HARRIS'): [2,6,45,0,24], ('MARTIN'): [2,3,40,0,24], \n",
    "    ('THOMPSON'): [2,5,50,12,24], ('GARCIA'): [2,4,50,0,24],\n",
    "    ('MARTINEZ'): [2,4,40,0,24], ('ROBINSON'): [2,5,50,0,24]\n",
    "}\n",
    "\n",
    "required = [1,1,2,3,6,6,7,8,9,8,8,8,7,6,6,5,5,4,4,3,2,2,2,2]\n",
    "\n",
    "time = 24"
   ]
  },
  {
   "cell_type": "code",
   "execution_count": null,
   "metadata": {},
   "outputs": [],
   "source": [
    "employee = list(data.keys())\n",
    "mins, maxs, costs, avs, ave = splitDict(data)"
   ]
  },
  {
   "cell_type": "code",
   "execution_count": null,
   "metadata": {},
   "outputs": [],
   "source": [
    "x = {}\n",
    "for d in employee:\n",
    "    for i in range(time):\n",
    "        for j in range(i+1, time+1):\n",
    "            x[d,i,j] = LpVariable(name='x_%s%d%d'%(d,i,j), cat='Binary')\n",
    "            \n",
    "staff_number = {}\n",
    "for t in range(time):\n",
    "    staff_number[t] = LpVariable(name='staffNumber_%d'%t, cat='Integer', lowBound=required[t])"
   ]
  },
  {
   "cell_type": "code",
   "execution_count": null,
   "metadata": {},
   "outputs": [],
   "source": [
    "prob = LpProblem('Work Schedule', LpMinimize)"
   ]
  },
  {
   "cell_type": "code",
   "execution_count": null,
   "metadata": {},
   "outputs": [],
   "source": [
    "prob += lpSum(lpSum(lpSum((j-i) * x[d,i,j] * costs[d] for j in range(i+1,time+1)) \\\n",
    "                    for i in range(time)) for d in employee)"
   ]
  },
  {
   "cell_type": "code",
   "execution_count": null,
   "metadata": {},
   "outputs": [],
   "source": [
    "for d in employee:\n",
    "    prob += (lpSum(lpSum(x[d,i,j] for j in range(i+1,ave[d]+1)if min[d] <= \\\n",
    "                         (j-i) <= max[d]) for i in range(avs[d],ave[d])) <= 1)\n",
    "    \n",
    "    prob += (lpSum(lpSum(x[d,i,j] for j in range(i+1,time+1)) for i in range(time)) <= \\\n",
    "             lpSum(quicksum(x[d,i,j] for j in range(i+1,ave[d]+1) if min[d] <= (j-i) <= \\\n",
    "                            max[d]) for i in range(avs[d],ave[d])))\n",
    "\n",
    "    \n",
    "    \n",
    "for d in employee:\n",
    "    m.addConstr(quicksum(quicksum(x[d,i,j] for j in range(i+1,ave[d]+1)if min[d] <= (j-i) <= max[d])for i in range(avs[d],ave[d]))<=1)\n",
    "    m.addConstr(quicksum(quicksum(x[d,i,j] for j in range(i+1,t+1))for i in range(t))<=quicksum(quicksum(x[d,i,j] for j in range(i+1,ave[d]+1)\n",
    "    if min[d] <= (j-i) <= max[d])for i in range(avs[d],ave[d])))\n",
    "    \n",
    "    \n",
    "for c in range(t):\n",
    "    m.addConstr(quicksum(quicksum(quicksum(x[d,i,j] for j in range(i+1,t+1)if i <= c <j) for i in range(t))for d in employee)==staffNumber[c])\n",
    "D101=quicksum(quicksum(x['ANDERSON',i,j] for j in range(i+1,7)if min[\"ANDERSON\"]<=(j-i)<=max[\"ANDERSON\"])for i in range(0,7))\n",
    "D102=quicksum(quicksum(x['ANDERSON',i,j] for j in range(i+1,21))for i in range(18,21))\n",
    "m.addConstr(D101+D102<=1,\"F\")\n",
    "m.addConstr(quicksum(quicksum(x['ANDERSON',i,j] for j in range(i+1,t+1))for i in range(t))<=D101+D102)"
   ]
  },
  {
   "cell_type": "code",
   "execution_count": null,
   "metadata": {},
   "outputs": [],
   "source": [
    "from pulp import *\n",
    "\n",
    "identifiers = ['A', 'B', 'C', 'D', 'E']\n",
    "prices = dict(zip(identifiers, [100.0, 99.0, 100.5, 101.5, 200.0]))\n",
    "\n",
    "prob = LpProblem(name='Minimalist example', sense=LpMaximize)\n",
    "\n",
    "x = LpVariable.dicts(name='x', indexs=identifiers, lowBound=0, \n",
    "                     upBound=1, cat='Integer')\n",
    "\n",
    "prob += lpSum([x[i]*prices[i] for i in identifiers])\n",
    "\n",
    "prob += lpSum([x[i] for i in identifiers]) == 2\n",
    "\n",
    "prob.solve(solver=GUROBI())\n",
    "\n",
    "for i in prob.variables():\n",
    "    print(i.name, '=', i.varValue)\n",
    "print('Status:', LpStatus[prob.status])\n",
    "print(value(prob.objective))"
   ]
  }
 ],
 "metadata": {
  "kernelspec": {
   "display_name": "Python 3",
   "language": "python",
   "name": "python3"
  },
  "language_info": {
   "codemirror_mode": {
    "name": "ipython",
    "version": 3
   },
   "file_extension": ".py",
   "mimetype": "text/x-python",
   "name": "python",
   "nbconvert_exporter": "python",
   "pygments_lexer": "ipython3",
   "version": "3.6.8"
  },
  "latex_envs": {
   "LaTeX_envs_menu_present": true,
   "autocomplete": true,
   "bibliofile": "biblio.bib",
   "cite_by": "apalike",
   "current_citInitial": 1,
   "eqLabelWithNumbers": true,
   "eqNumInitial": 1,
   "hotkeys": {
    "equation": "Ctrl-E",
    "itemize": "Ctrl-I"
   },
   "labels_anchors": false,
   "latex_user_defs": false,
   "report_style_numbering": false,
   "user_envs_cfg": false
  },
  "varInspector": {
   "cols": {
    "lenName": 16,
    "lenType": 16,
    "lenVar": 40
   },
   "kernels_config": {
    "python": {
     "delete_cmd_postfix": "",
     "delete_cmd_prefix": "del ",
     "library": "var_list.py",
     "varRefreshCmd": "print(var_dic_list())"
    },
    "r": {
     "delete_cmd_postfix": ") ",
     "delete_cmd_prefix": "rm(",
     "library": "var_list.r",
     "varRefreshCmd": "cat(var_dic_list()) "
    }
   },
   "types_to_exclude": [
    "module",
    "function",
    "builtin_function_or_method",
    "instance",
    "_Feature"
   ],
   "window_display": false
  }
 },
 "nbformat": 4,
 "nbformat_minor": 4
}
