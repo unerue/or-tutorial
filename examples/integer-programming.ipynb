{
 "cells": [
  {
   "cell_type": "markdown",
   "metadata": {},
   "source": [
    "# Operations Research Tutorial using PulP\n",
    "\n",
    "## Integer Programming\n",
    "\n",
    "### Problem 1"
   ]
  },
  {
   "cell_type": "code",
   "execution_count": null,
   "metadata": {},
   "outputs": [],
   "source": [
    "from pulp import *"
   ]
  },
  {
   "cell_type": "code",
   "execution_count": null,
   "metadata": {},
   "outputs": [],
   "source": [
    "identifiers = ['A', 'B', 'C', 'D', 'E']\n",
    "prices = dict(zip(identifiers, [100.0, 99.0, 100.5, 101.5, 200.0]))"
   ]
  },
  {
   "cell_type": "code",
   "execution_count": null,
   "metadata": {},
   "outputs": [],
   "source": [
    "prob = LpProblem(name='Minimalist example', sense=LpMaximize)\n",
    "\n",
    "x = LpVariable.dicts(name='x', indexs=identifiers, lowBound=0, \n",
    "                     upBound=1, cat='Integer')\n",
    "\n",
    "prob += lpSum([x[i]*prices[i] for i in identifiers])\n",
    "\n",
    "prob += lpSum([x[i] for i in identifiers]) == 2"
   ]
  },
  {
   "cell_type": "code",
   "execution_count": null,
   "metadata": {},
   "outputs": [],
   "source": [
    "prob.solve(solver=GUROBI())\n",
    "\n",
    "for i in prob.variables():\n",
    "    print(i.name, '=', i.varValue)\n",
    "print('Status:', LpStatus[prob.status])\n",
    "print(value(prob.objective))"
   ]
  },
  {
   "cell_type": "markdown",
   "metadata": {},
   "source": [
    "### Problem 3"
   ]
  },
  {
   "cell_type": "code",
   "execution_count": null,
   "metadata": {},
   "outputs": [],
   "source": [
    "from pulp import *"
   ]
  },
  {
   "cell_type": "code",
   "execution_count": null,
   "metadata": {},
   "outputs": [],
   "source": [
    "prob = LpProblem(name='Profit maximising problem', sense=LpMaximize)"
   ]
  },
  {
   "cell_type": "code",
   "execution_count": null,
   "metadata": {},
   "outputs": [],
   "source": [
    "x1 = LpVariable(name='x1', lowBound=0, cat='Integer')\n",
    "x2 = LpVariable(name='x2', lowBound=0, cat='Integer')\n",
    "\n",
    "prob += 30000*x1 + 45000*x2, 'Profit'\n",
    "\n",
    "prob += 3*x1 + 4*x2 <= 30\n",
    "prob += 5*x1 + 6*x2 <= 60\n",
    "prob += 1.5*x1 + 3*x2 <= 21"
   ]
  },
  {
   "cell_type": "code",
   "execution_count": null,
   "metadata": {},
   "outputs": [],
   "source": [
    "prob.solve(solver=GUROBI())\n",
    "\n",
    "print(LpStatus[prob.status])\n",
    "\n",
    "# Print our decision variable values\n",
    "print('Production of Car x1 = {}'.format(x1.varValue))\n",
    "print('Production of Car x2 = {}'.format(x2.varValue))\n",
    "\n",
    "# Print our objective function value\n",
    "print(value(prob.objective))"
   ]
  },
  {
   "cell_type": "markdown",
   "metadata": {},
   "source": [
    "### Knapsack Problem"
   ]
  },
  {
   "cell_type": "code",
   "execution_count": null,
   "metadata": {},
   "outputs": [],
   "source": [
    "from pulp import *"
   ]
  },
  {
   "cell_type": "code",
   "execution_count": null,
   "metadata": {},
   "outputs": [],
   "source": [
    "model = LpProblem('knapsack problem', LpMaximize)"
   ]
  },
  {
   "cell_type": "code",
   "execution_count": null,
   "metadata": {},
   "outputs": [],
   "source": [
    "x1 = LpVariable('x1', lowBound=0, upBound=1, cat=LpInteger)\n",
    "x2 = LpVariable('x2', lowBound=0, upBound=1, cat=LpInteger)\n",
    "x3 = LpVariable('x3', lowBound=0, upBound=1, cat=LpInteger)"
   ]
  },
  {
   "cell_type": "code",
   "execution_count": null,
   "metadata": {},
   "outputs": [],
   "source": [
    "model += 7*x1 + 8*x2 + 3*x3\n",
    "model += 3*x1 + 4*x2 + 2*x3 <= 6"
   ]
  },
  {
   "cell_type": "code",
   "execution_count": null,
   "metadata": {},
   "outputs": [],
   "source": [
    "model.solve(GUROBI())\n",
    "\n",
    "print('Status', LpStatus[model.status])\n",
    "print(value(model.objective))\n",
    "for v in model.variables():\n",
    "    print(v.name, '=', v.varValue)"
   ]
  },
  {
   "cell_type": "markdown",
   "metadata": {},
   "source": [
    "### Knapsack Problem II"
   ]
  },
  {
   "cell_type": "code",
   "execution_count": null,
   "metadata": {},
   "outputs": [],
   "source": [
    "from pulp import *"
   ]
  },
  {
   "cell_type": "code",
   "execution_count": null,
   "metadata": {},
   "outputs": [],
   "source": [
    "items = ['A', 'B', 'C']\n",
    "weights = [3, 4, 2]\n",
    "values = [7, 8, 3]"
   ]
  },
  {
   "cell_type": "code",
   "execution_count": null,
   "metadata": {},
   "outputs": [],
   "source": [
    "prob = LpProblem('knapsack problem', LpMaximize)\n",
    "\n",
    "# Define decision variables\n",
    "decision_variables = []\n",
    "for num, i in enumerate(items):\n",
    "    var_str = str('x' + str(num))\n",
    "    variables = LpVariable(str(var_str), lowBound=0, upBound=1, cat='Integer')\n",
    "    decision_variables.append(variables)\n",
    "print(decision_variables)\n",
    "\n",
    "# Define objective function\n",
    "objective_function = ''\n",
    "for u, uf in enumerate(values):\n",
    "    for d, dv in enumerate(decision_variables):\n",
    "        if u == d:\n",
    "            objective_function += uf * dv\n",
    "        \n",
    "prob += objective_function\n",
    "print(objective_function)\n",
    "\n",
    "# Define constraint\n",
    "capacity = 6\n",
    "constraint = ''\n",
    "for w, wt in enumerate(weights):\n",
    "    for d, dv in enumerate(decision_variables):\n",
    "        if w == d:\n",
    "            constraint += wt * dv\n",
    "            \n",
    "prob += constraint <= capacity\n",
    "print(constraint)"
   ]
  },
  {
   "cell_type": "code",
   "execution_count": null,
   "metadata": {},
   "outputs": [],
   "source": [
    "prob.solve(GUROBI())\n",
    "\n",
    "print('Status', LpStatus[prob.status])\n",
    "print(value(prob.objective))\n",
    "for v in prob.variables():\n",
    "    print(v.name, '=', v.varValue)"
   ]
  },
  {
   "cell_type": "code",
   "execution_count": null,
   "metadata": {},
   "outputs": [],
   "source": [
    "from pulp import *"
   ]
  },
  {
   "cell_type": "code",
   "execution_count": null,
   "metadata": {},
   "outputs": [],
   "source": [
    "data = {\n",
    "    (\"SMITH\"): [6,8,30,6,20], (\"JOHNSON\"): [6,8,50,0,24], \n",
    "    ('WILLIAMS'): [6,8,30,0,24], ('JONES'): [6,8,30,0,24], \n",
    "    ('BROWN'): [6,8,40,0,24], ('DAVIS'): [6,8,50,0,24],\n",
    "    ('MILLER'): [6,8,45,6,18], ('WILSON'): [6,8,30,0,24], \n",
    "    ('MOORE'): [6,8,35,0,24], ('TAYLOR'): [6,8,40,0,24], \n",
    "    ('ANDERSON'): [2,3,60,0,6], ('THOMAS'): [2,4,40,0,24],\n",
    "    ('JACKSON') :[2,4,60,8,16], ('WHITE'): [2,6,55,0,24], \n",
    "    ('HARRIS'): [2,6,45,0,24], ('MARTIN'): [2,3,40,0,24], \n",
    "    ('THOMPSON'): [2,5,50,12,24], ('GARCIA'): [2,4,50,0,24],\n",
    "    ('MARTINEZ'): [2,4,40,0,24], ('ROBINSON'): [2,5,50,0,24]\n",
    "}\n",
    "\n",
    "required = [1,1,2,3,6,6,7,8,9,8,8,8,7,6,6,5,5,4,4,3,2,2,2,2]\n",
    "\n",
    "time = 24"
   ]
  },
  {
   "cell_type": "code",
   "execution_count": null,
   "metadata": {},
   "outputs": [],
   "source": [
    "employee = list(data.keys())\n",
    "mins, maxs, costs, avs, ave = splitDict(data)"
   ]
  },
  {
   "cell_type": "code",
   "execution_count": null,
   "metadata": {},
   "outputs": [],
   "source": [
    "x = {}\n",
    "for d in employee:\n",
    "    for i in range(time):\n",
    "        for j in range(i+1, time+1):\n",
    "            x[d,i,j] = LpVariable(name='x_%s%d%d'%(d,i,j), cat='Binary')\n",
    "            \n",
    "staff_number = {}\n",
    "for t in range(time):\n",
    "    staff_number[t] = LpVariable(name='staffNumber_%d'%t, cat='Integer', lowBound=required[t])"
   ]
  },
  {
   "cell_type": "code",
   "execution_count": null,
   "metadata": {},
   "outputs": [],
   "source": [
    "prob = LpProblem('Work Schedule', LpMinimize)"
   ]
  },
  {
   "cell_type": "code",
   "execution_count": null,
   "metadata": {},
   "outputs": [],
   "source": [
    "prob += lpSum(lpSum(lpSum((j-i) * x[d,i,j] * costs[d] for j in range(i+1,time+1)) \\\n",
    "                    for i in range(time)) for d in employee)"
   ]
  },
  {
   "cell_type": "code",
   "execution_count": null,
   "metadata": {},
   "outputs": [],
   "source": [
    "for d in employee:\n",
    "    prob += (lpSum(lpSum(x[d,i,j] for j in range(i+1,ave[d]+1)if min[d] <= \\\n",
    "                         (j-i) <= max[d]) for i in range(avs[d],ave[d])) <= 1)\n",
    "    \n",
    "    prob += (lpSum(lpSum(x[d,i,j] for j in range(i+1,time+1)) for i in range(time)) <= \\\n",
    "             lpSum(quicksum(x[d,i,j] for j in range(i+1,ave[d]+1) if min[d] <= (j-i) <= \\\n",
    "                            max[d]) for i in range(avs[d],ave[d])))\n",
    "\n",
    "    \n",
    "    \n",
    "for d in employee:\n",
    "    m.addConstr(quicksum(quicksum(x[d,i,j] for j in range(i+1,ave[d]+1)if min[d] <= (j-i) <= max[d])for i in range(avs[d],ave[d]))<=1)\n",
    "    m.addConstr(quicksum(quicksum(x[d,i,j] for j in range(i+1,t+1))for i in range(t))<=quicksum(quicksum(x[d,i,j] for j in range(i+1,ave[d]+1)\n",
    "    if min[d] <= (j-i) <= max[d])for i in range(avs[d],ave[d])))\n",
    "    \n",
    "    \n",
    "for c in range(t):\n",
    "    m.addConstr(quicksum(quicksum(quicksum(x[d,i,j] for j in range(i+1,t+1)if i <= c <j) for i in range(t))for d in employee)==staffNumber[c])\n",
    "D101=quicksum(quicksum(x['ANDERSON',i,j] for j in range(i+1,7)if min[\"ANDERSON\"]<=(j-i)<=max[\"ANDERSON\"])for i in range(0,7))\n",
    "D102=quicksum(quicksum(x['ANDERSON',i,j] for j in range(i+1,21))for i in range(18,21))\n",
    "m.addConstr(D101+D102<=1,\"F\")\n",
    "m.addConstr(quicksum(quicksum(x['ANDERSON',i,j] for j in range(i+1,t+1))for i in range(t))<=D101+D102)"
   ]
  },
  {
   "cell_type": "code",
   "execution_count": null,
   "metadata": {},
   "outputs": [],
   "source": []
  }
 ],
 "metadata": {
  "kernelspec": {
   "display_name": "Python 3",
   "language": "python",
   "name": "python3"
  },
  "language_info": {
   "codemirror_mode": {
    "name": "ipython",
    "version": 3
   },
   "file_extension": ".py",
   "mimetype": "text/x-python",
   "name": "python",
   "nbconvert_exporter": "python",
   "pygments_lexer": "ipython3",
   "version": "3.7.3"
  },
  "latex_envs": {
   "LaTeX_envs_menu_present": true,
   "autocomplete": true,
   "bibliofile": "biblio.bib",
   "cite_by": "apalike",
   "current_citInitial": 1,
   "eqLabelWithNumbers": true,
   "eqNumInitial": 1,
   "hotkeys": {
    "equation": "Ctrl-E",
    "itemize": "Ctrl-I"
   },
   "labels_anchors": false,
   "latex_user_defs": false,
   "report_style_numbering": false,
   "user_envs_cfg": false
  },
  "varInspector": {
   "cols": {
    "lenName": 16,
    "lenType": 16,
    "lenVar": 40
   },
   "kernels_config": {
    "python": {
     "delete_cmd_postfix": "",
     "delete_cmd_prefix": "del ",
     "library": "var_list.py",
     "varRefreshCmd": "print(var_dic_list())"
    },
    "r": {
     "delete_cmd_postfix": ") ",
     "delete_cmd_prefix": "rm(",
     "library": "var_list.r",
     "varRefreshCmd": "cat(var_dic_list()) "
    }
   },
   "types_to_exclude": [
    "module",
    "function",
    "builtin_function_or_method",
    "instance",
    "_Feature"
   ],
   "window_display": false
  }
 },
 "nbformat": 4,
 "nbformat_minor": 4
}
