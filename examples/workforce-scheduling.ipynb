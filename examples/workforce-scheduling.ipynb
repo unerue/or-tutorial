{
 "cells": [
  {
   "cell_type": "markdown",
   "metadata": {},
   "source": [
    "## Linear Programmign Model\n",
    "\n",
    "### Workforce Scheduling\n",
    "\n",
    "**이강우 & 김정자. (2012). _EXCEL 2010 경영과학_. 한경사, 233.**\n",
    "\n",
    "<p style=\"text-indent: 1.5em\">K항공에서는 최근 여행객의 증가로 인천국제공항에 기항하거나 출항하는 비행기를 증편시키려고 하며 이에 따라서 추가로 서비스 직원을 고용하려고 한다. <b>Table 1</b>은 새로 증편된 운항계획에 따라서 각 교대조별 근무시간, 시간대별 필요한 직원의 소요인원 및 교대조별 1명당 1일 노무비용을 조사한 결과이다. 한편 K항공의 서비스 직원은 1일 8시간 단위로 근무하며 각 교대조의 근무시간은 다음과 같다.</p>\n",
    "\n",
    "<table>\n",
    "  <caption><b>Table 1 </b>교대조별 근무시간대와 근무시간대별 소요인원</caption>\n",
    "  <tr>\n",
    "    <th>근무시간대</th>\n",
    "    <th>교대조1</th>\n",
    "    <th>교대조2</th>\n",
    "    <th>교대조3</th>\n",
    "    <th>교대조4</th>\n",
    "    <th>교대조5</th>\n",
    "    <th>소요인원(명)</th>\n",
    "  </tr>\n",
    "  <tr> \n",
    "    <td align=\"right\">06:00 ~ 08:00</td>\n",
    "    <td align=\"center\">○</td>\n",
    "    <td align=\"center\"></td>\n",
    "    <td align=\"center\"></td>\n",
    "    <td align=\"center\"></td>\n",
    "    <td align=\"center\"></td>\n",
    "    <td align=\"center\">48</td>\n",
    "  </tr>\n",
    "  <tr> \n",
    "    <td align=\"right\">08:00 ~ 10:00</td>\n",
    "    <td align=\"center\">○</td>\n",
    "    <td align=\"center\">○</td>\n",
    "    <td align=\"center\"></td>\n",
    "    <td align=\"center\"></td>\n",
    "    <td align=\"center\"></td>\n",
    "    <td align=\"center\">79</td>\n",
    "  </tr>\n",
    "  <tr> \n",
    "    <td align=\"right\">10:00 ~ 12:00</td>\n",
    "    <td align=\"center\">○</td>\n",
    "    <td align=\"center\">○</td>\n",
    "    <td align=\"center\"></td>\n",
    "    <td align=\"center\"></td>\n",
    "    <td align=\"center\"></td>\n",
    "    <td align=\"center\">65</td>\n",
    "  </tr>\n",
    "  <tr> \n",
    "    <td align=\"right\">12:00 ~ 14:00</td>\n",
    "    <td align=\"center\">○</td>\n",
    "    <td align=\"center\">○</td>\n",
    "    <td align=\"center\">○</td>\n",
    "    <td align=\"center\"></td>\n",
    "    <td align=\"center\"></td>\n",
    "    <td align=\"center\">87</td>\n",
    "  </tr>\n",
    "  <tr> \n",
    "    <td align=\"right\">14:00 ~ 16:00</td>\n",
    "    <td align=\"center\"></td>\n",
    "    <td align=\"center\">○</td>\n",
    "    <td align=\"center\">○</td>\n",
    "    <td align=\"center\"></td>\n",
    "    <td align=\"center\"></td>\n",
    "    <td align=\"center\">64</td>\n",
    "  </tr>\n",
    "  <tr>\n",
    "    <td align=\"right\">16:00 ~ 18:00</td>\n",
    "    <td align=\"center\"></td>\n",
    "    <td align=\"center\"></td>\n",
    "    <td align=\"center\">○</td>\n",
    "    <td align=\"center\">○</td>\n",
    "    <td align=\"center\"></td>\n",
    "    <td align=\"center\">73</td>\n",
    "  </tr>\n",
    "  <tr>\n",
    "    <td align=\"right\">18:00 ~ 20:00</td>\n",
    "    <td align=\"center\"></td>\n",
    "    <td align=\"center\"></td>\n",
    "    <td align=\"center\">○</td>\n",
    "    <td align=\"center\">○</td>\n",
    "    <td align=\"center\"></td>\n",
    "    <td align=\"center\">82</td>\n",
    "</tr>\n",
    "<tr>\n",
    "    <td align=\"right\">20:00 ~ 22:00</td>\n",
    "    <td align=\"center\"></td>\n",
    "    <td align=\"center\"></td>\n",
    "    <td align=\"center\"></td>\n",
    "    <td align=\"center\">○</td>\n",
    "    <td align=\"center\"></td>\n",
    "    <td align=\"center\">43</td>\n",
    "  </tr>\n",
    "  <tr>\n",
    "    <td align=\"right\">22:00 ~ 24:00</td>\n",
    "    <td align=\"center\"></td>\n",
    "    <td align=\"center\"></td>\n",
    "    <td align=\"center\"></td>\n",
    "    <td align=\"center\">○</td>\n",
    "    <td align=\"center\">○</td>\n",
    "    <td align=\"center\">52</td>\n",
    "  </tr>\n",
    "  <tr>\n",
    "    <td align=\"right\">24:00 ~ 06:00</td>\n",
    "    <td align=\"center\"></td>\n",
    "    <td align=\"center\"></td>\n",
    "    <td align=\"center\"></td>\n",
    "    <td align=\"center\"></td>\n",
    "    <td align=\"center\">○</td>\n",
    "    <td align=\"center\">15</td>\n",
    "  </tr>\n",
    "  <tr>\n",
    "    <td align=\"center\">1인당 임금(만원)</td>\n",
    "    <td align=\"center\">7</td>\n",
    "    <td align=\"center\">6</td>\n",
    "    <td align=\"center\">7.5</td>\n",
    "    <td align=\"center\">8</td>\n",
    "    <td align=\"center\">9.5</td>\n",
    "    <td align=\"center\"></td>\n",
    "  </tr>\n",
    "</table>"
   ]
  },
  {
   "cell_type": "code",
   "execution_count": 5,
   "metadata": {},
   "outputs": [
    {
     "name": "stdout",
     "output_type": "stream",
     "text": [
      "Status Optimal\n"
     ]
    }
   ],
   "source": [
    "from pulp import *\n",
    "\n",
    "# Define problem\n",
    "prob = LpProblem(name='Scheduling', sense=LpMinimize)\n",
    "\n",
    "# Create decision variables and non-negative constraint\n",
    "x1 = LpVariable(name='X1', lowBound=0, cat='Continuous')\n",
    "x2 = LpVariable(name='X2', lowBound=0, cat='Continuous')\n",
    "x3 = LpVariable(name='X3', lowBound=0, cat='Continuous')\n",
    "x4 = LpVariable(name='X4', lowBound=0, cat='Continuous')\n",
    "x5 = LpVariable(name='X5', lowBound=0, cat='Continuous')\n",
    "\n",
    "# Set objective function\n",
    "prob += 7*x1 + 6*x2 + 7.5*x3 + 8*x4 + 9.5*x5\n",
    "\n",
    "# Set constraints\n",
    "prob += x1 >= 48\n",
    "prob += x1 + x2 >= 79\n",
    "prob += x1 + x2 >= 65\n",
    "prob += x1 + x2 + x3 >= 87\n",
    "prob += x2 + x3 >= 64\n",
    "prob += x3 + x4 >= 73\n",
    "prob += x3 + x4 >= 82\n",
    "prob += x4 >= 43\n",
    "prob += x4 + x5 >= 52\n",
    "prob += x5 >= 15\n",
    "\n",
    "# Solving problem\n",
    "prob.solve()\n",
    "print('Status', LpStatus[prob.status])"
   ]
  },
  {
   "cell_type": "code",
   "execution_count": 6,
   "metadata": {},
   "outputs": [
    {
     "name": "stdout",
     "output_type": "stream",
     "text": [
      "Z = 1301.0\n",
      "X1 = 48.0\n",
      "X2 = 31.0\n",
      "X3 = 39.0\n",
      "X4 = 43.0\n",
      "X5 = 15.0\n"
     ]
    }
   ],
   "source": [
    "print('Z = {}'.format(pulp.value(prob.objective)))\n",
    "for i in prob.variables():\n",
    "    print('{} = {}'.format(i.name, i.varValue))"
   ]
  },
  {
   "cell_type": "code",
   "execution_count": null,
   "metadata": {},
   "outputs": [],
   "source": []
  }
 ],
 "metadata": {
  "kernelspec": {
   "display_name": "Python 3",
   "language": "python",
   "name": "python3"
  },
  "language_info": {
   "codemirror_mode": {
    "name": "ipython",
    "version": 3
   },
   "file_extension": ".py",
   "mimetype": "text/x-python",
   "name": "python",
   "nbconvert_exporter": "python",
   "pygments_lexer": "ipython3",
   "version": "3.6.9"
  },
  "latex_envs": {
   "LaTeX_envs_menu_present": true,
   "autocomplete": true,
   "bibliofile": "biblio.bib",
   "cite_by": "apalike",
   "current_citInitial": 1,
   "eqLabelWithNumbers": true,
   "eqNumInitial": 1,
   "hotkeys": {
    "equation": "Ctrl-E",
    "itemize": "Ctrl-I"
   },
   "labels_anchors": false,
   "latex_user_defs": false,
   "report_style_numbering": false,
   "user_envs_cfg": false
  },
  "varInspector": {
   "cols": {
    "lenName": 16,
    "lenType": 16,
    "lenVar": 40
   },
   "kernels_config": {
    "python": {
     "delete_cmd_postfix": "",
     "delete_cmd_prefix": "del ",
     "library": "var_list.py",
     "varRefreshCmd": "print(var_dic_list())"
    },
    "r": {
     "delete_cmd_postfix": ") ",
     "delete_cmd_prefix": "rm(",
     "library": "var_list.r",
     "varRefreshCmd": "cat(var_dic_list()) "
    }
   },
   "types_to_exclude": [
    "module",
    "function",
    "builtin_function_or_method",
    "instance",
    "_Feature"
   ],
   "window_display": false
  }
 },
 "nbformat": 4,
 "nbformat_minor": 4
}
