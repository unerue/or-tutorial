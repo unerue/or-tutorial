{
 "cells": [
  {
   "cell_type": "markdown",
   "metadata": {},
   "source": [
    "# Linear Programmign Model\n",
    "\n",
    "## Product Mix Problem\n",
    "\n",
    "### Example 1\n",
    "\n",
    "**이강우 & 김정자. (2012). _EXCEL 2010 경영과학_. 한경사, 32.**\n",
    "\n",
    "<p style=\"text-indent: 1.5em\">D기업은 두 종류의 원료와 한 종류의 기계를 사용하여 제품 A와 제품 B를 생산하여 판매하고 있다. 각 제품을 1단위 생산할 때 필요한 원료의 사용량과 기계사용시간은 다음 <b>표</b>와 같다.</p>\n",
    "\n",
    "\n",
    "|자원   |A  |B  |월 가용량|\n",
    "|:--|--:|--:|--:|\n",
    "|원료 1(kg)|10|5|300|\n",
    "|원료 2(kg)|4|4|160|\n",
    "|기계사용시간(시간)|2|6|180|\n",
    "|단위당 이익(만원/개)|3|2||\n",
    "\n",
    "    \n",
    "<p style=\"text-indent: 1.5em\">한편 D기업이 보유하고 있는 원료 1과 원료 2의 월 가용량은 각각 300kg, 160kg이고 기계사용시간의 월 가용시간은 180시간이며 생산된 제품 A와 제품 B를 판매하면 각각 단위당 3만원과 2만원의 이익이 발생한다고 한다. D기업에 주어진 한정된 자원을 사용하여 D기업의 월 이익을 최대로 하는 제품 A와 제품 B의 월 생산량을 구하기 위한 선형계획모형을 작성하라.</p>\n",
    "\n",
    "$$\\begin{align*}\n",
    "  & \\text{maximize }   &   Z=3&X_{1}+2X_{2}         & \\text{(Objective function)} &\\quad(1.1)\\\\[1ex]\n",
    "  & \\text{subject to } & \\, 10&X_{1}+5X_{2} \\le 300 & \\text{(Constraint 1)}       &\\quad(1.2)\\\\[1ex]\n",
    "  &                    & \\,  4&X_{1}+4X_{2} \\le 160 & \\text{(Constraint 2)}       &\\quad(1.3)\\\\[1ex]  \n",
    "  &                    & \\,  2&X_{1}+6X_{2} \\le 180 & \\text{(Constraint 3)}       &\\quad(1.4)\\\\[1ex] \n",
    "  & \\text{and}         & \\,   &X_{1},X_{2} \\ge 0    & \\text{(Non-negative)}       &\\quad(1.5)\\\\[1ex] \n",
    "\\end{align*}$$"
   ]
  },
  {
   "cell_type": "code",
   "execution_count": 1,
   "metadata": {},
   "outputs": [
    {
     "data": {
      "text/plain": [
       "1"
      ]
     },
     "execution_count": 1,
     "metadata": {},
     "output_type": "execute_result"
    }
   ],
   "source": [
    "from pulp import *\n",
    "\n",
    "# Define problem\n",
    "prob = LpProblem(name='Product Mix Problem', sense=LpMaximize)\n",
    "\n",
    "# Create decision variables and non-negative constraint\n",
    "x1 = LpVariable(name='X1', lowBound=0, upBound=None, cat='Continuous')\n",
    "x2 = LpVariable(name='X2', lowBound=0, upBound=None, cat='Continuous')\n",
    "\n",
    "# Set objective function\n",
    "prob += 3*x1 + 2*x2\n",
    "\n",
    "# Set constraints\n",
    "prob += 10*x1 + 5*x2 <= 300\n",
    "prob += 4*x1 + 4*x2 <= 160\n",
    "prob += 2*x1 + 6*x2 <= 180\n",
    "\n",
    "# Solving problem\n",
    "prob.solve()"
   ]
  },
  {
   "cell_type": "code",
   "execution_count": 2,
   "metadata": {},
   "outputs": [
    {
     "name": "stdout",
     "output_type": "stream",
     "text": [
      "Status Optimal\n",
      "Z = 100.0\n",
      "X1 = 20.0\n",
      "X2 = 20.0\n"
     ]
    }
   ],
   "source": [
    "print('Status', LpStatus[prob.status])\n",
    "print('Z = {}'.format(pulp.value(prob.objective)))\n",
    "for i in prob.variables():\n",
    "    print(i.name, '=', i.varValue)"
   ]
  },
  {
   "cell_type": "code",
   "execution_count": null,
   "metadata": {},
   "outputs": [],
   "source": []
  },
  {
   "cell_type": "code",
   "execution_count": 6,
   "metadata": {
    "ExecuteTime": {
     "end_time": "2018-02-18T05:21:50.331858Z",
     "start_time": "2018-02-18T05:21:50.321728Z"
    }
   },
   "outputs": [
    {
     "name": "stdout",
     "output_type": "stream",
     "text": [
      "X1\n",
      "[X1, X2, X3]\n",
      "X1 - 3*X2 + 4*X3\n"
     ]
    }
   ],
   "source": [
    "from pulp import *\n",
    "\n",
    "x1 = LpVariable('X1', lowBound=0, upBound=None, cat='Continuous')\n",
    "print(x1)\n",
    "\n",
    "x_names = ['X1', 'X2', 'X3']\n",
    "x = [LpVariable(x_names[i], lowBound=0) for i in range(len(x_names))]\n",
    "print(x)\n",
    "\n",
    "obj = LpAffineExpression([(x[0], 1), (x[1], -3), (x[2], 4)])\n",
    "print(obj)"
   ]
  },
  {
   "cell_type": "code",
   "execution_count": 4,
   "metadata": {},
   "outputs": [],
   "source": [
    "prob = LpProblem(name='Maximize', sense=LpMaximize)"
   ]
  },
  {
   "cell_type": "code",
   "execution_count": 5,
   "metadata": {},
   "outputs": [],
   "source": [
    "x1 = LpVariable(name='X1', lowBound=0)\n",
    "x2 = LpVariable(name='X2', lowBound=0)"
   ]
  },
  {
   "cell_type": "code",
   "execution_count": null,
   "metadata": {},
   "outputs": [],
   "source": []
  },
  {
   "cell_type": "code",
   "execution_count": null,
   "metadata": {},
   "outputs": [],
   "source": []
  },
  {
   "cell_type": "code",
   "execution_count": null,
   "metadata": {},
   "outputs": [],
   "source": []
  },
  {
   "cell_type": "code",
   "execution_count": null,
   "metadata": {},
   "outputs": [],
   "source": [
    "prob += 3*x1 + 2*x2"
   ]
  },
  {
   "cell_type": "code",
   "execution_count": null,
   "metadata": {},
   "outputs": [],
   "source": [
    "prob += 10*x1 + 5*x2 <= 300\n",
    "prob += 4*x1 + 4*x2 <= 160\n",
    "prob += 2*x1 + 6*x2 <= 180"
   ]
  },
  {
   "cell_type": "code",
   "execution_count": null,
   "metadata": {},
   "outputs": [],
   "source": [
    "prob.solve(GUROBI())"
   ]
  },
  {
   "cell_type": "code",
   "execution_count": null,
   "metadata": {},
   "outputs": [],
   "source": [
    "for i in prob.variables():\n",
    "    print(i.name, '=', i.varValue)\n",
    "print('Status', LpStatus[prob.status])\n",
    "print(pulp.value(prob.objective))"
   ]
  },
  {
   "cell_type": "code",
   "execution_count": null,
   "metadata": {},
   "outputs": [],
   "source": []
  },
  {
   "cell_type": "code",
   "execution_count": null,
   "metadata": {},
   "outputs": [],
   "source": []
  },
  {
   "cell_type": "code",
   "execution_count": null,
   "metadata": {},
   "outputs": [],
   "source": []
  },
  {
   "cell_type": "markdown",
   "metadata": {},
   "source": [
    "### Example 2\n",
    "\n",
    "**Hillier, F. S., & Lieberman, G. J. (2015). _Introduction to Operations Research (9th Edition)_. McGraw-Hill Education, 32.**\n",
    "\n",
    "<p style=\"text-indent: 1.5em\">남부 키부츠 연합은 이스라엘의 3개의 키부츠(농업 공동체)의 연합체이다. 이 그룹을 위한 전반적인 계획은 조정 기술 사무소에서 수행한다. 현재 이 사무소는 내년도 농업 계획을 수립하고 있다. 각각의 키부츠의 농업 산출물은 경작 가능한 농지의 크기와 수자원 위원회가 경작을 위해 관리하는 용수의 양에 의해 제한된다. 이러한 자료는 다음 <b>표</b>와 같다.</p>\n",
    "\n",
    "|키부츠  |경작 가능 농지(에이커)  | 수자원 배분(에이커 피트)|\n",
    "|:--:|--:|--:|\n",
    "|1   | 400|600|\n",
    "|2   | 600|800|\n",
    "|3   | 300|375|\n",
    "\n",
    "<p style=\"text-indent: 1.5em\">이 지역에 적합한 농작물은 사탕무우, 면화, 사탕수수 등이고 내년의 경작에도 이들 세 가지 농작물이 고려되고 있다. 농작물들은 에이커당 기대 수익이 다르고 용수 소비량도 다르다. 더욱이 농업부는 다음 <b>표</b>에 있는 것과 같이 각각의 농작물에 대해 남부 키부츠 연합이 사용할 수 있는 최대 경작지 할당량을 제한하고 있다.</p>\n",
    "\n",
    "|작물  |최대 경작지 할당량 | 수자원 사용(피트/에이커)| 순이익(달러/에이커)|\n",
    "|:--:|--:|--:|--:|\n",
    "|사탕 무우| 600|3|1,000|\n",
    "|면화     | 500|2|750|\n",
    "|사탕수수 | 375|1|250|\n",
    "\n",
    "<p style=\"text-indent: 1.5em\">경작을 위한 한정된 용수의 제한 때문에 남부 키부츠 연합은 다가오는 계절을 위해 자신의 경작 가능한 땅을 모두 사용할 수는 없다. 3개의 키부츠의 형평성을 보장하기 위해, 모든 키부츠는 각자의 경작 가능한 땅에 비례하게 경작할 것을 동의한 바 있다. 예를 들면 키부츠 1이 400에이커의 경작 가능한 땅 중 200에이커를 경작하면, 키부츠 2는 600에이커의 경작 가능한 땅 중 300에이커만 경작하고, 키부츠 3은 300에이커의 경작 가능한 땅 중 150에이커만 경작하게 되어 있다. 그러나 어떤 농작물을 경작할지는 각자 키부츠가 결정할 수 있다. 조정 기술 사무소의 목적은 남부 키부츠 연합 전체의 수익을 최대화하는 것이다.</p>\n",
    "\n",
    "#### 선형계획 문제로의 모형 정립\n",
    "\n",
    "<p style=\"text-indent: 1.5em\">결정해야 되는 수량은 각각의 키부츠는 3종류의 경작물에 몇 에이커를 할당하는가이다. 의사결정변수를 $x_{j}\\,(j=1,2,\\dots,9)$으로 하고 이들은 <b>표</b>에서와 같이 9개의 양을 대표한다.</p>\n",
    "\n",
    "<table>\n",
    "    <caption></caption>\n",
    "    <tr>\n",
    "        <th colspan=\"1\"></th>\n",
    "        <th colspan=\"3\">키부츠당 경작지 할당량(에이커)</th>\n",
    "    </tr>\n",
    "    <tr>\n",
    "        <th>작물</th>\n",
    "        <th>1</th>\n",
    "        <th>2</th>\n",
    "        <th>3</th>\n",
    "    </tr>\n",
    "    <tr> \n",
    "        <td>사탕 무우</td>\n",
    "        <td align=\"right\">$x_{1}$</td>\n",
    "        <td align=\"right\">$x_{2}$</td>\n",
    "        <td align=\"right\">$x_{3}$</td>\n",
    "    </tr>\n",
    "    <tr> \n",
    "        <td>면화</td>\n",
    "        <td align=\"right\">$x_{4}$</td>\n",
    "        <td align=\"right\">$x_{5}$</td>\n",
    "        <td align=\"right\">$x_{6}$</td>\n",
    "    </tr>\n",
    "    <tr> \n",
    "        <td>사탕수수</td>\n",
    "        <td align=\"right\">$x_{7}$</td>\n",
    "        <td align=\"right\">$x_{8}$</td>\n",
    "        <td align=\"right\">$x_{9}$</td>\n",
    "    </tr>\n",
    "</table>\n",
    "\n",
    "<p style=\"text-indent: 1.5em\">$Z$의 효율성에 대한 척도는 총 수익이므로 이 문제를 위한 선형계획모형은 다음과 같다.</p>\n",
    "\n",
    "$$\\text{Maximize}\\quad Z=1000(x_{1}+x_{2}+x_{3})+750(x_{4}+x_{5}+x_{6})+250(x_{7}+x_{8}+x_{9}),$$\n",
    "\n",
    "<p style=\"text-indent: 1.5em\">이는 다음 조건을 만족한다.</p>\n",
    "\n",
    "<p style=\"text-indent: 1.5em\">1. 각각의 키부츠의 사용가능한 경작지</p>\n",
    "<p style=\"text-indent: 1.5em\">$x_{1}+x_{4}+x_{7} \\le 400\\\\ x_{2}+x_{5}+x_{8} \\le 600\\\\ x_{3}+x_{6}+x_{9} \\le 300$</p>\n",
    "\n",
    "<p style=\"text-indent: 1.5em\">2. 각각의 키부츠의 용수 할당</p>\n",
    "<p style=\"text-indent: 1.5em\">$3x_{1}+2x_{4}+x_{7} \\le 600\\\\ 3x_{2}+2x_{5}+x_{8} \\le 800\\\\ 3x_{3}+2x_{6}+x_{9} \\le 375$</p>\n",
    "\n",
    "<p style=\"text-indent: 1.5em\">3. 각각의 경작물의 총 면적 제한</p>\n",
    "<p style=\"text-indent: 1.5em\">$x_{1}+x_{2}+x_{3} \\le 600\\\\ x_{4}+x_{5}+x_{6} \\le 500\\\\ x_{7}+x_{8}+x_{9} \\le 325$</p>\n",
    "\n",
    "<p style=\"text-indent: 1.5em\">4. 경작지의 비율 형평성</p>\n",
    "<p style=\"text-indent: 1.5em\">$\\frac{x_{1}+x_{4}+x_{7}}{400} = \\frac{x_{2}+x_{5}+x_{8}}{600}\\\\ \\frac{x_{2}+x_{5}+x_{8}}{600} = \\frac{x_{3}+x_{6}+x_{9}}{300}\\\\ \\frac{x_{3}+x_{6}+x_{9}}{300} = \\frac{x_{1}+x_{4}+x_{7}}{400}$</p>\n",
    "\n",
    "<p style=\"text-indent: 1.5em\">5. 비음 조건</p>\n",
    "<p style=\"text-indent: 1.5em\">$x_{j} \\ge 0, \\qquad j=1,2,\\dots,9.$</p>\n",
    "\n",
    "<p style=\"text-indent: 1.5em\">이것으로 모형이 완성되지만, 4번째 등식의 제약식은 아직 제약식의 오른쪽 부분에 변수가 남아 있어 선형계획의 적절한 모양이 아니다. 그러므로 마지막 모양은 다음과 같다.</p>\n",
    "<p style=\"text-indent: 1.5em\">$\\begin{split}3&(x_{1}+x_{4}+x_{7})-2(x_{2}+x_{5}+x_{8}) = 0\\\\ &(x_{2}+x_{5}+x_{8}) - 2(x_{3}+x_{6}+x_{9}) = 0\\\\ 4&(x_{3}+x_{6}+x_{9}) - 3(x_{1}+x_{4}+x_{7}) = 0\\end{split}$</p>\n",
    " \n",
    "<p style=\"text-indent: 1.5em\">기술 조정 사무소는 이 모형을 정립하고 심플렉스 방법을 사용하여 표에 있는 것과 같은 다음의 최적해를 찾았다.</p>\n",
    "\n",
    "<table>\n",
    "    <caption></caption>\n",
    "    <tr>\n",
    "        <th colspan=\"1\"></th>\n",
    "        <th colspan=\"3\">키부츠당 경작지 할당량(에이커)</th>\n",
    "    </tr>\n",
    "    <tr>\n",
    "        <th>작물</th>\n",
    "        <th>1</th>\n",
    "        <th>2</th>\n",
    "        <th>3</th>\n",
    "    </tr>\n",
    "    <tr> \n",
    "        <td>사탕 무우</td>\n",
    "        <td align=\"right\">$133\\frac{1}{3}$</td>\n",
    "        <td align=\"right\">$100$</td>\n",
    "        <td align=\"right\">$25$</td>\n",
    "    </tr>\n",
    "    <tr> \n",
    "        <td>면화</td>\n",
    "        <td align=\"right\">$100$</td>\n",
    "        <td align=\"right\">$250$</td>\n",
    "        <td align=\"right\">$150$</td>\n",
    "    </tr>\n",
    "    <tr> \n",
    "        <td>사탕수수</td>\n",
    "        <td align=\"right\">$0$</td>\n",
    "        <td align=\"right\">$0$</td>\n",
    "        <td align=\"right\">$0$</td>\n",
    "    </tr>\n",
    "</table>"
   ]
  },
  {
   "cell_type": "code",
   "execution_count": 200,
   "metadata": {},
   "outputs": [],
   "source": [
    "from pulp import *\n",
    "\n",
    "# Define problem\n",
    "prob = LpProblem(name='Planning', sense=LpMaximize)\n",
    "\n",
    "# Create decision variables and non-negative constraint\n",
    "kibbutzim = ['1', '2', '3']\n",
    "products = ['Beet', 'Cotton', 'Sugar cane']\n",
    "\n",
    "indexs = [(p, k) for p in products for k in kibbutzim ]\n",
    "x = LpVariable.dicts('x', indexs, lowBound=0)"
   ]
  },
  {
   "cell_type": "code",
   "execution_count": 201,
   "metadata": {},
   "outputs": [],
   "source": [
    "profits = [1000, 750, 250]\n",
    "prob += lpSum(x[(p, str(k+1))] * profits[i] for i, p in enumerate(products) for k in range(len(kibbutzim)))"
   ]
  },
  {
   "cell_type": "code",
   "execution_count": 202,
   "metadata": {},
   "outputs": [],
   "source": [
    "land = [400, 600, 300]\n",
    "for i, k in enumerate(kibbutzim):\n",
    "    prob += lpSum(x[(p, k)] for p in products) <= land[i]\n",
    "    \n",
    "water = [600, 800, 375]\n",
    "for i, k in enumerate(kibbutzim):\n",
    "    prob += lpSum(x[(p, k)] for p in products) <= water[i]\n",
    "    \n",
    "limit = [600, 500, 325]\n",
    "for i, p in enumerate(products):\n",
    "    prob += lpSum(x[(p, k)] for k in kibbutzim) <= limit[i]"
   ]
  },
  {
   "cell_type": "code",
   "execution_count": 203,
   "metadata": {},
   "outputs": [
    {
     "name": "stdout",
     "output_type": "stream",
     "text": [
      "['2', '3', '1']\n"
     ]
    }
   ],
   "source": [
    "rhs = [3, 1, 4]\n",
    "lhs = [2, 2, 3]\n",
    "kib = kibbutzim[1:] + [kibbutzim[0]]\n",
    "print(kib)\n",
    "for i, k in enumerate(kibbutzim):\n",
    "    prob += lpSum(x[(p, k)] * rhs[i] for p in products) - lpSum(x[(p, kib[i])] * lhs[i] for p in products) == 0"
   ]
  },
  {
   "cell_type": "code",
   "execution_count": 204,
   "metadata": {},
   "outputs": [
    {
     "data": {
      "text/plain": [
       "Planning:\n",
       "MAXIMIZE\n",
       "1000*x_('Beet',_'1') + 1000*x_('Beet',_'2') + 1000*x_('Beet',_'3') + 750*x_('Cotton',_'1') + 750*x_('Cotton',_'2') + 750*x_('Cotton',_'3') + 250*x_('Sugar_cane',_'1') + 250*x_('Sugar_cane',_'2') + 250*x_('Sugar_cane',_'3') + 0\n",
       "SUBJECT TO\n",
       "_C1: x_('Beet',_'1') + x_('Cotton',_'1') + x_('Sugar_cane',_'1') <= 400\n",
       "\n",
       "_C2: x_('Beet',_'2') + x_('Cotton',_'2') + x_('Sugar_cane',_'2') <= 600\n",
       "\n",
       "_C3: x_('Beet',_'3') + x_('Cotton',_'3') + x_('Sugar_cane',_'3') <= 300\n",
       "\n",
       "_C4: x_('Beet',_'1') + x_('Cotton',_'1') + x_('Sugar_cane',_'1') <= 600\n",
       "\n",
       "_C5: x_('Beet',_'2') + x_('Cotton',_'2') + x_('Sugar_cane',_'2') <= 800\n",
       "\n",
       "_C6: x_('Beet',_'3') + x_('Cotton',_'3') + x_('Sugar_cane',_'3') <= 375\n",
       "\n",
       "_C7: x_('Beet',_'1') + x_('Beet',_'2') + x_('Beet',_'3') <= 600\n",
       "\n",
       "_C8: x_('Cotton',_'1') + x_('Cotton',_'2') + x_('Cotton',_'3') <= 500\n",
       "\n",
       "_C9: x_('Sugar_cane',_'1') + x_('Sugar_cane',_'2') + x_('Sugar_cane',_'3')\n",
       " <= 325\n",
       "\n",
       "_C10: 3 x_('Beet',_'1') - 2 x_('Beet',_'2') + 3 x_('Cotton',_'1')\n",
       " - 2 x_('Cotton',_'2') + 3 x_('Sugar_cane',_'1') - 2 x_('Sugar_cane',_'2') = 0\n",
       "\n",
       "_C11: x_('Beet',_'2') - 2 x_('Beet',_'3') + x_('Cotton',_'2')\n",
       " - 2 x_('Cotton',_'3') + x_('Sugar_cane',_'2') - 2 x_('Sugar_cane',_'3') = 0\n",
       "\n",
       "_C12: - 3 x_('Beet',_'1') + 4 x_('Beet',_'3') - 3 x_('Cotton',_'1')\n",
       " + 4 x_('Cotton',_'3') - 3 x_('Sugar_cane',_'1') + 4 x_('Sugar_cane',_'3') = 0\n",
       "\n",
       "VARIABLES\n",
       "x_('Beet',_'1') Continuous\n",
       "x_('Beet',_'2') Continuous\n",
       "x_('Beet',_'3') Continuous\n",
       "x_('Cotton',_'1') Continuous\n",
       "x_('Cotton',_'2') Continuous\n",
       "x_('Cotton',_'3') Continuous\n",
       "x_('Sugar_cane',_'1') Continuous\n",
       "x_('Sugar_cane',_'2') Continuous\n",
       "x_('Sugar_cane',_'3') Continuous"
      ]
     },
     "execution_count": 204,
     "metadata": {},
     "output_type": "execute_result"
    }
   ],
   "source": [
    "prob"
   ]
  },
  {
   "cell_type": "code",
   "execution_count": 193,
   "metadata": {},
   "outputs": [
    {
     "name": "stdout",
     "output_type": "stream",
     "text": [
      "Status Optimal\n",
      "Z = 1025000.0\n",
      "x_('Beet',_'1') = 0.0\n",
      "x_('Beet',_'2') = 600.0\n",
      "x_('Beet',_'3') = 0.0\n",
      "x_('Cotton',_'1') = 200.0\n",
      "x_('Cotton',_'2') = 0.0\n",
      "x_('Cotton',_'3') = 300.0\n",
      "x_('Sugar_cane',_'1') = 200.0\n",
      "x_('Sugar_cane',_'2') = 0.0\n",
      "x_('Sugar_cane',_'3') = 0.0\n"
     ]
    }
   ],
   "source": [
    "prob.solve()\n",
    "print('Status', LpStatus[prob.status])\n",
    "print('Z = {}'.format(pulp.value(prob.objective)))\n",
    "for i in prob.variables():\n",
    "    print(i.name, '=', i.varValue)"
   ]
  },
  {
   "cell_type": "code",
   "execution_count": null,
   "metadata": {},
   "outputs": [],
   "source": []
  },
  {
   "cell_type": "code",
   "execution_count": null,
   "metadata": {},
   "outputs": [],
   "source": []
  },
  {
   "cell_type": "code",
   "execution_count": 146,
   "metadata": {},
   "outputs": [
    {
     "data": {
      "text/plain": [
       "Planning:\n",
       "MAXIMIZE\n",
       "None\n",
       "SUBJECT TO\n",
       "_C1: 3 x_('Beet',_'1') - 2 x_('Beet',_'2') + 3 x_('Cotton',_'1')\n",
       " - 2 x_('Cotton',_'2') + 3 x_('Sugar_cane',_'1') - 2 x_('Sugar_cane',_'2') = 0\n",
       "\n",
       "_C2: x_('Beet',_'2') - 2 x_('Beet',_'3') + x_('Cotton',_'2')\n",
       " - 2 x_('Cotton',_'3') + x_('Sugar_cane',_'2') - 2 x_('Sugar_cane',_'3') = 0\n",
       "\n",
       "_C3: 3 x_('Beet',_'1') - 2 x_('Beet',_'2') + 3 x_('Cotton',_'1')\n",
       " - 2 x_('Cotton',_'2') + 3 x_('Sugar_cane',_'1') - 2 x_('Sugar_cane',_'2') = 0\n",
       "\n",
       "_C4: x_('Beet',_'2') - 2 x_('Beet',_'3') + x_('Cotton',_'2')\n",
       " - 2 x_('Cotton',_'3') + x_('Sugar_cane',_'2') - 2 x_('Sugar_cane',_'3') = 0\n",
       "\n",
       "_C5: x_('Beet',_'1') + x_('Cotton',_'1') + x_('Sugar_cane',_'1') = 0\n",
       "\n",
       "_C6: - x_('Beet',_'2') - x_('Cotton',_'2') - x_('Sugar_cane',_'2') = 0\n",
       "\n",
       "_C7: x_('Beet',_'3') + x_('Cotton',_'3') + x_('Sugar_cane',_'3') = 0\n",
       "\n",
       "_C8: - 2 x_('Beet',_'1') + 3 x_('Beet',_'3') - 2 x_('Cotton',_'1')\n",
       " + 3 x_('Cotton',_'3') - 2 x_('Sugar_cane',_'1') + 3 x_('Sugar_cane',_'3') = 0\n",
       "\n",
       "_C9: x_('Beet',_'1') - 2 x_('Beet',_'2') + x_('Cotton',_'1')\n",
       " - 2 x_('Cotton',_'2') + x_('Sugar_cane',_'1') - 2 x_('Sugar_cane',_'2') = 0\n",
       "\n",
       "_C10: 4 x_('Beet',_'2') - 3 x_('Beet',_'3') + 4 x_('Cotton',_'2')\n",
       " - 3 x_('Cotton',_'3') + 4 x_('Sugar_cane',_'2') - 3 x_('Sugar_cane',_'3') = 0\n",
       "\n",
       "_C11: - 2 x_('Beet',_'1') + 3 x_('Beet',_'3') - 2 x_('Cotton',_'1')\n",
       " + 3 x_('Cotton',_'3') - 2 x_('Sugar_cane',_'1') + 3 x_('Sugar_cane',_'3') = 0\n",
       "\n",
       "_C12: x_('Beet',_'1') - 2 x_('Beet',_'2') + x_('Cotton',_'1')\n",
       " - 2 x_('Cotton',_'2') + x_('Sugar_cane',_'1') - 2 x_('Sugar_cane',_'2') = 0\n",
       "\n",
       "_C13: 4 x_('Beet',_'2') - 3 x_('Beet',_'3') + 4 x_('Cotton',_'2')\n",
       " - 3 x_('Cotton',_'3') + 4 x_('Sugar_cane',_'2') - 3 x_('Sugar_cane',_'3') = 0\n",
       "\n",
       "VARIABLES\n",
       "x_('Beet',_'1') free Continuous\n",
       "x_('Beet',_'2') free Continuous\n",
       "x_('Beet',_'3') free Continuous\n",
       "x_('Cotton',_'1') free Continuous\n",
       "x_('Cotton',_'2') free Continuous\n",
       "x_('Cotton',_'3') free Continuous\n",
       "x_('Sugar_cane',_'1') free Continuous\n",
       "x_('Sugar_cane',_'2') free Continuous\n",
       "x_('Sugar_cane',_'3') free Continuous"
      ]
     },
     "execution_count": 146,
     "metadata": {},
     "output_type": "execute_result"
    }
   ],
   "source": [
    "prob"
   ]
  },
  {
   "cell_type": "code",
   "execution_count": 98,
   "metadata": {},
   "outputs": [
    {
     "data": {
      "text/plain": [
       "['2', '3', '1']"
      ]
     },
     "execution_count": 98,
     "metadata": {},
     "output_type": "execute_result"
    }
   ],
   "source": []
  },
  {
   "cell_type": "code",
   "execution_count": 88,
   "metadata": {},
   "outputs": [
    {
     "name": "stderr",
     "output_type": "stream",
     "text": [
      "C:\\Users\\unerue\\Anaconda3\\lib\\site-packages\\pulp\\pulp.py:1349: UserWarning: Overwriting previously set objective.\n",
      "  warnings.warn(\"Overwriting previously set objective.\")\n"
     ]
    },
    {
     "data": {
      "text/plain": [
       "1"
      ]
     },
     "execution_count": 88,
     "metadata": {},
     "output_type": "execute_result"
    }
   ],
   "source": [
    "x1 = LpVariable(name='X1', lowBound=0, upBound=None, cat='Continuous')\n",
    "x2 = LpVariable(name='X2', lowBound=0, upBound=None, cat='Continuous')\n",
    "\n",
    "# Set objective function\n",
    "prob += 3*x1 + 2*x2\n",
    "\n",
    "# Set constraints\n",
    "prob += 10*x1 + 5*x2 <= 300\n",
    "prob += 4*x1 + 4*x2 <= 160\n",
    "prob += 2*x1 + 6*x2 <= 180\n",
    "\n",
    "# Solving problem\n",
    "prob.solve()"
   ]
  },
  {
   "cell_type": "code",
   "execution_count": null,
   "metadata": {},
   "outputs": [],
   "source": []
  },
  {
   "cell_type": "code",
   "execution_count": null,
   "metadata": {},
   "outputs": [],
   "source": []
  },
  {
   "cell_type": "code",
   "execution_count": null,
   "metadata": {},
   "outputs": [],
   "source": []
  },
  {
   "cell_type": "code",
   "execution_count": null,
   "metadata": {},
   "outputs": [],
   "source": []
  },
  {
   "cell_type": "code",
   "execution_count": null,
   "metadata": {},
   "outputs": [],
   "source": [
    "from pulp import *\n",
    "\n",
    "prob = LpProblem(name='Mixed Products', sense=LpMinimize)\n",
    "\n",
    "identifiers = ['X1', 'X2']\n",
    "obj_coef = [200, 300]\n",
    "protein = [1, 3]\n",
    "starch = [1, 1]\n",
    "fat = [4, 1]\n",
    "\n",
    "prices = dict(zip(identifiers, obj_coef))\n",
    "const1 = dict(zip(identifiers, protein))\n",
    "const2 = dict(zip(identifiers, starch))\n",
    "const3 = dict(zip(identifiers, fat))\n",
    "\n",
    "var = LpVariable.dicts(name='X', indexs=identifiers, lowBound=0)"
   ]
  },
  {
   "cell_type": "markdown",
   "metadata": {},
   "source": [
    "$$\\min Z=200X_1+300X_2$$"
   ]
  },
  {
   "cell_type": "code",
   "execution_count": null,
   "metadata": {},
   "outputs": [],
   "source": [
    "prob += lpSum([var[i]*prices[i] for i in identifiers])\n",
    "\n",
    "prob += lpSum([var[i]*const1[i] for i in identifiers]) >= 30\n",
    "prob += lpSum([var[i]*const2[i] for i in identifiers]) >= 20\n",
    "prob += lpSum([var[i]*const3[i] for i in identifiers]) >= 35"
   ]
  },
  {
   "cell_type": "markdown",
   "metadata": {},
   "source": [
    "$$\\begin{split}\n",
    "X_1+3X_2&\\ge30\\\\\n",
    "X_1+X_2&\\ge20\\\\\n",
    "4X_1+X_2&\\ge35\\\\\n",
    "X_1,X_2&\\ge0\n",
    "\\end{split}$$"
   ]
  },
  {
   "cell_type": "code",
   "execution_count": null,
   "metadata": {},
   "outputs": [],
   "source": [
    "prob.solve(GUROBI())"
   ]
  },
  {
   "cell_type": "code",
   "execution_count": null,
   "metadata": {},
   "outputs": [],
   "source": [
    "for i in prob.variables():\n",
    "    print(i.name, '=', i.varValue)\n",
    "print('Status:', LpStatus[prob.status])\n",
    "print(pulp.value(prob.objective))"
   ]
  },
  {
   "cell_type": "code",
   "execution_count": null,
   "metadata": {},
   "outputs": [],
   "source": []
  },
  {
   "cell_type": "code",
   "execution_count": null,
   "metadata": {},
   "outputs": [],
   "source": [
    "from pulp import *\n",
    "\n",
    "plants = ['P1', 'P2', 'P3']\n",
    "warehouses = ['W1', 'W2', 'W3', 'W4']\n",
    "costs = [[3, 2, 4, 1], \n",
    "         [2, 4, 3, 2], \n",
    "         [3, 1, 5, 3]]\n",
    "\n",
    "supply = dict(zip(plants, [250, 180, 170]))\n",
    "demand = dict(zip(warehouses, [130, 210, 160, 100]))\n",
    "sd_costs = makeDict([plants, warehouses], costs, 0)\n",
    "\n",
    "routes = [(p, w) for p in plants for w in warehouses]\n",
    "\n",
    "prob = LpProblem(name='Transportation', sense=LpMinimize)\n",
    "\n",
    "x = LpVariable.dicts(name='Route', indexs=(plants, warehouses), lowBound=0) \n",
    "\n",
    "prob += lpSum([x[p][w] * sd_costs[p][w] for (p, w) in routes])\n",
    "\n",
    "\n",
    "for p in plants:\n",
    "    prob += lpSum([x[p][w] for w in warehouses]) == supply[p]\n",
    "    \n",
    "for w in warehouses:\n",
    "    prob += lpSum([x[p][w] for p in plants]) == demand[w]\n",
    "    \n"
   ]
  },
  {
   "cell_type": "code",
   "execution_count": null,
   "metadata": {},
   "outputs": [],
   "source": []
  },
  {
   "cell_type": "code",
   "execution_count": null,
   "metadata": {},
   "outputs": [],
   "source": []
  },
  {
   "cell_type": "code",
   "execution_count": null,
   "metadata": {},
   "outputs": [],
   "source": [
    "prob.solve(solver=GUROBI())"
   ]
  },
  {
   "cell_type": "code",
   "execution_count": null,
   "metadata": {},
   "outputs": [],
   "source": [
    "print('Status:', LpStatus[prob.status])\n",
    "for i in prob.variables():\n",
    "    print(i.name, '=', i.varValue)\n",
    "print('Optimal value:', value(prob.objective))"
   ]
  },
  {
   "cell_type": "markdown",
   "metadata": {},
   "source": [
    "### Problem 4"
   ]
  },
  {
   "cell_type": "code",
   "execution_count": null,
   "metadata": {},
   "outputs": [],
   "source": [
    "from pulp import *\n",
    "\n",
    "identifiers = ['A', 'B']\n",
    "obj_coef = dict(zip(identifiers, [3, 2]))\n",
    "const1 = dict(zip(identifiers, [10, 5]))\n",
    "const2 = dict(zip(identifiers, [4, 4]))\n",
    "const3 = dict(zip(identifiers, [2, 6]))\n",
    "const4 = dict(zip(identifiers, [1, 0]))\n",
    "const5 = dict(zip(identifiers, [1, -2]))\n",
    "\n",
    "prob = LpProblem(name='Minimize', sense=LpMaximize)\n",
    "\n",
    "x = LpVariable.dicts(name='Decision variables', indexs=identifiers, \n",
    "                     lowBound=0)\n",
    "\n",
    "prob += lpSum(x[i] * obj_coef[i] for i in identifiers)\n",
    "\n",
    "prob += lpSum(x[i] * const1[i] for i in identifiers) <= 300\n",
    "prob += lpSum(x[i] * const2[i] for i in identifiers) <= 160\n",
    "prob += lpSum(x[i] * const3[i] for i in identifiers) <= 180\n",
    "prob += lpSum(x[i] * const4[i] for i in identifiers) >= 20\n",
    "prob += lpSum(x[i] * const5[i] for i in identifiers) == 0\n",
    "\n",
    "prob.solve(solver=GUROBI())\n",
    "\n",
    "print('Status:', prob.status)\n",
    "for i in prob.variables():\n",
    "    print(i.name, '=', i.varValue)\n",
    "print('Optimal value:', value(prob.objective))"
   ]
  },
  {
   "cell_type": "markdown",
   "metadata": {},
   "source": [
    "### Problem 5"
   ]
  },
  {
   "cell_type": "code",
   "execution_count": null,
   "metadata": {},
   "outputs": [],
   "source": [
    "from pulp import *"
   ]
  },
  {
   "cell_type": "code",
   "execution_count": null,
   "metadata": {},
   "outputs": [],
   "source": [
    "model = LpProblem(name='Product Planning', sense=LpMinimize)"
   ]
  },
  {
   "cell_type": "code",
   "execution_count": null,
   "metadata": {},
   "outputs": [],
   "source": [
    "var = 'X11 X12 X13 X21 X22 X23 Y11 Y12 Y13 Y21 Y22 Y23 I1 I2 I3 D1 D2 D3'.split()\n",
    "coe = [30, 35, 30, 20, 25, 20, 0.3, 0.3, 0.3, 0.15, 0.15, 0.15, 0.5, 0.5, 0.5, 0.2, 0.2, 0.2]\n",
    "obj = dict(zip(var, coe))\n",
    "zero = [0 for i in range(len(var))]"
   ]
  },
  {
   "cell_type": "code",
   "execution_count": null,
   "metadata": {},
   "outputs": [],
   "source": [
    "x = LpVariable.dicts(name='X', indexs=var, indexStart=[], lowBound=0, cat='Continuous')"
   ]
  },
  {
   "cell_type": "code",
   "execution_count": null,
   "metadata": {},
   "outputs": [],
   "source": [
    "model += lpSum(x[i]*obj[i] for i in var)"
   ]
  },
  {
   "cell_type": "code",
   "execution_count": null,
   "metadata": {},
   "outputs": [],
   "source": [
    "const1 = dict(zip(var, zero))\n",
    "const1['X11'] = 1\n",
    "const1['Y11'] = -1\n",
    "\n",
    "const2 = dict(zip(var, zero))\n",
    "const2['X21'] = 1\n",
    "const2['Y21'] = -1\n",
    "\n",
    "const3 = dict(zip(var, zero))\n",
    "const3['X12'] = 1\n",
    "const3['Y11'] = 1\n",
    "const3['Y12'] = -1\n",
    "\n",
    "const4 = dict(zip(var, zero))\n",
    "const4['X22'] = 1\n",
    "const4['Y21'] = 1\n",
    "const4['Y22'] = -1\n",
    "\n",
    "const5 = dict(zip(var, zero))\n",
    "const5['X13'] = 1\n",
    "const5['Y12'] = 1\n",
    "const5['Y13'] = -1\n",
    "\n",
    "const6 = dict(zip(var, zero))\n",
    "const6['X23'] = 1\n",
    "const6['Y22'] = 1\n",
    "const6['Y23'] = -1\n",
    "\n",
    "const7 = dict(zip(var, zero))\n",
    "const7['Y13'] = 1\n",
    "\n",
    "const8 = dict(zip(var, zero))\n",
    "const8['Y23'] = 1\n",
    "\n",
    "const9 = dict(zip(var, zero))\n",
    "const9['Y11'] = 1\n",
    "const9['Y21'] = 1\n",
    "\n",
    "const10 = dict(zip(var, zero))\n",
    "const10['Y12'] = 1\n",
    "const10['Y22'] = 1\n",
    "\n",
    "const11 = dict(zip(var, zero))\n",
    "const11['Y13'] = 1\n",
    "const11['Y23'] = 1\n",
    "\n",
    "const12 = dict(zip(var, zero))\n",
    "const12['X11'] = 0.2\n",
    "const12['X21'] = 0.1\n",
    "\n",
    "const13 = dict(zip(var, zero))\n",
    "const13['X12'] = 0.2\n",
    "const13['X22'] = 0.1\n",
    "\n",
    "const14 = dict(zip(var, zero))\n",
    "const14['X13'] = 0.2\n",
    "const14['X23'] = 0.1\n",
    "\n",
    "const15 = dict(zip(var, zero))\n",
    "const15['X11'] = 0.05\n",
    "const15['X21'] = 0.04\n",
    "\n",
    "const16 = dict(zip(var, zero))\n",
    "const16['X12'] = 0.05\n",
    "const16['X22'] = 0\n",
    "\n",
    "const17 = dict(zip(var, zero))\n",
    "const17['X13'] = 0.05\n",
    "const17['X23'] = 0.04\n",
    "\n",
    "const18 = dict(zip(var, zero))\n",
    "const18['X11'] = 1\n",
    "const18['X21'] = 1\n",
    "const18['I1'] = -1\n",
    "const18['D1'] = 1\n",
    "\n",
    "const19 = dict(zip(var, zero))\n",
    "const19['X11'] = -1\n",
    "const19['X12'] = 1\n",
    "const19['X21'] = -1\n",
    "const19['X22'] = 1\n",
    "const19['I2'] = -1\n",
    "const19['D2'] = 1\n",
    "\n",
    "const20 = dict(zip(var, zero))\n",
    "const20['X12'] = -1\n",
    "const20['X13'] = 1\n",
    "const20['X22'] = -1\n",
    "const20['X23'] = 1\n",
    "const20['I3'] = -1\n",
    "const20['D3'] = 1"
   ]
  },
  {
   "cell_type": "code",
   "execution_count": null,
   "metadata": {},
   "outputs": [],
   "source": [
    "model += lpSum([const1[i]*x[i] for i in var]) == 2500\n",
    "model += lpSum([const2[i]*x[i] for i in var]) == 2000\n",
    "model += lpSum([const3[i]*x[i] for i in var]) == 2500\n",
    "model += lpSum([const4[i]*x[i] for i in var]) == 2000\n",
    "model += lpSum([const5[i]*x[i] for i in var]) == 3000\n",
    "model += lpSum([const6[i]*x[i] for i in var]) == 2000\n",
    "model += lpSum([const7[i]*x[i] for i in var]) >= 500\n",
    "model += lpSum([const8[i]*x[i] for i in var]) >= 500\n",
    "model += lpSum([const9[i]*x[i] for i in var]) <= 2000\n",
    "model += lpSum([const10[i]*x[i] for i in var]) <= 2000\n",
    "model += lpSum([const11[i]*x[i] for i in var]) <= 2000\n",
    "model += lpSum([const12[i]*x[i] for i in var]) <= 1000\n",
    "model += lpSum([const13[i]*x[i] for i in var]) <= 1000\n",
    "model += lpSum([const14[i]*x[i] for i in var]) <= 1000\n",
    "model += lpSum([const15[i]*x[i] for i in var]) <= 300\n",
    "model += lpSum([const16[i]*x[i] for i in var]) <= 300\n",
    "model += lpSum([const17[i]*x[i] for i in var]) <= 300\n",
    "model += lpSum([const18[i]*x[i] for i in var]) == 5000\n",
    "model += lpSum([const19[i]*x[i] for i in var]) == 0\n",
    "model += lpSum([const20[i]*x[i] for i in var]) == 0"
   ]
  },
  {
   "cell_type": "code",
   "execution_count": null,
   "metadata": {},
   "outputs": [],
   "source": [
    "model.solve(solver=GUROBI())"
   ]
  },
  {
   "cell_type": "code",
   "execution_count": null,
   "metadata": {},
   "outputs": [],
   "source": [
    "print('Status:', model.status)\n",
    "for i in model.variables():\n",
    "    print(i.name, '=', i.varValue)\n",
    "print('Optimal value=', value(model.objective))"
   ]
  },
  {
   "cell_type": "code",
   "execution_count": null,
   "metadata": {},
   "outputs": [],
   "source": [
    "print('Sensitivity Analysis')\n",
    "for name, c in model.constraints.items():\n",
    "    print('Constraint: {} \\tShadow Price={:.2f} \\tSlack={}'.format(name, c.pi, c.slack))"
   ]
  },
  {
   "cell_type": "code",
   "execution_count": null,
   "metadata": {},
   "outputs": [],
   "source": []
  },
  {
   "cell_type": "code",
   "execution_count": null,
   "metadata": {},
   "outputs": [],
   "source": [
    "import numpy as np\n",
    "from pulp import *\n",
    "\n",
    "model = LpProblem('Giapetto', LpMaximize)\n",
    "\n",
    "soldiers = LpVariable('soldiers', lowBound=0, cat='Integer')\n",
    "trains = LpVariable('trains', lowBound=0, cat='Integer')\n",
    "\n",
    "raw_material_costs = 10*soldiers+9*trains\n",
    "variable_costs = 14*soldiers+10*trains\n",
    "\n",
    "revenues = 27*soldiers+21*trains\n",
    "\n",
    "profit = revenues - (raw_material_costs+variable_costs)\n",
    "model += profit\n",
    "\n",
    "carpentry_hours = soldiers+trains\n",
    "model += (carpentry_hours <= 80)\n",
    "\n",
    "finishing_hours = 2*soldiers+trains\n",
    "model += (finishing_hours <= 100)\n",
    "\n",
    "model += (soldiers <= 40)\n",
    "\n",
    "print(model)"
   ]
  },
  {
   "cell_type": "code",
   "execution_count": null,
   "metadata": {},
   "outputs": [],
   "source": [
    "# solve the LP using the default solver\n",
    "optimization_result = model.solve()\n",
    "\n",
    "# make sure we got an optimal solution\n",
    "assert optimization_result == LpStatusOptimal\n",
    "\n",
    "# display the results\n",
    "for var in (soldiers, trains):\n",
    "    print('Optimal weekly number of {} to produce: {:1.0f}'.format(var.name, var.value()))"
   ]
  },
  {
   "cell_type": "code",
   "execution_count": null,
   "metadata": {},
   "outputs": [],
   "source": [
    "from pulp import *\n",
    "\n",
    "identifiers = ['A', 'B']\n",
    "obj_coef = dict(zip(identifiers, [3, 2]))\n",
    "const1 = dict(zip(identifiers, [10, 5]))\n",
    "const2 = dict(zip(identifiers, [4, 4]))\n",
    "const3 = dict(zip(identifiers, [2, 6]))\n",
    "const4 = dict(zip(identifiers, [1, 0]))\n",
    "const5 = dict(zip(identifiers, [1, -2]))\n",
    "\n",
    "prob = LpProblem(name='Minimize', sense=LpMaximize)\n",
    "\n",
    "x = LpVariable.dicts(name='Decision variables', indexs=identifiers, \n",
    "                     lowBound=0)\n",
    "\n",
    "prob += lpSum(x[i] * obj_coef[i] for i in identifiers)\n",
    "\n",
    "prob += lpSum(x[i] * const1[i] for i in identifiers) <= 300\n",
    "prob += lpSum(x[i] * const2[i] for i in identifiers) <= 160\n",
    "prob += lpSum(x[i] * const3[i] for i in identifiers) <= 180\n",
    "prob += lpSum(x[i] * const4[i] for i in identifiers) >= 20\n",
    "prob += lpSum(x[i] * const5[i] for i in identifiers) == 0\n",
    "\n",
    "prob.solve(solver=GUROBI())\n",
    "\n",
    "print('Status:', prob.status)\n",
    "for i in prob.variables():\n",
    "    print(i.name, '=', i.varValue)\n",
    "print('Optimal value:', value(prob.objective))"
   ]
  },
  {
   "cell_type": "code",
   "execution_count": null,
   "metadata": {},
   "outputs": [],
   "source": []
  }
 ],
 "metadata": {
  "kernelspec": {
   "display_name": "Python 3",
   "language": "python",
   "name": "python3"
  },
  "language_info": {
   "codemirror_mode": {
    "name": "ipython",
    "version": 3
   },
   "file_extension": ".py",
   "mimetype": "text/x-python",
   "name": "python",
   "nbconvert_exporter": "python",
   "pygments_lexer": "ipython3",
   "version": "3.6.8"
  },
  "latex_envs": {
   "LaTeX_envs_menu_present": true,
   "autocomplete": true,
   "bibliofile": "biblio.bib",
   "cite_by": "apalike",
   "current_citInitial": 1,
   "eqLabelWithNumbers": true,
   "eqNumInitial": 1,
   "hotkeys": {
    "equation": "Ctrl-E",
    "itemize": "Ctrl-I"
   },
   "labels_anchors": false,
   "latex_user_defs": false,
   "report_style_numbering": false,
   "user_envs_cfg": false
  },
  "varInspector": {
   "cols": {
    "lenName": 16,
    "lenType": 16,
    "lenVar": 40
   },
   "kernels_config": {
    "python": {
     "delete_cmd_postfix": "",
     "delete_cmd_prefix": "del ",
     "library": "var_list.py",
     "varRefreshCmd": "print(var_dic_list())"
    },
    "r": {
     "delete_cmd_postfix": ") ",
     "delete_cmd_prefix": "rm(",
     "library": "var_list.r",
     "varRefreshCmd": "cat(var_dic_list()) "
    }
   },
   "types_to_exclude": [
    "module",
    "function",
    "builtin_function_or_method",
    "instance",
    "_Feature"
   ],
   "window_display": false
  }
 },
 "nbformat": 4,
 "nbformat_minor": 4
}
