{
 "cells": [
  {
   "cell_type": "markdown",
   "metadata": {},
   "source": [
    "## The Modified Silver Algorithm (Kaspi and Rosenblatt, 1983)"
   ]
  },
  {
   "cell_type": "code",
   "execution_count": null,
   "metadata": {},
   "outputs": [],
   "source": [
    "n_items = 6\n",
    "r = 0.2\n",
    "di = [2900, 1850, 2750, 1600, 3200, 1400]\n",
    "s = 10\n",
    "si = [1.8, 2.0, 1.2, 3.2, 3.1, 2.7]\n",
    "hi = [2, 5, 4, 1, 4, 1]"
   ]
  },
  {
   "cell_type": "markdown",
   "metadata": {},
   "source": [
    "Step 2. For each item $i$, find the value of \n",
    "\n",
    "$$k_{i}^{2}=(2s_{i}/rR_{i}v_{i})/T^{2}$$"
   ]
  },
  {
   "cell_type": "code",
   "execution_count": null,
   "metadata": {},
   "outputs": [],
   "source": [
    "def find_k(t, i):\n",
    "    return ((2 * si[i]) / (r * di[i] * hi[i])) / t**2"
   ]
  },
  {
   "cell_type": "code",
   "execution_count": null,
   "metadata": {},
   "outputs": [],
   "source": [
    "optimal_ks = []\n",
    "for i in range(n_items):\n",
    "    k = find_k(0.0685, i)\n",
    "    for l in range(1, 20):\n",
    "        if l*(l-1) < k and l*(l+1) >= k:\n",
    "            print('{} <= {:.3f} <= {} \\tk* = {}'.format(l*(l-1), k, l*(l+1), l))\n",
    "            optimal_ks.append(l)\n",
    "            break            "
   ]
  },
  {
   "cell_type": "code",
   "execution_count": null,
   "metadata": {},
   "outputs": [],
   "source": [
    "optimal_ks"
   ]
  },
  {
   "cell_type": "markdown",
   "metadata": {},
   "source": [
    "$$T^{*}=\\bigg[ 2\\bigg(S+\\sum_{i=1}^{n}\\frac{s_{i}}{k_{i}}\\bigg) \\bigg/ r\\sum_{i=1}^{n}h_{i}d_{i}k_{i}  \\bigg]^{1/2}$$"
   ]
  },
  {
   "cell_type": "code",
   "execution_count": null,
   "metadata": {},
   "outputs": [],
   "source": [
    "def find_t(ki, di, s, si, hi):\n",
    "    rs1 = 2 * (s + np.sum([si[i] / ki[i] for i in range(n_items)]))\n",
    "    rs2 = r * np.sum([hi[i] * di[i] * ki[i] for i in range(n_items)])\n",
    "    return (rs1 / rs2)**(1/2)"
   ]
  },
  {
   "cell_type": "code",
   "execution_count": null,
   "metadata": {},
   "outputs": [],
   "source": [
    "optimal_t = find_t(optimal_ks, di, s, si, hi)\n",
    "optimal_t"
   ]
  },
  {
   "cell_type": "markdown",
   "metadata": {},
   "source": [
    "$$TC=\\frac{1}{T}\\bigg(S+\\sum_{i=1}^{n}\\frac{s_{i}}{k_{i}}\\bigg)+\\frac{T}{2}\\sum_{i=1}^{n}rh_{i}d_{i}k_{i}$$"
   ]
  },
  {
   "cell_type": "code",
   "execution_count": null,
   "metadata": {},
   "outputs": [],
   "source": [
    "def total_cost(t, ki, di, s, si, hi):\n",
    "    rs1 = (1/t) * (s + np.sum([si[i] / ki[i] for i in range(n_items)]))\n",
    "    rs2 = (t/2) * np.sum([r * hi[i] * di[i] * ki[i] for i in range(n_items)])\n",
    "    return rs1 + rs2"
   ]
  },
  {
   "cell_type": "code",
   "execution_count": null,
   "metadata": {},
   "outputs": [],
   "source": [
    "total_cost(optimal_t, optimal_ks, di, s, si, hi)"
   ]
  },
  {
   "cell_type": "code",
   "execution_count": null,
   "metadata": {},
   "outputs": [],
   "source": []
  },
  {
   "cell_type": "code",
   "execution_count": null,
   "metadata": {},
   "outputs": [],
   "source": []
  },
  {
   "cell_type": "code",
   "execution_count": null,
   "metadata": {},
   "outputs": [],
   "source": []
  },
  {
   "cell_type": "code",
   "execution_count": null,
   "metadata": {},
   "outputs": [],
   "source": []
  },
  {
   "cell_type": "code",
   "execution_count": 3,
   "metadata": {},
   "outputs": [],
   "source": []
  },
  {
   "cell_type": "code",
   "execution_count": 2,
   "metadata": {},
   "outputs": [],
   "source": [
    "import numpy as np\n",
    "\n",
    "n_items = 6\n",
    "di = [10000, 5000, 3000, 1000, 600, 200]\n",
    "sw = 200\n",
    "swi = [45, 46, 47, 44, 45, 47]\n",
    "hwi = [1, 1, 1, 1, 1, 1]\n",
    "sri = [5, 5, 5, 5, 5, 5]\n",
    "hri = [1.5, 1.5, 1.5, 1.5, 1.5, 1.5]"
   ]
  },
  {
   "cell_type": "code",
   "execution_count": 3,
   "metadata": {},
   "outputs": [],
   "source": [
    "def tminmax(di, s, si, hi):\n",
    "    # tmax\n",
    "    numerator = np.sum([si[i] for i in range(n_items)]) \n",
    "    denominator = np.sum([di[i]*hi[i] for i in range(n_items)])\n",
    "    tmax = np.sqrt((2*(s+numerator)) / denominator)\n",
    "    \n",
    "    # tmin\n",
    "    tmin = np.min([np.sqrt((2*si[i]) / (di[i]*hi[i])) for i in range(n_items)])\n",
    "    return tmin, tmax"
   ]
  },
  {
   "cell_type": "code",
   "execution_count": 4,
   "metadata": {},
   "outputs": [
    {
     "name": "stdout",
     "output_type": "stream",
     "text": [
      "0.09486832980505137 0.21881222058831148\n"
     ]
    }
   ],
   "source": [
    "tmin, tmax = tminmax(di, sw, swi, hwi)\n",
    "print(tmin, tmax)"
   ]
  },
  {
   "cell_type": "code",
   "execution_count": null,
   "metadata": {},
   "outputs": [],
   "source": []
  },
  {
   "cell_type": "markdown",
   "metadata": {},
   "source": [
    "$$\\frac{2(s_{i}^{W}+f_{i}s_{i}^{R})}{T^{2}D_{i}\\bigg( h_{i}^{W}+\\frac{h_{i}^{R}-h_{i}^{W}}{f_{i}}\\bigg)}$$"
   ]
  },
  {
   "cell_type": "code",
   "execution_count": 5,
   "metadata": {},
   "outputs": [],
   "source": [
    "def find_k(t, i, fi):\n",
    "    numerator = 2*(swi[i] + fi[i]*sri[i])\n",
    "    denominator = t**2 * di[i] * (hwi[i] + ((hri[i] - hwi[i]) / fi[i]))\n",
    "    return numerator / denominator"
   ]
  },
  {
   "cell_type": "code",
   "execution_count": 6,
   "metadata": {},
   "outputs": [
    {
     "name": "stdout",
     "output_type": "stream",
     "text": [
      "0 <= 0.327 <= 2 \tk* = 1\n",
      "0 <= 0.591 <= 2 \tk* = 1\n",
      "0 <= 0.859 <= 2 \tk* = 1\n",
      "2 <= 2.859 <= 6 \tk* = 2\n",
      "2 <= 4.145 <= 6 \tk* = 2\n",
      "12 <= 12.888 <= 20 \tk* = 4\n"
     ]
    }
   ],
   "source": [
    "optimal_ks = []\n",
    "for i in range(n_items):\n",
    "    k = find_k(0.1881, i, [4, 3, 2, 3, 2, 2])\n",
    "    for l in range(1, 20):\n",
    "        if l*(l-1) <= k and l*(l+1) >= k:\n",
    "            print('{} <= {:.3f} <= {} \\tk* = {}'.format(l*(l-1), k, l*(l+1), l))\n",
    "            break"
   ]
  },
  {
   "cell_type": "code",
   "execution_count": 7,
   "metadata": {},
   "outputs": [
    {
     "name": "stdout",
     "output_type": "stream",
     "text": [
      "0 <= 0.399 <= 2 \tk* = 1\n",
      "0 <= 0.812 <= 2 \tk* = 1\n",
      "0 <= 1.377 <= 2 \tk* = 1\n",
      "2 <= 3.913 <= 6 \tk* = 2\n",
      "6 <= 6.642 <= 12 \tk* = 3\n",
      "20 <= 20.650 <= 30 \tk* = 5\n"
     ]
    }
   ],
   "source": [
    "optimal_ks = []\n",
    "for i in range(n_items):\n",
    "    k = find_k(0.1486, i, [2, 2, 2, 2, 2, 2])\n",
    "    for l in range(1, 20):\n",
    "        if l*(l-1) <= k and l*(l+1) >= k:\n",
    "            print('{} <= {:.3f} <= {} \\tk* = {}'.format(l*(l-1), k, l*(l+1), l))\n",
    "            break"
   ]
  },
  {
   "cell_type": "markdown",
   "metadata": {},
   "source": [
    "$$\\frac{k_{i}^{2}T^{2}D_{i}(h_{i}^{R}-h_{i}^{W})}{2s_{i}^{R}}$$"
   ]
  },
  {
   "cell_type": "code",
   "execution_count": 8,
   "metadata": {},
   "outputs": [],
   "source": [
    "def find_f(t, i, ki):\n",
    "    numerator = ki[i]**2 * t**2 * di[i] * (hri[i] - hwi[i])\n",
    "    denominator = 2 * sri[i]\n",
    "    return numerator / denominator"
   ]
  },
  {
   "cell_type": "code",
   "execution_count": 9,
   "metadata": {},
   "outputs": [
    {
     "name": "stdout",
     "output_type": "stream",
     "text": [
      "12 <= 17.691 <= 20 \tf* = 4\n",
      "6 <= 8.845 <= 12 \tf* = 3\n",
      "2 <= 5.307 <= 6 \tf* = 2\n",
      "6 <= 7.076 <= 12 \tf* = 3\n",
      "2 <= 4.246 <= 6 \tf* = 2\n",
      "2 <= 5.661 <= 6 \tf* = 2\n"
     ]
    }
   ],
   "source": [
    "for i in range(n_items):\n",
    "    f = find_f(0.1881, i, [1, 1, 1, 2, 2, 4])\n",
    "    for l in range(1, 20):\n",
    "        if l*(l-1) <= f and l*(l+1) >= f:\n",
    "            print('{} <= {:.3f} <= {} \\tf* = {}'.format(l*(l-1), f, l*(l+1), l))\n",
    "            break"
   ]
  },
  {
   "cell_type": "code",
   "execution_count": 10,
   "metadata": {},
   "outputs": [
    {
     "name": "stdout",
     "output_type": "stream",
     "text": [
      "2 <= 4.503 <= 6 \tf* = 2\n",
      "2 <= 2.252 <= 6 \tf* = 2\n",
      "2 <= 5.404 <= 6 \tf* = 2\n",
      "2 <= 4.053 <= 6 \tf* = 2\n",
      "2 <= 4.323 <= 6 \tf* = 2\n",
      "2 <= 3.242 <= 6 \tf* = 2\n"
     ]
    }
   ],
   "source": [
    "for i in range(n_items):\n",
    "    f = find_f(0.0949, i, [1, 1, 2, 3, 4, 6])\n",
    "    for l in range(1, 20):\n",
    "        if l*(l-1) <= f and l*(l+1) >= f:\n",
    "            print('{} <= {:.3f} <= {} \\tf* = {}'.format(l*(l-1), f, l*(l+1), l))\n",
    "            break"
   ]
  },
  {
   "cell_type": "markdown",
   "metadata": {},
   "source": [
    "$$T^{*}=\\sqrt{\\frac{2\\big(S^{W}+\\sum_{i=1}^{n}\\frac{s_{i}^{W}+f_{i}s_{i}^{R}}{k_{i}} \\big)}{\\sum_{i=1}^{n}k_{i}D_{i}\\big( h_{i}^{W} + \\frac{h_{i}^{R}-h_{i}^{W}}{f_{i}}  \\big)}}$$\n",
    "\n",
    "$T$에 대한 최적성 조건"
   ]
  },
  {
   "cell_type": "code",
   "execution_count": 11,
   "metadata": {},
   "outputs": [],
   "source": [
    "def find_t(ki, fi):\n",
    "    numerator = 2 * (sw + np.sum([(swi[i]+fi[i]*sri[i]) / ki[i] for i in range(n_items)]))\n",
    "    denominator = np.sum([ki[i]*di[i]*(hwi[i]+((hri[i] - hwi[i]) / fi[i])) for i in range(n_items)])\n",
    "    return np.sqrt(numerator / denominator)"
   ]
  },
  {
   "cell_type": "code",
   "execution_count": 12,
   "metadata": {},
   "outputs": [
    {
     "data": {
      "text/plain": [
       "0.1881385231580813"
      ]
     },
     "execution_count": 12,
     "metadata": {},
     "output_type": "execute_result"
    }
   ],
   "source": [
    "find_t([1, 1, 1, 2, 2, 4], [4, 3, 2, 3, 2, 2])"
   ]
  },
  {
   "cell_type": "code",
   "execution_count": 13,
   "metadata": {},
   "outputs": [],
   "source": [
    "def tc(t, ki, fi):\n",
    "    rs1 = (sw + np.sum([swi[i] / ki[i] for i in range(n_items)])) / t\n",
    "    rs2 = np.sum([((fi[i]-1)*ki[i]*t*di[i]*hwi[i]) / (2*fi[i]) for i in range(n_items)])\n",
    "    rs3 = np.sum([(fi[i]*sri[i]) / (ki[i]*t) for i in range(n_items)])\n",
    "    rs4 = np.sum([(ki[i]*t*di[i]*hri[i]) / (2*fi[i]) for i in range(n_items)])\n",
    "    return rs1 + rs2 + rs3 + rs4"
   ]
  },
  {
   "cell_type": "code",
   "execution_count": 14,
   "metadata": {},
   "outputs": [
    {
     "data": {
      "text/plain": [
       "4828.8888623072835"
      ]
     },
     "execution_count": 14,
     "metadata": {},
     "output_type": "execute_result"
    }
   ],
   "source": [
    "tc(0.1881, [1, 1, 1, 2, 2, 4], [4, 3, 2, 3, 2, 2])"
   ]
  },
  {
   "cell_type": "code",
   "execution_count": null,
   "metadata": {},
   "outputs": [],
   "source": []
  },
  {
   "cell_type": "code",
   "execution_count": 15,
   "metadata": {},
   "outputs": [
    {
     "name": "stdout",
     "output_type": "stream",
     "text": [
      "[0.09486832980505137, 0.1258543025008664, 0.15684027519668142, 0.18782624789249647, 0.21881222058831148]\n",
      "j \t r \t Tj \t T(r) \tT(r-1)\tki\t\t fi\t\t TCj\n",
      "--------------------------------------------------------------------------------------\n",
      "j=1 \tr=1 \t0.095\t0.149\t0.133 [1, 1, 2, 3, 4, 6] [2, 2, 2, 2, 2, 2] 5125.60\n",
      "j=1 \tr=2 \t0.095\t0.176\t0.173 [1, 1, 1, 2, 3, 5] [3, 2, 2, 2, 2, 2] 4876.33\n",
      "j=1 \tr=3 \t0.095\t0.188\t0.182 [1, 1, 1, 2, 2, 4] [4, 3, 2, 3, 2, 2] 4828.89\n",
      "j=1 \tr=4 \t0.095\t0.188\t0.188 [1, 1, 1, 2, 2, 4] [4, 3, 2, 3, 2, 2] 4828.89\n",
      "j=1 \tr=4 \t0.095\t0.188\t0.188 [1, 1, 1, 2, 2, 4] [4, 3, 2, 3, 2, 2] 4828.89 *\n",
      "\n",
      "\n",
      "j=2 \tr=1 \t0.126\t0.176\t0.154 [1, 1, 1, 2, 3, 5] [3, 2, 2, 2, 2, 2] 4876.33\n",
      "j=2 \tr=2 \t0.126\t0.188\t0.182 [1, 1, 1, 2, 2, 4] [4, 3, 2, 3, 2, 2] 4828.89\n",
      "j=2 \tr=3 \t0.126\t0.188\t0.188 [1, 1, 1, 2, 2, 4] [4, 3, 2, 3, 2, 2] 4828.89\n",
      "j=2 \tr=3 \t0.126\t0.188\t0.188 [1, 1, 1, 2, 2, 4] [4, 3, 2, 3, 2, 2] 4828.89 *\n",
      "\n",
      "\n",
      "j=3 \tr=1 \t0.157\t0.187\t0.159 [1, 1, 1, 2, 2, 4] [4, 3, 2, 2, 2, 2] 4831.19\n",
      "j=3 \tr=2 \t0.157\t0.188\t0.187 [1, 1, 1, 2, 2, 4] [4, 3, 2, 3, 2, 2] 4828.89\n",
      "j=3 \tr=3 \t0.157\t0.188\t0.188 [1, 1, 1, 2, 2, 4] [4, 3, 2, 3, 2, 2] 4828.89\n",
      "j=3 \tr=3 \t0.157\t0.188\t0.188 [1, 1, 1, 2, 2, 4] [4, 3, 2, 3, 2, 2] 4828.89 *\n",
      "\n",
      "\n",
      "j=4 \tr=1 \t0.188\t0.197\t0.169 [1, 1, 1, 1, 2, 3] [4, 3, 2, 1, 2, 2] 4850.39\n",
      "j=4 \tr=2 \t0.188\t0.197\t0.197 [1, 1, 1, 1, 2, 3] [4, 3, 2, 1, 2, 2] 4850.39\n",
      "j=4 \tr=2 \t0.188\t0.197\t0.197 [1, 1, 1, 1, 2, 3] [4, 3, 2, 1, 2, 2] 4850.39 *\n",
      "\n",
      "\n",
      "j=5 \tr=1 \t0.219\t0.204\t0.169 [1, 1, 1, 1, 2, 3] [5, 3, 3, 2, 2, 2] 4850.10\n",
      "j=5 \tr=2 \t0.219\t0.194\t0.193 [1, 1, 1, 2, 2, 3] [5, 3, 3, 3, 2, 2] 4834.44\n",
      "j=5 \tr=3 \t0.219\t0.189\t0.192 [1, 1, 1, 2, 2, 4] [4, 3, 2, 3, 2, 3] 4829.24\n",
      "j=5 \tr=4 \t0.219\t0.188\t0.189 [1, 1, 1, 2, 2, 4] [4, 3, 2, 3, 2, 2] 4828.89\n",
      "j=5 \tr=5 \t0.219\t0.188\t0.188 [1, 1, 1, 2, 2, 4] [4, 3, 2, 3, 2, 2] 4828.89\n",
      "j=5 \tr=5 \t0.219\t0.188\t0.188 [1, 1, 1, 2, 2, 4] [4, 3, 2, 3, 2, 2] 4828.89 *\n",
      "\n",
      "\n",
      "Done!\n"
     ]
    }
   ],
   "source": [
    "# Step 1\n",
    "tmin, tmax = tminmax(di, sw, swi, hwi)\n",
    "\n",
    "# Step 2\n",
    "m = 5\n",
    "tmin, tmax = tminmax(di, sw, swi, hwi)\n",
    "ts = np.linspace(tmin, tmax, num=m).tolist()\n",
    "print(ts)\n",
    "\n",
    "print('j \\t r \\t Tj \\t T(r) \\tT(r-1)\\tki\\t\\t fi\\t\\t TCj')\n",
    "print('--------------------------------------------------------------------------------------')\n",
    "j = 1\n",
    "while True:\n",
    "    r = 0\n",
    "    fi = [[1, 1, 1, 1, 1, 1]]\n",
    "    ki = [[1, 1, 1, 1, 1, 1]]\n",
    "    \n",
    "    # Step 4\n",
    "    r = 1\n",
    "    t = ts[j-1]\n",
    "    while True:\n",
    "        # Step 5\n",
    "        ks = []\n",
    "        for i in range(n_items):\n",
    "            k = find_k(t, i, fi[r-1])\n",
    "            for l in range(1, 20):\n",
    "                if l*(l-1) <= k and l*(l+1) >= k:\n",
    "                    ks.append(l)\n",
    "                    break\n",
    "\n",
    "        ki.append(ks)\n",
    "        \n",
    "        # Step 6\n",
    "        fs = []\n",
    "        for i in range(n_items):\n",
    "            f = find_f(t, i, ki[r])\n",
    "            for l in range(1, 20):\n",
    "                if l*(l-1) <= f and l*(l+1) >= f:\n",
    "                    fs.append(l)\n",
    "                    break\n",
    "\n",
    "        fi.append(fs)\n",
    "\n",
    "        # Step 7      \n",
    "        t = find_t(ki[r], fi[r])\n",
    "        before_t = find_t(ki[r], fi[r-1])\n",
    "        \n",
    "        total = tc(t, ki[r], fi[r])\n",
    "        print('j={} \\tr={} \\t{:.3f}\\t{:.3f}\\t{:.3f} {} {} {:.2f}'.format(j, r, ts[j-1], t, before_t, ki[r], fi[r], total))\n",
    "        \n",
    "        # Step 8 \n",
    "        if t != before_t:\n",
    "            # Go to Step 4\n",
    "            r = r + 1\n",
    "        \n",
    "        elif t == before_t:\n",
    "            t_start = find_t(ki[r], fi[r])\n",
    "            total = tc(t_start, ki[r], fi[r])\n",
    "\n",
    "            print('j={} \\tr={} \\t{:.3f}\\t{:.3f}\\t{:.3f} {} {} {:.2f}'.format(j, r, ts[j-1], t, before_t, ki[r], fi[r], total), '*')\n",
    "            \n",
    "            \n",
    "            # Step 9\n",
    "            # Go to Step 3\n",
    "            if j != m+1:\n",
    "                break\n",
    "    print('\\n')\n",
    "    j = j + 1\n",
    "    if j == m+1:\n",
    "        print('Done!')\n",
    "        break"
   ]
  },
  {
   "cell_type": "code",
   "execution_count": null,
   "metadata": {},
   "outputs": [],
   "source": []
  },
  {
   "cell_type": "code",
   "execution_count": null,
   "metadata": {},
   "outputs": [],
   "source": []
  },
  {
   "cell_type": "code",
   "execution_count": null,
   "metadata": {},
   "outputs": [],
   "source": []
  },
  {
   "cell_type": "code",
   "execution_count": null,
   "metadata": {},
   "outputs": [],
   "source": []
  },
  {
   "cell_type": "code",
   "execution_count": null,
   "metadata": {},
   "outputs": [],
   "source": []
  },
  {
   "cell_type": "code",
   "execution_count": null,
   "metadata": {},
   "outputs": [],
   "source": [
    "fi, ks"
   ]
  },
  {
   "cell_type": "code",
   "execution_count": null,
   "metadata": {},
   "outputs": [],
   "source": []
  },
  {
   "cell_type": "code",
   "execution_count": null,
   "metadata": {},
   "outputs": [],
   "source": []
  },
  {
   "cell_type": "code",
   "execution_count": null,
   "metadata": {},
   "outputs": [],
   "source": []
  },
  {
   "cell_type": "code",
   "execution_count": null,
   "metadata": {},
   "outputs": [],
   "source": []
  },
  {
   "cell_type": "code",
   "execution_count": null,
   "metadata": {},
   "outputs": [],
   "source": []
  },
  {
   "cell_type": "code",
   "execution_count": null,
   "metadata": {},
   "outputs": [],
   "source": [
    "# Step 1\n",
    "tmin, tmax = tminmax(di, sw, swi, hwi)\n",
    "\n",
    "# Step 2\n",
    "m = 5\n",
    "tmin, tmax = tminmax(di, sw, swi, hwi)\n",
    "ts = np.linspace(tmin, tmax, num=m).tolist()\n",
    "print(ts)\n",
    "\n",
    "j = 1\n",
    "while True:\n",
    "    r = 0\n",
    "    fi = [[1, 1, 1, 1, 1, 1]]\n",
    "    ki = [[1, 1, 1, 1, 1, 1]]\n",
    "    \n",
    "    # Step 4\n",
    "    r = 1\n",
    "    while True:\n",
    "        # Step 5\n",
    "        ks = []\n",
    "        for i in range(n_items):\n",
    "            k = find_k(ts[j-1], i, fi[r-1])\n",
    "            for l in range(1, 20):\n",
    "                if l*(l-1) <= k and l*(l+1) >= k:\n",
    "                    ks.append(l)\n",
    "                    break\n",
    "\n",
    "        ki.append(ks)\n",
    "        \n",
    "        # Step 6\n",
    "        fs = []\n",
    "        for i in range(n_items):\n",
    "            f = find_f(ts[j-1], i, ki[r])\n",
    "            for l in range(1, 20):\n",
    "                if l*(l-1) <= f and l*(l+1) >= f:\n",
    "                    fs.append(l)\n",
    "                    break\n",
    "\n",
    "        fi.append(fs)\n",
    "\n",
    "        # Step 7\n",
    "        current_t = find_t(ki[r], fi[r])        \n",
    "        before_t = find_t(ki[r], fi[r-1])\n",
    "        \n",
    "        total = tc(current_t, ki[r], fi[r])\n",
    "        print('j={} \\tr={} \\t{:.3f}\\t{:.3f}\\t{:.3f} {} {} {:.2f}'.format(j, r, ts[j], current_t, before_t, ki[r], fi[r], total))\n",
    "        \n",
    "        # Step 8 \n",
    "        if current_t != before_t:\n",
    "            # Go to Step 4\n",
    "            r = r + 1\n",
    "        \n",
    "        elif r < m:\n",
    "            break\n",
    "        \n",
    "#         elif current_t == before_t:\n",
    "#             t_start = find_t(ki[r], fi[r])\n",
    "#             total = tc(t_start, ki[r], fi[r])\n",
    "\n",
    "#             print('j={} \\tr={} \\t{:.3f}\\t{:.3f}\\t{:.3f} {} {} {:.2f}'.format(j, r, ts[j], current_t, before_t, ki[r], fi[r], total), '*')\n",
    "            \n",
    "#             if j != m:\n",
    "#                 break\n",
    "            # Step 9\n",
    "            # Go to Step 3\n",
    "#             if j != m:\n",
    "#                 break\n",
    "#                 print(j, 'Go to step 3.')\n",
    "#                 break\n",
    "               \n",
    "    j = j + 1\n",
    "    if j == m:\n",
    "        print('Done!')\n",
    "        break"
   ]
  },
  {
   "cell_type": "code",
   "execution_count": null,
   "metadata": {},
   "outputs": [],
   "source": []
  },
  {
   "cell_type": "code",
   "execution_count": null,
   "metadata": {},
   "outputs": [],
   "source": []
  },
  {
   "cell_type": "code",
   "execution_count": null,
   "metadata": {},
   "outputs": [],
   "source": []
  },
  {
   "cell_type": "code",
   "execution_count": null,
   "metadata": {},
   "outputs": [],
   "source": []
  },
  {
   "cell_type": "code",
   "execution_count": null,
   "metadata": {},
   "outputs": [],
   "source": []
  },
  {
   "cell_type": "code",
   "execution_count": null,
   "metadata": {},
   "outputs": [],
   "source": []
  },
  {
   "cell_type": "code",
   "execution_count": null,
   "metadata": {},
   "outputs": [],
   "source": [
    "best = np.inf\n",
    "for t in ts:\n",
    "    optimal_ks = []\n",
    "    for i in range(n_items):\n",
    "        k = find_k(t, i, swi, hwi)\n",
    "        for l in range(1, 20):\n",
    "            if l*(l-1) < k and l*(l+1) >= k:\n",
    "                optimal_ks.append(l)\n",
    "                break\n",
    "                \n",
    "    tc = total_cost(t, optimal_ks, di, s, si, hi)\n",
    "    if tc < best:\n",
    "        print('{:.2f}\\t{:.3f}\\t{}'.format(tc, t, optimal_ks))\n",
    "        best = tc"
   ]
  },
  {
   "cell_type": "code",
   "execution_count": null,
   "metadata": {},
   "outputs": [],
   "source": []
  },
  {
   "cell_type": "code",
   "execution_count": null,
   "metadata": {},
   "outputs": [],
   "source": []
  },
  {
   "cell_type": "code",
   "execution_count": null,
   "metadata": {},
   "outputs": [],
   "source": []
  },
  {
   "cell_type": "code",
   "execution_count": null,
   "metadata": {},
   "outputs": [],
   "source": []
  },
  {
   "cell_type": "code",
   "execution_count": null,
   "metadata": {},
   "outputs": [],
   "source": []
  },
  {
   "cell_type": "code",
   "execution_count": null,
   "metadata": {},
   "outputs": [],
   "source": []
  },
  {
   "cell_type": "code",
   "execution_count": null,
   "metadata": {},
   "outputs": [],
   "source": []
  },
  {
   "cell_type": "code",
   "execution_count": null,
   "metadata": {},
   "outputs": [],
   "source": []
  },
  {
   "cell_type": "code",
   "execution_count": null,
   "metadata": {},
   "outputs": [],
   "source": []
  },
  {
   "cell_type": "code",
   "execution_count": null,
   "metadata": {},
   "outputs": [],
   "source": []
  },
  {
   "cell_type": "markdown",
   "metadata": {},
   "source": [
    "## The RAND Algorithm"
   ]
  },
  {
   "cell_type": "markdown",
   "metadata": {},
   "source": [
    "$$Z=\\frac{1}{T}\\bigg(S+\\sum_{i=1}^{n}\\frac{s_{i}}{k_{i}}\\bigg)+\\frac{T}{2}\\sum_{i=1}^{n}h_{i}d_{i}k_{i}$$\n",
    "\n",
    "\n",
    "$$T^{*}=\\bigg[ 2\\bigg(S+\\sum_{i=1}^{n}\\frac{s_{i}}{k_{i}}\\bigg) \\bigg/ \\sum_{i=1}^{n}h_{i}d_{i}k_{i}  \\bigg]^{1/2}$$\n",
    "\n",
    "\n",
    "$$k_{i}(k_{i}-1)\\le \\frac{2s_{i}}{h_{i}d_{i}T^{2}}  \\le k_{i}(k_{i}+1)$$"
   ]
  },
  {
   "cell_type": "code",
   "execution_count": null,
   "metadata": {},
   "outputs": [],
   "source": []
  },
  {
   "cell_type": "code",
   "execution_count": null,
   "metadata": {},
   "outputs": [],
   "source": [
    "def total_cost(t, ki, di, s, si, hi):\n",
    "    rs1 = 2 * (s + np.sum([si[i] / ki[i] for i in range(n_items)]))\n",
    "    rs2 = 0.2 * np.sum([hi[i] * di[i] * ki[i] for i in range(n_items)])\n",
    "    return (rs1 * rs2)**(1/2)"
   ]
  },
  {
   "cell_type": "code",
   "execution_count": null,
   "metadata": {},
   "outputs": [],
   "source": [
    "total_cost(0.0685, [1, 1, 1, 2, 1, 2], di, s, si, hi)"
   ]
  },
  {
   "cell_type": "code",
   "execution_count": null,
   "metadata": {},
   "outputs": [],
   "source": [
    "def total_cost(t, ki, di, s, si, hi):\n",
    "    rs1 = (1/t) * (s + np.sum([si[i] / ki[i] for i in range(n_items)]))\n",
    "    rs2 = (t/2) * np.sum([r * hi[i] * di[i] * ki[i] for i in range(n_items)])\n",
    "    return rs1 + rs2"
   ]
  },
  {
   "cell_type": "code",
   "execution_count": null,
   "metadata": {},
   "outputs": [],
   "source": [
    "total_cost(0.0685, [1, 1, 1, 2, 1, 2], di, s, si, hi)"
   ]
  },
  {
   "cell_type": "code",
   "execution_count": null,
   "metadata": {},
   "outputs": [],
   "source": []
  },
  {
   "cell_type": "code",
   "execution_count": null,
   "metadata": {},
   "outputs": [],
   "source": []
  },
  {
   "cell_type": "code",
   "execution_count": null,
   "metadata": {},
   "outputs": [],
   "source": []
  },
  {
   "cell_type": "code",
   "execution_count": null,
   "metadata": {},
   "outputs": [],
   "source": [
    "find_t([1, 1, 1, 2, 1, 2], di, s, si, hi)"
   ]
  },
  {
   "cell_type": "code",
   "execution_count": null,
   "metadata": {},
   "outputs": [],
   "source": []
  },
  {
   "cell_type": "code",
   "execution_count": null,
   "metadata": {},
   "outputs": [],
   "source": []
  },
  {
   "cell_type": "code",
   "execution_count": null,
   "metadata": {},
   "outputs": [],
   "source": []
  },
  {
   "cell_type": "code",
   "execution_count": null,
   "metadata": {},
   "outputs": [],
   "source": []
  },
  {
   "cell_type": "code",
   "execution_count": null,
   "metadata": {},
   "outputs": [],
   "source": [
    "def tminmax(di, s, si, hi):\n",
    "    # tmax\n",
    "    numerator = np.sum([si[i] for i in range(n_items)]) \n",
    "    denominator = np.sum([di[i]*hi[i] for i in range(n_items)])\n",
    "    tmax = np.sqrt((2*(s+numerator)) / denominator)\n",
    "    \n",
    "    # tmin\n",
    "    tmin = np.min([np.sqrt((2*si[i]) / (di[i]*hi[i])) for i in range(n_items)])\n",
    "    return tmin, tmax"
   ]
  },
  {
   "cell_type": "code",
   "execution_count": null,
   "metadata": {},
   "outputs": [],
   "source": [
    "\n",
    "\n",
    "ts = np.linspace(tmin, tmax, num=10)\n",
    "print(ts)"
   ]
  },
  {
   "cell_type": "code",
   "execution_count": null,
   "metadata": {},
   "outputs": [],
   "source": []
  },
  {
   "cell_type": "code",
   "execution_count": null,
   "metadata": {},
   "outputs": [],
   "source": []
  },
  {
   "cell_type": "code",
   "execution_count": null,
   "metadata": {},
   "outputs": [],
   "source": []
  },
  {
   "cell_type": "code",
   "execution_count": null,
   "metadata": {},
   "outputs": [],
   "source": []
  },
  {
   "cell_type": "code",
   "execution_count": null,
   "metadata": {},
   "outputs": [],
   "source": []
  },
  {
   "cell_type": "code",
   "execution_count": null,
   "metadata": {},
   "outputs": [],
   "source": []
  },
  {
   "cell_type": "code",
   "execution_count": null,
   "metadata": {},
   "outputs": [],
   "source": []
  },
  {
   "cell_type": "code",
   "execution_count": null,
   "metadata": {},
   "outputs": [],
   "source": []
  },
  {
   "cell_type": "code",
   "execution_count": null,
   "metadata": {},
   "outputs": [],
   "source": []
  },
  {
   "cell_type": "markdown",
   "metadata": {},
   "source": [
    "$$TC(T,k_{1},k_{2},...,k_{n})=\\frac{S+\\sum_{i=1}^{n}\\frac{s_{i}}{k_{i}}}{T}+\\sum_{i=1}^{n}\\frac{d_{i}k_{i}Th_{i}}{2}$$"
   ]
  },
  {
   "cell_type": "code",
   "execution_count": null,
   "metadata": {},
   "outputs": [],
   "source": []
  },
  {
   "cell_type": "code",
   "execution_count": null,
   "metadata": {},
   "outputs": [],
   "source": [
    "import numpy as np\n",
    "\n",
    "\n",
    "def total_cost(t, ki, di, s, si, hi):\n",
    "    rs1 = (s + np.sum([si[i] / ki[i] for i in range(n_items)])) / t\n",
    "    rs2 = np.sum([di[i] * ki[i] * hi[i] for i in range(n_items)]) * (t/2)\n",
    "    return rs1 + rs2\n",
    "\n",
    "\n",
    "def tminmax(di, s, si, hi):\n",
    "    numerator = np.sum([si[i] for i in range(n_items)]) \n",
    "    denominator = np.sum([di[i]*hi[i] for i in range(n_items)])\n",
    "    tmax = np.sqrt((2*(s+numerator)) / denominator)\n",
    "    \n",
    "    mins = []\n",
    "    for i in range(n_items):\n",
    "        mins.append(np.sqrt((2*si[i]) / (di[i]*hi[i])))\n",
    "\n",
    "    tmin = np.min(mins)\n",
    "    return tmin, tmax"
   ]
  },
  {
   "cell_type": "code",
   "execution_count": null,
   "metadata": {},
   "outputs": [],
   "source": []
  },
  {
   "cell_type": "code",
   "execution_count": null,
   "metadata": {},
   "outputs": [],
   "source": []
  },
  {
   "cell_type": "code",
   "execution_count": null,
   "metadata": {},
   "outputs": [],
   "source": []
  },
  {
   "cell_type": "code",
   "execution_count": null,
   "metadata": {},
   "outputs": [],
   "source": []
  },
  {
   "cell_type": "code",
   "execution_count": null,
   "metadata": {},
   "outputs": [],
   "source": [
    "tmin, tmax = tminmax(di, s, si, hi)\n",
    "print(tmin, tmax)"
   ]
  },
  {
   "cell_type": "code",
   "execution_count": null,
   "metadata": {},
   "outputs": [],
   "source": [
    "ts = np.linspace(tmin, tmax, num=10)\n",
    "print(ts)"
   ]
  },
  {
   "cell_type": "code",
   "execution_count": null,
   "metadata": {},
   "outputs": [],
   "source": [
    "r = 0\n",
    "kir = []\n",
    "for t in ts:\n",
    "    ki = []   \n",
    "    for i in range(n_items):\n",
    "        k = (2 * si[i]) / (di[i] * hi[i] * t**2)\n",
    "        ki.append(k)\n",
    "        \n",
    "    kir.append(ki)\n",
    "    break"
   ]
  },
  {
   "cell_type": "code",
   "execution_count": null,
   "metadata": {},
   "outputs": [],
   "source": [
    "np.array(kir).round()"
   ]
  },
  {
   "cell_type": "code",
   "execution_count": null,
   "metadata": {},
   "outputs": [],
   "source": []
  },
  {
   "cell_type": "code",
   "execution_count": null,
   "metadata": {},
   "outputs": [],
   "source": []
  },
  {
   "cell_type": "code",
   "execution_count": null,
   "metadata": {},
   "outputs": [],
   "source": []
  },
  {
   "cell_type": "code",
   "execution_count": null,
   "metadata": {},
   "outputs": [],
   "source": []
  },
  {
   "cell_type": "code",
   "execution_count": null,
   "metadata": {},
   "outputs": [],
   "source": []
  },
  {
   "cell_type": "code",
   "execution_count": null,
   "metadata": {},
   "outputs": [],
   "source": [
    "opt_ks = [0, 0, 0, 0, 0, 0]\n",
    "for r in range(len(kir)):\n",
    "    for i in range(n_items):\n",
    "        if kir[r][i]*(kir[r][i]-1) < kir[r][i] and kir[r][i]*(kir[r][i]+1) >= kir[r][i]:\n",
    "#             print(kir[r][i])\n",
    "            opt_ks[i] = kir[r][i]\n",
    "\n",
    "opt_ks"
   ]
  },
  {
   "cell_type": "code",
   "execution_count": null,
   "metadata": {},
   "outputs": [],
   "source": []
  },
  {
   "cell_type": "code",
   "execution_count": null,
   "metadata": {},
   "outputs": [],
   "source": []
  },
  {
   "cell_type": "code",
   "execution_count": null,
   "metadata": {},
   "outputs": [],
   "source": [
    "    print(kir)\n",
    "    \n",
    "    for i in range(n_items):\n",
    "        if kir[r][i]*(kir[r][i]-1) < kir[r][i] and kir[r][i]*(kir[r][i]+1) >= kir[r][i]:\n",
    "            print(kir[r][i])\n",
    "            \n",
    "#     print(len(optmal_k))\n",
    "    print(optmal_k)\n",
    "    \n",
    "    optmal_k.append(total_cost(t, optmal_k, di, s, si, hi))\n",
    "\n",
    "np.min(optimal_t)"
   ]
  },
  {
   "cell_type": "code",
   "execution_count": null,
   "metadata": {},
   "outputs": [],
   "source": [
    "ks = []"
   ]
  },
  {
   "cell_type": "code",
   "execution_count": null,
   "metadata": {},
   "outputs": [],
   "source": [
    "ks.append([1,2,3,4,5,6])\n",
    "ks"
   ]
  },
  {
   "cell_type": "code",
   "execution_count": null,
   "metadata": {},
   "outputs": [],
   "source": [
    "ks.append([1,2,3,4,5,6])\n",
    "ks"
   ]
  },
  {
   "cell_type": "code",
   "execution_count": null,
   "metadata": {},
   "outputs": [],
   "source": [
    "ks"
   ]
  },
  {
   "cell_type": "code",
   "execution_count": null,
   "metadata": {},
   "outputs": [],
   "source": []
  },
  {
   "cell_type": "code",
   "execution_count": null,
   "metadata": {},
   "outputs": [],
   "source": [
    "ks"
   ]
  },
  {
   "cell_type": "code",
   "execution_count": null,
   "metadata": {},
   "outputs": [],
   "source": []
  },
  {
   "cell_type": "markdown",
   "metadata": {},
   "source": [
    "$$k_{i,r}^{2}=2s_{i}T_{j}^{2}/d_{i}h_{i}$$"
   ]
  },
  {
   "cell_type": "code",
   "execution_count": null,
   "metadata": {},
   "outputs": [],
   "source": []
  },
  {
   "cell_type": "markdown",
   "metadata": {},
   "source": [
    "$$k_{i,r}^{*}=L, \\text{ if } L(L-1) \\lt k_{i,r}^{2} \\le L(L+1)$$"
   ]
  },
  {
   "cell_type": "code",
   "execution_count": null,
   "metadata": {},
   "outputs": [],
   "source": []
  },
  {
   "cell_type": "markdown",
   "metadata": {},
   "source": [
    "$$T_{j}=\\bigg[2\\bigg(S+\\sum_{i=1}^{n}s_{i}/k_{i,r}^{*}\\bigg)\\bigg/\\sum_{i=1}^{n}d_{i}h_{i}k_{i,r}^{*}\\bigg]$$"
   ]
  },
  {
   "cell_type": "code",
   "execution_count": null,
   "metadata": {},
   "outputs": [],
   "source": [
    "def total_cost(tj, di, s, si, hi, ki):\n",
    "    t = ((2 * (s + np.sum([si[i] / ki for i in range(n_items)]))) / np.sum([di[i] * hi[i] * ki for i in range(n_items)]))**(1/2)\n",
    "    return t"
   ]
  },
  {
   "cell_type": "code",
   "execution_count": null,
   "metadata": {},
   "outputs": [],
   "source": [
    "n_items = 3\n",
    "\n",
    "koptimal = []\n",
    "\n",
    "for j in range(len(m)):\n",
    "    for i in range(n_items):\n",
    "        ks = ((2 * si[i] * m[j]**2) / (di[i] * hi[i]))**2\n",
    "        if ks*(ks-1) < ks and ks*(ks+1) >= ks:\n",
    "            koptimal.append(ks)\n",
    "    \n",
    "            print(total_cost(m[j], di, s, si, hi, koptimal[-1]))"
   ]
  },
  {
   "cell_type": "code",
   "execution_count": null,
   "metadata": {},
   "outputs": [],
   "source": [
    "ks"
   ]
  },
  {
   "cell_type": "code",
   "execution_count": null,
   "metadata": {},
   "outputs": [],
   "source": [
    "np.array(ks)**2"
   ]
  },
  {
   "cell_type": "code",
   "execution_count": null,
   "metadata": {},
   "outputs": [],
   "source": []
  }
 ],
 "metadata": {
  "kernelspec": {
   "display_name": "Python 3",
   "language": "python",
   "name": "python3"
  },
  "language_info": {
   "codemirror_mode": {
    "name": "ipython",
    "version": 3
   },
   "file_extension": ".py",
   "mimetype": "text/x-python",
   "name": "python",
   "nbconvert_exporter": "python",
   "pygments_lexer": "ipython3",
   "version": "3.6.8"
  }
 },
 "nbformat": 4,
 "nbformat_minor": 4
}
