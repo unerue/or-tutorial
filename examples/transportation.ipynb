{
 "cells": [
  {
   "cell_type": "markdown",
   "metadata": {},
   "source": [
    "## Contribution Coefficient Variation\n",
    "\n",
    "단계별 공헌계수가 변동하는 경우의 분석사례로서, 앞에서 수행한 최대화의 문제를 참조하여 다음 문제를 고려하였다. 즉, 어느 회사에서 x1, x2, 2개 제푸믈 생산하여 판매한다. 제품을 생산하여 판매하면 제품수량에 따라 x1은 4, 3, 2만원 제품x2는 3, 2, 1만 원의 이익이 발생한다. 제품의 생산과정에서는 A, B, C 3개 자원이 소모되며, 제품별로 소요되는 A, B, C 자원의 량과 각 자원별 최대 사용 가능량은 다음과 같다.\n",
    "\n",
    "|소요자원|제품 X1|제품 X2|사용가능 자원량|\n",
    "|:----:|-----:|-----:|--------:|\n",
    "|A|2|3|80|\n",
    "|B|-3|2|20|\n",
    "|C|2|1|50|\n",
    "|이익|4(0-10개)|3(0-10개)||\n",
    "||3(11-20개)|2(11-20개)||\n",
    "||2(20개 이상)|1(21개 이상)||"
   ]
  },
  {
   "cell_type": "code",
   "execution_count": null,
   "metadata": {},
   "outputs": [],
   "source": [
    "from pulp import *\n",
    "\n",
    "prob = LpProblem(\"Contribution Coefficient Variation\", LpMaximize)"
   ]
  },
  {
   "cell_type": "code",
   "execution_count": null,
   "metadata": {},
   "outputs": [],
   "source": [
    "y1 = LpVariable(\"Y1\", lowBound=0)\n",
    "y2 = LpVariable(\"Y2\", lowBound=0)\n",
    "y3 = LpVariable(\"Y3\", lowBound=0)\n",
    "y4 = LpVariable(\"Y4\", lowBound=0)\n",
    "y5 = LpVariable(\"Y5\", lowBound=0)\n",
    "y6 = LpVariable(\"Y6\", lowBound=0)"
   ]
  },
  {
   "cell_type": "code",
   "execution_count": null,
   "metadata": {},
   "outputs": [],
   "source": [
    "prob += 4*y1 + 3*y2 + 2*y3 + 3*y4 + 2*y5 + y6"
   ]
  },
  {
   "cell_type": "code",
   "execution_count": null,
   "metadata": {},
   "outputs": [],
   "source": [
    "prob += 2*(y1+y2+y3) + 3*(y4+y5+y6) <= 80\n",
    "prob += -3*(y1+y2+y3) + 2*(y4+y5+y6) <= 20\n",
    "prob += 2*(y1+y2+y3) + (y4+y5+y6) <= 50\n",
    "\n",
    "prob += y1 <= 10\n",
    "prob += y2 <= 10\n",
    "prob += y4 <= 10\n",
    "prob += y5 <= 10"
   ]
  },
  {
   "cell_type": "code",
   "execution_count": 6,
   "metadata": {},
   "outputs": [
    {
     "data": {
      "text/plain": [
       "1"
      ]
     },
     "execution_count": 6,
     "metadata": {},
     "output_type": "execute_result"
    }
   ],
   "source": [
    "prob.solve()"
   ]
  },
  {
   "cell_type": "code",
   "execution_count": 7,
   "metadata": {},
   "outputs": [
    {
     "name": "stdout",
     "output_type": "stream",
     "text": [
      "Y1 = 10.0\n",
      "Y2 = 7.5\n",
      "Y3 = 0.0\n",
      "Y4 = 10.0\n",
      "Y5 = 5.0\n",
      "Y6 = 0.0\n",
      "Status Optimal\n",
      "102.5\n"
     ]
    }
   ],
   "source": [
    "for i in prob.variables():\n",
    "    print(i.name, '=', i.varValue)\n",
    "print('Status', LpStatus[prob.status])\n",
    "print(pulp.value(prob.objective))"
   ]
  },
  {
   "cell_type": "markdown",
   "metadata": {},
   "source": [
    "### Housing Location Problem - Herbert Stevens\n",
    "\n",
    "소득계층별 주거형태별 건설계획을 결정하는 분석사례이다. 예를 들어 어느 도시에서 1지역 면적 500ha, 2지역 면적은 300ha이며, 이 두 지역에, 고소득 300가구, 저소득 200가구 주택을 건설하고자 한다. 이때 소득별 주거형태별 주거비용, 소요예산, 그리고 소요면적은 다음과 같다. 이러한 상황에서 지대 절약을 최대로 하는 주택 건설 계획을 수립하시오.\n",
    "\n",
    "|구분|주거비용|     |     |     |예산  |     |소요면적|    |\n",
    "|:--:|:--:|:--:|:--:|:--:|:--:|:--:|:--:|:--:|\n",
    "|   |1지역  |     |2지역 |     |     |     |    |    |\n",
    "|   |주택 1 |주택 2|주택 1|주택 2|주택 1|주택 2|주택 1|주택 2|\n",
    "|고소득|5|5|7|6|12|10|2.0|1.5|\n",
    "|저소득|4|4|4|4|6|5|1.2|1.0|\n",
    "\n",
    "\n",
    "|구분|가처분소득||(예산-주거비용)||\n",
    "|:--:|:--:|:--:|:--:|:--:|\n",
    "|   |1지역  |     |  2지역|    |\n",
    "|   |주택 1 |주택 2|주택 1|주택 2|\n",
    "|고소득|7 (X11)|5 (X12)|5 (X13)|4 (X14)|\n",
    "|저소득|2 (X21)|1 (X22)|2 (X23)|1 (X24)|"
   ]
  },
  {
   "cell_type": "code",
   "execution_count": null,
   "metadata": {},
   "outputs": [],
   "source": [
    "prob = LpProblem('Housing Location Problem', LpMaximize)"
   ]
  },
  {
   "cell_type": "code",
   "execution_count": null,
   "metadata": {},
   "outputs": [],
   "source": [
    "X11 = LpVariable(\"X11\", lowBound=0)\n",
    "X12 = LpVariable(\"X12\", lowBound=0)\n",
    "X13 = LpVariable(\"X13\", lowBound=0)\n",
    "X14 = LpVariable(\"X14\", lowBound=0)\n",
    "X21 = LpVariable(\"X21\", lowBound=0)\n",
    "X22 = LpVariable(\"X22\", lowBound=0)\n",
    "X23 = LpVariable(\"X23\", lowBound=0)\n",
    "X24 = LpVariable(\"X24\", lowBound=0)"
   ]
  },
  {
   "cell_type": "code",
   "execution_count": 10,
   "metadata": {},
   "outputs": [],
   "source": [
    "prob += 7*X11 + 5*X12 + 5*X13 + 4*X14 + 2*X21 + X22 + 2*X23 + X24"
   ]
  },
  {
   "cell_type": "code",
   "execution_count": 11,
   "metadata": {},
   "outputs": [],
   "source": [
    "prob += 2*X11 + 1.5*X12 + 1.2*X21 + X22 <= 500\n",
    "prob += 2*X13 + 1.5*X14 + 1.2*X23 + X24 <= 300\n",
    "prob += X11 + X12 + X13 + X14 <= 300\n",
    "prob += X21 + X22 + X23 + X24 <= 200"
   ]
  },
  {
   "cell_type": "code",
   "execution_count": 12,
   "metadata": {},
   "outputs": [
    {
     "data": {
      "text/plain": [
       "1"
      ]
     },
     "execution_count": 12,
     "metadata": {},
     "output_type": "execute_result"
    }
   ],
   "source": [
    "prob.solve()"
   ]
  },
  {
   "cell_type": "code",
   "execution_count": 13,
   "metadata": {},
   "outputs": [
    {
     "name": "stdout",
     "output_type": "stream",
     "text": [
      "X11 = 250.0\n",
      "X12 = 0.0\n",
      "X13 = 50.0\n",
      "X14 = 0.0\n",
      "X21 = 0.0\n",
      "X22 = 0.0\n",
      "X23 = 166.66667\n",
      "X24 = 0.0\n",
      "Status Optimal\n",
      "2333.33334\n"
     ]
    }
   ],
   "source": [
    "for i in prob.variables():\n",
    "    print(i.name, \"=\", i.varValue)\n",
    "print('Status', LpStatus[prob.status])\n",
    "print(pulp.value(prob.objective))"
   ]
  },
  {
   "cell_type": "code",
   "execution_count": null,
   "metadata": {},
   "outputs": [],
   "source": []
  },
  {
   "cell_type": "markdown",
   "metadata": {},
   "source": [
    "## Transportation Programming\n",
    "\n",
    "### 4.1 수송계획법의 개요\n",
    "\n",
    "수송계획법은 선형게획법의 특수한 형태로서, 일반적으로 목적함수는 비용의 최소화이다. 수송계획 법의 수식형태와 적용변수들은 다음과 같으며, 수요와 공급이 일치할 경우, 제약조건은 등식이나, 수요와 공급이 불일치할 경우, 제약조건은 부등식이 된다.\n",
    "\n",
    "* 목적함수(objective function): $\\min \\sum_{i=1}^n\\sum_{j=1}^mc_{ij}x_{ij}$\n",
    "* 제약조건(constraints): $\\sum_{i=1}^nx_{ij}=S_i,\\qquad\\sum_{i=1}^mx_{ij}=D_j$\n",
    "* Decision variable: $x_{ij}$, 결정변수로서 공급지역 i에서 수요지역 j로 이동하는 물동량으로 기저변수(basic variable)일 경우 물동량 할당이 된다.\n",
    "\n",
    "|구분|   |수요|   |   |   |총공급량|\n",
    "|:-:|:-:|:-:|:-:|:-:|:-:|:-:|\n",
    "|   |   |X  |Y  |Z  |W   |   |\n",
    "|공급|A|21|12|25|11|80|\n",
    "||B|13|10|21|17|60|\n",
    "||C|12|14|19|12|50|\n",
    "|총수요량||50|40|70|30|190|"
   ]
  },
  {
   "cell_type": "code",
   "execution_count": 14,
   "metadata": {},
   "outputs": [],
   "source": [
    "prob = LpProblem(\"Transportation\", LpMinimize)"
   ]
  },
  {
   "cell_type": "code",
   "execution_count": 15,
   "metadata": {},
   "outputs": [
    {
     "data": {
      "text/plain": [
       "{'1': 50, '2': 40, '3': 70, '4': 30}"
      ]
     },
     "execution_count": 15,
     "metadata": {},
     "output_type": "execute_result"
    }
   ],
   "source": [
    "S = [\"A\", \"B\", \"C\"]\n",
    "D = [\"1\", \"2\", \"3\", \"4\"]\n",
    "costs = [[21, 12, 25, 11],\n",
    "         [13, 10, 21, 17],\n",
    "         [12, 14, 19, 12]]\n",
    "\n",
    "supply = dict(zip(S, [80, 60, 50]))\n",
    "demand = dict(zip(D, [50, 40, 70, 30]))\n",
    "demand"
   ]
  },
  {
   "cell_type": "code",
   "execution_count": 16,
   "metadata": {},
   "outputs": [
    {
     "data": {
      "text/plain": [
       "defaultdict(<function pulp.pulp.__makeDict.<locals>.<lambda>>,\n",
       "            {'A': defaultdict(<function pulp.pulp.__makeDict.<locals>.<lambda>>,\n",
       "                         {'1': 21, '2': 12, '3': 25, '4': 11}),\n",
       "             'B': defaultdict(<function pulp.pulp.__makeDict.<locals>.<lambda>>,\n",
       "                         {'1': 13, '2': 10, '3': 21, '4': 17}),\n",
       "             'C': defaultdict(<function pulp.pulp.__makeDict.<locals>.<lambda>>,\n",
       "                         {'1': 12, '2': 14, '3': 19, '4': 12})})"
      ]
     },
     "execution_count": 16,
     "metadata": {},
     "output_type": "execute_result"
    }
   ],
   "source": [
    "opt_costs = makeDict([S, D], costs, 0)\n",
    "opt_costs"
   ]
  },
  {
   "cell_type": "code",
   "execution_count": 17,
   "metadata": {},
   "outputs": [
    {
     "data": {
      "text/plain": [
       "{'A': {'1': Route_A_1, '2': Route_A_2, '3': Route_A_3, '4': Route_A_4},\n",
       " 'B': {'1': Route_B_1, '2': Route_B_2, '3': Route_B_3, '4': Route_B_4},\n",
       " 'C': {'1': Route_C_1, '2': Route_C_2, '3': Route_C_3, '4': Route_C_4}}"
      ]
     },
     "execution_count": 17,
     "metadata": {},
     "output_type": "execute_result"
    }
   ],
   "source": [
    "x = LpVariable.dicts('Route', (S, D), lowBound=0)\n",
    "x"
   ]
  },
  {
   "cell_type": "code",
   "execution_count": 18,
   "metadata": {},
   "outputs": [
    {
     "data": {
      "text/plain": [
       "[('A', '1'),\n",
       " ('A', '2'),\n",
       " ('A', '3'),\n",
       " ('A', '4'),\n",
       " ('B', '1'),\n",
       " ('B', '2'),\n",
       " ('B', '3'),\n",
       " ('B', '4'),\n",
       " ('C', '1'),\n",
       " ('C', '2'),\n",
       " ('C', '3'),\n",
       " ('C', '4')]"
      ]
     },
     "execution_count": 18,
     "metadata": {},
     "output_type": "execute_result"
    }
   ],
   "source": [
    "routes = [(i, j) for i in S for j in D]\n",
    "routes"
   ]
  },
  {
   "cell_type": "code",
   "execution_count": 19,
   "metadata": {},
   "outputs": [],
   "source": [
    "prob += lpSum([x[s][d]*opt_costs[s][d] for (s, d) in routes]) # objective function\n",
    "\n",
    "# constraints\n",
    "for i in S:\n",
    "    prob += lpSum([x[i][j] for j in D]) == supply[i]\n",
    "\n",
    "for j in D:\n",
    "    prob += lpSum([x[i][j] for i in S]) == demand[j]"
   ]
  },
  {
   "cell_type": "code",
   "execution_count": 20,
   "metadata": {},
   "outputs": [
    {
     "data": {
      "text/plain": [
       "1"
      ]
     },
     "execution_count": 20,
     "metadata": {},
     "output_type": "execute_result"
    }
   ],
   "source": [
    "prob.solve()"
   ]
  },
  {
   "cell_type": "code",
   "execution_count": 21,
   "metadata": {},
   "outputs": [
    {
     "name": "stdout",
     "output_type": "stream",
     "text": [
      "Route_A_1 = 0.0\n",
      "Route_A_2 = 40.0\n",
      "Route_A_3 = 10.0\n",
      "Route_A_4 = 30.0\n",
      "Route_B_1 = 50.0\n",
      "Route_B_2 = 0.0\n",
      "Route_B_3 = 10.0\n",
      "Route_B_4 = 0.0\n",
      "Route_C_1 = 0.0\n",
      "Route_C_2 = 0.0\n",
      "Route_C_3 = 50.0\n",
      "Route_C_4 = 0.0\n",
      "Status Optimal\n",
      "2870.0\n"
     ]
    }
   ],
   "source": [
    "for i in prob.variables():\n",
    "    print(i.name, \"=\", i.varValue)\n",
    "print('Status', LpStatus[prob.status])\n",
    "print(pulp.value(prob.objective))"
   ]
  },
  {
   "cell_type": "markdown",
   "metadata": {},
   "source": [
    "### 불균형 수송 문제($S_i\\neq D_j$)"
   ]
  },
  {
   "cell_type": "code",
   "execution_count": 65,
   "metadata": {
    "collapsed": true,
    "jupyter": {
     "outputs_hidden": true
    }
   },
   "outputs": [],
   "source": [
    "prob = LpProblem(\"Unbalanced Transportation\", LpMinimize)"
   ]
  },
  {
   "cell_type": "code",
   "execution_count": 66,
   "metadata": {
    "collapsed": true,
    "jupyter": {
     "outputs_hidden": true
    }
   },
   "outputs": [],
   "source": [
    "S = [\"A\", \"B\", \"C\"]\n",
    "D = [\"1\", \"2\", \"3\", \"4\"]\n",
    "costs = [[21, 12, 25, 11],\n",
    "         [13, 10, 21, 17],\n",
    "         [12, 14, 19, 12]]\n",
    "\n",
    "supply = dict(zip(S, [80, 60, 50]))\n",
    "demand = dict(zip(D, [60, 50, 80, 40]))"
   ]
  },
  {
   "cell_type": "code",
   "execution_count": 67,
   "metadata": {},
   "outputs": [],
   "source": [
    "opt_costs = makeDict([S, D], costs, 0)"
   ]
  },
  {
   "cell_type": "code",
   "execution_count": 68,
   "metadata": {},
   "outputs": [
    {
     "data": {
      "text/plain": [
       "{'A': {'1': Route_A_1, '2': Route_A_2, '3': Route_A_3, '4': Route_A_4},\n",
       " 'B': {'1': Route_B_1, '2': Route_B_2, '3': Route_B_3, '4': Route_B_4},\n",
       " 'C': {'1': Route_C_1, '2': Route_C_2, '3': Route_C_3, '4': Route_C_4}}"
      ]
     },
     "execution_count": 68,
     "metadata": {},
     "output_type": "execute_result"
    }
   ],
   "source": [
    "x = LpVariable.dicts('Route', (S, D), lowBound=0)\n",
    "x"
   ]
  },
  {
   "cell_type": "code",
   "execution_count": 69,
   "metadata": {
    "collapsed": true,
    "jupyter": {
     "outputs_hidden": true
    }
   },
   "outputs": [],
   "source": [
    "routes = [(i, j) for i in S for j in D]"
   ]
  },
  {
   "cell_type": "code",
   "execution_count": 70,
   "metadata": {},
   "outputs": [],
   "source": [
    "prob += lpSum([x[s][d]*opt_costs[s][d] for (s, d) in routes]) # objective function\n",
    "\n",
    "# constraints\n",
    "for i in S:\n",
    "    prob += lpSum([x[i][j] for j in D]) == supply[i]\n",
    "\n",
    "for j in D:\n",
    "    prob += lpSum([x[i][j] for i in S]) <= demand[j]"
   ]
  },
  {
   "cell_type": "code",
   "execution_count": 71,
   "metadata": {},
   "outputs": [
    {
     "data": {
      "text/plain": [
       "1"
      ]
     },
     "execution_count": 71,
     "metadata": {},
     "output_type": "execute_result"
    }
   ],
   "source": [
    "prob.solve()"
   ]
  },
  {
   "cell_type": "code",
   "execution_count": 72,
   "metadata": {},
   "outputs": [
    {
     "name": "stdout",
     "output_type": "stream",
     "text": [
      "Route_A_1 = 0.0\n",
      "Route_A_2 = 40.0\n",
      "Route_A_3 = 0.0\n",
      "Route_A_4 = 40.0\n",
      "Route_B_1 = 50.0\n",
      "Route_B_2 = 10.0\n",
      "Route_B_3 = 0.0\n",
      "Route_B_4 = 0.0\n",
      "Route_C_1 = 10.0\n",
      "Route_C_2 = 0.0\n",
      "Route_C_3 = 40.0\n",
      "Route_C_4 = 0.0\n",
      "Status Optimal\n",
      "2550.0\n"
     ]
    }
   ],
   "source": [
    "for i in prob.variables():\n",
    "    print(i.name, \"=\", i.varValue)\n",
    "print('Status', LpStatus[prob.status])\n",
    "print(pulp.value(prob.objective))"
   ]
  },
  {
   "cell_type": "markdown",
   "metadata": {},
   "source": [
    "### 단일수송이 아닌 복합 수송문제 분석사례"
   ]
  },
  {
   "cell_type": "code",
   "execution_count": null,
   "metadata": {},
   "outputs": [],
   "source": [
    "S = [\"A\", \"B\"]\n",
    "D = [\"1\", \"2\", \"3\"]\n",
    "costs = [[1, 10, 21, 12, 25],\n",
    "         [10, 1, 13, 10, 21],\n",
    "         [21, 13, 1, 8, 15], \n",
    "         [12, 10, 8, 1, 9], \n",
    "         [25, 21, 15, 9, 1]]\n",
    "\n",
    "supply = dict(zip(S, [400, 500, 300, 300]))\n",
    "demand = dict(zip(D, [300, 300, 300, 400, 400, 400]))"
   ]
  },
  {
   "cell_type": "code",
   "execution_count": 84,
   "metadata": {},
   "outputs": [
    {
     "name": "stdout",
     "output_type": "stream",
     "text": [
      "{1: x_1, 2: x_2, 3: x_3, 4: x_4, 5: x_5, 6: x_6, 7: x_7, 8: x_8, 9: x_9, 10: x_10, 11: x_11, 12: x_12, 13: x_13, 14: x_14, 15: x_15, 16: x_16, 17: x_17, 18: x_18, 19: x_19, 20: x_20, 21: x_21, 22: x_22, 23: x_23, 24: x_24, 25: x_25}\n"
     ]
    }
   ],
   "source": [
    "decision_vars = LpVariable.dicts(\"x\", ((i) for i in range(1, 26)), \n",
    "                                 lowBound=0, cat='Integer')\n",
    "print(decision_vars)"
   ]
  },
  {
   "cell_type": "code",
   "execution_count": null,
   "metadata": {},
   "outputs": [],
   "source": []
  },
  {
   "cell_type": "code",
   "execution_count": null,
   "metadata": {},
   "outputs": [],
   "source": []
  },
  {
   "cell_type": "code",
   "execution_count": null,
   "metadata": {},
   "outputs": [],
   "source": []
  }
 ],
 "metadata": {
  "kernelspec": {
   "display_name": "Python 3",
   "language": "python",
   "name": "python3"
  },
  "language_info": {
   "codemirror_mode": {
    "name": "ipython",
    "version": 3
   },
   "file_extension": ".py",
   "mimetype": "text/x-python",
   "name": "python",
   "nbconvert_exporter": "python",
   "pygments_lexer": "ipython3",
   "version": "3.7.3"
  },
  "latex_envs": {
   "LaTeX_envs_menu_present": true,
   "autocomplete": true,
   "bibliofile": "biblio.bib",
   "cite_by": "apalike",
   "current_citInitial": 1,
   "eqLabelWithNumbers": true,
   "eqNumInitial": 1,
   "hotkeys": {
    "equation": "Ctrl-E",
    "itemize": "Ctrl-I"
   },
   "labels_anchors": false,
   "latex_user_defs": false,
   "report_style_numbering": false,
   "user_envs_cfg": false
  },
  "varInspector": {
   "cols": {
    "lenName": 16,
    "lenType": 16,
    "lenVar": 40
   },
   "kernels_config": {
    "python": {
     "delete_cmd_postfix": "",
     "delete_cmd_prefix": "del ",
     "library": "var_list.py",
     "varRefreshCmd": "print(var_dic_list())"
    },
    "r": {
     "delete_cmd_postfix": ") ",
     "delete_cmd_prefix": "rm(",
     "library": "var_list.r",
     "varRefreshCmd": "cat(var_dic_list()) "
    }
   },
   "types_to_exclude": [
    "module",
    "function",
    "builtin_function_or_method",
    "instance",
    "_Feature"
   ],
   "window_display": false
  }
 },
 "nbformat": 4,
 "nbformat_minor": 4
}
