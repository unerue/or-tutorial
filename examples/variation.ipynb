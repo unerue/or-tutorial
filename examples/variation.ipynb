{
 "cells": [
  {
   "cell_type": "markdown",
   "metadata": {},
   "source": [
    "## Contribution Coefficient Variation\n",
    "\n",
    "단계별 공헌계수가 변동하는 경우의 분석사례로서, 앞에서 수행한 최대화의 문제를 참조하여 다음 문제를 고려하였다. 즉, 어느 회사에서 x1, x2, 2개 제푸믈 생산하여 판매한다. 제품을 생산하여 판매하면 제품수량에 따라 x1은 4, 3, 2만원 제품x2는 3, 2, 1만 원의 이익이 발생한다. 제품의 생산과정에서는 A, B, C 3개 자원이 소모되며, 제품별로 소요되는 A, B, C 자원의 량과 각 자원별 최대 사용 가능량은 다음과 같다.\n",
    "\n",
    "|소요자원|제품 X1|제품 X2|사용가능 자원량|\n",
    "|:----:|-----:|-----:|--------:|\n",
    "|A|2|3|80|\n",
    "|B|-3|2|20|\n",
    "|C|2|1|50|\n",
    "|이익|4(0-10개)|3(0-10개)||\n",
    "||3(11-20개)|2(11-20개)||\n",
    "||2(20개 이상)|1(21개 이상)||"
   ]
  },
  {
   "cell_type": "code",
   "execution_count": null,
   "metadata": {},
   "outputs": [],
   "source": [
    "from pulp import *\n",
    "\n",
    "prob = LpProblem(\"Contribution Coefficient Variation\", LpMaximize)"
   ]
  },
  {
   "cell_type": "code",
   "execution_count": null,
   "metadata": {},
   "outputs": [],
   "source": [
    "y1 = LpVariable(\"Y1\", lowBound=0)\n",
    "y2 = LpVariable(\"Y2\", lowBound=0)\n",
    "y3 = LpVariable(\"Y3\", lowBound=0)\n",
    "y4 = LpVariable(\"Y4\", lowBound=0)\n",
    "y5 = LpVariable(\"Y5\", lowBound=0)\n",
    "y6 = LpVariable(\"Y6\", lowBound=0)"
   ]
  },
  {
   "cell_type": "code",
   "execution_count": null,
   "metadata": {},
   "outputs": [],
   "source": [
    "prob += 4*y1 + 3*y2 + 2*y3 + 3*y4 + 2*y5 + y6"
   ]
  },
  {
   "cell_type": "code",
   "execution_count": null,
   "metadata": {},
   "outputs": [],
   "source": [
    "prob += 2*(y1+y2+y3) + 3*(y4+y5+y6) <= 80\n",
    "prob += -3*(y1+y2+y3) + 2*(y4+y5+y6) <= 20\n",
    "prob += 2*(y1+y2+y3) + (y4+y5+y6) <= 50\n",
    "\n",
    "prob += y1 <= 10\n",
    "prob += y2 <= 10\n",
    "prob += y4 <= 10\n",
    "prob += y5 <= 10"
   ]
  },
  {
   "cell_type": "code",
   "execution_count": 6,
   "metadata": {},
   "outputs": [
    {
     "data": {
      "text/plain": [
       "1"
      ]
     },
     "execution_count": 6,
     "metadata": {},
     "output_type": "execute_result"
    }
   ],
   "source": [
    "prob.solve()"
   ]
  },
  {
   "cell_type": "code",
   "execution_count": 7,
   "metadata": {},
   "outputs": [
    {
     "name": "stdout",
     "output_type": "stream",
     "text": [
      "Y1 = 10.0\n",
      "Y2 = 7.5\n",
      "Y3 = 0.0\n",
      "Y4 = 10.0\n",
      "Y5 = 5.0\n",
      "Y6 = 0.0\n",
      "Status Optimal\n",
      "102.5\n"
     ]
    }
   ],
   "source": [
    "for i in prob.variables():\n",
    "    print(i.name, '=', i.varValue)\n",
    "print('Status', LpStatus[prob.status])\n",
    "print(pulp.value(prob.objective))"
   ]
  },
  {
   "cell_type": "markdown",
   "metadata": {},
   "source": [
    "### Housing Location Problem - Herbert Stevens\n",
    "\n",
    "소득계층별 주거형태별 건설계획을 결정하는 분석사례이다. 예를 들어 어느 도시에서 1지역 면적 500ha, 2지역 면적은 300ha이며, 이 두 지역에, 고소득 300가구, 저소득 200가구 주택을 건설하고자 한다. 이때 소득별 주거형태별 주거비용, 소요예산, 그리고 소요면적은 다음과 같다. 이러한 상황에서 지대 절약을 최대로 하는 주택 건설 계획을 수립하시오.\n",
    "\n",
    "|구분|주거비용|     |     |     |예산  |     |소요면적|    |\n",
    "|:--:|:--:|:--:|:--:|:--:|:--:|:--:|:--:|:--:|\n",
    "|   |1지역  |     |2지역 |     |     |     |    |    |\n",
    "|   |주택 1 |주택 2|주택 1|주택 2|주택 1|주택 2|주택 1|주택 2|\n",
    "|고소득|5|5|7|6|12|10|2.0|1.5|\n",
    "|저소득|4|4|4|4|6|5|1.2|1.0|\n",
    "\n",
    "\n",
    "|구분|가처분소득||(예산-주거비용)||\n",
    "|:--:|:--:|:--:|:--:|:--:|\n",
    "|   |1지역  |     |  2지역|    |\n",
    "|   |주택 1 |주택 2|주택 1|주택 2|\n",
    "|고소득|7 (X11)|5 (X12)|5 (X13)|4 (X14)|\n",
    "|저소득|2 (X21)|1 (X22)|2 (X23)|1 (X24)|"
   ]
  },
  {
   "cell_type": "code",
   "execution_count": 8,
   "metadata": {
    "collapsed": true,
    "jupyter": {
     "outputs_hidden": true
    }
   },
   "outputs": [],
   "source": [
    "prob = LpProblem(\"Housing Location Problem\", LpMaximize)"
   ]
  },
  {
   "cell_type": "code",
   "execution_count": 9,
   "metadata": {
    "collapsed": true,
    "jupyter": {
     "outputs_hidden": true
    }
   },
   "outputs": [],
   "source": [
    "X11 = LpVariable(\"X11\", lowBound=0)\n",
    "X12 = LpVariable(\"X12\", lowBound=0)\n",
    "X13 = LpVariable(\"X13\", lowBound=0)\n",
    "X14 = LpVariable(\"X14\", lowBound=0)\n",
    "X21 = LpVariable(\"X21\", lowBound=0)\n",
    "X22 = LpVariable(\"X22\", lowBound=0)\n",
    "X23 = LpVariable(\"X23\", lowBound=0)\n",
    "X24 = LpVariable(\"X24\", lowBound=0)"
   ]
  },
  {
   "cell_type": "code",
   "execution_count": 10,
   "metadata": {
    "collapsed": true,
    "jupyter": {
     "outputs_hidden": true
    }
   },
   "outputs": [],
   "source": [
    "prob += 7*X11 + 5*X12 + 5*X13 + 4*X14 + 2*X21 + X22 + 2*X23 + X24"
   ]
  },
  {
   "cell_type": "code",
   "execution_count": 11,
   "metadata": {
    "collapsed": true,
    "jupyter": {
     "outputs_hidden": true
    }
   },
   "outputs": [],
   "source": [
    "prob += 2*X11 + 1.5*X12 + 1.2*X21 + X22 <= 500\n",
    "prob += 2*X13 + 1.5*X14 + 1.2*X23 + X24 <= 300\n",
    "prob += X11 + X12 + X13 + X14 <= 300\n",
    "prob += X21 + X22 + X23 + X24 <= 200"
   ]
  },
  {
   "cell_type": "code",
   "execution_count": 12,
   "metadata": {},
   "outputs": [
    {
     "data": {
      "text/plain": [
       "1"
      ]
     },
     "execution_count": 12,
     "metadata": {},
     "output_type": "execute_result"
    }
   ],
   "source": [
    "prob.solve()"
   ]
  },
  {
   "cell_type": "code",
   "execution_count": 13,
   "metadata": {},
   "outputs": [
    {
     "name": "stdout",
     "output_type": "stream",
     "text": [
      "X11 = 250.0\n",
      "X12 = 0.0\n",
      "X13 = 50.0\n",
      "X14 = 0.0\n",
      "X21 = 0.0\n",
      "X22 = 0.0\n",
      "X23 = 166.66667\n",
      "X24 = 0.0\n",
      "Status Optimal\n",
      "2333.33334\n"
     ]
    }
   ],
   "source": [
    "for i in prob.variables():\n",
    "    print(i.name, \"=\", i.varValue)\n",
    "print('Status', LpStatus[prob.status])\n",
    "print(pulp.value(prob.objective))"
   ]
  },
  {
   "cell_type": "markdown",
   "metadata": {},
   "source": [
    "## Transportation Programming\n",
    "\n",
    "### 4.1 수송계획법의 개요\n",
    "\n",
    "수송계획법은 선형게획법의 특수한 형태로서, 일반적으로 목적함수는 비용의 최소화이다. 수송계획 법의 수식형태와 적용변수들은 다음과 같으며, 수요와 공급이 일치할 경우, 제약조건은 등식이나, 수요와 공급이 불일치할 경우, 제약조건은 부등식이 된다.\n",
    "\n",
    "* 목적함수(objective function): $\\min \\sum_{i=1}^n\\sum_{j=1}^mc_{ij}x_{ij}$\n",
    "* 제약조건(constraints): $\\sum_{i=1}^nx_{ij}=S_i,\\qquad\\sum_{i=1}^mx_{ij}=D_j$\n",
    "* Decision variable: $x_{ij}$, 결정변수로서 공급지역 i에서 수요지역 j로 이동하는 물동량으로 기저변수(basic variable)일 경우 물동량 할당이 된다.\n",
    "\n",
    "|구분|   |수요|   |   |   |총공급량|\n",
    "|:-:|:-:|:-:|:-:|:-:|:-:|:-:|\n",
    "|   |   |X  |Y  |Z  |W   |   |\n",
    "|공급|A|21|12|25|11|80|\n",
    "||B|13|10|21|17|60|\n",
    "||C|12|14|19|12|50|\n",
    "|총수요량||50|40|70|30|190|"
   ]
  },
  {
   "cell_type": "code",
   "execution_count": 14,
   "metadata": {
    "collapsed": true,
    "jupyter": {
     "outputs_hidden": true
    }
   },
   "outputs": [],
   "source": [
    "prob = LpProblem(\"Transportation\", LpMinimize)"
   ]
  },
  {
   "cell_type": "code",
   "execution_count": 15,
   "metadata": {},
   "outputs": [
    {
     "data": {
      "text/plain": [
       "{'1': 50, '2': 40, '3': 70, '4': 30}"
      ]
     },
     "execution_count": 15,
     "metadata": {},
     "output_type": "execute_result"
    }
   ],
   "source": [
    "S = [\"A\", \"B\", \"C\"]\n",
    "D = [\"1\", \"2\", \"3\", \"4\"]\n",
    "costs = [[21, 12, 25, 11],\n",
    "         [13, 10, 21, 17],\n",
    "         [12, 14, 19, 12]]\n",
    "\n",
    "supply = dict(zip(S, [80, 60, 50]))\n",
    "demand = dict(zip(D, [50, 40, 70, 30]))\n",
    "demand"
   ]
  },
  {
   "cell_type": "code",
   "execution_count": 16,
   "metadata": {},
   "outputs": [
    {
     "data": {
      "text/plain": [
       "defaultdict(<function pulp.pulp.__makeDict.<locals>.<lambda>>,\n",
       "            {'A': defaultdict(<function pulp.pulp.__makeDict.<locals>.<lambda>>,\n",
       "                         {'1': 21, '2': 12, '3': 25, '4': 11}),\n",
       "             'B': defaultdict(<function pulp.pulp.__makeDict.<locals>.<lambda>>,\n",
       "                         {'1': 13, '2': 10, '3': 21, '4': 17}),\n",
       "             'C': defaultdict(<function pulp.pulp.__makeDict.<locals>.<lambda>>,\n",
       "                         {'1': 12, '2': 14, '3': 19, '4': 12})})"
      ]
     },
     "execution_count": 16,
     "metadata": {},
     "output_type": "execute_result"
    }
   ],
   "source": [
    "opt_costs = makeDict([S, D], costs, 0)\n",
    "opt_costs"
   ]
  },
  {
   "cell_type": "code",
   "execution_count": 17,
   "metadata": {},
   "outputs": [
    {
     "data": {
      "text/plain": [
       "{'A': {'1': Route_A_1, '2': Route_A_2, '3': Route_A_3, '4': Route_A_4},\n",
       " 'B': {'1': Route_B_1, '2': Route_B_2, '3': Route_B_3, '4': Route_B_4},\n",
       " 'C': {'1': Route_C_1, '2': Route_C_2, '3': Route_C_3, '4': Route_C_4}}"
      ]
     },
     "execution_count": 17,
     "metadata": {},
     "output_type": "execute_result"
    }
   ],
   "source": [
    "x = LpVariable.dicts('Route', (S, D), lowBound=0)\n",
    "x"
   ]
  },
  {
   "cell_type": "code",
   "execution_count": 18,
   "metadata": {},
   "outputs": [
    {
     "data": {
      "text/plain": [
       "[('A', '1'),\n",
       " ('A', '2'),\n",
       " ('A', '3'),\n",
       " ('A', '4'),\n",
       " ('B', '1'),\n",
       " ('B', '2'),\n",
       " ('B', '3'),\n",
       " ('B', '4'),\n",
       " ('C', '1'),\n",
       " ('C', '2'),\n",
       " ('C', '3'),\n",
       " ('C', '4')]"
      ]
     },
     "execution_count": 18,
     "metadata": {},
     "output_type": "execute_result"
    }
   ],
   "source": [
    "routes = [(i, j) for i in S for j in D]\n",
    "routes"
   ]
  },
  {
   "cell_type": "code",
   "execution_count": 19,
   "metadata": {},
   "outputs": [],
   "source": [
    "prob += lpSum([x[s][d]*opt_costs[s][d] for (s, d) in routes]) # objective function\n",
    "\n",
    "# constraints\n",
    "for i in S:\n",
    "    prob += lpSum([x[i][j] for j in D]) == supply[i]\n",
    "\n",
    "for j in D:\n",
    "    prob += lpSum([x[i][j] for i in S]) == demand[j]"
   ]
  },
  {
   "cell_type": "code",
   "execution_count": 20,
   "metadata": {},
   "outputs": [
    {
     "data": {
      "text/plain": [
       "1"
      ]
     },
     "execution_count": 20,
     "metadata": {},
     "output_type": "execute_result"
    }
   ],
   "source": [
    "prob.solve()"
   ]
  },
  {
   "cell_type": "code",
   "execution_count": 21,
   "metadata": {},
   "outputs": [
    {
     "name": "stdout",
     "output_type": "stream",
     "text": [
      "Route_A_1 = 0.0\n",
      "Route_A_2 = 40.0\n",
      "Route_A_3 = 10.0\n",
      "Route_A_4 = 30.0\n",
      "Route_B_1 = 50.0\n",
      "Route_B_2 = 0.0\n",
      "Route_B_3 = 10.0\n",
      "Route_B_4 = 0.0\n",
      "Route_C_1 = 0.0\n",
      "Route_C_2 = 0.0\n",
      "Route_C_3 = 50.0\n",
      "Route_C_4 = 0.0\n",
      "Status Optimal\n",
      "2870.0\n"
     ]
    }
   ],
   "source": [
    "for i in prob.variables():\n",
    "    print(i.name, \"=\", i.varValue)\n",
    "print('Status', LpStatus[prob.status])\n",
    "print(pulp.value(prob.objective))"
   ]
  },
  {
   "cell_type": "markdown",
   "metadata": {},
   "source": [
    "### 불균형 수송 문제($S_i\\neq D_j$)"
   ]
  },
  {
   "cell_type": "code",
   "execution_count": 65,
   "metadata": {
    "collapsed": true,
    "jupyter": {
     "outputs_hidden": true
    }
   },
   "outputs": [],
   "source": [
    "prob = LpProblem(\"Unbalanced Transportation\", LpMinimize)"
   ]
  },
  {
   "cell_type": "code",
   "execution_count": 66,
   "metadata": {
    "collapsed": true,
    "jupyter": {
     "outputs_hidden": true
    }
   },
   "outputs": [],
   "source": [
    "S = [\"A\", \"B\", \"C\"]\n",
    "D = [\"1\", \"2\", \"3\", \"4\"]\n",
    "costs = [[21, 12, 25, 11],\n",
    "         [13, 10, 21, 17],\n",
    "         [12, 14, 19, 12]]\n",
    "\n",
    "supply = dict(zip(S, [80, 60, 50]))\n",
    "demand = dict(zip(D, [60, 50, 80, 40]))"
   ]
  },
  {
   "cell_type": "code",
   "execution_count": 67,
   "metadata": {},
   "outputs": [],
   "source": [
    "opt_costs = makeDict([S, D], costs, 0)"
   ]
  },
  {
   "cell_type": "code",
   "execution_count": 68,
   "metadata": {},
   "outputs": [
    {
     "data": {
      "text/plain": [
       "{'A': {'1': Route_A_1, '2': Route_A_2, '3': Route_A_3, '4': Route_A_4},\n",
       " 'B': {'1': Route_B_1, '2': Route_B_2, '3': Route_B_3, '4': Route_B_4},\n",
       " 'C': {'1': Route_C_1, '2': Route_C_2, '3': Route_C_3, '4': Route_C_4}}"
      ]
     },
     "execution_count": 68,
     "metadata": {},
     "output_type": "execute_result"
    }
   ],
   "source": [
    "x = LpVariable.dicts('Route', (S, D), lowBound=0)\n",
    "x"
   ]
  },
  {
   "cell_type": "code",
   "execution_count": 69,
   "metadata": {
    "collapsed": true,
    "jupyter": {
     "outputs_hidden": true
    }
   },
   "outputs": [],
   "source": [
    "routes = [(i, j) for i in S for j in D]"
   ]
  },
  {
   "cell_type": "code",
   "execution_count": 70,
   "metadata": {},
   "outputs": [],
   "source": [
    "prob += lpSum([x[s][d]*opt_costs[s][d] for (s, d) in routes]) # objective function\n",
    "\n",
    "# constraints\n",
    "for i in S:\n",
    "    prob += lpSum([x[i][j] for j in D]) == supply[i]\n",
    "\n",
    "for j in D:\n",
    "    prob += lpSum([x[i][j] for i in S]) <= demand[j]"
   ]
  },
  {
   "cell_type": "code",
   "execution_count": 71,
   "metadata": {},
   "outputs": [
    {
     "data": {
      "text/plain": [
       "1"
      ]
     },
     "execution_count": 71,
     "metadata": {},
     "output_type": "execute_result"
    }
   ],
   "source": [
    "prob.solve()"
   ]
  },
  {
   "cell_type": "code",
   "execution_count": 72,
   "metadata": {},
   "outputs": [
    {
     "name": "stdout",
     "output_type": "stream",
     "text": [
      "Route_A_1 = 0.0\n",
      "Route_A_2 = 40.0\n",
      "Route_A_3 = 0.0\n",
      "Route_A_4 = 40.0\n",
      "Route_B_1 = 50.0\n",
      "Route_B_2 = 10.0\n",
      "Route_B_3 = 0.0\n",
      "Route_B_4 = 0.0\n",
      "Route_C_1 = 10.0\n",
      "Route_C_2 = 0.0\n",
      "Route_C_3 = 40.0\n",
      "Route_C_4 = 0.0\n",
      "Status Optimal\n",
      "2550.0\n"
     ]
    }
   ],
   "source": [
    "for i in prob.variables():\n",
    "    print(i.name, \"=\", i.varValue)\n",
    "print('Status', LpStatus[prob.status])\n",
    "print(pulp.value(prob.objective))"
   ]
  },
  {
   "cell_type": "markdown",
   "metadata": {},
   "source": [
    "### 단일수송이 아닌 복합 수송문제 분석사례"
   ]
  },
  {
   "cell_type": "code",
   "execution_count": 75,
   "metadata": {
    "collapsed": true,
    "jupyter": {
     "outputs_hidden": true
    }
   },
   "outputs": [],
   "source": [
    "S = [\"A\", \"B\"]\n",
    "D = [\"1\", \"2\", \"3\"]\n",
    "costs = [[1, 10, 21, 12, 25],\n",
    "         [10, 1, 13, 10, 21],\n",
    "         [21, 13, 1, 8, 15], \n",
    "         [12, 10, 8, 1, 9], \n",
    "         [25, 21, 15, 9, 1]]\n",
    "\n",
    "supply = dict(zip(S, [400, 500, 300, 300]))\n",
    "demand = dict(zip(D, [300, 300, 300, 400, 400, 400]))"
   ]
  },
  {
   "cell_type": "code",
   "execution_count": 84,
   "metadata": {},
   "outputs": [
    {
     "name": "stdout",
     "output_type": "stream",
     "text": [
      "{1: x_1, 2: x_2, 3: x_3, 4: x_4, 5: x_5, 6: x_6, 7: x_7, 8: x_8, 9: x_9, 10: x_10, 11: x_11, 12: x_12, 13: x_13, 14: x_14, 15: x_15, 16: x_16, 17: x_17, 18: x_18, 19: x_19, 20: x_20, 21: x_21, 22: x_22, 23: x_23, 24: x_24, 25: x_25}\n"
     ]
    }
   ],
   "source": [
    "decision_vars = LpVariable.dicts(\"x\", ((i) for i in range(1, 26)), \n",
    "                                 lowBound=0, cat='Integer')\n",
    "print(decision_vars)"
   ]
  },
  {
   "cell_type": "code",
   "execution_count": null,
   "metadata": {
    "collapsed": true,
    "jupyter": {
     "outputs_hidden": true
    }
   },
   "outputs": [],
   "source": []
  },
  {
   "cell_type": "code",
   "execution_count": null,
   "metadata": {
    "collapsed": true,
    "jupyter": {
     "outputs_hidden": true
    }
   },
   "outputs": [],
   "source": []
  },
  {
   "cell_type": "code",
   "execution_count": null,
   "metadata": {
    "collapsed": true,
    "jupyter": {
     "outputs_hidden": true
    }
   },
   "outputs": [],
   "source": []
  },
  {
   "cell_type": "code",
   "execution_count": null,
   "metadata": {
    "collapsed": true,
    "jupyter": {
     "outputs_hidden": true
    }
   },
   "outputs": [],
   "source": []
  },
  {
   "cell_type": "code",
   "execution_count": null,
   "metadata": {
    "collapsed": true,
    "jupyter": {
     "outputs_hidden": true
    }
   },
   "outputs": [],
   "source": []
  },
  {
   "cell_type": "code",
   "execution_count": null,
   "metadata": {
    "collapsed": true,
    "jupyter": {
     "outputs_hidden": true
    }
   },
   "outputs": [],
   "source": []
  },
  {
   "cell_type": "markdown",
   "metadata": {},
   "source": [
    "### AHP"
   ]
  },
  {
   "cell_type": "code",
   "execution_count": 30,
   "metadata": {
    "collapsed": true,
    "jupyter": {
     "outputs_hidden": true
    }
   },
   "outputs": [],
   "source": [
    "import pandas as pd\n",
    "import numpy as np"
   ]
  },
  {
   "cell_type": "markdown",
   "metadata": {},
   "source": [
    "$$Ax=\\lambda x$$"
   ]
  },
  {
   "cell_type": "code",
   "execution_count": 31,
   "metadata": {},
   "outputs": [
    {
     "data": {
      "text/plain": [
       "array([[ 1.        ,  2.        ,  3.        ,  5.        ,  7.        ],\n",
       "       [ 0.5       ,  1.        ,  1.        ,  3.        ,  4.        ],\n",
       "       [ 0.33333333,  1.        ,  1.        ,  2.        ,  3.        ],\n",
       "       [ 0.2       ,  0.33333333,  0.5       ,  1.        ,  1.        ],\n",
       "       [ 0.14285714,  0.25      ,  0.33333333,  1.        ,  1.        ]])"
      ]
     },
     "execution_count": 31,
     "metadata": {},
     "output_type": "execute_result"
    }
   ],
   "source": [
    "A = np.array([[1,     2,   3, 5, 7], \n",
    "              [1/2,   1,   1, 3, 4],\n",
    "              [1/3,   1,   1, 2, 3],  \n",
    "              [1/5, 1/3, 1/2, 1, 1],\n",
    "              [1/7, 1/4, 1/3, 1, 1]])\n",
    "A"
   ]
  },
  {
   "cell_type": "code",
   "execution_count": 32,
   "metadata": {},
   "outputs": [
    {
     "data": {
      "text/plain": [
       "((5.0368896454897083+0j),\n",
       " array([ 0.83057239+0.j, -0.74282877+0.j, -0.74282877-0.j,  0.88986345+0.j,\n",
       "         0.88986345-0.j]))"
      ]
     },
     "execution_count": 32,
     "metadata": {},
     "output_type": "execute_result"
    }
   ],
   "source": [
    "w1, x1 = np.linalg.eig(A)\n",
    "w1[0], x1[0]"
   ]
  },
  {
   "cell_type": "code",
   "execution_count": 33,
   "metadata": {
    "collapsed": true,
    "jupyter": {
     "outputs_hidden": true
    }
   },
   "outputs": [],
   "source": [
    "from scipy.stats.mstats import gmean"
   ]
  },
  {
   "cell_type": "markdown",
   "metadata": {},
   "source": [
    "#### 기하평균(geometric mean)\n",
    "\n",
    "$$GM=\\sqrt[n]{\\prod_{i=1}^na_i}=\\sqrt[n]{a_1a_2a_3\\dots}$$\n",
    "숫자들을 모두 곱해서 n 제곱근을 취해서 얻는 평균. \n",
    "\n",
    "기하 평균은 예를 들어 연간 경제성장률, 물가인상율, 연간 이자율, 감쇠/증폭율, 백분비, 크기 확대 비율 같이 표본들이 비율이나 배수이고 각 표본값이 연속성/연계성이 있어서 표본들을 곱한 값이 의미가 있는 경우에 주로 쓰인다. 예를 들어 한국의 2000 년 부터 2010년까지 평균경제성장률 등.\n",
    "\n",
    "* 정합도 지수 또는 일관성 지수(consistency index, CI)\n",
    "\n",
    "$CI=(\\mu-n)/(n-1)$\n",
    "\n",
    "* 정합성 비율\n",
    "\n",
    "$CR=CI/RI$\n",
    "<br>\n",
    "<br>\n",
    "<center>**AHP의 무작위 정합성 지수(random consistency index, RI)**</center>\n",
    "\n",
    "|$n$|1|2|3|4|5|6|7|8|9|10|11|12|\n",
    "|:-:|-:|-:|-:|-:|-:|-:|-:|-:|-:|-:|-:|-:|\n",
    "|RI|0|0|0.52|0.89|1.11|1.25|1.35|1.40|1.45|1.49|1.51|1.54|\n",
    "\n"
   ]
  },
  {
   "cell_type": "code",
   "execution_count": 34,
   "metadata": {},
   "outputs": [
    {
     "data": {
      "text/plain": [
       "array([ 2.91369346,  1.43096908,  1.14869835,  0.50649568,  0.41223432])"
      ]
     },
     "execution_count": 34,
     "metadata": {},
     "output_type": "execute_result"
    }
   ],
   "source": [
    "gm_A = gmean(A, axis=1)\n",
    "gm_A"
   ]
  },
  {
   "cell_type": "code",
   "execution_count": 35,
   "metadata": {},
   "outputs": [
    {
     "data": {
      "text/plain": [
       "array([ 0.45440614,  0.22316731,  0.17914568,  0.07899072,  0.06429015])"
      ]
     },
     "execution_count": 35,
     "metadata": {},
     "output_type": "execute_result"
    }
   ],
   "source": [
    "weights = gm_A/sum(gm_A)\n",
    "weights"
   ]
  },
  {
   "cell_type": "code",
   "execution_count": 36,
   "metadata": {},
   "outputs": [
    {
     "data": {
      "text/plain": [
       "array([ 2.28316248,  1.12364884,  0.90463361,  0.39812404,  0.32370309])"
      ]
     },
     "execution_count": 36,
     "metadata": {},
     "output_type": "execute_result"
    }
   ],
   "source": [
    "dot_A = np.dot(A, weights)\n",
    "dot_A"
   ]
  },
  {
   "cell_type": "code",
   "execution_count": 37,
   "metadata": {},
   "outputs": [
    {
     "data": {
      "text/plain": [
       "array([ 5.02449744,  5.0350064 ,  5.04970942,  5.04013686,  5.03503362])"
      ]
     },
     "execution_count": 37,
     "metadata": {},
     "output_type": "execute_result"
    }
   ],
   "source": [
    "ww = dot_A/weights\n",
    "ww"
   ]
  },
  {
   "cell_type": "code",
   "execution_count": 38,
   "metadata": {},
   "outputs": [
    {
     "data": {
      "text/plain": [
       "(0.0092224113724270751+0j)"
      ]
     },
     "execution_count": 38,
     "metadata": {},
     "output_type": "execute_result"
    }
   ],
   "source": [
    "# CI = (lambda-n)/(n-1)\n",
    "CI = (w1[0]-5)/(5-1)\n",
    "CI"
   ]
  },
  {
   "cell_type": "code",
   "execution_count": 39,
   "metadata": {},
   "outputs": [
    {
     "data": {
      "text/plain": [
       "(0.0083084787138982645+0j)"
      ]
     },
     "execution_count": 39,
     "metadata": {},
     "output_type": "execute_result"
    }
   ],
   "source": [
    "CR = CI/1.11\n",
    "CR"
   ]
  },
  {
   "cell_type": "markdown",
   "metadata": {},
   "source": [
    "|**(기준)**|가격|기능|디자인|\n",
    "|:-----:|:-:|:-:|:-:|\n",
    "|**가격**|1|2|4|\n",
    "|**기능**|1/2|1|3|\n",
    "|**디자인**|1/4|1/3|1|\n",
    "\n",
    "\n",
    "|**(가격)**|제품 A|제품 B|제품 C|\n",
    "|:-----:|:-:|:-:|:-:|\n",
    "|**제품 A**|1|2|3|\n",
    "|**제품 B**|1/2|1|2|\n",
    "|**제품 C**|1/3|1/2|1|\n",
    "\n",
    "|**(기능)**|제품 A|제품 B|제품 C|\n",
    "|:-----:|:-:|:-:|:-:|\n",
    "|**제품 A**|1|3|5|\n",
    "|**제품 B**|1/3|1|2|\n",
    "|**제품 C**|1/5|1/2|1|\n",
    "\n",
    "\n",
    "|**(디자인)**|제품 A|제품 B|제품 C|\n",
    "|:-----:|:-:|:-:|:-:|\n",
    "|**제품 A**|1|3|2|\n",
    "|**제품 B**|1/3|1|1/2|\n",
    "|**제품 C**|1/2|2|1|"
   ]
  },
  {
   "cell_type": "code",
   "execution_count": 40,
   "metadata": {},
   "outputs": [],
   "source": [
    "# 평가기준별 선호도 조사\n",
    "cc = np.array([[1, 2, 4], [1/2, 1, 3], [1/4, 1/3, 1]])\n",
    "\n",
    "# 제품별 가격 선호도 조사\n",
    "p1 = np.array([[1, 2, 3], [1/2, 1, 2], [1/3, 1/2, 1]])\n",
    "\n",
    "# 제품별 기능 선호도 조사\n",
    "p2 = np.array([[1, 3, 5], [1/3, 1, 2], [1/5, 1/2, 1]])\n",
    "\n",
    "# 제품별 디자인 선호도 조사\n",
    "p3 = np.array([[1, 3, 2], [1/3, 1, 1/2], [1/2, 2, 1]])"
   ]
  },
  {
   "cell_type": "code",
   "execution_count": 41,
   "metadata": {},
   "outputs": [
    {
     "name": "stdout",
     "output_type": "stream",
     "text": [
      "고유값 = (3.01829470729+0j)\n",
      "고유벡터 = [ 0.85271323+0.j  0.85271323+0.j  0.85271323-0.j]\n",
      "비교대상 중요도 =  [ 0.55842454  0.31961826  0.12195719]\n",
      "CI = (0.00914735364482+0j)\n",
      "CR = (0.0175910647016+0j)\n"
     ]
    }
   ],
   "source": [
    "# 평가기준 분석\n",
    "w1, x1 = np.linalg.eig(cc)\n",
    "print(\"고유값 =\", w1[0])\n",
    "print(\"고유벡터 =\", x1[0])\n",
    "\n",
    "gm_A = gmean(cc, axis=1)\n",
    "weights = gm_A/sum(gm_A)\n",
    "print(\"비교대상 중요도 = \", weights)\n",
    "\n",
    "# CI = (lambda-n)/(n-1)\n",
    "CI = (w1[0]-3)/(3-1)\n",
    "print(\"CI =\", CI)\n",
    "\n",
    "CR = CI/0.52\n",
    "print(\"CR =\", CR)"
   ]
  },
  {
   "cell_type": "code",
   "execution_count": 42,
   "metadata": {},
   "outputs": [
    {
     "data": {
      "text/plain": [
       "array([ 0.85271323+0.j,  0.48805649+0.j,  0.18622840+0.j])"
      ]
     },
     "execution_count": 42,
     "metadata": {},
     "output_type": "execute_result"
    }
   ],
   "source": [
    "x1.T[0]"
   ]
  },
  {
   "cell_type": "code",
   "execution_count": 43,
   "metadata": {},
   "outputs": [
    {
     "data": {
      "text/plain": [
       "3"
      ]
     },
     "execution_count": 43,
     "metadata": {},
     "output_type": "execute_result"
    }
   ],
   "source": [
    "len(x1)"
   ]
  },
  {
   "cell_type": "code",
   "execution_count": 44,
   "metadata": {
    "collapsed": true,
    "jupyter": {
     "outputs_hidden": true
    }
   },
   "outputs": [],
   "source": [
    "def AHP(matrix):\n",
    "    # import numpy as np\n",
    "    # from scipy.stats.mstats import gmean\n",
    "    w, x = np.linalg.eig(matrix)\n",
    "    gm = gmean(matrix, axis=1)\n",
    "    weight = gm/sum(gm)\n",
    "    CI = (w[0]-len(x))/(len(x)-1)\n",
    "    AHP_RI = [0, 0, 0.52, 0.89, 1.11, 1.25, 1.35, 1.40, 1.45, 1.49, 1.51, 1.54]\n",
    "    CR = CI/AHP_RI[len(x)-1]\n",
    "    \n",
    "    print(\"고유값 =\", w[0])\n",
    "    print(\"고유벡터 =\", x.T[0])\n",
    "    print(\"비교대상 중요도 = \", weight)\n",
    "    print(\"CI =\", CI)\n",
    "    print(\"RI =\", AHP_RI[len(x)-1])\n",
    "    print(\"CR =\", CR)\n",
    "    return weight"
   ]
  },
  {
   "cell_type": "code",
   "execution_count": 45,
   "metadata": {},
   "outputs": [
    {
     "name": "stdout",
     "output_type": "stream",
     "text": [
      "고유값 = (3.01829470729+0j)\n",
      "고유벡터 = [ 0.85271323+0.j  0.48805649+0.j  0.18622840+0.j]\n",
      "비교대상 중요도 =  [ 0.55842454  0.31961826  0.12195719]\n",
      "CI = (0.00914735364482+0j)\n",
      "RI = 0.52\n",
      "CR = (0.0175910647016+0j)\n"
     ]
    }
   ],
   "source": [
    "w_cc = AHP(cc)"
   ]
  },
  {
   "cell_type": "code",
   "execution_count": 46,
   "metadata": {},
   "outputs": [
    {
     "name": "stdout",
     "output_type": "stream",
     "text": [
      "고유값 = (3.00920271271+0j)\n",
      "고유벡터 = [ 0.84679693+0.j  0.46601031+0.j  0.25645536+0.j]\n",
      "비교대상 중요도 =  [ 0.53961455  0.29696133  0.16342412]\n",
      "CI = (0.00460135635714+0j)\n",
      "RI = 0.52\n",
      "CR = (0.00884876222527+0j)\n"
     ]
    }
   ],
   "source": [
    "w_p1 = AHP(p1)"
   ]
  },
  {
   "cell_type": "code",
   "execution_count": 47,
   "metadata": {},
   "outputs": [
    {
     "name": "stdout",
     "output_type": "stream",
     "text": [
      "고유값 = (3.00369459806+0j)\n",
      "고유벡터 = [ 0.92811934+0.j  0.32875799+0.j  0.17467875+0.j]\n",
      "비교대상 중요도 =  [ 0.64832901  0.22965079  0.12202019]\n",
      "CI = (0.00184729903182+0j)\n",
      "RI = 0.52\n",
      "CR = (0.00355249813811+0j)\n"
     ]
    }
   ],
   "source": [
    "w_p2 = AHP(p2)"
   ]
  },
  {
   "cell_type": "code",
   "execution_count": 48,
   "metadata": {},
   "outputs": [
    {
     "name": "stdout",
     "output_type": "stream",
     "text": [
      "고유값 = (3.00920271271+0j)\n",
      "고유벡터 = [ 0.84679693+0.j  0.25645536+0.j  0.46601031+0.j]\n",
      "비교대상 중요도 =  [ 0.53961455  0.16342412  0.29696133]\n",
      "CI = (0.00460135635714+0j)\n",
      "RI = 0.52\n",
      "CR = (0.00884876222527+0j)\n"
     ]
    }
   ],
   "source": [
    "w_p3 = AHP(p3)"
   ]
  },
  {
   "cell_type": "code",
   "execution_count": 49,
   "metadata": {},
   "outputs": [],
   "source": [
    "pv1 = w_cc[0] * w_p1\n",
    "pv2 = w_cc[1] * w_p2\n",
    "pv3 = w_cc[2] * w_p3"
   ]
  },
  {
   "cell_type": "code",
   "execution_count": 50,
   "metadata": {},
   "outputs": [
    {
     "name": "stdout",
     "output_type": "stream",
     "text": [
      "[ 0.57436168  0.25916183  0.16647649]\n"
     ]
    }
   ],
   "source": [
    "result = np.c_[pv1, pv2, pv3].sum(axis=1)\n",
    "print(result)"
   ]
  },
  {
   "cell_type": "code",
   "execution_count": 51,
   "metadata": {
    "collapsed": true,
    "jupyter": {
     "outputs_hidden": true
    }
   },
   "outputs": [],
   "source": [
    "cc = np.array([[1, 3, 5], [1/3, 1, 3], [1/5, 1/3, 1]])\n",
    "p1 = np.array([[1, 1/3, 1/5], [3, 1, 1/3], [5, 3, 1]])\n",
    "p2 = np.array([[1, 1/3, 3], [3, 1, 5], [1/3, 1/5, 1]])"
   ]
  },
  {
   "cell_type": "code",
   "execution_count": 52,
   "metadata": {},
   "outputs": [
    {
     "name": "stdout",
     "output_type": "stream",
     "text": [
      "고유값 = (3.03851109056+0j)\n",
      "고유벡터 = [ 0.91614200+0.j  0.37147738+0.j  0.15062670+0.j]\n",
      "비교대상 중요도 =  [ 0.63698557  0.25828499  0.10472943]\n",
      "CI = (0.0192555452791+0j)\n",
      "RI = 0.52\n",
      "CR = (0.0370298947675+0j)\n"
     ]
    }
   ],
   "source": [
    "# 엑셀 경영과학\n",
    "w_cc = AHP(cc)"
   ]
  },
  {
   "cell_type": "code",
   "execution_count": 53,
   "metadata": {},
   "outputs": [
    {
     "name": "stdout",
     "output_type": "stream",
     "text": [
      "고유값 = (3.03851109056+0j)\n",
      "고유벡터 = [ 0.15062670+0.j  0.37147738+0.j  0.91614200+0.j]\n",
      "비교대상 중요도 =  [ 0.10472943  0.25828499  0.63698557]\n",
      "CI = (0.0192555452791+0j)\n",
      "RI = 0.52\n",
      "CR = (0.0370298947675+0j)\n"
     ]
    }
   ],
   "source": [
    "w_p1 = AHP(p1)"
   ]
  },
  {
   "cell_type": "code",
   "execution_count": 54,
   "metadata": {},
   "outputs": [
    {
     "name": "stdout",
     "output_type": "stream",
     "text": [
      "고유값 = (3.03851109056+0j)\n",
      "고유벡터 = [ 0.37147738+0.j  0.91614200+0.j  0.15062670+0.j]\n",
      "비교대상 중요도 =  [ 0.25828499  0.63698557  0.10472943]\n",
      "CI = (0.0192555452791+0j)\n",
      "RI = 0.52\n",
      "CR = (0.0370298947675+0j)\n"
     ]
    }
   ],
   "source": [
    "w_p2 = AHP(p2)"
   ]
  },
  {
   "cell_type": "code",
   "execution_count": 55,
   "metadata": {},
   "outputs": [
    {
     "data": {
      "text/plain": [
       "array([ 0.38511327,  0.33980583,  0.27508091])"
      ]
     },
     "execution_count": 55,
     "metadata": {},
     "output_type": "execute_result"
    }
   ],
   "source": [
    "# 가격을 기준으로 평가한 대안의 가중치\n",
    "price = np.array([1500, 1700, 2100])\n",
    "cal_price = 1/price\n",
    "w_p3 = cal_price/sum(cal_price)\n",
    "w_p3"
   ]
  },
  {
   "cell_type": "code",
   "execution_count": 56,
   "metadata": {},
   "outputs": [
    {
     "name": "stdout",
     "output_type": "stream",
     "text": [
      "[[ 0.10472943  0.25828499  0.38511327]\n",
      " [ 0.25828499  0.63698557  0.33980583]\n",
      " [ 0.63698557  0.10472943  0.27508091]]\n"
     ]
    }
   ],
   "source": [
    "result = np.c_[w_p1, w_p2, w_p3]\n",
    "print(result)"
   ]
  },
  {
   "cell_type": "code",
   "execution_count": 57,
   "metadata": {},
   "outputs": [
    {
     "data": {
      "text/plain": [
       "array([ 0.17375497,  0.3646353 ,  0.46160973])"
      ]
     },
     "execution_count": 57,
     "metadata": {},
     "output_type": "execute_result"
    }
   ],
   "source": [
    "# 결과\n",
    "result.dot(w_cc)"
   ]
  },
  {
   "cell_type": "markdown",
   "metadata": {},
   "source": [
    "### ANP(Analytic Network Process)"
   ]
  },
  {
   "cell_type": "code",
   "execution_count": 58,
   "metadata": {},
   "outputs": [],
   "source": [
    "# 평가기준별 선호도 조사\n",
    "cc = np.array([[1, 2, 4], [1/2, 1, 3], [1/4, 1/3, 1]])\n",
    "\n",
    "# 제품별 가격 선호도 조사\n",
    "p1 = np.array([[1, 2, 3], [1/2, 1, 2], [1/3, 1/2, 1]])\n",
    "\n",
    "# 제품별 기능 선호도 조사\n",
    "p2 = np.array([[1, 3, 5], [1/3, 1, 2], [1/5, 1/2, 1]])\n",
    "\n",
    "# 제품별 디자인 선호도 조사\n",
    "p3 = np.array([[1, 3, 2], [1/3, 1, 1/2], [1/2, 2, 1]])"
   ]
  },
  {
   "cell_type": "code",
   "execution_count": 59,
   "metadata": {},
   "outputs": [
    {
     "name": "stdout",
     "output_type": "stream",
     "text": [
      "고유값 = (3.01829470729+0j)\n",
      "고유벡터 = [ 0.85271323+0.j  0.48805649+0.j  0.18622840+0.j]\n",
      "비교대상 중요도 =  [ 0.55842454  0.31961826  0.12195719]\n",
      "CI = (0.00914735364482+0j)\n",
      "RI = 0.52\n",
      "CR = (0.0175910647016+0j)\n"
     ]
    }
   ],
   "source": [
    "w_cc = AHP(cc)"
   ]
  },
  {
   "cell_type": "code",
   "execution_count": 60,
   "metadata": {},
   "outputs": [
    {
     "name": "stdout",
     "output_type": "stream",
     "text": [
      "고유값 = (3.00920271271+0j)\n",
      "고유벡터 = [ 0.84679693+0.j  0.46601031+0.j  0.25645536+0.j]\n",
      "비교대상 중요도 =  [ 0.53961455  0.29696133  0.16342412]\n",
      "CI = (0.00460135635714+0j)\n",
      "RI = 0.52\n",
      "CR = (0.00884876222527+0j)\n"
     ]
    }
   ],
   "source": [
    "w_p1 = AHP(p1)"
   ]
  },
  {
   "cell_type": "code",
   "execution_count": 61,
   "metadata": {},
   "outputs": [
    {
     "name": "stdout",
     "output_type": "stream",
     "text": [
      "고유값 = (3.00369459806+0j)\n",
      "고유벡터 = [ 0.92811934+0.j  0.32875799+0.j  0.17467875+0.j]\n",
      "비교대상 중요도 =  [ 0.64832901  0.22965079  0.12202019]\n",
      "CI = (0.00184729903182+0j)\n",
      "RI = 0.52\n",
      "CR = (0.00355249813811+0j)\n"
     ]
    }
   ],
   "source": [
    "w_p2 = AHP(p2)"
   ]
  },
  {
   "cell_type": "code",
   "execution_count": 62,
   "metadata": {},
   "outputs": [
    {
     "name": "stdout",
     "output_type": "stream",
     "text": [
      "고유값 = (3.00920271271+0j)\n",
      "고유벡터 = [ 0.84679693+0.j  0.25645536+0.j  0.46601031+0.j]\n",
      "비교대상 중요도 =  [ 0.53961455  0.16342412  0.29696133]\n",
      "CI = (0.00460135635714+0j)\n",
      "RI = 0.52\n",
      "CR = (0.00884876222527+0j)\n"
     ]
    }
   ],
   "source": [
    "w_p3 = AHP(p3)"
   ]
  },
  {
   "cell_type": "code",
   "execution_count": 63,
   "metadata": {},
   "outputs": [],
   "source": [
    "# 슈퍼 매트릭스\n",
    "s1 = np.zeros(7)\n",
    "s1[1:4] = w_cc\n",
    "\n",
    "s2 = np.zeros(7)\n",
    "s2[4:7] = w_p1\n",
    "\n",
    "s3 = np.zeros(7)\n",
    "s3[4:7] = w_p2\n",
    "\n",
    "s4 = np.zeros(7)\n",
    "s4[4:7] = w_p3\n",
    "\n",
    "s5 = np.zeros(7)\n",
    "s5[4:7] = [1, 0, 0]\n",
    "\n",
    "s6 = np.zeros(7)\n",
    "s6[4:7] = [0, 1, 0]\n",
    "\n",
    "s7 = np.zeros(7)\n",
    "s7[4:7] = [0, 0, 1]"
   ]
  },
  {
   "cell_type": "code",
   "execution_count": 64,
   "metadata": {},
   "outputs": [
    {
     "data": {
      "text/plain": [
       "array([[ 0.        ,  0.        ,  0.        ,  0.        ,  0.        ,\n",
       "         0.        ,  0.        ],\n",
       "       [ 0.        ,  0.        ,  0.        ,  0.        ,  0.        ,\n",
       "         0.        ,  0.        ],\n",
       "       [ 0.        ,  0.        ,  0.        ,  0.        ,  0.        ,\n",
       "         0.        ,  0.        ],\n",
       "       [ 0.        ,  0.        ,  0.        ,  0.        ,  0.        ,\n",
       "         0.        ,  0.        ],\n",
       "       [ 0.57436168,  0.53961455,  0.64832901,  0.53961455,  1.        ,\n",
       "         0.        ,  0.        ],\n",
       "       [ 0.25916183,  0.29696133,  0.22965079,  0.16342412,  0.        ,\n",
       "         1.        ,  0.        ],\n",
       "       [ 0.16647649,  0.16342412,  0.12202019,  0.29696133,  0.        ,\n",
       "         0.        ,  1.        ]])"
      ]
     },
     "execution_count": 64,
     "metadata": {},
     "output_type": "execute_result"
    }
   ],
   "source": [
    "ss = np.c_[s1, s2, s3, s4, s5, s6, s7]\n",
    "ss.dot(ss)"
   ]
  },
  {
   "cell_type": "code",
   "execution_count": null,
   "metadata": {
    "collapsed": true,
    "jupyter": {
     "outputs_hidden": true
    }
   },
   "outputs": [],
   "source": []
  }
 ],
 "metadata": {
  "kernelspec": {
   "display_name": "Python 3",
   "language": "python",
   "name": "python3"
  },
  "language_info": {
   "codemirror_mode": {
    "name": "ipython",
    "version": 3
   },
   "file_extension": ".py",
   "mimetype": "text/x-python",
   "name": "python",
   "nbconvert_exporter": "python",
   "pygments_lexer": "ipython3",
   "version": "3.7.3"
  },
  "latex_envs": {
   "LaTeX_envs_menu_present": true,
   "autocomplete": true,
   "bibliofile": "biblio.bib",
   "cite_by": "apalike",
   "current_citInitial": 1,
   "eqLabelWithNumbers": true,
   "eqNumInitial": 1,
   "hotkeys": {
    "equation": "Ctrl-E",
    "itemize": "Ctrl-I"
   },
   "labels_anchors": false,
   "latex_user_defs": false,
   "report_style_numbering": false,
   "user_envs_cfg": false
  },
  "varInspector": {
   "cols": {
    "lenName": 16,
    "lenType": 16,
    "lenVar": 40
   },
   "kernels_config": {
    "python": {
     "delete_cmd_postfix": "",
     "delete_cmd_prefix": "del ",
     "library": "var_list.py",
     "varRefreshCmd": "print(var_dic_list())"
    },
    "r": {
     "delete_cmd_postfix": ") ",
     "delete_cmd_prefix": "rm(",
     "library": "var_list.r",
     "varRefreshCmd": "cat(var_dic_list()) "
    }
   },
   "types_to_exclude": [
    "module",
    "function",
    "builtin_function_or_method",
    "instance",
    "_Feature"
   ],
   "window_display": false
  }
 },
 "nbformat": 4,
 "nbformat_minor": 4
}
