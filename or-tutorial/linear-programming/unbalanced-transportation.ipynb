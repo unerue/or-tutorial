{
 "cells": [
  {
   "cell_type": "markdown",
   "metadata": {},
   "source": [
    "## Linear Programmign Model\n",
    "\n",
    "### Unbalanced Transportation Problem\n",
    "\n",
    "**이강우 & 김정자. (2012). _EXCEL 2010 경영과학_. 한경사, 306.**\n",
    "\n",
    "<p style=\"text-indent: 1.5em\">현실의 수송문제는 총 공급량과 총 수요량이 일치하는 경우는 거의 없으며 이들이 서로 일치하지 않는 공급과잉이나 수요과잉이 발생하는 것이 일반적인 현상이다. 이와 같이 총 공급량과 총 수요량이 서로 일치하지 않는 수송문제를 불균형 수송문제라고 한다.</p>"
   ]
  },
  {
   "cell_type": "code",
   "execution_count": 4,
   "metadata": {},
   "outputs": [],
   "source": [
    "import os\n",
    "import sys\n",
    "\n",
    "# Add the parent directory for importing custom library\n",
    "sys.path.insert(0, os.path.abspath(os.path.join(os.getcwd(), os.pardir)))"
   ]
  },
  {
   "cell_type": "markdown",
   "metadata": {},
   "source": [
    "#### Optimization with PuLP"
   ]
  },
  {
   "cell_type": "code",
   "execution_count": null,
   "metadata": {},
   "outputs": [],
   "source": [
    "from pulp import *\n",
    "\n",
    "prob = LpProblem('Unbalaced Transportation Problem', LpMinimize)\n",
    "\n",
    "n_suppliers = 3\n",
    "n_buyers = 4\n",
    "\n",
    "costs = [\n",
    "    [4, 5, 6, 8],\n",
    "    [4, 7, 9, 2], \n",
    "    [5, 8, 7, 6]\n",
    "]\n",
    "\n",
    "supply = [120, 150, 200]\n",
    "demand = [150, 60, 130, 180]\n",
    "\n",
    "routes = [(i, j) for i in range(n_suppliers) for j in range(n_buyers)]\n",
    "\n",
    "x = LpVariable.dicts('X', routes, lowBound=0)\n",
    "\n",
    "prob += lpSum([x[i, j] * costs[i][j] for i in range(n_suppliers) for j in range(n_buyers)])\n",
    "\n",
    "for i in range(n_suppliers):\n",
    "    prob += lpSum([x[i, j] for j in range(n_buyers)]) == supply[i]\n",
    "    \n",
    "for j in range(n_buyers):\n",
    "    prob += lpSum([x[i, j] for i in range(n_suppliers)]) <= demand[j]\n",
    "    \n",
    "# Solving problem\n",
    "prob.solve()\n",
    "print('Status', LpStatus[prob.status])\n",
    "\n",
    "print('Z = {}'.format(value(prob.objective)))\n",
    "for v in prob.variables():\n",
    "    print('{} = {}'.format(v.name, v.varValue))"
   ]
  },
  {
   "cell_type": "code",
   "execution_count": null,
   "metadata": {},
   "outputs": [],
   "source": [
    "from gurobipy import *\n",
    "\n",
    "n_suppliers = 3\n",
    "n_buyers = 4\n",
    "\n",
    "costs = [\n",
    "    [4, 5, 6, 8],\n",
    "    [4, 7, 9, 2], \n",
    "    [5, 8, 7, 6]\n",
    "]\n",
    "\n",
    "supply = [120, 150, 200]\n",
    "demand = [150, 60, 130, 180]\n",
    "\n",
    "routes = tuplelist([(i, j) for i in range(n_suppliers) for j in range(n_buyers)])\n",
    "\n",
    "m = Model('Unbalaced Transportation Problem')\n",
    "\n",
    "x = m.addVars(routes, lb=0, vtype=GRB.CONTINUOUS, name='X')\n",
    "\n",
    "m.update()\n",
    "\n",
    "m.setObjective(quicksum(x[i, j] * costs[i][j] for i in range(n_suppliers) for j in range(n_buyers)), GRB.MINIMIZE)\n",
    "\n",
    "for i in range(n_suppliers):\n",
    "    m.addConstr(quicksum(x[i, j] for j in range(n_buyers)) == supply[i])\n",
    "    \n",
    "for j in range(n_buyers):\n",
    "    m.addConstr(quicksum(x[i, j] for i in range(n_suppliers)) <= demand[j])\n",
    "\n",
    "# Optimize model\n",
    "m.optimize()"
   ]
  },
  {
   "cell_type": "code",
   "execution_count": null,
   "metadata": {},
   "outputs": [],
   "source": [
    "print('Z = {}'.format(m.objVal))\n",
    "for v in m.getVars():\n",
    "    print('{} = {}'.format(v.varName, v.x))"
   ]
  },
  {
   "cell_type": "markdown",
   "metadata": {},
   "source": [
    "## Transportation Problem with Prohibited Transport Routes"
   ]
  },
  {
   "cell_type": "code",
   "execution_count": null,
   "metadata": {},
   "outputs": [],
   "source": [
    "import numpy as np\n",
    "from pulp import *\n",
    "\n",
    "prob = LpProblem('Transportation', LpMinimize)\n",
    "\n",
    "costs = [\n",
    "    [4, 3, 2, 0],\n",
    "    [4, 1, 1000, 6], \n",
    "    [3, 0, 1, 2]\n",
    "]\n",
    "\n",
    "supply = [200, 300, 500]\n",
    "demand = [100, 60, 130, 300]\n",
    "\n",
    "n_suppliers = 3\n",
    "n_buyers = 4\n",
    "\n",
    "routes = [(i, j) for i in range(n_suppliers) for j in range(n_buyers)]\n",
    "\n",
    "x = LpVariable.dicts('x', routes, lowBound=0)\n",
    "\n",
    "prob += lpSum([x[i, j] * costs[i][j] for i in range(n_suppliers) for j in range(n_buyers)])\n",
    "\n",
    "for i in range(n_suppliers):\n",
    "    prob += lpSum([x[i, j] for j in range(n_buyers)]) <= supply[i]\n",
    "    \n",
    "for j in range(n_buyers):\n",
    "    prob += lpSum([x[i, j] for i in range(n_suppliers)]) == demand[j]\n",
    "    \n",
    "# Solving problem\n",
    "prob.solve()\n",
    "print('Status', LpStatus[prob.status])\n",
    "\n",
    "print('Z = {}'.format(value(prob.objective)))\n",
    "for v in prob.variables():\n",
    "    print('{} = {}'.format(v.name, v.varValue))"
   ]
  },
  {
   "cell_type": "code",
   "execution_count": null,
   "metadata": {},
   "outputs": [],
   "source": []
  },
  {
   "cell_type": "markdown",
   "metadata": {},
   "source": [
    "## Transshipment Problem"
   ]
  },
  {
   "cell_type": "code",
   "execution_count": null,
   "metadata": {},
   "outputs": [],
   "source": []
  },
  {
   "cell_type": "code",
   "execution_count": null,
   "metadata": {},
   "outputs": [],
   "source": [
    "prob = LpProblem(\"Transportation\", LpMinimize)\n",
    "\n",
    "S = [\"A\", \"B\", \"C\"]\n",
    "D = [\"1\", \"2\", \"3\", \"4\"]\n",
    "costs = [[21, 12, 25, 11],\n",
    "         [13, 10, 21, 17],\n",
    "         [12, 14, 19, 12]]\n",
    "\n",
    "supply = dict(zip(S, [80, 60, 50]))\n",
    "demand = dict(zip(D, [50, 40, 70, 30]))\n",
    "demand\n",
    "\n",
    "opt_costs = makeDict([S, D], costs, 0)\n",
    "opt_costs\n",
    "\n",
    "x = LpVariable.dicts('Route', (S, D), lowBound=0)\n",
    "x\n",
    "\n",
    "routes = [(i, j) for i in S for j in D]\n",
    "routes\n",
    "\n",
    "prob += lpSum([x[s][d]*opt_costs[s][d] for (s, d) in routes]) # objective function\n",
    "\n",
    "# constraints\n",
    "for i in S:\n",
    "    prob += lpSum([x[i][j] for j in D]) == supply[i]\n",
    "\n",
    "for j in D:\n",
    "    prob += lpSum([x[i][j] for i in S]) == demand[j]\n",
    "    \n",
    "prob.solve()\n",
    "\n",
    "for i in prob.variables():\n",
    "    print(i.name, \"=\", i.varValue)\n",
    "print('Status', LpStatus[prob.status])\n",
    "print(pulp.value(prob.objective))"
   ]
  },
  {
   "cell_type": "code",
   "execution_count": null,
   "metadata": {},
   "outputs": [],
   "source": []
  },
  {
   "cell_type": "code",
   "execution_count": null,
   "metadata": {},
   "outputs": [],
   "source": []
  },
  {
   "cell_type": "code",
   "execution_count": null,
   "metadata": {},
   "outputs": [],
   "source": [
    "prob = LpProblem(\"Unbalanced Transportation\", LpMinimize)\n",
    "\n",
    "S = [\"A\", \"B\", \"C\"]\n",
    "D = [\"1\", \"2\", \"3\", \"4\"]\n",
    "costs = [[21, 12, 25, 11],\n",
    "         [13, 10, 21, 17],\n",
    "         [12, 14, 19, 12]]\n",
    "\n",
    "supply = dict(zip(S, [80, 60, 50]))\n",
    "demand = dict(zip(D, [60, 50, 80, 40]))\n",
    "\n",
    "opt_costs = makeDict([S, D], costs, 0)\n",
    "\n",
    "x = LpVariable.dicts('Route', (S, D), lowBound=0)\n",
    "x\n",
    "\n",
    "routes = [(i, j) for i in S for j in D]\n",
    "\n",
    "prob += lpSum([x[s][d]*opt_costs[s][d] for (s, d) in routes]) # objective function\n",
    "\n",
    "# constraints\n",
    "for i in S:\n",
    "    prob += lpSum([x[i][j] for j in D]) == supply[i]\n",
    "\n",
    "for j in D:\n",
    "    prob += lpSum([x[i][j] for i in S]) <= demand[j]\n",
    "    \n",
    "prob.solve()\n",
    "\n",
    "for i in prob.variables():\n",
    "    print(i.name, \"=\", i.varValue)\n",
    "print('Status', LpStatus[prob.status])\n",
    "print(pulp.value(prob.objective))"
   ]
  },
  {
   "cell_type": "code",
   "execution_count": null,
   "metadata": {},
   "outputs": [],
   "source": []
  }
 ],
 "metadata": {
  "kernelspec": {
   "display_name": "Python 3",
   "language": "python",
   "name": "python3"
  },
  "language_info": {
   "codemirror_mode": {
    "name": "ipython",
    "version": 3
   },
   "file_extension": ".py",
   "mimetype": "text/x-python",
   "name": "python",
   "nbconvert_exporter": "python",
   "pygments_lexer": "ipython3",
   "version": "3.7.3"
  },
  "latex_envs": {
   "LaTeX_envs_menu_present": true,
   "autocomplete": true,
   "bibliofile": "biblio.bib",
   "cite_by": "apalike",
   "current_citInitial": 1,
   "eqLabelWithNumbers": true,
   "eqNumInitial": 1,
   "hotkeys": {
    "equation": "Ctrl-E",
    "itemize": "Ctrl-I"
   },
   "labels_anchors": false,
   "latex_user_defs": false,
   "report_style_numbering": false,
   "user_envs_cfg": false
  },
  "varInspector": {
   "cols": {
    "lenName": 16,
    "lenType": 16,
    "lenVar": 40
   },
   "kernels_config": {
    "python": {
     "delete_cmd_postfix": "",
     "delete_cmd_prefix": "del ",
     "library": "var_list.py",
     "varRefreshCmd": "print(var_dic_list())"
    },
    "r": {
     "delete_cmd_postfix": ") ",
     "delete_cmd_prefix": "rm(",
     "library": "var_list.r",
     "varRefreshCmd": "cat(var_dic_list()) "
    }
   },
   "types_to_exclude": [
    "module",
    "function",
    "builtin_function_or_method",
    "instance",
    "_Feature"
   ],
   "window_display": false
  }
 },
 "nbformat": 4,
 "nbformat_minor": 4
}
