{
 "cells": [
  {
   "cell_type": "markdown",
   "metadata": {},
   "source": [
    "## Linear Programmign Model\n",
    "\n",
    "### Product Mix Problem\n",
    "\n",
    "**이강우 & 김정자. (2012). _EXCEL 2010 경영과학_. 한경사, 32.**\n",
    "\n",
    "<p style=\"text-indent: 1.5em\">D기업은 두 종류의 원료와 한 종류의 기계를 사용하여 제품 A와 제품 B를 생산하여 판매하고 있다. 각 제품을 1단위 생산할 때 필요한 원료의 사용량과 기계사용시간은 다음 <b>Table 1</b>과 같다.</p>\n",
    "\n",
    "<table>\n",
    "  <caption><b>Table 1. </b>제품조합문제의 자료</caption>\n",
    "  <tr>\n",
    "    <th colspan=\"1\">자원</th>\n",
    "    <th>A</th>\n",
    "    <th>B</th>\n",
    "    <th>월 가용량</th>\n",
    "  </tr>\n",
    "  <tr> \n",
    "    <td>원료 1(kg)</td>\n",
    "    <td align=\"right\">10</td>\n",
    "    <td align=\"right\">5</td>\n",
    "    <td align=\"right\">300</td>\n",
    "  </tr>\n",
    "  <tr> \n",
    "    <td>원료 2(kg)</td>\n",
    "    <td align=\"right\">4</td>\n",
    "    <td align=\"right\">4</td>\n",
    "    <td align=\"right\">160</td>\n",
    "  </tr>\n",
    "  <tr> \n",
    "    <td>기계사용시간(시간)</td>\n",
    "    <td align=\"right\">2</td>\n",
    "    <td align=\"right\">6</td>\n",
    "    <td align=\"right\">180</td>\n",
    "  </tr>\n",
    "  <tr> \n",
    "    <td>단위당 이익(만원/개)</td>\n",
    "    <td align=\"right\">3</td>\n",
    "    <td align=\"right\">2</td>\n",
    "    <td align=\"right\"></td>\n",
    "   </tr>\n",
    "</table>\n",
    "    \n",
    "<p style=\"text-indent: 1.5em\">한편 D기업이 보유하고 있는 원료 1과 원료 2의 월 가용량은 각각 300kg, 160kg이고 기계사용시간의 월 가용시간은 180시간이며 생산된 제품 A와 제품 B를 판매하면 각각 단위당 3만원과 2만원의 이익이 발생한다고 한다. D기업에 주어진 한정된 자원을 사용하여 D기업의 월 이익을 최대로 하는 제품 A와 제품 B의 월 생산량을 구하기 위한 선형계획모형을 작성하라.</p><br>\n",
    "\n",
    "$$\\begin{align*}\n",
    "  & \\text{maximize }   &   Z=3&X_{1}+2X_{2}         & \\text{(Objective function)} &\\quad(1.1)\\\\[1ex]\n",
    "  & \\text{subject to } & \\, 10&X_{1}+5X_{2} \\le 300 & \\text{(Constraint 1)}       &\\quad(1.2)\\\\[1ex]\n",
    "  &                    & \\,  4&X_{1}+4X_{2} \\le 160 & \\text{(Constraint 2)}       &\\quad(1.3)\\\\[1ex]  \n",
    "  &                    & \\,  2&X_{1}+6X_{2} \\le 180 & \\text{(Constraint 3)}       &\\quad(1.4)\\\\[1ex] \n",
    "  & \\text{and}         & \\,   &X_{1},X_{2} \\ge 0    & \\text{(Non-negative)}       &\\quad(1.5)\\\\[1ex] \n",
    "\\end{align*}$$"
   ]
  },
  {
   "cell_type": "code",
   "execution_count": 1,
   "metadata": {},
   "outputs": [
    {
     "name": "stdout",
     "output_type": "stream",
     "text": [
      "Status Optimal\n"
     ]
    }
   ],
   "source": [
    "from pulp import *\n",
    "\n",
    "# Define problem\n",
    "prob = LpProblem(name='Product Mix Problem', sense=LpMaximize)\n",
    "\n",
    "# Create decision variables and non-negative constraint\n",
    "x1 = LpVariable(name='X1', lowBound=0, upBound=None, cat='Continuous')\n",
    "x2 = LpVariable(name='X2', lowBound=0, upBound=None, cat='Continuous')\n",
    "\n",
    "# Set objective function\n",
    "prob += 3*x1 + 2*x2\n",
    "\n",
    "# Set constraints\n",
    "prob += 10*x1 + 5*x2 <= 300\n",
    "prob += 4*x1 + 4*x2 <= 160\n",
    "prob += 2*x1 + 6*x2 <= 180\n",
    "\n",
    "# Solving problem\n",
    "prob.solve()\n",
    "print('Status', LpStatus[prob.status])"
   ]
  },
  {
   "cell_type": "code",
   "execution_count": 2,
   "metadata": {},
   "outputs": [
    {
     "name": "stdout",
     "output_type": "stream",
     "text": [
      "Z = 100.0\n",
      "X1 = 20.0\n",
      "X2 = 20.0\n"
     ]
    }
   ],
   "source": [
    "print('Z = {}'.format(pulp.value(prob.objective)))\n",
    "for i in prob.variables():\n",
    "    print('{} = {}'.format(i.name, i.varValue))"
   ]
  },
  {
   "cell_type": "code",
   "execution_count": 3,
   "metadata": {},
   "outputs": [
    {
     "name": "stdout",
     "output_type": "stream",
     "text": [
      "Optimize a model with 3 rows, 2 columns and 6 nonzeros\n",
      "Coefficient statistics:\n",
      "  Matrix range     [2e+00, 1e+01]\n",
      "  Objective range  [2e+00, 3e+00]\n",
      "  Bounds range     [0e+00, 0e+00]\n",
      "  RHS range        [2e+02, 3e+02]\n",
      "Presolve time: 0.00s\n",
      "Presolved: 3 rows, 2 columns, 6 nonzeros\n",
      "\n",
      "Iteration    Objective       Primal Inf.    Dual Inf.      Time\n",
      "       0    5.0000000e+30   4.875000e+30   5.000000e+00      0s\n",
      "       2    1.0000000e+02   0.000000e+00   0.000000e+00      0s\n",
      "\n",
      "Solved in 2 iterations and 0.01 seconds\n",
      "Optimal objective  1.000000000e+02\n"
     ]
    }
   ],
   "source": [
    "from gurobipy import *\n",
    "\n",
    "# Create a new model\n",
    "m = Model(name='Product Mix Problem')\n",
    "\n",
    "# Create variables\n",
    "x1 = m.addVar(lb=0, ub=1e+100, vtype=GRB.CONTINUOUS, name='X1')\n",
    "x2 = m.addVar(lb=0, ub=1e+100, vtype=GRB.CONTINUOUS, name='X2')\n",
    "\n",
    "# Set objective\n",
    "m.setObjective(3*x1 + 2*x2, sense=GRB.MAXIMIZE)\n",
    "\n",
    "# Add constraint\n",
    "m.addConstr(10*x1 + 5*x2 <= 300)\n",
    "m.addConstr(4*x1 + 4*x2 <= 160)\n",
    "m.addConstr(2*x1 + 6*x2 <= 180)\n",
    "\n",
    "# Optimize model\n",
    "m.optimize()"
   ]
  },
  {
   "cell_type": "code",
   "execution_count": 4,
   "metadata": {},
   "outputs": [
    {
     "name": "stdout",
     "output_type": "stream",
     "text": [
      "Z = 100.0\n",
      "X1 = 20.0\n",
      "X2 = 20.0\n"
     ]
    }
   ],
   "source": [
    "print('Z = {}'.format(m.objVal))\n",
    "for v in m.getVars():\n",
    "    print('{} = {}'.format(v.varName, v.x))"
   ]
  }
 ],
 "metadata": {
  "kernelspec": {
   "display_name": "Python 3",
   "language": "python",
   "name": "python3"
  },
  "language_info": {
   "codemirror_mode": {
    "name": "ipython",
    "version": 3
   },
   "file_extension": ".py",
   "mimetype": "text/x-python",
   "name": "python",
   "nbconvert_exporter": "python",
   "pygments_lexer": "ipython3",
   "version": "3.6.9"
  },
  "latex_envs": {
   "LaTeX_envs_menu_present": true,
   "autocomplete": true,
   "bibliofile": "biblio.bib",
   "cite_by": "apalike",
   "current_citInitial": 1,
   "eqLabelWithNumbers": true,
   "eqNumInitial": 1,
   "hotkeys": {
    "equation": "Ctrl-E",
    "itemize": "Ctrl-I"
   },
   "labels_anchors": false,
   "latex_user_defs": false,
   "report_style_numbering": false,
   "user_envs_cfg": false
  },
  "varInspector": {
   "cols": {
    "lenName": 16,
    "lenType": 16,
    "lenVar": 40
   },
   "kernels_config": {
    "python": {
     "delete_cmd_postfix": "",
     "delete_cmd_prefix": "del ",
     "library": "var_list.py",
     "varRefreshCmd": "print(var_dic_list())"
    },
    "r": {
     "delete_cmd_postfix": ") ",
     "delete_cmd_prefix": "rm(",
     "library": "var_list.r",
     "varRefreshCmd": "cat(var_dic_list()) "
    }
   },
   "types_to_exclude": [
    "module",
    "function",
    "builtin_function_or_method",
    "instance",
    "_Feature"
   ],
   "window_display": false
  }
 },
 "nbformat": 4,
 "nbformat_minor": 4
}
