{
 "cells": [
  {
   "cell_type": "markdown",
   "metadata": {},
   "source": [
    "## Linear Programmign Model\n",
    "\n",
    "### Product Mix Problem and Sensitivity Analysis\n",
    "\n",
    "**이강우 & 김정자. (2012). _EXCEL 2010 경영과학_. 한경사, 225.**\n",
    "\n",
    "<p style=\"text-indent: 1.5em\">D전자는 통신장비를 생산하여 판매하고 있는 회사이며 최근 개발한 신제품의 판매시장을 국내, 아시아지역, 유럽지역으로 확장하려고 한다. 이를 위하여 각 지역별 시장조사를 한 결과 수집된 자료는 <b>표</b>와 같다.</p>\n",
    "\n",
    "<table>\n",
    "  <caption><b>Table 1. </b>D전자의 마케팅자료</caption>\n",
    "  <tr>\n",
    "    <th colspan=\"1\">지역</th>\n",
    "    <th>단위당 판매이익(만원)</th>\n",
    "    <th>단위당 광고비용(만원)</th>\n",
    "    <th>단위당 판매활동시간(시간)</th>\n",
    "  </tr>\n",
    "  <tr> \n",
    "    <td>국내</td>\n",
    "    <td align=\"right\">6</td>\n",
    "    <td align=\"right\">1.0</td>\n",
    "    <td align=\"right\">1.5</td>\n",
    "  </tr>\n",
    "  <tr> \n",
    "    <td>아시아</td>\n",
    "    <td align=\"right\">4</td>\n",
    "    <td align=\"right\">0.8</td>\n",
    "    <td align=\"right\">2.0</td>\n",
    "  </tr>\n",
    "  <tr> \n",
    "    <td>유럽</td>\n",
    "    <td align=\"right\">7</td>\n",
    "    <td align=\"right\">1.5</td>\n",
    "    <td align=\"right\">3.0</td>\n",
    "  </tr>\n",
    "</table>\n",
    "\n",
    "<p style=\"text-indent: 1.5em\">D전자의 신제품 생산능력은 1개월에 3,500개이고 1개월 동안 아시아 지역에 최소한 500개를 공급할 계획을 가지고 있다. 그리고 D전자의 판매원의 판매활동시간은 1개월에 총 5,000시간이며 1개월 광고비 예산은 3,000만원이다. 한편 D전자는 주문생산을 원칙으로 하고 있기 대문에 재고는 보유하지 않는다. D전자의 월 판매이익을 최대로 하는 지역별 신제품의 판매량을 구하기 위한 선형계획 모형을 작성하여 지역별 최적 판매계획을 수립하고 민감도분석을 수행하라.</p>"
   ]
  },
  {
   "cell_type": "code",
   "execution_count": 1,
   "metadata": {},
   "outputs": [
    {
     "name": "stdout",
     "output_type": "stream",
     "text": [
      "Status: Optimal\n"
     ]
    }
   ],
   "source": [
    "from pulp import *\n",
    "\n",
    "# Define problem\n",
    "prob = LpProblem(name='Marketing', sense=LpMaximize)\n",
    "\n",
    "# Create decision variables and non-negative constraint\n",
    "x1 = LpVariable(name='X1', lowBound=0, upBound=None, cat='Continuous')\n",
    "x2 = LpVariable(name='X2', lowBound=0, upBound=None, cat='Continuous')\n",
    "x3 = LpVariable(name='X3', lowBound=0, upBound=None, cat='Continuous')\n",
    "\n",
    "# Set objective function\n",
    "prob += 6*x1 + 4*x2 + 7*x3\n",
    "\n",
    "# Set constraints\n",
    "prob += 1.0*x1 + 0.8*x2 + 1.5*x3 <= 3000\n",
    "prob += 1.5*x1 + 2.0*x2 + 3.0*x3 <= 5000\n",
    "prob += x1 + x2 + x3 <= 3500\n",
    "prob += x2 >= 500\n",
    "\n",
    "# Solving problem\n",
    "prob.solve()\n",
    "print('Status: {}'.format(LpStatus[prob.status]))"
   ]
  },
  {
   "cell_type": "code",
   "execution_count": 2,
   "metadata": {},
   "outputs": [
    {
     "name": "stdout",
     "output_type": "stream",
     "text": [
      "Z = 17600.0\n",
      "X1 = 2600.0\tReduced cost 0.0\n",
      "X2 = 500.0\tReduced cost -8.8817842e-16\n",
      "X3 = 0.0\tReduced cost -2.0\n"
     ]
    }
   ],
   "source": [
    "print('Z = {}'.format(pulp.value(prob.objective)))\n",
    "for i in prob.variables():\n",
    "    print('{} = {}\\tReduced cost {}'.format(i.name, i.varValue, i.dj))"
   ]
  },
  {
   "cell_type": "code",
   "execution_count": 3,
   "metadata": {},
   "outputs": [
    {
     "name": "stdout",
     "output_type": "stream",
     "text": [
      "Sensitivity Analysis\n",
      "Constraint\tShadow Price\tSlack\n",
      "_C1: \t\t6.0\t\t-0.0\n",
      "_C2: \t\t-0.0\t\t100.0\n",
      "_C3: \t\t-0.0\t\t400.0\n",
      "_C4: \t\t-0.8\t\t-0.0\n"
     ]
    }
   ],
   "source": [
    "print('Sensitivity Analysis\\nConstraint\\tShadow Price\\tSlack')\n",
    "for name, c in prob.constraints.items():\n",
    "    print('{}: \\t\\t{}\\t\\t{}'.format(name, c.pi, c.slack))"
   ]
  },
  {
   "cell_type": "code",
   "execution_count": 4,
   "metadata": {},
   "outputs": [
    {
     "name": "stdout",
     "output_type": "stream",
     "text": [
      "Status: Optimal\n"
     ]
    }
   ],
   "source": [
    "from gurobipy import *\n",
    "from ortools.utils import set_gurobi, custom_callback\n",
    "\n",
    "\n",
    "# Create a new model\n",
    "m = Model(name='Marketing')\n",
    "\n",
    "# Create variables\n",
    "x1 = m.addVar(lb=0, ub=1e+100, vtype=GRB.CONTINUOUS, name='X1')\n",
    "x2 = m.addVar(lb=0, ub=1e+100, vtype=GRB.CONTINUOUS, name='X2')\n",
    "x3 = m.addVar(lb=0, ub=1e+100, vtype=GRB.CONTINUOUS, name='X3')\n",
    "\n",
    "# Set objective\n",
    "m.setObjective(6*x1 + 4*x2 + 7*x3, sense=GRB.MAXIMIZE)\n",
    "\n",
    "# Add constraint\n",
    "m.addConstr(1.0*x1 + 0.8*x2 + 1.5*x3 <= 3000)\n",
    "m.addConstr(1.5*x1 + 2.0*x2 + 3.0*x3 <= 5000)\n",
    "m.addConstr(x1 + x2 + x3 <= 3500)\n",
    "m.addConstr(x2 >= 500)\n",
    "\n",
    "set_gurobi(m, verbose=False)\n",
    "\n",
    "# Optimize model\n",
    "m.optimize(custom_callback)\n",
    "if m.status == GRB.Status.OPTIMAL:\n",
    "    print('Status: Optimal')"
   ]
  },
  {
   "cell_type": "code",
   "execution_count": 5,
   "metadata": {},
   "outputs": [
    {
     "name": "stdout",
     "output_type": "stream",
     "text": [
      "Z = 17600.0\n",
      "X1 = 2600.0\tReduced cost 0.0\n",
      "X2 = 500.0\tReduced cost 0.0\n",
      "X3 = 0.0\tReduced cost -2.0\n"
     ]
    }
   ],
   "source": [
    "print('Z = {}'.format(m.objVal))\n",
    "for v in m.getVars():\n",
    "    print('{} = {}\\tReduced cost {}'.format(v.varName, v.x, v.RC))"
   ]
  },
  {
   "cell_type": "code",
   "execution_count": 6,
   "metadata": {},
   "outputs": [
    {
     "name": "stdout",
     "output_type": "stream",
     "text": [
      "Sensitivity Analysis\n",
      "Constraint\tShadow Price\tSlack\n",
      "R0: \t\t6.0\t\t0.0\n",
      "R1: \t\t0.0\t\t100.0\n",
      "R2: \t\t0.0\t\t400.0\n",
      "R3: \t\t-0.8000000000000007\t\t0.0\n"
     ]
    }
   ],
   "source": [
    "print('Sensitivity Analysis\\nConstraint\\tShadow Price\\tSlack')\n",
    "for c in m.getConstrs():\n",
    "    print('{}: \\t\\t{}\\t\\t{}'.format(c.ConstrName, c.Pi, c.Slack))"
   ]
  }
 ],
 "metadata": {
  "kernelspec": {
   "display_name": "Python 3",
   "language": "python",
   "name": "python3"
  },
  "language_info": {
   "codemirror_mode": {
    "name": "ipython",
    "version": 3
   },
   "file_extension": ".py",
   "mimetype": "text/x-python",
   "name": "python",
   "nbconvert_exporter": "python",
   "pygments_lexer": "ipython3",
   "version": "3.6.9"
  },
  "latex_envs": {
   "LaTeX_envs_menu_present": true,
   "autocomplete": true,
   "bibliofile": "biblio.bib",
   "cite_by": "apalike",
   "current_citInitial": 1,
   "eqLabelWithNumbers": true,
   "eqNumInitial": 1,
   "hotkeys": {
    "equation": "Ctrl-E",
    "itemize": "Ctrl-I"
   },
   "labels_anchors": false,
   "latex_user_defs": false,
   "report_style_numbering": false,
   "user_envs_cfg": false
  },
  "varInspector": {
   "cols": {
    "lenName": 16,
    "lenType": 16,
    "lenVar": 40
   },
   "kernels_config": {
    "python": {
     "delete_cmd_postfix": "",
     "delete_cmd_prefix": "del ",
     "library": "var_list.py",
     "varRefreshCmd": "print(var_dic_list())"
    },
    "r": {
     "delete_cmd_postfix": ") ",
     "delete_cmd_prefix": "rm(",
     "library": "var_list.r",
     "varRefreshCmd": "cat(var_dic_list()) "
    }
   },
   "types_to_exclude": [
    "module",
    "function",
    "builtin_function_or_method",
    "instance",
    "_Feature"
   ],
   "window_display": false
  }
 },
 "nbformat": 4,
 "nbformat_minor": 4
}
