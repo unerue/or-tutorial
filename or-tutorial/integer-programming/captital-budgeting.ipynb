{
 "cells": [
  {
   "cell_type": "markdown",
   "metadata": {},
   "source": [
    "## Integer Programming\n",
    "\n",
    "### Capital Budgeting Problem\n",
    "\n",
    "**이강우 & 김정자. (2012). EXCEL 2010 경영과학. 한경사, 397.**\n",
    "\n",
    "<p style=\"text-indent: 1.5em\"></p>\n",
    "\n",
    "<table>\n",
    "  <caption><b>Table 1. </b>Example</caption>\n",
    "  <tr>\n",
    "    <th rowspan=\"2\">Investment targets</th>\n",
    "    <th rowspan=\"2\">NPV<br>(net present value)</th>\n",
    "    <th colspan=\"4\">Investment amount</th>\n",
    "  </tr>\n",
    "  <tr> \n",
    "    <th>First year</th>\n",
    "    <th>Second year</th>\n",
    "    <th>Third year</th>\n",
    "    <th>Fourth year</th>\n",
    "  </tr>\n",
    "  <tr> \n",
    "    <td align=\"center\">1</td>\n",
    "    <td align=\"center\">30</td>\n",
    "    <td align=\"center\">20</td>\n",
    "    <td align=\"center\">25</td>\n",
    "    <td align=\"center\">25</td>\n",
    "    <td align=\"center\">20</td>\n",
    "  </tr>\n",
    "  <tr> \n",
    "    <td align=\"center\">2</td>\n",
    "    <td align=\"center\">10</td>\n",
    "    <td align=\"center\">10</td>\n",
    "    <td align=\"center\">20</td>\n",
    "    <td align=\"center\">15</td>\n",
    "    <td align=\"center\">10</td>\n",
    "  </tr>\n",
    "  <tr> \n",
    "    <td align=\"center\">3</td>\n",
    "    <td align=\"center\">15</td>\n",
    "    <td align=\"center\">15</td>\n",
    "    <td align=\"center\">30</td>\n",
    "    <td align=\"center\">20</td>\n",
    "    <td align=\"center\">5</td>\n",
    "  </tr>\n",
    "  <tr> \n",
    "    <td align=\"center\">4</td>\n",
    "    <td align=\"center\">12</td>\n",
    "    <td align=\"center\">10</td>\n",
    "    <td align=\"center\">15</td>\n",
    "    <td align=\"center\">10</td>\n",
    "    <td align=\"center\">15</td>\n",
    "  </tr>\n",
    "  <tr> \n",
    "    <td align=\"center\">5</td>\n",
    "    <td align=\"center\">35</td>\n",
    "    <td align=\"center\">25</td>\n",
    "    <td align=\"center\">30</td>\n",
    "    <td align=\"center\">30</td>\n",
    "    <td align=\"center\">25</td>\n",
    "  </tr>\n",
    "  <tr> \n",
    "    <td colspan=\"2\" align=\"center\">Capital by year</td>\n",
    "    <td align=\"center\">70</td>\n",
    "    <td align=\"center\">90</td>\n",
    "    <td align=\"center\">80</td>\n",
    "    <td align=\"center\">60</td>\n",
    "  </tr>\n",
    "</table>\n",
    "\n",
    "<p style=\"text-indent: 1.5em\">자본예산문제는 투자대상의 선택문제이므로 결정변수 $X_{j}$를 다음과 같이 이진변수로 정의하자.</p>\n",
    "\n",
    "$$X_{j} = \n",
    "\\begin{cases}\n",
    "    1, \\; \\text{if investment target $j$ is selected }(j=1,2,3)\\\\\n",
    "    0, \\; \\text{otherwise}\n",
    "\\end{cases}$$\n",
    "\n",
    "<p style=\"text-indent: 1.5em\"></p>\n",
    "\n",
    "<p style=\"text-indent: 1.5em\"></p>\n",
    "\n",
    "<p style=\"text-indent: 1.5em\"></p>\n",
    "\n",
    "<p style=\"text-indent: 1.5em\"></p>"
   ]
  },
  {
   "cell_type": "code",
   "execution_count": 1,
   "metadata": {},
   "outputs": [],
   "source": [
    "import os\n",
    "import sys\n",
    "\n",
    "# Add the parent directory for importing custom library\n",
    "sys.path.insert(0, os.path.abspath(os.path.join(os.getcwd(), os.pardir)))"
   ]
  },
  {
   "cell_type": "code",
   "execution_count": 11,
   "metadata": {},
   "outputs": [
    {
     "name": "stdout",
     "output_type": "stream",
     "text": [
      "Status: Optimal\n",
      "Objective value: 80.0\n",
      "\n",
      "Variables      Values\n",
      "-----------  --------\n",
      "x_0                 1\n",
      "x_1                 0\n",
      "x_2                 1\n",
      "x_3                 0\n",
      "x_4                 1\n",
      "\n",
      "Statistics:\n",
      "- Number of variables: 5\n",
      "- Number of constraints: 4\n",
      "- Solve time: 0.023s\n"
     ]
    }
   ],
   "source": [
    "from pulp import *\n",
    "from ortools.utils import output\n",
    "\n",
    "n = 5\n",
    "year = 4\n",
    "\n",
    "npv = [30, 10, 15, 12, 35]\n",
    "\n",
    "amount = [\n",
    "    [20, 25, 25, 20],\n",
    "    [10, 20, 15, 10],\n",
    "    [15, 30, 20, 5],\n",
    "    [10, 15, 10, 15],\n",
    "    [25, 30, 30, 25]\n",
    "]\n",
    "\n",
    "capital = [70, 90, 80, 60]\n",
    "\n",
    "prob = LpProblem('Capital Budgeting Problem', LpMaximize)\n",
    "\n",
    "indexs = [(i) for i in range(n)]\n",
    "\n",
    "x = LpVariable.dicts('X', indexs, lowBound=0, cat='Binary')\n",
    "\n",
    "prob += lpSum([npv[i]*x[i] for i in range(n)])\n",
    "\n",
    "for j in range(year):\n",
    "    prob += lpSum([amount[i][j]*x[i] for i in range(n)]) <= capital[j]\n",
    "    \n",
    "prob.solve()\n",
    "output(prob)"
   ]
  },
  {
   "cell_type": "markdown",
   "metadata": {},
   "source": [
    "<p style=\"text-indent: 1.5em\">5개의 투자대상 $X_{j}$중에서 3개의 투자대상을 선택하는 제약식, 이를 선다형 제약식(multiple choice constraint)라고 한다.</p>"
   ]
  },
  {
   "cell_type": "code",
   "execution_count": 14,
   "metadata": {},
   "outputs": [
    {
     "name": "stdout",
     "output_type": "stream",
     "text": [
      "Status: Optimal\n",
      "Objective value: 80.0\n",
      "\n",
      "Variables      Values\n",
      "-----------  --------\n",
      "x_0                 1\n",
      "x_1                 0\n",
      "x_2                 1\n",
      "x_3                 0\n",
      "x_4                 1\n",
      "\n",
      "Statistics:\n",
      "- Number of variables: 5\n",
      "- Number of constraints: 5\n",
      "- Solve time: 0.022s\n"
     ]
    }
   ],
   "source": [
    "from pulp import *\n",
    "from ortools.utils import output\n",
    "\n",
    "n = 5\n",
    "year = 4\n",
    "\n",
    "npv = [30, 10, 15, 12, 35]\n",
    "\n",
    "amount = [\n",
    "    [20, 25, 25, 20],\n",
    "    [10, 20, 15, 10],\n",
    "    [15, 30, 20, 5],\n",
    "    [10, 15, 10, 15],\n",
    "    [25, 30, 30, 25]\n",
    "]\n",
    "\n",
    "capital = [70, 90, 80, 60]\n",
    "\n",
    "# Define problem\n",
    "prob = LpProblem('Capital Budgeting Problem', LpMaximize)\n",
    "\n",
    "indexs = [(i) for i in range(n)]\n",
    "\n",
    "x = LpVariable.dicts('X', indexs, lowBound=0, cat='Binary')\n",
    "\n",
    "# Set objective function\n",
    "prob += lpSum([npv[i]*x[i] for i in range(n)])\n",
    "\n",
    "# Set constraint\n",
    "for j in range(year):\n",
    "    prob += lpSum([amount[i][j]*x[i] for i in range(n)]) <= capital[j]\n",
    "    \n",
    "# Added multiple choice constraint\n",
    "prob += lpSum([x[i] for i in range(n)]) == 3\n",
    "    \n",
    "prob.solve()\n",
    "output(prob)"
   ]
  },
  {
   "cell_type": "markdown",
   "metadata": {},
   "source": [
    "<p style=\"text-indent: 1.5em\">5개의 투자대상 $X_{j}$중에서 3개 이내의 투자대상을 선택하는 제약식</p>"
   ]
  },
  {
   "cell_type": "code",
   "execution_count": 15,
   "metadata": {},
   "outputs": [
    {
     "name": "stdout",
     "output_type": "stream",
     "text": [
      "Status: Optimal\n",
      "Objective value: 80.0\n",
      "\n",
      "Variables      Values\n",
      "-----------  --------\n",
      "x_0                 1\n",
      "x_1                 0\n",
      "x_2                 1\n",
      "x_3                 0\n",
      "x_4                 1\n",
      "\n",
      "Statistics:\n",
      "- Number of variables: 5\n",
      "- Number of constraints: 5\n",
      "- Solve time: 0.030s\n"
     ]
    }
   ],
   "source": [
    "from pulp import *\n",
    "from ortools.utils import output\n",
    "\n",
    "n = 5\n",
    "year = 4\n",
    "\n",
    "npv = [30, 10, 15, 12, 35]\n",
    "\n",
    "amount = [\n",
    "    [20, 25, 25, 20],\n",
    "    [10, 20, 15, 10],\n",
    "    [15, 30, 20, 5],\n",
    "    [10, 15, 10, 15],\n",
    "    [25, 30, 30, 25]\n",
    "]\n",
    "\n",
    "capital = [70, 90, 80, 60]\n",
    "\n",
    "# Define problem\n",
    "prob = LpProblem('Capital Budgeting Problem', LpMaximize)\n",
    "\n",
    "indexs = [(i) for i in range(n)]\n",
    "\n",
    "x = LpVariable.dicts('X', indexs, lowBound=0, cat='Binary')\n",
    "\n",
    "# Set objective function\n",
    "prob += lpSum([npv[i]*x[i] for i in range(n)])\n",
    "\n",
    "# Set constraint\n",
    "for j in range(year):\n",
    "    prob += lpSum([amount[i][j]*x[i] for i in range(n)]) <= capital[j]\n",
    "    \n",
    "# Added multiple choice constraint\n",
    "prob += lpSum([x[i] for i in range(n)]) <= 3\n",
    "    \n",
    "prob.solve()\n",
    "output(prob)"
   ]
  },
  {
   "cell_type": "markdown",
   "metadata": {},
   "source": [
    "<p style=\"text-indent: 1.5em\">만일 투자대상 1($X_{1}$)이 선택되면 투자대상 2($X_{2}$)도 선택되어야 한다는 조건부 선택제약식, 위 제약식은 투자대상 2($X_{2}$)가 선택되더라도 투자대상 1($X_{1}$)이 선택된다는 보장이 없으므로 위 제약식을 조건 부 제약식(conditional constraint)이라고 한다.</p>"
   ]
  },
  {
   "cell_type": "code",
   "execution_count": 16,
   "metadata": {},
   "outputs": [
    {
     "name": "stdout",
     "output_type": "stream",
     "text": [
      "Status: Optimal\n",
      "Objective value: 75.0\n",
      "\n",
      "Variables      Values\n",
      "-----------  --------\n",
      "x_0                 1\n",
      "x_1                 1\n",
      "x_2                 0\n",
      "x_3                 0\n",
      "x_4                 1\n",
      "\n",
      "Statistics:\n",
      "- Number of variables: 5\n",
      "- Number of constraints: 5\n",
      "- Solve time: 0.027s\n"
     ]
    }
   ],
   "source": [
    "from pulp import *\n",
    "from ortools.utils import output\n",
    "\n",
    "n = 5\n",
    "year = 4\n",
    "\n",
    "npv = [30, 10, 15, 12, 35]\n",
    "\n",
    "amount = [\n",
    "    [20, 25, 25, 20],\n",
    "    [10, 20, 15, 10],\n",
    "    [15, 30, 20, 5],\n",
    "    [10, 15, 10, 15],\n",
    "    [25, 30, 30, 25]\n",
    "]\n",
    "\n",
    "capital = [70, 90, 80, 60]\n",
    "\n",
    "# Define problem\n",
    "prob = LpProblem('Capital Budgeting Problem', LpMaximize)\n",
    "\n",
    "indexs = [(i) for i in range(n)]\n",
    "\n",
    "x = LpVariable.dicts('X', indexs, lowBound=0, cat='Binary')\n",
    "\n",
    "# Set objective function\n",
    "prob += lpSum([npv[i]*x[i] for i in range(n)])\n",
    "\n",
    "# Set constraint\n",
    "for j in range(year):\n",
    "    prob += lpSum([amount[i][j]*x[i] for i in range(n)]) <= capital[j]\n",
    "    \n",
    "# Added multiple choice constraint\n",
    "prob += x[0] - x[1] <= 0\n",
    "    \n",
    "prob.solve()\n",
    "output(prob)"
   ]
  },
  {
   "cell_type": "markdown",
   "metadata": {},
   "source": [
    "<p style=\"text-indent: 1.5em\">투자대상 1($X_{1}$)과 투자대상 2($X_{2}$)가 동시에 선택되거나 동시에 선택되지 않는 제약식, 이를 동시요구 제약식(corequisite constraint)이라고 한다.</p>"
   ]
  },
  {
   "cell_type": "code",
   "execution_count": 17,
   "metadata": {},
   "outputs": [
    {
     "name": "stdout",
     "output_type": "stream",
     "text": [
      "Status: Optimal\n",
      "Objective value: 75.0\n",
      "\n",
      "Variables      Values\n",
      "-----------  --------\n",
      "x_0                 1\n",
      "x_1                 1\n",
      "x_2                 0\n",
      "x_3                 0\n",
      "x_4                 1\n",
      "\n",
      "Statistics:\n",
      "- Number of variables: 5\n",
      "- Number of constraints: 5\n",
      "- Solve time: 0.024s\n"
     ]
    }
   ],
   "source": [
    "from pulp import *\n",
    "from ortools.utils import output\n",
    "\n",
    "n = 5\n",
    "year = 4\n",
    "\n",
    "npv = [30, 10, 15, 12, 35]\n",
    "\n",
    "amount = [\n",
    "    [20, 25, 25, 20],\n",
    "    [10, 20, 15, 10],\n",
    "    [15, 30, 20, 5],\n",
    "    [10, 15, 10, 15],\n",
    "    [25, 30, 30, 25]\n",
    "]\n",
    "\n",
    "capital = [70, 90, 80, 60]\n",
    "\n",
    "# Define problem\n",
    "prob = LpProblem('Capital Budgeting Problem', LpMaximize)\n",
    "\n",
    "indexs = [(i) for i in range(n)]\n",
    "\n",
    "x = LpVariable.dicts('X', indexs, lowBound=0, cat='Binary')\n",
    "\n",
    "# Set objective function\n",
    "prob += lpSum([npv[i]*x[i] for i in range(n)])\n",
    "\n",
    "# Set constraint\n",
    "for j in range(year):\n",
    "    prob += lpSum([amount[i][j]*x[i] for i in range(n)]) <= capital[j]\n",
    "    \n",
    "# Added multiple choice constraint\n",
    "prob += x[0] - x[1] == 0\n",
    "    \n",
    "prob.solve()\n",
    "output(prob)"
   ]
  },
  {
   "cell_type": "markdown",
   "metadata": {},
   "source": [
    "<p style=\"text-indent: 1.5em\">투자대상 1($X_{1}$)과 투자대상 2($X_{2}$) 중에서 반드시 1개의 투자대상만을 선택해야 한다는 양자택일형 제약식</p>"
   ]
  },
  {
   "cell_type": "code",
   "execution_count": 18,
   "metadata": {},
   "outputs": [
    {
     "name": "stdout",
     "output_type": "stream",
     "text": [
      "Status: Optimal\n",
      "Objective value: 80.0\n",
      "\n",
      "Variables      Values\n",
      "-----------  --------\n",
      "x_0                 1\n",
      "x_1                 0\n",
      "x_2                 1\n",
      "x_3                 0\n",
      "x_4                 1\n",
      "\n",
      "Statistics:\n",
      "- Number of variables: 5\n",
      "- Number of constraints: 5\n",
      "- Solve time: 0.024s\n"
     ]
    }
   ],
   "source": [
    "from pulp import *\n",
    "from ortools.utils import output\n",
    "\n",
    "n = 5\n",
    "year = 4\n",
    "\n",
    "npv = [30, 10, 15, 12, 35]\n",
    "\n",
    "amount = [\n",
    "    [20, 25, 25, 20],\n",
    "    [10, 20, 15, 10],\n",
    "    [15, 30, 20, 5],\n",
    "    [10, 15, 10, 15],\n",
    "    [25, 30, 30, 25]\n",
    "]\n",
    "\n",
    "capital = [70, 90, 80, 60]\n",
    "\n",
    "# Define problem\n",
    "prob = LpProblem('Capital Budgeting Problem', LpMaximize)\n",
    "\n",
    "indexs = [(i) for i in range(n)]\n",
    "\n",
    "x = LpVariable.dicts('X', indexs, lowBound=0, cat='Binary')\n",
    "\n",
    "# Set objective function\n",
    "prob += lpSum([npv[i]*x[i] for i in range(n)])\n",
    "\n",
    "# Set constraint\n",
    "for j in range(year):\n",
    "    prob += lpSum([amount[i][j]*x[i] for i in range(n)]) <= capital[j]\n",
    "    \n",
    "# Added multiple choice constraint\n",
    "prob += x[0] + x[1] == 1\n",
    "    \n",
    "prob.solve()\n",
    "output(prob)"
   ]
  },
  {
   "cell_type": "markdown",
   "metadata": {},
   "source": [
    "<p style=\"text-indent: 1.5em\">투자대상 1($X_{1}$)과 투자대상 2($X_{2}$) 동시에 선택될 수 없다는 제약식, 이는 2개의 투자대상이 전혀 선택되지 않을 수도 있고 선택된다면 꼭 1개가 선택되는 경우이다. 이와 같은 제약식을 상호배타적 제약식(mutually exclusive constraint)이라고 한다.</p>"
   ]
  },
  {
   "cell_type": "code",
   "execution_count": 19,
   "metadata": {},
   "outputs": [
    {
     "name": "stdout",
     "output_type": "stream",
     "text": [
      "Status: Optimal\n",
      "Objective value: 80.0\n",
      "\n",
      "Variables      Values\n",
      "-----------  --------\n",
      "x_0                 1\n",
      "x_1                 0\n",
      "x_2                 1\n",
      "x_3                 0\n",
      "x_4                 1\n",
      "\n",
      "Statistics:\n",
      "- Number of variables: 5\n",
      "- Number of constraints: 5\n",
      "- Solve time: 0.029s\n"
     ]
    }
   ],
   "source": [
    "from pulp import *\n",
    "from ortools.utils import output\n",
    "\n",
    "n = 5\n",
    "year = 4\n",
    "\n",
    "npv = [30, 10, 15, 12, 35]\n",
    "\n",
    "amount = [\n",
    "    [20, 25, 25, 20],\n",
    "    [10, 20, 15, 10],\n",
    "    [15, 30, 20, 5],\n",
    "    [10, 15, 10, 15],\n",
    "    [25, 30, 30, 25]\n",
    "]\n",
    "\n",
    "capital = [70, 90, 80, 60]\n",
    "\n",
    "# Define problem\n",
    "prob = LpProblem('Capital Budgeting Problem', LpMaximize)\n",
    "\n",
    "indexs = [(i) for i in range(n)]\n",
    "\n",
    "x = LpVariable.dicts('X', indexs, lowBound=0, cat='Binary')\n",
    "\n",
    "# Set objective function\n",
    "prob += lpSum([npv[i]*x[i] for i in range(n)])\n",
    "\n",
    "# Set constraint\n",
    "for j in range(year):\n",
    "    prob += lpSum([amount[i][j]*x[i] for i in range(n)]) <= capital[j]\n",
    "    \n",
    "# Added multiple choice constraint\n",
    "prob += x[0] + x[1] <= 1\n",
    "    \n",
    "prob.solve()\n",
    "output(prob)"
   ]
  },
  {
   "cell_type": "markdown",
   "metadata": {},
   "source": [
    "<p style=\"text-indent: 1.5em\">다음은 4개의 제약식 중에서 1개의 제약식만을 선택하는 제약식, </p>"
   ]
  },
  {
   "cell_type": "code",
   "execution_count": 25,
   "metadata": {},
   "outputs": [
    {
     "name": "stdout",
     "output_type": "stream",
     "text": [
      "Status: Optimal\n",
      "Objective value: 55.0\n",
      "\n",
      "Variables      Values\n",
      "-----------  --------\n",
      "X1                  1\n",
      "X2                  1\n",
      "X3                  1\n",
      "Y                   0\n",
      "\n",
      "Statistics:\n",
      "- Number of variables: 4\n",
      "- Number of constraints: 2\n",
      "- Solve time: 0.025s\n"
     ]
    }
   ],
   "source": [
    "from pulp import *\n",
    "from ortools.utils import output\n",
    "\n",
    "n = 5\n",
    "year = 4\n",
    "\n",
    "npv = [30, 10, 15, 12, 35]\n",
    "\n",
    "amount = [\n",
    "    [20, 25, 25, 20],\n",
    "    [10, 20, 15, 10],\n",
    "    [15, 30, 20, 5],\n",
    "    [10, 15, 10, 15],\n",
    "    [25, 30, 30, 25]\n",
    "]\n",
    "\n",
    "capital = [70, 90, 80, 60]\n",
    "\n",
    "M = 1000\n",
    "\n",
    "# Define problem\n",
    "prob = LpProblem('Capital Budgeting Problem', LpMaximize)\n",
    "\n",
    "x1 = LpVariable('X1', lowBound=0, cat='Binary')\n",
    "x2 = LpVariable('X2', lowBound=0, cat='Binary')\n",
    "x3 = LpVariable('X3', lowBound=0, cat='Binary')\n",
    "y = LpVariable('Y', lowBound=0, cat='Binary')\n",
    "\n",
    "# Set objective function\n",
    "prob += 30*x1 + 10*x2 + 15*x3\n",
    "\n",
    "# Set constraint\n",
    "prob += 20*x1 + 10*x2 + 15*x3 <= 70 + y * M\n",
    "prob += 25*x1 + 20*x2 + 30*x3 <= 90 + (1 - y) * M\n",
    "\n",
    "prob.solve()\n",
    "output(prob)"
   ]
  },
  {
   "cell_type": "markdown",
   "metadata": {},
   "source": [
    "<p style=\"text-indent: 1.5em\">$m$개의 제약식 중에서 $k$개를 선택하는 제약식(단, $k<m$)</p>"
   ]
  },
  {
   "cell_type": "code",
   "execution_count": 27,
   "metadata": {},
   "outputs": [
    {
     "name": "stdout",
     "output_type": "stream",
     "text": [
      "Status: Optimal\n",
      "Objective value: 80.0\n",
      "\n",
      "Variables      Values\n",
      "-----------  --------\n",
      "X_0                 1\n",
      "X_1                 0\n",
      "X_2                 1\n",
      "X_3                 0\n",
      "X_4                 1\n",
      "\n",
      "Statistics:\n",
      "- Number of variables: 5\n",
      "- Number of constraints: 5\n",
      "- Solve time: 0.029s\n"
     ]
    }
   ],
   "source": [
    "from pulp import *\n",
    "from ortools.utils import output\n",
    "\n",
    "n = 5\n",
    "year = 4\n",
    "\n",
    "npv = [30, 10, 15, 12, 35]\n",
    "\n",
    "amount = [\n",
    "    [20, 25, 25, 20],\n",
    "    [10, 20, 15, 10],\n",
    "    [15, 30, 20, 5],\n",
    "    [10, 15, 10, 15],\n",
    "    [25, 30, 30, 25]\n",
    "]\n",
    "\n",
    "capital = [70, 90, 80, 60]\n",
    "\n",
    "M = 1000\n",
    "\n",
    "# Define problem\n",
    "prob = LpProblem('Capital Budgeting Problem', LpMaximize)\n",
    "\n",
    "indexs = [(i) for i in range(n)]\n",
    "\n",
    "x = LpVariable.dicts('X', indexs, lowBound=0, cat='Binary')\n",
    "y = LpVariable.dicts('Y', [i for i in range(n)], lowBound=0, cat='Binary')\n",
    "\n",
    "# Set objective function\n",
    "prob += lpSum([npv[i]*x[i] for i in range(n)])\n",
    "\n",
    "# Set constraint\n",
    "for j in range(year):\n",
    "    prob += lpSum([amount[i][j]*x[i] for i in range(n)]) <= capital[j]\n",
    "       \n",
    "prob.solve()\n",
    "output(prob)"
   ]
  },
  {
   "cell_type": "code",
   "execution_count": 28,
   "metadata": {},
   "outputs": [
    {
     "data": {
      "text/plain": [
       "Capital Budgeting Problem:\n",
       "MAXIMIZE\n",
       "30*X_0 + 10*X_1 + 15*X_2 + 12*X_3 + 35*X_4 + 0\n",
       "SUBJECT TO\n",
       "_C1: 20 X_0 + 10 X_1 + 15 X_2 + 10 X_3 + 25 X_4 <= 70\n",
       "\n",
       "_C2: 25 X_0 + 20 X_1 + 30 X_2 + 15 X_3 + 30 X_4 <= 90\n",
       "\n",
       "_C3: 25 X_0 + 15 X_1 + 20 X_2 + 10 X_3 + 30 X_4 <= 80\n",
       "\n",
       "_C4: 20 X_0 + 10 X_1 + 5 X_2 + 15 X_3 + 25 X_4 <= 60\n",
       "\n",
       "_C5: X_0 + X_1 <= 1\n",
       "\n",
       "VARIABLES\n",
       "0 <= X_0 <= 1 Integer\n",
       "0 <= X_1 <= 1 Integer\n",
       "0 <= X_2 <= 1 Integer\n",
       "0 <= X_3 <= 1 Integer\n",
       "0 <= X_4 <= 1 Integer"
      ]
     },
     "execution_count": 28,
     "metadata": {},
     "output_type": "execute_result"
    }
   ],
   "source": [
    "prob"
   ]
  },
  {
   "cell_type": "code",
   "execution_count": 3,
   "metadata": {},
   "outputs": [
    {
     "data": {
      "text/plain": [
       "'C:\\\\Users\\\\unerue\\\\Dropbox\\\\github\\\\or-tutorial\\\\or-tutorial'"
      ]
     },
     "execution_count": 3,
     "metadata": {},
     "output_type": "execute_result"
    }
   ],
   "source": [
    "os.path.abspath(os.path.join(os.getcwd(), os.pardir))"
   ]
  },
  {
   "cell_type": "code",
   "execution_count": null,
   "metadata": {},
   "outputs": [],
   "source": [
    "print(value(prob.objective))"
   ]
  },
  {
   "cell_type": "code",
   "execution_count": null,
   "metadata": {},
   "outputs": [],
   "source": [
    "for i in prob.variables():\n",
    "    if i.varValue == 1:\n",
    "        print(i.name, '=', i.varValue)"
   ]
  },
  {
   "cell_type": "code",
   "execution_count": null,
   "metadata": {},
   "outputs": [],
   "source": []
  },
  {
   "cell_type": "code",
   "execution_count": null,
   "metadata": {},
   "outputs": [],
   "source": []
  },
  {
   "cell_type": "code",
   "execution_count": null,
   "metadata": {},
   "outputs": [],
   "source": []
  },
  {
   "cell_type": "code",
   "execution_count": null,
   "metadata": {},
   "outputs": [],
   "source": [
    "from pulp import *\n",
    "\n",
    "# Initialize travelling salesman problem\n",
    "prob = LpProblem('Travelling Salesman', LpMinimize)\n",
    "\n",
    "n = len(cities)\n",
    "indexs = [(i, j) for i in range(n) for j in range(n) if i != j]\n",
    "\n",
    "# Creating decision variables\n",
    "x = LpVariable.dicts('x', indexs, cat='Binary')\n",
    "u = LpVariable.dicts('u', list(range(n)), lowBound=0, upBound=n-1, cat='Continuous')\n",
    "\n",
    "# Objective function\n",
    "prob += lpSum([cities[i][j] * x[(i,j)] for i, j in indexs])\n",
    "\n",
    "# Constraints\n",
    "for i in range(n):\n",
    "    prob += lpSum([x[(i,j)] for j in range(n) if i != j]) == 1\n",
    "    \n",
    "for j in range(n):\n",
    "    prob += lpSum([x[(i,j)] for i in range(n) if i != j]) == 1\n",
    "    \n",
    "for i in range(1, n):\n",
    "    for j in range(1, n):\n",
    "        if i != j:\n",
    "            prob += u[i] - u[j] + n * x[(i,j)] <= n - 1\n",
    "\n",
    "# Solve problem\n",
    "prob.solve()\n",
    "print(value(prob.objective))\n",
    "\n",
    "for i in prob.variables():\n",
    "    if i.name[0] == 'u':\n",
    "        print(i.name, '=', i.varValue)\n",
    "    elif i.varValue != 0:\n",
    "        print(i.name, '=', i.varValue)"
   ]
  },
  {
   "cell_type": "code",
   "execution_count": null,
   "metadata": {},
   "outputs": [],
   "source": []
  },
  {
   "cell_type": "markdown",
   "metadata": {},
   "source": [
    "\n",
    "$$x_{ij} = \n",
    "\\begin{cases}\n",
    "    1, \\; \\text{if the edge $(i,j)$ is included in the Hamilton cycle}\\\\\n",
    "    0, \\; \\text{otherwise}\n",
    "\\end{cases}$$\n",
    "\n",
    "$$u_{i} = \\text{order city $i$ is visited}$$\n",
    "\n",
    "<p style=\"text-indent: 1.5em\">위의 의사결정변수와 파라미터를 이용하여 총 거리의 합을 최소화하는 정수 계획법은 다음과 같습니다.</p>\n",
    "\n",
    "\n",
    "\n",
    "$$\\begin{align*}\n",
    "  & \\text{minimize }   &      & \\sum_{i=1}^{n} \\sum_{j=1}^{n} c_{ij}x_{ij} \\\\[1ex]\n",
    "  & \\text{subject to } & \\, & \\sum_{i=1}^{n} x_{ij} = 1, & \\quad & \\forall j = 1, \\dots, n\\\\[1ex]\n",
    "  &                    & \\, & \\sum_{j=1}^{n} x_{ij} = 1, & \\quad & \\forall j = 1, \\dots, n\\\\[1ex]  \n",
    "  &                    & \\, & u_{i} - u_{j} \\le N(1-x_{ij})-1 & \\quad & \\forall i = 2, \\dots, n, j=2, \\dots, n\\\\[1ex] \n",
    "\\end{align*}$$\n",
    "\n",
    "<p style=\"text-indent: 1.5em\">목적함수는 식(1)과 같습니다. 제약식은 다음과 같습니다. 제약식(2)과 (3)은 각 도시 $j$로 들어오는 도시는 1개가 되어야만 하고 각 도시 $i$에서 출발하는 도시는 1개가 되어야 한다는 걸 나타냅니다. 제약식(3)은 부등식 제약조건(inequality constraints)으로 MTZ 공식입니다. $x_{ij}=1$일 때, $(i,j)$에 대한 두 도시 사이는 순서는 $u_{j} \\ge u_{i}$를 뜻합니다. 제약식(4)와 (5)는 의사결정변수 $x_{ij}$는 $0$과 $1$ 값만 가질 수 있는 이진변수이고, $u_{i}$는 $0$보다 크거나 같고 $n-1$보다 작거나 같은 값을 가질 수 있는 변수를 나타냅니다.</p>\n"
   ]
  }
 ],
 "metadata": {
  "kernelspec": {
   "display_name": "Python 3",
   "language": "python",
   "name": "python3"
  },
  "language_info": {
   "codemirror_mode": {
    "name": "ipython",
    "version": 3
   },
   "file_extension": ".py",
   "mimetype": "text/x-python",
   "name": "python",
   "nbconvert_exporter": "python",
   "pygments_lexer": "ipython3",
   "version": "3.6.9"
  }
 },
 "nbformat": 4,
 "nbformat_minor": 4
}
