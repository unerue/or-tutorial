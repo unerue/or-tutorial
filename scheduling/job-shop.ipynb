{
 "cells": [
  {
   "cell_type": "markdown",
   "metadata": {},
   "source": [
    "## Job Shop Scheduling\n",
    "\n",
    "\n",
    "\n",
    "<p style=\"text-indent: 1.5em\">다품종 소량생산하는 제품들의 일정계획, 다양한 제품군에 대응해야 하므로, CNC와 같은 범용 기계 사용, 여러 제품군이 제품 별 상이한 공정계획, Setup 등에 기반하여 운용되기 때문에 생산 효율 제고를 위해서는 정밀한 생산계획 요구</p>\n",
    "\n",
    "<p style=\"text-indent: 1.5em\">Job, Operation, Machine 간 관계를 설정하고 개별 Job들을 수행할 수 있도록 구성하는 Operations을 Machine에 할당하는 것입니다.</p>\n",
    "\n",
    "<p style=\"text-indent: 1.5em\"></p>\n",
    "\n",
    "<p style=\"text-indent: 1.5em\"></p>\n",
    "\n",
    "<table>\n",
    "    <caption></caption>\n",
    "    <tr>\n",
    "        <th colspan=\"1\"><b>Metrics</b></th>\n",
    "        <th><b>Description</b></th>\n",
    "    </tr>\n",
    "    <tr> \n",
    "        <td>Makespan</td>\n",
    "        <td align=\"left\">할당된 작업이 모두 끝나는 시점</td>\n",
    "    </tr>\n",
    "    <tr> \n",
    "        <td>Mean completion time</td>\n",
    "        <td>각 작업이 끝나는 시점의 평균</td>\n",
    "    </tr>\n",
    "    <tr> \n",
    "        <td>Maximum flow time</td>\n",
    "        <td>작업이 작업에서 작업하는 시간을 합산하였을 때 가장 큰 값</td>\n",
    "    </tr>\n",
    "    <tr> \n",
    "        <td>Mean flow time</td>\n",
    "        <td>작업이 작업장에서 작업하는 시간을 합하여 평균낸 값</td>\n",
    "    </tr>\n",
    "    <tr> \n",
    "        <td>Total tardiness</td>\n",
    "        <td>작업의 납기시간과 완료시간의 차를 합한 값</td>\n",
    "    </tr>\n",
    "    <tr> \n",
    "        <td>Average tardiness</td>\n",
    "        <td></td>\n",
    "    </tr>\n",
    "    <tr> \n",
    "        <td>Total weighted tardiness</td>\n",
    "        <td></td>\n",
    "    </tr>\n",
    "    <tr> \n",
    "        <td>Maximum lateness</td>\n",
    "        <td></td>\n",
    "    </tr>\n",
    "    <tr> \n",
    "        <td>Number of tardy jobs</td>\n",
    "        <td></td>\n",
    "    </tr>\n",
    "    <tr> \n",
    "        <td>Total workload of machines</td>\n",
    "        <td></td>\n",
    "    </tr>\n",
    "    <tr> \n",
    "        <td>Critical machine workload</td>\n",
    "        <td></td>\n",
    "    </tr>\n",
    "</table>\n",
    "\n",
    "\n",
    "**Pinedo, M. L. (2012). _Scheduling Theory, Algorithms, and Systems_. Springer, 186.**\n",
    "\n",
    "<p style=\"text-indent: 1.5em\">Pinedo 교수님의 책에서 예제를 발췌하였습니다. 아래는 <b>Example 7.1.1 (Disjunctive Programming Formulation)</b> 문제입니다. 아래의 표는 주어진 문제의 입력값으로 작업, 기계 할당 순서, 각 기계에서 걸리는 작업시간입니다.</p>\n",
    "\n",
    "<table>\n",
    "    <caption></caption>\n",
    "    <tr>\n",
    "        <th colspan=\"1\"><b>jobs</b></th>\n",
    "        <th><b>machine sequence</b></th>\n",
    "        <th><b>processing times</b></th>\n",
    "    </tr>\n",
    "    <tr> \n",
    "        <td align=\"center\">1</td>\n",
    "        <td align=\"center\">1, 2, 3</td>\n",
    "        <td align=\"center\">$p_{11}=10$, $p_{21}=8$, $p_{31}=4$,</td>\n",
    "    </tr>\n",
    "    <tr> \n",
    "        <td align=\"center\">2</td>\n",
    "        <td align=\"center\">2, 1, 4, 3</td>\n",
    "        <td align=\"center\">$p_{22}=8$, $p_{12}=3$, $p_{42}=5$, $p_{32}=6$</td>\n",
    "    </tr>\n",
    "    <tr> \n",
    "        <td align=\"center\">3</td>\n",
    "        <td align=\"center\">1, 2, 4</td>\n",
    "        <td align=\"center\">$p_{13}=4$, $p_{23}=7$, $p_{43}=3$</td>\n",
    "    </tr>\n",
    "</table>\n",
    "\n",
    "<p style=\"text-indent: 1.5em\">자세한 내용은 책을 보시는 것을 추천하며 우리는 이 문제를 파이썬 PulP를 사용하여 최적해를 찾는 것을 알아보겠습니다.</p>\n",
    "\n",
    "$$\\begin{align*}\n",
    "  & \\text{minimize }   &   C_{\\max}   &                   &   &   &\\quad(1.1)\\\\[1ex]\n",
    "  & \\text{subject to } & \\,    y_{kj}-& y_{ij} \\ge p_{ij} & \\forall (i,j) & \\rightarrow (k,j) \\in A  &\\quad(1.2)\\\\[1ex]\n",
    "  &                    & \\,  C_{\\max}-& y_{ij} \\ge p_{ij} & \\forall (i,j) & \\in N  &\\quad(1.3)\\\\[1ex]  \n",
    "  &                    & \\,    y_{ij}-& y_{il} \\ge p_{il} \\quad\\text{or}\\quad y_{il}-y_{ij} \\ge p_{ij} & \\forall (i,l) & \\:\\text{and} \\:(i,j),\\quad i=1,...,m  &\\quad(1.4)\\\\[1ex] \n",
    "  &                    & \\,    & y_{ij} \\ge 0             & \\forall (i,j) & \\in N  &\\quad(1.5)\\\\\n",
    "\\end{align*}$$"
   ]
  },
  {
   "cell_type": "code",
   "execution_count": 3,
   "metadata": {},
   "outputs": [],
   "source": [
    "import numpy as np\n",
    "from pulp import *\n",
    "\n",
    "\n",
    "n_machines = 4\n",
    "n_jobs = 3\n",
    "M = 10000\n",
    "\n",
    "seq = [\n",
    "    [1, 2, 3], \n",
    "    [2, 1, 4, 3], \n",
    "    [1, 2, 4]\n",
    "]\n",
    "\n",
    "pt = [\n",
    "    [10, 8, 4], \n",
    "    [8, 3, 5, 6], \n",
    "    [4, 7, 3]\n",
    "]"
   ]
  },
  {
   "cell_type": "code",
   "execution_count": null,
   "metadata": {},
   "outputs": [],
   "source": []
  },
  {
   "cell_type": "markdown",
   "metadata": {},
   "source": [
    "$i=\\text{기계}(i=1,2,3,...,M)\\\\\n",
    "j=작업(\\:j=1,2,3,...,J)\\\\\n",
    "x_{ij}=\\text{작업}\\: j\\text{에서 기계}\\: i\\text{에서의 시작시간}\\\\\n",
    "y_{ijl}=\\text{기계}\\: i\\text{에서 작업}\\: j\\text{가 작업}\\:l\\text{보다 선행하면, 1}$"
   ]
  },
  {
   "cell_type": "code",
   "execution_count": 3,
   "metadata": {},
   "outputs": [
    {
     "data": {
      "text/plain": [
       "{(1, 1): x_(1,_1),\n",
       " (2, 1): x_(2,_1),\n",
       " (3, 1): x_(3,_1),\n",
       " (2, 2): x_(2,_2),\n",
       " (1, 2): x_(1,_2),\n",
       " (4, 2): x_(4,_2),\n",
       " (3, 2): x_(3,_2),\n",
       " (1, 3): x_(1,_3),\n",
       " (2, 3): x_(2,_3),\n",
       " (4, 3): x_(4,_3)}"
      ]
     },
     "execution_count": 3,
     "metadata": {},
     "output_type": "execute_result"
    }
   ],
   "source": [
    "x_list = [(i, j+1) for j, _ in enumerate(machines) for i in _]\n",
    "x = LpVariable.dicts(name='x', indexs=x_list, lowBound=0, cat='Integer')\n",
    "x"
   ]
  },
  {
   "cell_type": "code",
   "execution_count": 4,
   "metadata": {},
   "outputs": [
    {
     "data": {
      "text/plain": [
       "[(1, 1, 2),\n",
       " (1, 1, 3),\n",
       " (1, 2, 3),\n",
       " (2, 1, 2),\n",
       " (2, 1, 3),\n",
       " (2, 2, 3),\n",
       " (3, 1, 2),\n",
       " (4, 2, 3)]"
      ]
     },
     "execution_count": 4,
     "metadata": {},
     "output_type": "execute_result"
    }
   ],
   "source": [
    "from itertools import combinations\n",
    "\n",
    "m = 0\n",
    "jj = []\n",
    "jk = []\n",
    "for i in range(1, num_of_machines+1):\n",
    "    for _, j in enumerate(machines):\n",
    "        for idx, k in enumerate(j):\n",
    "            if i == k:\n",
    "                jj.append(_+1)\n",
    "                m += 1\n",
    "    if len(jj) == m:\n",
    "        jk.append(jj)\n",
    "    m = 0\n",
    "    jj = []\n",
    "    \n",
    "l = []\n",
    "for j in jk:\n",
    "    l.extend(combination(j, 2))\n",
    "    \n",
    "m = 0\n",
    "idxx = []\n",
    "for i, job in enumerate(jk):\n",
    "    for ij, jj in enumerate(job):\n",
    "        if len(job) % 2 != 0:\n",
    "            idxx.append((i+1, l[m][0], l[m][1]))\n",
    "            m += 1\n",
    "        elif len(job) % 2 == 0:\n",
    "            if ij == 0:\n",
    "                idxx.append((i+1, l[m][0], l[m][1]))\n",
    "                m += 1\n",
    "idxx"
   ]
  },
  {
   "cell_type": "code",
   "execution_count": 5,
   "metadata": {},
   "outputs": [
    {
     "data": {
      "text/plain": [
       "{(1, 1, 2): y_(1,_1,_2),\n",
       " (1, 1, 3): y_(1,_1,_3),\n",
       " (1, 2, 3): y_(1,_2,_3),\n",
       " (2, 1, 2): y_(2,_1,_2),\n",
       " (2, 1, 3): y_(2,_1,_3),\n",
       " (2, 2, 3): y_(2,_2,_3),\n",
       " (3, 1, 2): y_(3,_1,_2),\n",
       " (4, 2, 3): y_(4,_2,_3)}"
      ]
     },
     "execution_count": 5,
     "metadata": {},
     "output_type": "execute_result"
    }
   ],
   "source": [
    "y = LpVariable.dicts(name='y', indexs=idxx, lowBound=0, upBound=1, cat='Binary')\n",
    "y"
   ]
  },
  {
   "cell_type": "code",
   "execution_count": 6,
   "metadata": {},
   "outputs": [],
   "source": [
    "Cmax = LpVariable('Cmax', lowBound=0)"
   ]
  },
  {
   "cell_type": "code",
   "execution_count": 7,
   "metadata": {},
   "outputs": [],
   "source": [
    "prob = LpProblem('Job Shop Scheduling', LpMinimize)"
   ]
  },
  {
   "cell_type": "code",
   "execution_count": 8,
   "metadata": {},
   "outputs": [],
   "source": [
    "proc_dict = {}\n",
    "for i, _ in enumerate(machines):\n",
    "    for j, _ in enumerate(_):\n",
    "        proc_dict[_, i+1] = processing_times[i][j]"
   ]
  },
  {
   "cell_type": "markdown",
   "metadata": {},
   "source": [
    "$C_{\\max}-x_{ij} \\ge p_{ij}$"
   ]
  },
  {
   "cell_type": "code",
   "execution_count": 9,
   "metadata": {},
   "outputs": [],
   "source": [
    "for i in x_list:\n",
    "    prob += Cmax - x[i] >= proc_dict[i]"
   ]
  },
  {
   "cell_type": "code",
   "execution_count": 10,
   "metadata": {},
   "outputs": [],
   "source": [
    "# for i, p in enumerate(processing_times):\n",
    "#     for j, p_i in enumerate(p):\n",
    "#         prob += Cmax - x[machines[i][j], i+1] >= processing_times[i][j]"
   ]
  },
  {
   "cell_type": "markdown",
   "metadata": {},
   "source": [
    "$x_{kj} - x_{ij}\\ge p_{ij}$"
   ]
  },
  {
   "cell_type": "code",
   "execution_count": 11,
   "metadata": {},
   "outputs": [],
   "source": [
    "for i, p in enumerate(processing_times):\n",
    "    for j, p_i in enumerate(p):\n",
    "        if j+1 != len(p):\n",
    "            prob += x[machines[i][j+1], i+1] - x[machines[i][j], i+1] >= processing_times[i][j]"
   ]
  },
  {
   "cell_type": "code",
   "execution_count": 12,
   "metadata": {},
   "outputs": [],
   "source": [
    "# for i, xy in enumerate(x_list):\n",
    "#     if i+1 != len(x_list):\n",
    "#         prob += x[x_list[i+1]] - x[xy] >= proc_dict[xy]"
   ]
  },
  {
   "cell_type": "code",
   "execution_count": 13,
   "metadata": {},
   "outputs": [],
   "source": [
    "# for i, p in enumerate(processing_times):\n",
    "#     for j, p_i in enumerate(p):\n",
    "#         if j+1 != len(p):\n",
    "#             print(x[machines[i][j+1], i+1] - x[machines[i][j], i+1], processing_times[i][j])"
   ]
  },
  {
   "cell_type": "markdown",
   "metadata": {},
   "source": [
    "$y_{ijl} - y_{ilj} \\ge p_{il} - M\\cdot (1-y_{ilj})$"
   ]
  },
  {
   "cell_type": "code",
   "execution_count": 14,
   "metadata": {},
   "outputs": [
    {
     "name": "stdout",
     "output_type": "stream",
     "text": [
      "x_(1,_1) x_(1,_2) 3 y_(1,_1,_2)\n",
      "x_(1,_1) x_(1,_3) 4 y_(1,_1,_3)\n",
      "x_(1,_2) x_(1,_3) 4 y_(1,_2,_3)\n",
      "x_(2,_1) x_(2,_2) 8 y_(2,_1,_2)\n",
      "x_(2,_1) x_(2,_3) 7 y_(2,_1,_3)\n",
      "x_(2,_2) x_(2,_3) 7 y_(2,_2,_3)\n",
      "x_(3,_1) x_(3,_2) 6 y_(3,_1,_2)\n",
      "x_(4,_2) x_(4,_3) 3 y_(4,_2,_3)\n"
     ]
    }
   ],
   "source": [
    "for i in idxx:\n",
    "    print(x[i[0], i[1]], x[i[0], i[2]], proc_dict[i[0], i[2]], y[i])"
   ]
  },
  {
   "cell_type": "code",
   "execution_count": 15,
   "metadata": {},
   "outputs": [],
   "source": [
    "for i in idxx:\n",
    "    prob += x[i[0], i[1]] - x[i[0], i[2]] >= proc_dict[i[0], i[2]] - M*(1-y[i])"
   ]
  },
  {
   "cell_type": "markdown",
   "metadata": {},
   "source": [
    "$y_{ilj} - y_{ijl} \\ge p_{il} - M\\cdot y_{ilj}$"
   ]
  },
  {
   "cell_type": "code",
   "execution_count": 16,
   "metadata": {},
   "outputs": [
    {
     "name": "stdout",
     "output_type": "stream",
     "text": [
      "x_(1,_2) x_(1,_1) 10 y_(1,_1,_2)\n",
      "x_(1,_3) x_(1,_1) 10 y_(1,_1,_3)\n",
      "x_(1,_3) x_(1,_2) 3 y_(1,_2,_3)\n",
      "x_(2,_2) x_(2,_1) 8 y_(2,_1,_2)\n",
      "x_(2,_3) x_(2,_1) 8 y_(2,_1,_3)\n",
      "x_(2,_3) x_(2,_2) 8 y_(2,_2,_3)\n",
      "x_(3,_2) x_(3,_1) 4 y_(3,_1,_2)\n",
      "x_(4,_3) x_(4,_2) 5 y_(4,_2,_3)\n"
     ]
    }
   ],
   "source": [
    "for i in idxx:\n",
    "    print(x[i[0], i[2]], x[i[0], i[1]], proc_dict[i[0], i[1]], y[i])"
   ]
  },
  {
   "cell_type": "code",
   "execution_count": 17,
   "metadata": {},
   "outputs": [],
   "source": [
    "for i in idxx:\n",
    "    prob += x[i[0], i[2]] - x[i[0], i[1]] >= proc_dict[i[0], i[1]] - M*y[i]"
   ]
  },
  {
   "cell_type": "code",
   "execution_count": 18,
   "metadata": {},
   "outputs": [
    {
     "data": {
      "text/plain": [
       "1"
      ]
     },
     "execution_count": 18,
     "metadata": {},
     "output_type": "execute_result"
    }
   ],
   "source": [
    "prob.solve()"
   ]
  },
  {
   "cell_type": "code",
   "execution_count": 19,
   "metadata": {},
   "outputs": [
    {
     "name": "stdout",
     "output_type": "stream",
     "text": [
      "Status:  Optimal\n",
      "Cmax = 10029.0\n",
      "__dummy = None\n",
      "x_(1,_1) = 0.0\n",
      "x_(1,_2) = 26.0\n",
      "x_(1,_3) = 29.0\n",
      "x_(2,_1) = 10.0\n",
      "x_(2,_2) = 18.0\n",
      "x_(2,_3) = 33.0\n",
      "x_(3,_1) = 18.0\n",
      "x_(3,_2) = 34.0\n",
      "x_(4,_2) = 29.0\n",
      "x_(4,_3) = 10026.0\n",
      "y_(1,_1,_2) = 0.0\n",
      "y_(1,_1,_3) = 0.0\n",
      "y_(1,_2,_3) = 0.0\n",
      "y_(2,_1,_2) = 0.0\n",
      "y_(2,_1,_3) = 0.0\n",
      "y_(2,_2,_3) = 0.0\n",
      "y_(3,_1,_2) = 0.0\n",
      "y_(4,_2,_3) = 0.0\n"
     ]
    }
   ],
   "source": [
    "print('Status: ', LpStatus[prob.status])\n",
    "\n",
    "for v in prob.variables():\n",
    "    print(v.name, '=', v.varValue)"
   ]
  },
  {
   "cell_type": "code",
   "execution_count": 20,
   "metadata": {},
   "outputs": [
    {
     "data": {
      "text/plain": [
       "Job Shop Scheduling:\n",
       "MINIMIZE\n",
       "None\n",
       "SUBJECT TO\n",
       "_C1: Cmax - x_(1,_1) >= 10\n",
       "\n",
       "_C2: Cmax - x_(2,_1) >= 8\n",
       "\n",
       "_C3: Cmax - x_(3,_1) >= 4\n",
       "\n",
       "_C4: Cmax - x_(2,_2) >= 8\n",
       "\n",
       "_C5: Cmax - x_(1,_2) >= 3\n",
       "\n",
       "_C6: Cmax - x_(4,_2) >= 5\n",
       "\n",
       "_C7: Cmax - x_(3,_2) >= 6\n",
       "\n",
       "_C8: Cmax - x_(1,_3) >= 4\n",
       "\n",
       "_C9: Cmax - x_(2,_3) >= 7\n",
       "\n",
       "_C10: Cmax - x_(4,_3) >= 3\n",
       "\n",
       "_C11: - x_(1,_1) + x_(2,_1) >= 10\n",
       "\n",
       "_C12: - x_(2,_1) + x_(3,_1) >= 8\n",
       "\n",
       "_C13: x_(1,_2) - x_(2,_2) >= 8\n",
       "\n",
       "_C14: - x_(1,_2) + x_(4,_2) >= 3\n",
       "\n",
       "_C15: x_(3,_2) - x_(4,_2) >= 5\n",
       "\n",
       "_C16: - x_(1,_3) + x_(2,_3) >= 4\n",
       "\n",
       "_C17: - x_(2,_3) + x_(4,_3) >= 7\n",
       "\n",
       "_C18: x_(1,_1) - x_(1,_2) - 10000 y_(1,_1,_2) >= -9997\n",
       "\n",
       "_C19: x_(1,_1) - x_(1,_3) - 10000 y_(1,_1,_3) >= -9996\n",
       "\n",
       "_C20: x_(1,_2) - x_(1,_3) - 10000 y_(1,_2,_3) >= -9996\n",
       "\n",
       "_C21: x_(2,_1) - x_(2,_2) - 10000 y_(2,_1,_2) >= -9992\n",
       "\n",
       "_C22: x_(2,_1) - x_(2,_3) - 10000 y_(2,_1,_3) >= -9993\n",
       "\n",
       "_C23: x_(2,_2) - x_(2,_3) - 10000 y_(2,_2,_3) >= -9993\n",
       "\n",
       "_C24: x_(3,_1) - x_(3,_2) - 10000 y_(3,_1,_2) >= -9994\n",
       "\n",
       "_C25: x_(4,_2) - x_(4,_3) - 10000 y_(4,_2,_3) >= -9997\n",
       "\n",
       "_C26: - x_(1,_1) + x_(1,_2) + 10000 y_(1,_1,_2) >= 10\n",
       "\n",
       "_C27: - x_(1,_1) + x_(1,_3) + 10000 y_(1,_1,_3) >= 10\n",
       "\n",
       "_C28: - x_(1,_2) + x_(1,_3) + 10000 y_(1,_2,_3) >= 3\n",
       "\n",
       "_C29: - x_(2,_1) + x_(2,_2) + 10000 y_(2,_1,_2) >= 8\n",
       "\n",
       "_C30: - x_(2,_1) + x_(2,_3) + 10000 y_(2,_1,_3) >= 8\n",
       "\n",
       "_C31: - x_(2,_2) + x_(2,_3) + 10000 y_(2,_2,_3) >= 8\n",
       "\n",
       "_C32: - x_(3,_1) + x_(3,_2) + 10000 y_(3,_1,_2) >= 4\n",
       "\n",
       "_C33: - x_(4,_2) + x_(4,_3) + 10000 y_(4,_2,_3) >= 5\n",
       "\n",
       "VARIABLES\n",
       "Cmax Continuous\n",
       "__dummy = 0 Continuous\n",
       "0 <= x_(1,_1) Integer\n",
       "0 <= x_(1,_2) Integer\n",
       "0 <= x_(1,_3) Integer\n",
       "0 <= x_(2,_1) Integer\n",
       "0 <= x_(2,_2) Integer\n",
       "0 <= x_(2,_3) Integer\n",
       "0 <= x_(3,_1) Integer\n",
       "0 <= x_(3,_2) Integer\n",
       "0 <= x_(4,_2) Integer\n",
       "0 <= x_(4,_3) Integer\n",
       "0 <= y_(1,_1,_2) <= 1 Integer\n",
       "0 <= y_(1,_1,_3) <= 1 Integer\n",
       "0 <= y_(1,_2,_3) <= 1 Integer\n",
       "0 <= y_(2,_1,_2) <= 1 Integer\n",
       "0 <= y_(2,_1,_3) <= 1 Integer\n",
       "0 <= y_(2,_2,_3) <= 1 Integer\n",
       "0 <= y_(3,_1,_2) <= 1 Integer\n",
       "0 <= y_(4,_2,_3) <= 1 Integer"
      ]
     },
     "execution_count": 20,
     "metadata": {},
     "output_type": "execute_result"
    }
   ],
   "source": [
    "prob"
   ]
  },
  {
   "cell_type": "markdown",
   "metadata": {},
   "source": [
    "## REFERENCES\n",
    "\n",
    "1. Pinedo ()"
   ]
  }
 ],
 "metadata": {
  "kernelspec": {
   "display_name": "Python 3",
   "language": "python",
   "name": "python3"
  },
  "language_info": {
   "codemirror_mode": {
    "name": "ipython",
    "version": 3
   },
   "file_extension": ".py",
   "mimetype": "text/x-python",
   "name": "python",
   "nbconvert_exporter": "python",
   "pygments_lexer": "ipython3",
   "version": "3.6.8"
  },
  "latex_envs": {
   "LaTeX_envs_menu_present": true,
   "autocomplete": true,
   "bibliofile": "biblio.bib",
   "cite_by": "apalike",
   "current_citInitial": 1,
   "eqLabelWithNumbers": true,
   "eqNumInitial": 1,
   "hotkeys": {
    "equation": "Ctrl-E",
    "itemize": "Ctrl-I"
   },
   "labels_anchors": false,
   "latex_user_defs": false,
   "report_style_numbering": false,
   "user_envs_cfg": false
  },
  "varInspector": {
   "cols": {
    "lenName": 16,
    "lenType": 16,
    "lenVar": 40
   },
   "kernels_config": {
    "python": {
     "delete_cmd_postfix": "",
     "delete_cmd_prefix": "del ",
     "library": "var_list.py",
     "varRefreshCmd": "print(var_dic_list())"
    },
    "r": {
     "delete_cmd_postfix": ") ",
     "delete_cmd_prefix": "rm(",
     "library": "var_list.r",
     "varRefreshCmd": "cat(var_dic_list()) "
    }
   },
   "types_to_exclude": [
    "module",
    "function",
    "builtin_function_or_method",
    "instance",
    "_Feature"
   ],
   "window_display": false
  }
 },
 "nbformat": 4,
 "nbformat_minor": 4
}
