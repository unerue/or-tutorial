{
 "cells": [
  {
   "cell_type": "markdown",
   "metadata": {},
   "source": [
    "## Scheduling\n",
    "\n",
    "<p style=\"text-indent: 1.5em\">일정계획(scheduling)은 제품생산에 필요한 각 작업을 수행하는 일정에 대해 최적 또는 실행가능한 상세계획을 결정하는 것입니다. 언제, 어느 기계를 이용하여, 누가, 어떤 작업을 하는가를 정하는 것이며 일정한 기간 동안에 생산해야 할 제품의 종류와 수량이 생산계획과 생산공정(production process)에 의해서 결정되고 난 후에 이루어지며, 생산품의 종류는 생산공정계획에 의해서 결정되기 때문입니다. 일정계획에서는 주어진 기계에서 어떤 순서로 가공작업을 처리할 것인지를 결정하는 것이 가장 중요한데, 이 기능을 작업순서계획(job sequencing)이라고 합니다. 최적의 작업순서는 일정계획의 조합(permutation schedules) 중에서 주어진 평가기준의 최적화에 의해서 결정되며, 시뮬레이션을 이용하여 배정규칙 혹은 우선규칙(dispatching or priority rules)이 합리적인 일정을 얻는 데 사용됩니다. Flow Shop에서는 작업물이 거치는 기계나 공정의 순서가 완전히 동일하므로 일정계획이 상대적으로 단순하지만, Job Shop에서는 작업의 유형에 따라 기술적 순서(technological order)가 다양하므로 최적의 일정을 결정하기 어렵습니다. 기계가 공라인처럼 개개의 요소작업이 독립성을 가지고 있는 경우의 생산 일정계획을 작업일정계획(operations scheduling)이라고 합니다.</p>\n",
    "\n",
    "작업일정계획에는 다음과 같은 세 가지 유형이 있습니다.\n",
    "\n",
    "* 작업순서계획(job sequencing) - 한 대의 기계에서 가공되는 작업물의 공정순서를 결정하는 것으로, 최적의 작업순서는 일정계획의 조합들(permutation schedules) 중에서 결정되거나 일정계획 시뮬레이션에 의해 합리적으로 수립된 우선규칙에 의해 얻어집니다.\n",
    "* flow-shop 일정계획 - 다단계 생산공정에서 기계의 배치가 부품가공의 순서와 완전히 일치하는 경우의 공장이 flow shop이고, 이에 대한 일정계획을 flow-shop 스케줄링이라고 합니다. 이와 같은 흐름생산의 형식은 대량생산이 전형적인 예입니다.\n",
    "* job-shop 일정계획 - 대부분의 다품종 생산의 경우에는 부품의 가공순서가 작업에 따라 다르며, 이 같은 공장을 job-shop이라고 하고, 이 경우의 일정계획을 job-shop 일정계획이라고 합니다.\n",
    "\n",
    "작업일정계획의 기본적인 구조\n",
    "\n",
    "작업일정계획의 전형적인 예는 다음 그림과 같습니다. 한 공장에서 N대의 기계에 M개의 작업을 처리하는 문제로 이것은 (M!)^N개의 대안이 있는 조합 문제로 어떤 평가기준에 대한 최적해가 반드시 존재하며, 이것은 이론적으로 일정한 횟수의 반복계산으로 구할 수 있습니다. 그러나 최적의 일정계획을 찾아내려면, 많은 양의 계산이 필요한데, 특히 문제의 크기가 큰 경우 매우 어려우므로 NP-hard입니다.\n"
   ]
  },
  {
   "cell_type": "code",
   "execution_count": 1,
   "metadata": {},
   "outputs": [],
   "source": [
    "from pulp import *\n",
    "\n",
    "prob = LpProblem('', LpMinimize)"
   ]
  },
  {
   "cell_type": "markdown",
   "metadata": {},
   "source": [
    "## REFERENCES\n",
    "\n",
    "1. Pinedo ()"
   ]
  }
 ],
 "metadata": {
  "kernelspec": {
   "display_name": "Python 3",
   "language": "python",
   "name": "python3"
  },
  "language_info": {
   "codemirror_mode": {
    "name": "ipython",
    "version": 3
   },
   "file_extension": ".py",
   "mimetype": "text/x-python",
   "name": "python",
   "nbconvert_exporter": "python",
   "pygments_lexer": "ipython3",
   "version": "3.6.8"
  },
  "latex_envs": {
   "LaTeX_envs_menu_present": true,
   "autocomplete": true,
   "bibliofile": "biblio.bib",
   "cite_by": "apalike",
   "current_citInitial": 1,
   "eqLabelWithNumbers": true,
   "eqNumInitial": 1,
   "hotkeys": {
    "equation": "Ctrl-E",
    "itemize": "Ctrl-I"
   },
   "labels_anchors": false,
   "latex_user_defs": false,
   "report_style_numbering": false,
   "user_envs_cfg": false
  },
  "varInspector": {
   "cols": {
    "lenName": 16,
    "lenType": 16,
    "lenVar": 40
   },
   "kernels_config": {
    "python": {
     "delete_cmd_postfix": "",
     "delete_cmd_prefix": "del ",
     "library": "var_list.py",
     "varRefreshCmd": "print(var_dic_list())"
    },
    "r": {
     "delete_cmd_postfix": ") ",
     "delete_cmd_prefix": "rm(",
     "library": "var_list.r",
     "varRefreshCmd": "cat(var_dic_list()) "
    }
   },
   "types_to_exclude": [
    "module",
    "function",
    "builtin_function_or_method",
    "instance",
    "_Feature"
   ],
   "window_display": false
  }
 },
 "nbformat": 4,
 "nbformat_minor": 4
}
