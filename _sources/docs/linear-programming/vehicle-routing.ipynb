{
 "cells": [
  {
   "cell_type": "markdown",
   "metadata": {},
   "source": [
    "# Vehicle Routing Problem\n",
    "\n",
    "차량 경로 문제(vehicle routing problem, VRP)는 Dantzig and Ramser (1959 )에 의해 제안되었으며 이후 다양한 연구가 진행되어 왔습니다. VRP의 기본 가정은 $n$개의 목적지에 $k$대 차량이 단일 물류 창고를 중심으로 최소비용 또는 최소거리로 운송할 수 있는 경로를 구하는 문제입니다.\n",
    "\n",
    "## SOVLING A VEHICLE ROUTING PROBLEM\n",
    "\n",
    "### Mathematical Modeling\n",
    "\n",
    "<p style=\"text-indent: 1.5em\"></p>\n",
    "\n",
    "$$x_{ij} = \n",
    "\\begin{cases}\n",
    "    1, \\; \\text{if $i$ is supplied before $j$ by vehicle $k$,}\\\\\n",
    "    0, \\; \\text{otherwise}\n",
    "\\end{cases}$$\n",
    "\n",
    "위의 의사결정변수와 파라미터를 이용하여 총 거리의 합을 최소화하는 정수 계획법의 목적함수는 식(1)과 같습니다.\n",
    "\n",
    "$$\\begin{align*}\n",
    "  & \\text{minimize }   &      & \\sum_{i=1}^{n} \\sum_{j=1}^{n} c_{ij}x_{ij} \\\\[1ex]\n",
    "  & \\text{subject to } & \\, & \\sum_{i=1}^{n} x_{ij} = 1, & \\quad & \\forall j = 1, \\dots, n\\\\[1ex]\n",
    "  &                    & \\, & \\sum_{j=1}^{n} x_{ij} = 1, & \\quad & \\forall j = 1, \\dots, n\\\\[1ex]  \n",
    "  &                    & \\, & \\sum_{i=1}^{n} x_{i0} = K, & \\quad \\\\[1ex] \n",
    "  &                    & \\, & \\sum_{j=1}^{n} x_{0j} = K, & \\quad \\\\[1ex] \n",
    "\\end{align*}$$\n",
    "\n",
    "<p style=\"text-indent: 1.5em\"></p>"
   ]
  },
  {
   "cell_type": "code",
   "execution_count": 1,
   "metadata": {},
   "outputs": [
    {
     "data": {
      "text/plain": [
       "array([[  0,  42,  73,  87,  66,  46,  91,  35,  62,  55],\n",
       "       [ 42,   0, 108,  99,  84,  85,  98,  13,  72,  64],\n",
       "       [ 73, 108,   0,  60,  46,  29,  71,  96,  60,  61],\n",
       "       [ 87,  99,  60,   0,  21,  71,  11,  86,  27,  35],\n",
       "       [ 66,  84,  46,  21,   0,  50,  29,  70,  16,  21],\n",
       "       [ 46,  85,  29,  71,  50,   0,  80,  74,  58,  56],\n",
       "       [ 91,  98,  71,  11,  29,  80,   0,  86,  29,  36],\n",
       "       [ 35,  13,  96,  86,  70,  74,  86,   0,  59,  51],\n",
       "       [ 62,  72,  60,  27,  16,  58,  29,  59,   0,   8],\n",
       "       [ 55,  64,  61,  35,  21,  56,  36,  51,   8,   0]], dtype=int32)"
      ]
     },
     "execution_count": 1,
     "metadata": {},
     "output_type": "execute_result"
    }
   ],
   "source": [
    "from utils import GenerateCities\n",
    "\n",
    "coords, cities = GenerateCities(100, 100, 10, 42).generate()\n",
    "cities"
   ]
  },
  {
   "cell_type": "markdown",
   "metadata": {},
   "source": [
    "### Mixed Integer Programming using PuLP\n",
    "\n",
    "이제 파이썬을 활용하여 외판원 문제의 최적해를 구해보겠습니다. 파이썬을 활용한 경영과학(MS/OR)은 추후 기초부터 포스팅을 할 예정입니다."
   ]
  },
  {
   "cell_type": "code",
   "execution_count": 2,
   "metadata": {},
   "outputs": [
    {
     "name": "stdout",
     "output_type": "stream",
     "text": [
      "296.0\n",
      "u_1 = 9.0\n",
      "u_2 = 1.0\n",
      "u_3 = 3.0\n",
      "u_4 = 2.0\n",
      "u_5 = 0.0\n",
      "u_6 = 4.0\n",
      "u_7 = 8.0\n",
      "u_8 = 6.0\n",
      "u_9 = 7.0\n",
      "x_(0,_5) = 1.0\n",
      "x_(1,_0) = 1.0\n",
      "x_(2,_4) = 1.0\n",
      "x_(3,_6) = 1.0\n",
      "x_(4,_3) = 1.0\n",
      "x_(5,_2) = 1.0\n",
      "x_(6,_8) = 1.0\n",
      "x_(7,_1) = 1.0\n",
      "x_(8,_9) = 1.0\n",
      "x_(9,_7) = 1.0\n"
     ]
    }
   ],
   "source": [
    "from pulp import *\n",
    "\n",
    "# Initialize vehicle routing problem\n",
    "prob = LpProblem('Vehicle Routing', LpMinimize)\n",
    "\n",
    "K = 4\n",
    "n = len(cities)\n",
    "indices = [(i, j) for i in range(n) for j in range(n) if i != j]\n",
    "\n",
    "# Creating decision variables\n",
    "x = LpVariable.dicts('x', indices, cat='Binary')\n",
    "u = LpVariable.dicts('u', list(range(n)), lowBound=0, upBound=n-1, cat='Continuous')\n",
    "\n",
    "# Objective function\n",
    "prob += lpSum([cities[i][j] * x[(i,j)] for i, j in indices])\n",
    "\n",
    "# Constraints\n",
    "for i in range(n):\n",
    "    if i != 0:\n",
    "        prob += lpSum([x[(i,j)] for j in range(n) if i != j]) == 1\n",
    "    \n",
    "for j in range(n):\n",
    "    if j != 0:\n",
    "        prob += lpSum([x[(i,j)] for i in range(n) if i != j]) == 1\n",
    "    \n",
    "for i in range(1, n):\n",
    "    for j in range(1, n):\n",
    "        if i != j:\n",
    "            prob += u[i] - u[j] + len(cities) * x[(i,j)] <= len(cities) - 1\n",
    "\n",
    "# Solve problem\n",
    "prob.solve()\n",
    "print(value(prob.objective))\n",
    "\n",
    "for i in prob.variables():\n",
    "    if i.name[0] == 'u':\n",
    "        print(i.name, '=', i.varValue)\n",
    "    elif i.varValue != 0:\n",
    "        print(i.name, '=', i.varValue)"
   ]
  },
  {
   "cell_type": "markdown",
   "metadata": {},
   "source": [
    "## CONCLUSION\n",
    "\n",
    "차량 경로 문제는\n",
    "\n",
    "해당 포스트는 지속적으로 업데이트 할 예정이니 오타, 틀린부분, 파이써닉(pythonic)하지 못한 코드가 있을 경우 지적해주시면 수정하도록 하겠습니다.\n",
    "\n",
    "## REFERENCES\n",
    "\n",
    "1. 이강우 & 김정자 (2010). _경영과학_, 한경사.\n",
    "2. Rasmussen, R. (2011). TSP in Spreadsheets–a Guided Tour. _International Review of Economics Education_, 10(1), 94-116.\n",
    "3. Hillier, F. S. & Lieberman, G. J. (2013). _Introduction to Operations Research_. McGraw-Hill Science, Engineering & Mathematics.\n",
    "4. Bello, I., Pham, H., Le, Q. V., Norouzi, M., & Bengio, S. (2016). Neural Combinatorial Optimization with Reinforcement Learning. _arXiv preprint arXiv:1611.09940_."
   ]
  },
  {
   "cell_type": "code",
   "execution_count": null,
   "metadata": {},
   "outputs": [],
   "source": []
  }
 ],
 "metadata": {
  "kernelspec": {
   "display_name": "Python 3",
   "language": "python",
   "name": "python3"
  },
  "language_info": {
   "codemirror_mode": {
    "name": "ipython",
    "version": 3
   },
   "file_extension": ".py",
   "mimetype": "text/x-python",
   "name": "python",
   "nbconvert_exporter": "python",
   "pygments_lexer": "ipython3",
   "version": "3.7.9"
  }
 },
 "nbformat": 4,
 "nbformat_minor": 4
}