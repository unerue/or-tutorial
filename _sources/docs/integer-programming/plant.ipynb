{
 "cells": [
  {
   "cell_type": "markdown",
   "metadata": {},
   "source": [
    "# Plant Location Problem\n",
    "\n",
    "**이강우 & 김정자. (2012). EXCEL 2010 경영과학. 한경사, 409.**\n",
    "\n",
    "<p style=\"text-indent: 1.5em\">B전자는 최근 자사 제품의 수요가 급증하여 새로운 제품을 생산할 공장을 신축하기 위하여 3개의 공장 후보지를 선정하였다. B전자는 현재 각 공장에서 생산된 제품을 4개의 물류센터에 공급하고 있으므로 새로 신축할 공장에서 생산될 제품도 4개의 물류센터에 공급하려고 한다. 3개의 공장 후보지의 월 공급능력(개), 월 고정비(천원), 각 공장 후보지에서 4개의 물류센터까지의 수송단가(천원) 및 각 물류센터의 월 수요량(개)은 Table과 같다. B전자의 총비용을 최소로 하는 공장 후보지와 각 신축 공장에서 각 물류센터로의 최적 수송계획을 수립하기 위한 정수계획모형을 작성하고 최적해와 총비용을 구하라.</p>\n",
    "\n",
    "<table>\n",
    "  <caption><b>Table 1. </b>파출소 후보지역별 설치비용과 8분 이내 도착가능 후보지역</caption>\n",
    "  <tr>\n",
    "    <th>파출소 후보지역</th>\n",
    "    <th>파출소 설치비용(천만원)</th>\n",
    "    <th>8분 이내 도착가능 후보지역</th>\n",
    "  </tr>\n",
    "  <tr> \n",
    "    <td align=\"center\">1</td>\n",
    "    <td align=\"center\">6</td>\n",
    "    <td align=\"center\">1, 2, 3, 4, 5</td>\n",
    "  </tr>\n",
    "  <tr> \n",
    "    <td align=\"center\">2</td>\n",
    "    <td align=\"center\">7</td>\n",
    "    <td align=\"center\">1, 2, 4, 5, 9</td>\n",
    "  </tr>\n",
    "  <tr>\n",
    "    <td align=\"center\">3</td>\n",
    "    <td align=\"center\">5</td>\n",
    "    <td align=\"center\">1, 3, 4, 5, 6, 7, 8</td>\n",
    "  </tr>\n",
    "  <tr>\n",
    "    <td align=\"center\">4</td>\n",
    "    <td align=\"center\">7</td>\n",
    "    <td align=\"center\">1, 2, 3, 4, 5, 6, 9</td>\n",
    "  </tr>\n",
    "  <tr>\n",
    "    <td align=\"center\">5</td>\n",
    "    <td align=\"center\">9</td>\n",
    "    <td align=\"center\">1, 2, 3, 4, 5, 9</td>\n",
    "  </tr>\n",
    "  <tr>\n",
    "    <td align=\"center\">6</td>\n",
    "    <td align=\"center\">10</td>\n",
    "    <td align=\"center\">3, 4, 6, 7, 8</td>\n",
    "  </tr>\n",
    "  <tr>\n",
    "    <td align=\"center\">7</td>\n",
    "    <td align=\"center\">8</td>\n",
    "    <td align=\"center\">3, 5, 7, 8, 9</td>\n",
    "  </tr>\n",
    "  <tr>\n",
    "    <td align=\"center\">8</td>\n",
    "    <td align=\"center\">5</td>\n",
    "    <td align=\"center\">3, 6, 7, 8, 9</td>\n",
    "  </tr>\n",
    "  <tr>\n",
    "    <td align=\"center\">9</td>\n",
    "    <td align=\"center\">11</td>\n",
    "    <td align=\"center\">2, 4, 5, 7, 8, 9</td>\n",
    "  </tr>\n",
    "</table>\n"
   ]
  },
  {
   "cell_type": "code",
   "execution_count": null,
   "metadata": {},
   "outputs": [],
   "source": []
  }
 ],
 "metadata": {
  "kernelspec": {
   "display_name": "Python 3",
   "language": "python",
   "name": "python3"
  },
  "language_info": {
   "codemirror_mode": {
    "name": "ipython",
    "version": 3
   },
   "file_extension": ".py",
   "mimetype": "text/x-python",
   "name": "python",
   "nbconvert_exporter": "python",
   "pygments_lexer": "ipython3",
   "version": "3.7.3"
  }
 },
 "nbformat": 4,
 "nbformat_minor": 4
}