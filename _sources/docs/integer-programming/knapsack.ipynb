{
 "cells": [
  {
   "cell_type": "markdown",
   "metadata": {},
   "source": [
    "# Knapsack Problem\n",
    "\n",
    "**이강우 & 김정자. (2012). EXCEL 2010 경영과학. 한경사, 380.**\n",
    "\n",
    "<p style=\"text-indent: 1.5em\"></p>\n",
    "\n",
    "<table>\n",
    "  <caption><b>Table 1. </b>Example</caption>\n",
    "  <tr>\n",
    "    <th>Items</th>\n",
    "    <th>Weights (kg)</th>\n",
    "    <th>Values</th>\n",
    "    <th>Max weight (kg)</th>\n",
    "  </tr>\n",
    "  <tr> \n",
    "    <td align=\"center\">1</td>\n",
    "    <td align=\"center\">3</td>\n",
    "    <td align=\"center\">6</td>\n",
    "    <td align=\"center\" rowspan=\"3\">6</td>\n",
    "  </tr>\n",
    "  <tr> \n",
    "    <td align=\"center\">2</td>\n",
    "    <td align=\"center\">4</td>\n",
    "    <td align=\"center\">8</td>\n",
    "  </tr>\n",
    "  <tr> \n",
    "    <td align=\"center\">3</td>\n",
    "    <td align=\"center\">2</td>\n",
    "    <td align=\"center\">3</td>\n",
    "  </tr>\n",
    "</table>\n",
    "\n",
    "<p style=\"text-indent: 1.5em\">단일품목 배낭문제의 최적 정수해를 구하기 위한 정수계획모형을 정식화하기 위하여 품목 1, 품목2, 품목 3을 각각 결정변수 $X_{1}$, $X_{2}$, $X_{3}$이라고 정의하고 다음과 같이 $0-1$변수로 정의하자.</p>\n",
    "\n",
    "$$X_{j} = \\begin{cases}1: \\text{if item $j$ is selected } (j=1,2,3)\\\\\n",
    "0: \\text{if item $j$ is not selected } (j=1,2,3)\n",
    "\\end{cases}$$\n",
    "\n",
    "<p style=\"text-indent: 1.5em\">위에서 정의한 결정변수를 이용하여 배낭에 넣어 갖고 갈 수 있는 품목의 효용을 최대화하는 목적함수와 배낭의 보관능력에 대한 제약식을 정식화하면 다음과 같다.</p>\n",
    "\n",
    "$$\\begin{align*}\n",
    "  & \\text{maximize }   &   Z=7&X_{1} + 8X_{2} + 3X_{3}       \\\\\n",
    "  & \\text{subject to } & \\,  3&X_{1} + 4X_{2} + 2X_{3} \\le 6 \\\\\n",
    "  & \\text{and}         & \\,   &X_{j} = 0 \\text{ or } 1 (j=1,2,3)\n",
    "\\end{align*}$$"
   ]
  },
  {
   "cell_type": "code",
   "execution_count": 13,
   "metadata": {},
   "outputs": [],
   "source": [
    "import os\n",
    "import sys\n",
    "\n",
    "# Add the parent directory for importing custom library\n",
    "sys.path.insert(0, os.path.abspath(os.path.join(os.getcwd(), os.pardir)))"
   ]
  },
  {
   "cell_type": "markdown",
   "metadata": {},
   "source": [
    "## Optimization with PuLP"
   ]
  },
  {
   "cell_type": "code",
   "execution_count": 14,
   "metadata": {},
   "outputs": [
    {
     "name": "stdout",
     "output_type": "stream",
     "text": [
      "Status: Optimal\n",
      "Objective value: 11.0\n",
      "\n",
      "Variables      Values\n",
      "-----------  --------\n",
      "X1                  0\n",
      "X2                  1\n",
      "X3                  1\n",
      "\n",
      "Statistics:\n",
      "- Number of variables: 3\n",
      "- Number of constraints: 1\n",
      "- Solve time: 0.006s\n"
     ]
    }
   ],
   "source": [
    "from pulp import *\n",
    "from ortools.utils import output\n",
    "\n",
    "# Define problem\n",
    "prob = LpProblem('Knapsack Problem', LpMaximize)\n",
    "\n",
    "# Create decision variables and non-negative constraint\n",
    "x1 = LpVariable(name='X1', lowBound=0, cat='Binary')\n",
    "x2 = LpVariable(name='X2', lowBound=0, cat='Binary')\n",
    "x3 = LpVariable(name='X3', lowBound=0, cat='Binary')\n",
    "\n",
    "# Set objective function\n",
    "prob += 7*x1 + 8*x2 + 3*x3\n",
    "\n",
    "# Set constraints\n",
    "prob += 3*x1 + 4*x2 + 2*x3 <= 6\n",
    "\n",
    "# Solving problem\n",
    "prob.solve()\n",
    "output(prob)"
   ]
  },
  {
   "cell_type": "code",
   "execution_count": 15,
   "metadata": {},
   "outputs": [
    {
     "name": "stdout",
     "output_type": "stream",
     "text": [
      "Status: Optimal\n",
      "Objective value: 11.0\n",
      "\n",
      "Variables      Values\n",
      "-----------  --------\n",
      "x_0                 0\n",
      "x_1                 1\n",
      "x_2                 1\n",
      "\n",
      "Statistics:\n",
      "- Number of variables: 3\n",
      "- Number of constraints: 1\n",
      "- Solve time: 0.006s\n"
     ]
    }
   ],
   "source": [
    "from pulp import *\n",
    "from ortools.utils import output\n",
    "\n",
    "n_items = 3\n",
    "weights = [3, 4, 2]\n",
    "values = [7, 8, 3]\n",
    "max_weight = 6\n",
    "\n",
    "# Define problem\n",
    "prob = LpProblem('Knapsack Problem', LpMaximize)\n",
    "\n",
    "# Create decision variables\n",
    "x = LpVariable.dicts('x', [i for i in range(n_items)], lowBound=0, cat='Binary')\n",
    "\n",
    "# Set objective function\n",
    "prob += lpSum([values[i]*x[i] for i in range(n_items)])\n",
    "\n",
    "# Set constraints\n",
    "prob += lpSum([weights[i]*x[i] for i in range(n_items)]) <= max_weight\n",
    "\n",
    "# Solving problem\n",
    "prob.solve()\n",
    "output(prob)"
   ]
  },
  {
   "cell_type": "markdown",
   "metadata": {},
   "source": [
    "## Optimization with GUROBI"
   ]
  },
  {
   "cell_type": "code",
   "execution_count": 16,
   "metadata": {},
   "outputs": [
    {
     "name": "stdout",
     "output_type": "stream",
     "text": [
      "Status: Optimal\n",
      "Objective value: 11.0\n",
      "\n",
      "Variables      Values\n",
      "-----------  --------\n",
      "X0                  0\n",
      "X1                  1\n",
      "X2                  1\n",
      "\n",
      "Statistics:\n",
      "- Number of variables: 3\n",
      "- Number of constraints: 1\n",
      "- Solve time: 0.000s\n"
     ]
    }
   ],
   "source": [
    "from gurobipy import *\n",
    "from ortools.utils import set_gurobi, custom_callback, output\n",
    "\n",
    "n_items = 3\n",
    "weights = [3, 4, 2]\n",
    "values = [7, 8, 3]\n",
    "max_weight = 6\n",
    "\n",
    "# Define problem\n",
    "m = Model('Knapsack Problem')\n",
    "\n",
    "# Create decision variables\n",
    "x = [m.addVar(vtype=GRB.BINARY, name='X{}'.format(i)) for i in range(n_items)]\n",
    "m.update()\n",
    "\n",
    "# Set objective function\n",
    "m.setObjective(quicksum(values[i]*x[i] for i in range(n_items)), GRB.MAXIMIZE)\n",
    "\n",
    "# Set constraints\n",
    "m.addConstr(quicksum(weights[i]*x[i] for i in range(n_items)) <= max_weight)\n",
    "\n",
    "set_gurobi(m, verbose=False)\n",
    "\n",
    "# Optimize model\n",
    "m.optimize(custom_callback)\n",
    "output(m)"
   ]
  }
 ],
 "metadata": {
  "kernelspec": {
   "display_name": "Python 3",
   "language": "python",
   "name": "python3"
  },
  "language_info": {
   "codemirror_mode": {
    "name": "ipython",
    "version": 3
   },
   "file_extension": ".py",
   "mimetype": "text/x-python",
   "name": "python",
   "nbconvert_exporter": "python",
   "pygments_lexer": "ipython3",
   "version": "3.7.3"
  },
  "latex_envs": {
   "LaTeX_envs_menu_present": true,
   "autocomplete": true,
   "bibliofile": "biblio.bib",
   "cite_by": "apalike",
   "current_citInitial": 1,
   "eqLabelWithNumbers": true,
   "eqNumInitial": 1,
   "hotkeys": {
    "equation": "Ctrl-E",
    "itemize": "Ctrl-I"
   },
   "labels_anchors": false,
   "latex_user_defs": false,
   "report_style_numbering": false,
   "user_envs_cfg": false
  },
  "varInspector": {
   "cols": {
    "lenName": 16,
    "lenType": 16,
    "lenVar": 40
   },
   "kernels_config": {
    "python": {
     "delete_cmd_postfix": "",
     "delete_cmd_prefix": "del ",
     "library": "var_list.py",
     "varRefreshCmd": "print(var_dic_list())"
    },
    "r": {
     "delete_cmd_postfix": ") ",
     "delete_cmd_prefix": "rm(",
     "library": "var_list.r",
     "varRefreshCmd": "cat(var_dic_list()) "
    }
   },
   "types_to_exclude": [
    "module",
    "function",
    "builtin_function_or_method",
    "instance",
    "_Feature"
   ],
   "window_display": false
  }
 },
 "nbformat": 4,
 "nbformat_minor": 4
}